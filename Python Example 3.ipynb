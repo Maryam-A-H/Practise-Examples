{
 "cells": [
  {
   "cell_type": "code",
   "execution_count": 475,
   "id": "60c4c69b",
   "metadata": {},
   "outputs": [],
   "source": [
    "import pandas as pd\n",
    "import geopandas as gpd\n",
    "import plotly.express as px\n",
    "import folium\n",
    "from shapely.geometry import Point\n"
   ]
  },
  {
   "cell_type": "markdown",
   "id": "65fac3ba",
   "metadata": {},
   "source": [
    "## Introduction\n",
    "\n",
    "\n",
    "In this assignment, you will be working with a [dataset about public art](https://open.ottawa.ca/datasets/a4354fd8540a45d1918a78a5dce12021_0/explore) sourced courtesy of Open Ottawa. This data contains information licensed under the [Open Government Licence - City of Ottawa](https://ottawa.ca/en/city-hall/open-transparent-and-accountable-government/open-data#section-7d58affa-59a3-47f2-932d-ccb75000cefc)."
   ]
  },
  {
   "cell_type": "code",
   "execution_count": 488,
   "id": "77a223b1",
   "metadata": {},
   "outputs": [
    {
     "data": {
      "text/html": [
       "<div>\n",
       "<style scoped>\n",
       "    .dataframe tbody tr th:only-of-type {\n",
       "        vertical-align: middle;\n",
       "    }\n",
       "\n",
       "    .dataframe tbody tr th {\n",
       "        vertical-align: top;\n",
       "    }\n",
       "\n",
       "    .dataframe thead th {\n",
       "        text-align: right;\n",
       "    }\n",
       "</style>\n",
       "<table border=\"1\" class=\"dataframe\">\n",
       "  <thead>\n",
       "    <tr style=\"text-align: right;\">\n",
       "      <th></th>\n",
       "      <th>X</th>\n",
       "      <th>Y</th>\n",
       "      <th>ACCESSION</th>\n",
       "      <th>PC</th>\n",
       "      <th>TEXT</th>\n",
       "      <th>TEXT_FR</th>\n",
       "      <th>ID</th>\n",
       "      <th>IMAGE</th>\n",
       "      <th>IMAGE_FR</th>\n",
       "      <th>CREDIT</th>\n",
       "      <th>...</th>\n",
       "      <th>ARTISTS</th>\n",
       "      <th>LOCATION</th>\n",
       "      <th>LOCATION_FR</th>\n",
       "      <th>CITY</th>\n",
       "      <th>PROVINCE</th>\n",
       "      <th>DATE_MOD</th>\n",
       "      <th>MATERIAL</th>\n",
       "      <th>MATERIAL_FR</th>\n",
       "      <th>YEAR</th>\n",
       "      <th>ObjectId</th>\n",
       "    </tr>\n",
       "  </thead>\n",
       "  <tbody>\n",
       "    <tr>\n",
       "      <th>0</th>\n",
       "      <td>-8.418854e+06</td>\n",
       "      <td>5.685030e+06</td>\n",
       "      <td>1977-0002</td>\n",
       "      <td>K1G 0N1</td>\n",
       "      <td>This artwork was a collaboration between Monik...</td>\n",
       "      <td>Cette œuvre d’art a été réalisée dans le cadre...</td>\n",
       "      <td>PA1</td>\n",
       "      <td>https://ottawa.ca/sites/default/files/images/f...</td>\n",
       "      <td>https://ottawa.ca/sites/default/files/images/f...</td>\n",
       "      <td>NaN</td>\n",
       "      <td>...</td>\n",
       "      <td>McLaughlin, Monika</td>\n",
       "      <td>1895 Russell Road, Dempsey Community Centre</td>\n",
       "      <td>1895 Russell Road, Dempsey Community Centre</td>\n",
       "      <td>Ottawa</td>\n",
       "      <td>ON</td>\n",
       "      <td>20210118</td>\n",
       "      <td>concrete and ceramic</td>\n",
       "      <td>béton et argile</td>\n",
       "      <td>1977.0</td>\n",
       "      <td>1</td>\n",
       "    </tr>\n",
       "    <tr>\n",
       "      <th>1</th>\n",
       "      <td>-8.426063e+06</td>\n",
       "      <td>5.689093e+06</td>\n",
       "      <td>1978-0001</td>\n",
       "      <td>K1N 9C3</td>\n",
       "      <td>This papier mâché sculpture tells the story of...</td>\n",
       "      <td>Cette sculpture en papier mâché raconte l’hist...</td>\n",
       "      <td>PA2</td>\n",
       "      <td>https://ottawa.ca/sites/default/files/images/f...</td>\n",
       "      <td>https://ottawa.ca/sites/default/files/images/f...</td>\n",
       "      <td>NaN</td>\n",
       "      <td>...</td>\n",
       "      <td>Tolgesy, Victor</td>\n",
       "      <td>55 ByWard Market Building</td>\n",
       "      <td>55 ByWard Market Building</td>\n",
       "      <td>Ottawa</td>\n",
       "      <td>ON</td>\n",
       "      <td>20210118</td>\n",
       "      <td>papier maché, acrylic</td>\n",
       "      <td>papier maché, acrylique</td>\n",
       "      <td>1978.0</td>\n",
       "      <td>2</td>\n",
       "    </tr>\n",
       "    <tr>\n",
       "      <th>2</th>\n",
       "      <td>-8.431277e+06</td>\n",
       "      <td>5.680450e+06</td>\n",
       "      <td>1986-0083</td>\n",
       "      <td>K1Z 8M7</td>\n",
       "      <td>Mural artist Pierre Hardy used his skills in o...</td>\n",
       "      <td>Le muraliste Pierre Hardy a mis à profit son t...</td>\n",
       "      <td>PA3</td>\n",
       "      <td>https://ottawa.ca/sites/default/files/images/f...</td>\n",
       "      <td>https://ottawa.ca/sites/default/files/images/f...</td>\n",
       "      <td>NaN</td>\n",
       "      <td>...</td>\n",
       "      <td>Hardy, Pierre</td>\n",
       "      <td>1520 Caldwell Avenue, Carlington Rec Centre, B...</td>\n",
       "      <td>1520 Caldwell Avenue, Carlington Rec Centre, B...</td>\n",
       "      <td>Ottawa</td>\n",
       "      <td>ON</td>\n",
       "      <td>20210118</td>\n",
       "      <td>acrylic on concrete</td>\n",
       "      <td>acrylique sur ciment</td>\n",
       "      <td>1986.0</td>\n",
       "      <td>3</td>\n",
       "    </tr>\n",
       "    <tr>\n",
       "      <th>3</th>\n",
       "      <td>-8.421838e+06</td>\n",
       "      <td>5.688191e+06</td>\n",
       "      <td>1986-0084</td>\n",
       "      <td>NaN</td>\n",
       "      <td>NaN</td>\n",
       "      <td>NaN</td>\n",
       "      <td>PA315</td>\n",
       "      <td>NaN</td>\n",
       "      <td>NaN</td>\n",
       "      <td>NaN</td>\n",
       "      <td>...</td>\n",
       "      <td>McVeigh, Don</td>\n",
       "      <td>275 Coventry Road, Fire Station 56</td>\n",
       "      <td>275 Coventry Road, Fire Station 56</td>\n",
       "      <td>Ottawa</td>\n",
       "      <td>ON</td>\n",
       "      <td>20210118</td>\n",
       "      <td>terrazzo, granite, and zinc</td>\n",
       "      <td>terrazo, granite et zinc</td>\n",
       "      <td>1986.0</td>\n",
       "      <td>4</td>\n",
       "    </tr>\n",
       "    <tr>\n",
       "      <th>4</th>\n",
       "      <td>-8.424991e+06</td>\n",
       "      <td>5.688736e+06</td>\n",
       "      <td>1986-0085</td>\n",
       "      <td>K1N 7N4</td>\n",
       "      <td>Four wood figures connect the street to the fi...</td>\n",
       "      <td>Quatre personnages en bois créent un lien entr...</td>\n",
       "      <td>PA4</td>\n",
       "      <td>https://ottawa.ca/sites/default/files/images/f...</td>\n",
       "      <td>https://ottawa.ca/sites/default/files/images/f...</td>\n",
       "      <td>NaN</td>\n",
       "      <td>...</td>\n",
       "      <td>Nigro, Richard</td>\n",
       "      <td>530 King Edward Street, Fire Station 13</td>\n",
       "      <td>530 King Edward Street, Fire Station 13</td>\n",
       "      <td>Ottawa</td>\n",
       "      <td>ON</td>\n",
       "      <td>20210118</td>\n",
       "      <td>wood</td>\n",
       "      <td>bois</td>\n",
       "      <td>1986.0</td>\n",
       "      <td>5</td>\n",
       "    </tr>\n",
       "    <tr>\n",
       "      <th>...</th>\n",
       "      <td>...</td>\n",
       "      <td>...</td>\n",
       "      <td>...</td>\n",
       "      <td>...</td>\n",
       "      <td>...</td>\n",
       "      <td>...</td>\n",
       "      <td>...</td>\n",
       "      <td>...</td>\n",
       "      <td>...</td>\n",
       "      <td>...</td>\n",
       "      <td>...</td>\n",
       "      <td>...</td>\n",
       "      <td>...</td>\n",
       "      <td>...</td>\n",
       "      <td>...</td>\n",
       "      <td>...</td>\n",
       "      <td>...</td>\n",
       "      <td>...</td>\n",
       "      <td>...</td>\n",
       "      <td>...</td>\n",
       "      <td>...</td>\n",
       "    </tr>\n",
       "    <tr>\n",
       "      <th>170</th>\n",
       "      <td>-8.452192e+06</td>\n",
       "      <td>5.675205e+06</td>\n",
       "      <td>2017-0069</td>\n",
       "      <td>NaN</td>\n",
       "      <td>Tempus is made up of several undulating colour...</td>\n",
       "      <td>Tempus est composée de plusieurs pétales color...</td>\n",
       "      <td>PA337</td>\n",
       "      <td>https://ottawa.ca/en/arts-heritage-and-events/...</td>\n",
       "      <td>https://ottawa.ca/fr/arts-patrimoine-et-evenem...</td>\n",
       "      <td>NaN</td>\n",
       "      <td>...</td>\n",
       "      <td>Cronin, Lynda</td>\n",
       "      <td>1321-3043 Innovation Drive, Innovation Park an...</td>\n",
       "      <td>1321-3043 Innovation Drive, Innovation Park an...</td>\n",
       "      <td>Ottawa</td>\n",
       "      <td>ON</td>\n",
       "      <td>20210118</td>\n",
       "      <td>powder-coated aluminum</td>\n",
       "      <td>aluminium enduit de poudre</td>\n",
       "      <td>2016.0</td>\n",
       "      <td>171</td>\n",
       "    </tr>\n",
       "    <tr>\n",
       "      <th>171</th>\n",
       "      <td>-8.419117e+06</td>\n",
       "      <td>5.683272e+06</td>\n",
       "      <td>2018-0001</td>\n",
       "      <td>NaN</td>\n",
       "      <td>Along the Boards pays homage to hockey, our be...</td>\n",
       "      <td>« Le long de la bande » et ses douze élégantes...</td>\n",
       "      <td>PA338</td>\n",
       "      <td>https://ottawa.ca/sites/default/files/images/f...</td>\n",
       "      <td>https://ottawa.ca/sites/default/files/images/f...</td>\n",
       "      <td>NaN</td>\n",
       "      <td>...</td>\n",
       "      <td>Griffin, Christopher</td>\n",
       "      <td>Jim Tubman Chevrolet SENS Rink</td>\n",
       "      <td>Jim Tubman Chevrolet SENS Rink</td>\n",
       "      <td>Ottawa</td>\n",
       "      <td>ON</td>\n",
       "      <td>20210118</td>\n",
       "      <td>stainless steel</td>\n",
       "      <td>acier inoxydable</td>\n",
       "      <td>2017.0</td>\n",
       "      <td>172</td>\n",
       "    </tr>\n",
       "    <tr>\n",
       "      <th>172</th>\n",
       "      <td>-8.425956e+06</td>\n",
       "      <td>5.689797e+06</td>\n",
       "      <td>s2010-0008</td>\n",
       "      <td>NaN</td>\n",
       "      <td>NaN</td>\n",
       "      <td>NaN</td>\n",
       "      <td>PA339</td>\n",
       "      <td>NaN</td>\n",
       "      <td>NaN</td>\n",
       "      <td>NaN</td>\n",
       "      <td>...</td>\n",
       "      <td>NaN</td>\n",
       "      <td>172 Guigues Avenue, 3rd Floor (Storage Room A ...</td>\n",
       "      <td>172 Guigues Avenue, 3rd Floor (Storage Room A ...</td>\n",
       "      <td>Ottawa</td>\n",
       "      <td>ON</td>\n",
       "      <td>20210118</td>\n",
       "      <td>aluminium</td>\n",
       "      <td>aluminium</td>\n",
       "      <td>2010.0</td>\n",
       "      <td>173</td>\n",
       "    </tr>\n",
       "    <tr>\n",
       "      <th>173</th>\n",
       "      <td>-8.394143e+06</td>\n",
       "      <td>5.703152e+06</td>\n",
       "      <td>s2016-0006</td>\n",
       "      <td>NaN</td>\n",
       "      <td>NaN</td>\n",
       "      <td>NaN</td>\n",
       "      <td>PA340</td>\n",
       "      <td>NaN</td>\n",
       "      <td>NaN</td>\n",
       "      <td>NaN</td>\n",
       "      <td>...</td>\n",
       "      <td>Emig, Kenneth</td>\n",
       "      <td>Ken Emig’s studio, 532 Dunning Lane</td>\n",
       "      <td>Ken Emig’s studio, 532 Dunning Lane</td>\n",
       "      <td>Ottawa</td>\n",
       "      <td>ON</td>\n",
       "      <td>20210118</td>\n",
       "      <td>mixed media</td>\n",
       "      <td>NaN</td>\n",
       "      <td>2015.0</td>\n",
       "      <td>174</td>\n",
       "    </tr>\n",
       "    <tr>\n",
       "      <th>174</th>\n",
       "      <td>-8.425956e+06</td>\n",
       "      <td>5.689797e+06</td>\n",
       "      <td>T1999-0024</td>\n",
       "      <td>NaN</td>\n",
       "      <td>NaN</td>\n",
       "      <td>NaN</td>\n",
       "      <td>PA341</td>\n",
       "      <td>NaN</td>\n",
       "      <td>NaN</td>\n",
       "      <td>NaN</td>\n",
       "      <td>...</td>\n",
       "      <td>CAAP Collective</td>\n",
       "      <td>172 Guigues Avenue, Main Floor</td>\n",
       "      <td>172 Guigues Avenue, Main Floor</td>\n",
       "      <td>Ottawa</td>\n",
       "      <td>ON</td>\n",
       "      <td>20210118</td>\n",
       "      <td>steel, cast glass, photography</td>\n",
       "      <td>NaN</td>\n",
       "      <td>1998.0</td>\n",
       "      <td>175</td>\n",
       "    </tr>\n",
       "  </tbody>\n",
       "</table>\n",
       "<p>175 rows × 26 columns</p>\n",
       "</div>"
      ],
      "text/plain": [
       "                X             Y   ACCESSION       PC  \\\n",
       "0   -8.418854e+06  5.685030e+06   1977-0002  K1G 0N1   \n",
       "1   -8.426063e+06  5.689093e+06   1978-0001  K1N 9C3   \n",
       "2   -8.431277e+06  5.680450e+06   1986-0083  K1Z 8M7   \n",
       "3   -8.421838e+06  5.688191e+06   1986-0084      NaN   \n",
       "4   -8.424991e+06  5.688736e+06   1986-0085  K1N 7N4   \n",
       "..            ...           ...         ...      ...   \n",
       "170 -8.452192e+06  5.675205e+06   2017-0069      NaN   \n",
       "171 -8.419117e+06  5.683272e+06   2018-0001      NaN   \n",
       "172 -8.425956e+06  5.689797e+06  s2010-0008      NaN   \n",
       "173 -8.394143e+06  5.703152e+06  s2016-0006      NaN   \n",
       "174 -8.425956e+06  5.689797e+06  T1999-0024      NaN   \n",
       "\n",
       "                                                  TEXT  \\\n",
       "0    This artwork was a collaboration between Monik...   \n",
       "1    This papier mâché sculpture tells the story of...   \n",
       "2    Mural artist Pierre Hardy used his skills in o...   \n",
       "3                                                  NaN   \n",
       "4    Four wood figures connect the street to the fi...   \n",
       "..                                                 ...   \n",
       "170  Tempus is made up of several undulating colour...   \n",
       "171  Along the Boards pays homage to hockey, our be...   \n",
       "172                                                NaN   \n",
       "173                                                NaN   \n",
       "174                                                NaN   \n",
       "\n",
       "                                               TEXT_FR     ID  \\\n",
       "0    Cette œuvre d’art a été réalisée dans le cadre...    PA1   \n",
       "1    Cette sculpture en papier mâché raconte l’hist...    PA2   \n",
       "2    Le muraliste Pierre Hardy a mis à profit son t...    PA3   \n",
       "3                                                  NaN  PA315   \n",
       "4    Quatre personnages en bois créent un lien entr...    PA4   \n",
       "..                                                 ...    ...   \n",
       "170  Tempus est composée de plusieurs pétales color...  PA337   \n",
       "171  « Le long de la bande » et ses douze élégantes...  PA338   \n",
       "172                                                NaN  PA339   \n",
       "173                                                NaN  PA340   \n",
       "174                                                NaN  PA341   \n",
       "\n",
       "                                                 IMAGE  \\\n",
       "0    https://ottawa.ca/sites/default/files/images/f...   \n",
       "1    https://ottawa.ca/sites/default/files/images/f...   \n",
       "2    https://ottawa.ca/sites/default/files/images/f...   \n",
       "3                                                  NaN   \n",
       "4    https://ottawa.ca/sites/default/files/images/f...   \n",
       "..                                                 ...   \n",
       "170  https://ottawa.ca/en/arts-heritage-and-events/...   \n",
       "171  https://ottawa.ca/sites/default/files/images/f...   \n",
       "172                                                NaN   \n",
       "173                                                NaN   \n",
       "174                                                NaN   \n",
       "\n",
       "                                              IMAGE_FR CREDIT  ...  \\\n",
       "0    https://ottawa.ca/sites/default/files/images/f...    NaN  ...   \n",
       "1    https://ottawa.ca/sites/default/files/images/f...    NaN  ...   \n",
       "2    https://ottawa.ca/sites/default/files/images/f...    NaN  ...   \n",
       "3                                                  NaN    NaN  ...   \n",
       "4    https://ottawa.ca/sites/default/files/images/f...    NaN  ...   \n",
       "..                                                 ...    ...  ...   \n",
       "170  https://ottawa.ca/fr/arts-patrimoine-et-evenem...    NaN  ...   \n",
       "171  https://ottawa.ca/sites/default/files/images/f...    NaN  ...   \n",
       "172                                                NaN    NaN  ...   \n",
       "173                                                NaN    NaN  ...   \n",
       "174                                                NaN    NaN  ...   \n",
       "\n",
       "                  ARTISTS                                           LOCATION  \\\n",
       "0      McLaughlin, Monika        1895 Russell Road, Dempsey Community Centre   \n",
       "1         Tolgesy, Victor                         55 ByWard Market Building    \n",
       "2           Hardy, Pierre  1520 Caldwell Avenue, Carlington Rec Centre, B...   \n",
       "3            McVeigh, Don                 275 Coventry Road, Fire Station 56   \n",
       "4          Nigro, Richard            530 King Edward Street, Fire Station 13   \n",
       "..                    ...                                                ...   \n",
       "170         Cronin, Lynda  1321-3043 Innovation Drive, Innovation Park an...   \n",
       "171  Griffin, Christopher                     Jim Tubman Chevrolet SENS Rink   \n",
       "172                   NaN  172 Guigues Avenue, 3rd Floor (Storage Room A ...   \n",
       "173         Emig, Kenneth                Ken Emig’s studio, 532 Dunning Lane   \n",
       "174       CAAP Collective                     172 Guigues Avenue, Main Floor   \n",
       "\n",
       "                                           LOCATION_FR    CITY PROVINCE  \\\n",
       "0          1895 Russell Road, Dempsey Community Centre  Ottawa       ON   \n",
       "1                           55 ByWard Market Building   Ottawa       ON   \n",
       "2    1520 Caldwell Avenue, Carlington Rec Centre, B...  Ottawa       ON   \n",
       "3                   275 Coventry Road, Fire Station 56  Ottawa       ON   \n",
       "4              530 King Edward Street, Fire Station 13  Ottawa       ON   \n",
       "..                                                 ...     ...      ...   \n",
       "170  1321-3043 Innovation Drive, Innovation Park an...  Ottawa       ON   \n",
       "171                     Jim Tubman Chevrolet SENS Rink  Ottawa       ON   \n",
       "172  172 Guigues Avenue, 3rd Floor (Storage Room A ...  Ottawa       ON   \n",
       "173                Ken Emig’s studio, 532 Dunning Lane  Ottawa       ON   \n",
       "174                     172 Guigues Avenue, Main Floor  Ottawa       ON   \n",
       "\n",
       "     DATE_MOD                        MATERIAL                 MATERIAL_FR  \\\n",
       "0    20210118            concrete and ceramic             béton et argile   \n",
       "1    20210118           papier maché, acrylic     papier maché, acrylique   \n",
       "2    20210118             acrylic on concrete        acrylique sur ciment   \n",
       "3    20210118     terrazzo, granite, and zinc    terrazo, granite et zinc   \n",
       "4    20210118                           wood                         bois   \n",
       "..        ...                             ...                         ...   \n",
       "170  20210118          powder-coated aluminum  aluminium enduit de poudre   \n",
       "171  20210118                 stainless steel           acier inoxydable    \n",
       "172  20210118                      aluminium                    aluminium   \n",
       "173  20210118                     mixed media                         NaN   \n",
       "174  20210118  steel, cast glass, photography                         NaN   \n",
       "\n",
       "       YEAR ObjectId  \n",
       "0    1977.0        1  \n",
       "1    1978.0        2  \n",
       "2    1986.0        3  \n",
       "3    1986.0        4  \n",
       "4    1986.0        5  \n",
       "..      ...      ...  \n",
       "170  2016.0      171  \n",
       "171  2017.0      172  \n",
       "172  2010.0      173  \n",
       "173  2015.0      174  \n",
       "174  1998.0      175  \n",
       "\n",
       "[175 rows x 26 columns]"
      ]
     },
     "execution_count": 488,
     "metadata": {},
     "output_type": "execute_result"
    }
   ],
   "source": [
    "public_art_df = pd.read_csv(\"Public_Art.csv\")\n",
    "public_art_df"
   ]
  },
  {
   "cell_type": "markdown",
   "id": "4173ddd8",
   "metadata": {},
   "source": [
    "## Part A \n",
    "\n",
    "First, let's take a look at our data. \n",
    "\n",
    "**Question 1 (3 points):** Identify three columns which could be dropped from your analysis without consequence. For each, explain why you believe it is possible to drop these (you do not need to include code for this question).\n",
    "\n"
   ]
  },
  {
   "cell_type": "code",
   "execution_count": 489,
   "id": "17f8e974",
   "metadata": {},
   "outputs": [
    {
     "data": {
      "text/html": [
       "<div>\n",
       "<style scoped>\n",
       "    .dataframe tbody tr th:only-of-type {\n",
       "        vertical-align: middle;\n",
       "    }\n",
       "\n",
       "    .dataframe tbody tr th {\n",
       "        vertical-align: top;\n",
       "    }\n",
       "\n",
       "    .dataframe thead th {\n",
       "        text-align: right;\n",
       "    }\n",
       "</style>\n",
       "<table border=\"1\" class=\"dataframe\">\n",
       "  <thead>\n",
       "    <tr style=\"text-align: right;\">\n",
       "      <th></th>\n",
       "      <th>X</th>\n",
       "      <th>Y</th>\n",
       "      <th>ACCESSION</th>\n",
       "      <th>PC</th>\n",
       "      <th>TEXT</th>\n",
       "      <th>TEXT_FR</th>\n",
       "      <th>ID</th>\n",
       "      <th>IMAGE</th>\n",
       "      <th>CREDIT</th>\n",
       "      <th>LAT</th>\n",
       "      <th>...</th>\n",
       "      <th>ARTWORK_FR</th>\n",
       "      <th>ARTISTS</th>\n",
       "      <th>LOCATION</th>\n",
       "      <th>CITY</th>\n",
       "      <th>PROVINCE</th>\n",
       "      <th>DATE_MOD</th>\n",
       "      <th>MATERIAL</th>\n",
       "      <th>MATERIAL_FR</th>\n",
       "      <th>YEAR</th>\n",
       "      <th>ObjectId</th>\n",
       "    </tr>\n",
       "  </thead>\n",
       "  <tbody>\n",
       "    <tr>\n",
       "      <th>0</th>\n",
       "      <td>-8.418854e+06</td>\n",
       "      <td>5.685030e+06</td>\n",
       "      <td>1977-0002</td>\n",
       "      <td>K1G 0N1</td>\n",
       "      <td>This artwork was a collaboration between Monik...</td>\n",
       "      <td>Cette œuvre d’art a été réalisée dans le cadre...</td>\n",
       "      <td>PA1</td>\n",
       "      <td>https://ottawa.ca/sites/default/files/images/f...</td>\n",
       "      <td>NaN</td>\n",
       "      <td>45.401988</td>\n",
       "      <td>...</td>\n",
       "      <td>Untitled 1977</td>\n",
       "      <td>McLaughlin, Monika</td>\n",
       "      <td>1895 Russell Road, Dempsey Community Centre</td>\n",
       "      <td>Ottawa</td>\n",
       "      <td>ON</td>\n",
       "      <td>20210118</td>\n",
       "      <td>concrete and ceramic</td>\n",
       "      <td>béton et argile</td>\n",
       "      <td>1977.0</td>\n",
       "      <td>1</td>\n",
       "    </tr>\n",
       "    <tr>\n",
       "      <th>1</th>\n",
       "      <td>-8.426063e+06</td>\n",
       "      <td>5.689093e+06</td>\n",
       "      <td>1978-0001</td>\n",
       "      <td>K1N 9C3</td>\n",
       "      <td>This papier mâché sculpture tells the story of...</td>\n",
       "      <td>Cette sculpture en papier mâché raconte l’hist...</td>\n",
       "      <td>PA2</td>\n",
       "      <td>https://ottawa.ca/sites/default/files/images/f...</td>\n",
       "      <td>NaN</td>\n",
       "      <td>45.427613</td>\n",
       "      <td>...</td>\n",
       "      <td>McClintock's Dream</td>\n",
       "      <td>Tolgesy, Victor</td>\n",
       "      <td>55 ByWard Market Building</td>\n",
       "      <td>Ottawa</td>\n",
       "      <td>ON</td>\n",
       "      <td>20210118</td>\n",
       "      <td>papier maché, acrylic</td>\n",
       "      <td>papier maché, acrylique</td>\n",
       "      <td>1978.0</td>\n",
       "      <td>2</td>\n",
       "    </tr>\n",
       "    <tr>\n",
       "      <th>2</th>\n",
       "      <td>-8.431277e+06</td>\n",
       "      <td>5.680450e+06</td>\n",
       "      <td>1986-0083</td>\n",
       "      <td>K1Z 8M7</td>\n",
       "      <td>Mural artist Pierre Hardy used his skills in o...</td>\n",
       "      <td>Le muraliste Pierre Hardy a mis à profit son t...</td>\n",
       "      <td>PA3</td>\n",
       "      <td>https://ottawa.ca/sites/default/files/images/f...</td>\n",
       "      <td>NaN</td>\n",
       "      <td>45.373096</td>\n",
       "      <td>...</td>\n",
       "      <td>Interactions Bleues</td>\n",
       "      <td>Hardy, Pierre</td>\n",
       "      <td>1520 Caldwell Avenue, Carlington Rec Centre, B...</td>\n",
       "      <td>Ottawa</td>\n",
       "      <td>ON</td>\n",
       "      <td>20210118</td>\n",
       "      <td>acrylic on concrete</td>\n",
       "      <td>acrylique sur ciment</td>\n",
       "      <td>1986.0</td>\n",
       "      <td>3</td>\n",
       "    </tr>\n",
       "    <tr>\n",
       "      <th>3</th>\n",
       "      <td>-8.421838e+06</td>\n",
       "      <td>5.688191e+06</td>\n",
       "      <td>1986-0084</td>\n",
       "      <td>NaN</td>\n",
       "      <td>NaN</td>\n",
       "      <td>NaN</td>\n",
       "      <td>PA315</td>\n",
       "      <td>NaN</td>\n",
       "      <td>NaN</td>\n",
       "      <td>45.421920</td>\n",
       "      <td>...</td>\n",
       "      <td>13 Fire Axes</td>\n",
       "      <td>McVeigh, Don</td>\n",
       "      <td>275 Coventry Road, Fire Station 56</td>\n",
       "      <td>Ottawa</td>\n",
       "      <td>ON</td>\n",
       "      <td>20210118</td>\n",
       "      <td>terrazzo, granite, and zinc</td>\n",
       "      <td>terrazo, granite et zinc</td>\n",
       "      <td>1986.0</td>\n",
       "      <td>4</td>\n",
       "    </tr>\n",
       "    <tr>\n",
       "      <th>4</th>\n",
       "      <td>-8.424991e+06</td>\n",
       "      <td>5.688736e+06</td>\n",
       "      <td>1986-0085</td>\n",
       "      <td>K1N 7N4</td>\n",
       "      <td>Four wood figures connect the street to the fi...</td>\n",
       "      <td>Quatre personnages en bois créent un lien entr...</td>\n",
       "      <td>PA4</td>\n",
       "      <td>https://ottawa.ca/sites/default/files/images/f...</td>\n",
       "      <td>NaN</td>\n",
       "      <td>45.425360</td>\n",
       "      <td>...</td>\n",
       "      <td>In Context</td>\n",
       "      <td>Nigro, Richard</td>\n",
       "      <td>530 King Edward Street, Fire Station 13</td>\n",
       "      <td>Ottawa</td>\n",
       "      <td>ON</td>\n",
       "      <td>20210118</td>\n",
       "      <td>wood</td>\n",
       "      <td>bois</td>\n",
       "      <td>1986.0</td>\n",
       "      <td>5</td>\n",
       "    </tr>\n",
       "    <tr>\n",
       "      <th>...</th>\n",
       "      <td>...</td>\n",
       "      <td>...</td>\n",
       "      <td>...</td>\n",
       "      <td>...</td>\n",
       "      <td>...</td>\n",
       "      <td>...</td>\n",
       "      <td>...</td>\n",
       "      <td>...</td>\n",
       "      <td>...</td>\n",
       "      <td>...</td>\n",
       "      <td>...</td>\n",
       "      <td>...</td>\n",
       "      <td>...</td>\n",
       "      <td>...</td>\n",
       "      <td>...</td>\n",
       "      <td>...</td>\n",
       "      <td>...</td>\n",
       "      <td>...</td>\n",
       "      <td>...</td>\n",
       "      <td>...</td>\n",
       "      <td>...</td>\n",
       "    </tr>\n",
       "    <tr>\n",
       "      <th>170</th>\n",
       "      <td>-8.452192e+06</td>\n",
       "      <td>5.675205e+06</td>\n",
       "      <td>2017-0069</td>\n",
       "      <td>NaN</td>\n",
       "      <td>Tempus is made up of several undulating colour...</td>\n",
       "      <td>Tempus est composée de plusieurs pétales color...</td>\n",
       "      <td>PA337</td>\n",
       "      <td>https://ottawa.ca/en/arts-heritage-and-events/...</td>\n",
       "      <td>NaN</td>\n",
       "      <td>45.339986</td>\n",
       "      <td>...</td>\n",
       "      <td>Tempus</td>\n",
       "      <td>Cronin, Lynda</td>\n",
       "      <td>1321-3043 Innovation Drive, Innovation Park an...</td>\n",
       "      <td>Ottawa</td>\n",
       "      <td>ON</td>\n",
       "      <td>20210118</td>\n",
       "      <td>powder-coated aluminum</td>\n",
       "      <td>aluminium enduit de poudre</td>\n",
       "      <td>2016.0</td>\n",
       "      <td>171</td>\n",
       "    </tr>\n",
       "    <tr>\n",
       "      <th>171</th>\n",
       "      <td>-8.419117e+06</td>\n",
       "      <td>5.683272e+06</td>\n",
       "      <td>2018-0001</td>\n",
       "      <td>NaN</td>\n",
       "      <td>Along the Boards pays homage to hockey, our be...</td>\n",
       "      <td>« Le long de la bande » et ses douze élégantes...</td>\n",
       "      <td>PA338</td>\n",
       "      <td>https://ottawa.ca/sites/default/files/images/f...</td>\n",
       "      <td>NaN</td>\n",
       "      <td>45.390901</td>\n",
       "      <td>...</td>\n",
       "      <td>Le long de la bande</td>\n",
       "      <td>Griffin, Christopher</td>\n",
       "      <td>Jim Tubman Chevrolet SENS Rink</td>\n",
       "      <td>Ottawa</td>\n",
       "      <td>ON</td>\n",
       "      <td>20210118</td>\n",
       "      <td>stainless steel</td>\n",
       "      <td>acier inoxydable</td>\n",
       "      <td>2017.0</td>\n",
       "      <td>172</td>\n",
       "    </tr>\n",
       "    <tr>\n",
       "      <th>172</th>\n",
       "      <td>-8.425956e+06</td>\n",
       "      <td>5.689797e+06</td>\n",
       "      <td>s2010-0008</td>\n",
       "      <td>NaN</td>\n",
       "      <td>NaN</td>\n",
       "      <td>NaN</td>\n",
       "      <td>PA339</td>\n",
       "      <td>NaN</td>\n",
       "      <td>NaN</td>\n",
       "      <td>45.432048</td>\n",
       "      <td>...</td>\n",
       "      <td>study for Hazeldean banners</td>\n",
       "      <td>NaN</td>\n",
       "      <td>172 Guigues Avenue, 3rd Floor (Storage Room A ...</td>\n",
       "      <td>Ottawa</td>\n",
       "      <td>ON</td>\n",
       "      <td>20210118</td>\n",
       "      <td>aluminium</td>\n",
       "      <td>aluminium</td>\n",
       "      <td>2010.0</td>\n",
       "      <td>173</td>\n",
       "    </tr>\n",
       "    <tr>\n",
       "      <th>173</th>\n",
       "      <td>-8.394143e+06</td>\n",
       "      <td>5.703152e+06</td>\n",
       "      <td>s2016-0006</td>\n",
       "      <td>NaN</td>\n",
       "      <td>NaN</td>\n",
       "      <td>NaN</td>\n",
       "      <td>PA340</td>\n",
       "      <td>NaN</td>\n",
       "      <td>NaN</td>\n",
       "      <td>45.516177</td>\n",
       "      <td>...</td>\n",
       "      <td>étude pour Sphere Field</td>\n",
       "      <td>Emig, Kenneth</td>\n",
       "      <td>Ken Emig’s studio, 532 Dunning Lane</td>\n",
       "      <td>Ottawa</td>\n",
       "      <td>ON</td>\n",
       "      <td>20210118</td>\n",
       "      <td>mixed media</td>\n",
       "      <td>NaN</td>\n",
       "      <td>2015.0</td>\n",
       "      <td>174</td>\n",
       "    </tr>\n",
       "    <tr>\n",
       "      <th>174</th>\n",
       "      <td>-8.425956e+06</td>\n",
       "      <td>5.689797e+06</td>\n",
       "      <td>T1999-0024</td>\n",
       "      <td>NaN</td>\n",
       "      <td>NaN</td>\n",
       "      <td>NaN</td>\n",
       "      <td>PA341</td>\n",
       "      <td>NaN</td>\n",
       "      <td>NaN</td>\n",
       "      <td>45.432048</td>\n",
       "      <td>...</td>\n",
       "      <td>Bywash 1832</td>\n",
       "      <td>CAAP Collective</td>\n",
       "      <td>172 Guigues Avenue, Main Floor</td>\n",
       "      <td>Ottawa</td>\n",
       "      <td>ON</td>\n",
       "      <td>20210118</td>\n",
       "      <td>steel, cast glass, photography</td>\n",
       "      <td>NaN</td>\n",
       "      <td>1998.0</td>\n",
       "      <td>175</td>\n",
       "    </tr>\n",
       "  </tbody>\n",
       "</table>\n",
       "<p>175 rows × 24 columns</p>\n",
       "</div>"
      ],
      "text/plain": [
       "                X             Y   ACCESSION       PC  \\\n",
       "0   -8.418854e+06  5.685030e+06   1977-0002  K1G 0N1   \n",
       "1   -8.426063e+06  5.689093e+06   1978-0001  K1N 9C3   \n",
       "2   -8.431277e+06  5.680450e+06   1986-0083  K1Z 8M7   \n",
       "3   -8.421838e+06  5.688191e+06   1986-0084      NaN   \n",
       "4   -8.424991e+06  5.688736e+06   1986-0085  K1N 7N4   \n",
       "..            ...           ...         ...      ...   \n",
       "170 -8.452192e+06  5.675205e+06   2017-0069      NaN   \n",
       "171 -8.419117e+06  5.683272e+06   2018-0001      NaN   \n",
       "172 -8.425956e+06  5.689797e+06  s2010-0008      NaN   \n",
       "173 -8.394143e+06  5.703152e+06  s2016-0006      NaN   \n",
       "174 -8.425956e+06  5.689797e+06  T1999-0024      NaN   \n",
       "\n",
       "                                                  TEXT  \\\n",
       "0    This artwork was a collaboration between Monik...   \n",
       "1    This papier mâché sculpture tells the story of...   \n",
       "2    Mural artist Pierre Hardy used his skills in o...   \n",
       "3                                                  NaN   \n",
       "4    Four wood figures connect the street to the fi...   \n",
       "..                                                 ...   \n",
       "170  Tempus is made up of several undulating colour...   \n",
       "171  Along the Boards pays homage to hockey, our be...   \n",
       "172                                                NaN   \n",
       "173                                                NaN   \n",
       "174                                                NaN   \n",
       "\n",
       "                                               TEXT_FR     ID  \\\n",
       "0    Cette œuvre d’art a été réalisée dans le cadre...    PA1   \n",
       "1    Cette sculpture en papier mâché raconte l’hist...    PA2   \n",
       "2    Le muraliste Pierre Hardy a mis à profit son t...    PA3   \n",
       "3                                                  NaN  PA315   \n",
       "4    Quatre personnages en bois créent un lien entr...    PA4   \n",
       "..                                                 ...    ...   \n",
       "170  Tempus est composée de plusieurs pétales color...  PA337   \n",
       "171  « Le long de la bande » et ses douze élégantes...  PA338   \n",
       "172                                                NaN  PA339   \n",
       "173                                                NaN  PA340   \n",
       "174                                                NaN  PA341   \n",
       "\n",
       "                                                 IMAGE CREDIT        LAT  ...  \\\n",
       "0    https://ottawa.ca/sites/default/files/images/f...    NaN  45.401988  ...   \n",
       "1    https://ottawa.ca/sites/default/files/images/f...    NaN  45.427613  ...   \n",
       "2    https://ottawa.ca/sites/default/files/images/f...    NaN  45.373096  ...   \n",
       "3                                                  NaN    NaN  45.421920  ...   \n",
       "4    https://ottawa.ca/sites/default/files/images/f...    NaN  45.425360  ...   \n",
       "..                                                 ...    ...        ...  ...   \n",
       "170  https://ottawa.ca/en/arts-heritage-and-events/...    NaN  45.339986  ...   \n",
       "171  https://ottawa.ca/sites/default/files/images/f...    NaN  45.390901  ...   \n",
       "172                                                NaN    NaN  45.432048  ...   \n",
       "173                                                NaN    NaN  45.516177  ...   \n",
       "174                                                NaN    NaN  45.432048  ...   \n",
       "\n",
       "                      ARTWORK_FR               ARTISTS  \\\n",
       "0                  Untitled 1977    McLaughlin, Monika   \n",
       "1             McClintock's Dream       Tolgesy, Victor   \n",
       "2            Interactions Bleues         Hardy, Pierre   \n",
       "3                   13 Fire Axes          McVeigh, Don   \n",
       "4                     In Context        Nigro, Richard   \n",
       "..                           ...                   ...   \n",
       "170                       Tempus         Cronin, Lynda   \n",
       "171          Le long de la bande  Griffin, Christopher   \n",
       "172  study for Hazeldean banners                   NaN   \n",
       "173      étude pour Sphere Field         Emig, Kenneth   \n",
       "174                  Bywash 1832       CAAP Collective   \n",
       "\n",
       "                                              LOCATION    CITY PROVINCE  \\\n",
       "0          1895 Russell Road, Dempsey Community Centre  Ottawa       ON   \n",
       "1                           55 ByWard Market Building   Ottawa       ON   \n",
       "2    1520 Caldwell Avenue, Carlington Rec Centre, B...  Ottawa       ON   \n",
       "3                   275 Coventry Road, Fire Station 56  Ottawa       ON   \n",
       "4              530 King Edward Street, Fire Station 13  Ottawa       ON   \n",
       "..                                                 ...     ...      ...   \n",
       "170  1321-3043 Innovation Drive, Innovation Park an...  Ottawa       ON   \n",
       "171                     Jim Tubman Chevrolet SENS Rink  Ottawa       ON   \n",
       "172  172 Guigues Avenue, 3rd Floor (Storage Room A ...  Ottawa       ON   \n",
       "173                Ken Emig’s studio, 532 Dunning Lane  Ottawa       ON   \n",
       "174                     172 Guigues Avenue, Main Floor  Ottawa       ON   \n",
       "\n",
       "     DATE_MOD                        MATERIAL                 MATERIAL_FR  \\\n",
       "0    20210118            concrete and ceramic             béton et argile   \n",
       "1    20210118           papier maché, acrylic     papier maché, acrylique   \n",
       "2    20210118             acrylic on concrete        acrylique sur ciment   \n",
       "3    20210118     terrazzo, granite, and zinc    terrazo, granite et zinc   \n",
       "4    20210118                           wood                         bois   \n",
       "..        ...                             ...                         ...   \n",
       "170  20210118          powder-coated aluminum  aluminium enduit de poudre   \n",
       "171  20210118                 stainless steel           acier inoxydable    \n",
       "172  20210118                      aluminium                    aluminium   \n",
       "173  20210118                     mixed media                         NaN   \n",
       "174  20210118  steel, cast glass, photography                         NaN   \n",
       "\n",
       "       YEAR  ObjectId  \n",
       "0    1977.0         1  \n",
       "1    1978.0         2  \n",
       "2    1986.0         3  \n",
       "3    1986.0         4  \n",
       "4    1986.0         5  \n",
       "..      ...       ...  \n",
       "170  2016.0       171  \n",
       "171  2017.0       172  \n",
       "172  2010.0       173  \n",
       "173  2015.0       174  \n",
       "174  1998.0       175  \n",
       "\n",
       "[175 rows x 24 columns]"
      ]
     },
     "execution_count": 489,
     "metadata": {},
     "output_type": "execute_result"
    }
   ],
   "source": [
    "public_art_df = public_art_df.drop(columns = ['IMAGE_FR','LOCATION_FR' ])\n",
    "public_art_df"
   ]
  },
  {
   "cell_type": "markdown",
   "id": "f81e00df",
   "metadata": {},
   "source": [
    "**ANSWER**\n",
    "\n",
    "I should remove the two columns containing the image and location both in French, as they won't contribute to creating visualizations or providing insights into the data. Additionally, there is no distinction between an image in French and an address in French; both will remain the same since the image itself and the name of the street will not change.\n"
   ]
  },
  {
   "cell_type": "markdown",
   "id": "8f38c3c6",
   "metadata": {},
   "source": [
    "**Question 2 (1 point):** Convert the year column to a more appropriate datatype (do include code below). Explain what you chose, and why (as a comment in your code)."
   ]
  },
  {
   "cell_type": "code",
   "execution_count": 500,
   "id": "8f4a2434",
   "metadata": {},
   "outputs": [
    {
     "data": {
      "text/html": [
       "<div>\n",
       "<style scoped>\n",
       "    .dataframe tbody tr th:only-of-type {\n",
       "        vertical-align: middle;\n",
       "    }\n",
       "\n",
       "    .dataframe tbody tr th {\n",
       "        vertical-align: top;\n",
       "    }\n",
       "\n",
       "    .dataframe thead th {\n",
       "        text-align: right;\n",
       "    }\n",
       "</style>\n",
       "<table border=\"1\" class=\"dataframe\">\n",
       "  <thead>\n",
       "    <tr style=\"text-align: right;\">\n",
       "      <th></th>\n",
       "      <th>X</th>\n",
       "      <th>Y</th>\n",
       "      <th>ACCESSION</th>\n",
       "      <th>PC</th>\n",
       "      <th>TEXT</th>\n",
       "      <th>TEXT_FR</th>\n",
       "      <th>ID</th>\n",
       "      <th>IMAGE</th>\n",
       "      <th>CREDIT</th>\n",
       "      <th>LAT</th>\n",
       "      <th>...</th>\n",
       "      <th>LOCATION</th>\n",
       "      <th>CITY</th>\n",
       "      <th>PROVINCE</th>\n",
       "      <th>DATE_MOD</th>\n",
       "      <th>MATERIAL</th>\n",
       "      <th>MATERIAL_FR</th>\n",
       "      <th>YEAR</th>\n",
       "      <th>ObjectId</th>\n",
       "      <th>Accession_Year</th>\n",
       "      <th>DECADE</th>\n",
       "    </tr>\n",
       "  </thead>\n",
       "  <tbody>\n",
       "    <tr>\n",
       "      <th>0</th>\n",
       "      <td>-8.418854e+06</td>\n",
       "      <td>5.685030e+06</td>\n",
       "      <td>1977-0002</td>\n",
       "      <td>K1G 0N1</td>\n",
       "      <td>This artwork was a collaboration between Monik...</td>\n",
       "      <td>Cette œuvre d’art a été réalisée dans le cadre...</td>\n",
       "      <td>PA1</td>\n",
       "      <td>https://ottawa.ca/sites/default/files/images/f...</td>\n",
       "      <td>NaN</td>\n",
       "      <td>45.401988</td>\n",
       "      <td>...</td>\n",
       "      <td>1895 Russell Road, Dempsey Community Centre</td>\n",
       "      <td>Ottawa</td>\n",
       "      <td>ON</td>\n",
       "      <td>20210118</td>\n",
       "      <td>concrete and ceramic</td>\n",
       "      <td>béton et argile</td>\n",
       "      <td>1977.0</td>\n",
       "      <td>1</td>\n",
       "      <td>1977</td>\n",
       "      <td>1970.0</td>\n",
       "    </tr>\n",
       "    <tr>\n",
       "      <th>1</th>\n",
       "      <td>-8.426063e+06</td>\n",
       "      <td>5.689093e+06</td>\n",
       "      <td>1978-0001</td>\n",
       "      <td>K1N 9C3</td>\n",
       "      <td>This papier mâché sculpture tells the story of...</td>\n",
       "      <td>Cette sculpture en papier mâché raconte l’hist...</td>\n",
       "      <td>PA2</td>\n",
       "      <td>https://ottawa.ca/sites/default/files/images/f...</td>\n",
       "      <td>NaN</td>\n",
       "      <td>45.427613</td>\n",
       "      <td>...</td>\n",
       "      <td>55 ByWard Market Building</td>\n",
       "      <td>Ottawa</td>\n",
       "      <td>ON</td>\n",
       "      <td>20210118</td>\n",
       "      <td>papier maché, acrylic</td>\n",
       "      <td>papier maché, acrylique</td>\n",
       "      <td>1978.0</td>\n",
       "      <td>2</td>\n",
       "      <td>1978</td>\n",
       "      <td>1970.0</td>\n",
       "    </tr>\n",
       "    <tr>\n",
       "      <th>2</th>\n",
       "      <td>-8.431277e+06</td>\n",
       "      <td>5.680450e+06</td>\n",
       "      <td>1986-0083</td>\n",
       "      <td>K1Z 8M7</td>\n",
       "      <td>Mural artist Pierre Hardy used his skills in o...</td>\n",
       "      <td>Le muraliste Pierre Hardy a mis à profit son t...</td>\n",
       "      <td>PA3</td>\n",
       "      <td>https://ottawa.ca/sites/default/files/images/f...</td>\n",
       "      <td>NaN</td>\n",
       "      <td>45.373096</td>\n",
       "      <td>...</td>\n",
       "      <td>1520 Caldwell Avenue, Carlington Rec Centre, B...</td>\n",
       "      <td>Ottawa</td>\n",
       "      <td>ON</td>\n",
       "      <td>20210118</td>\n",
       "      <td>acrylic on concrete</td>\n",
       "      <td>acrylique sur ciment</td>\n",
       "      <td>1986.0</td>\n",
       "      <td>3</td>\n",
       "      <td>1986</td>\n",
       "      <td>1980.0</td>\n",
       "    </tr>\n",
       "    <tr>\n",
       "      <th>3</th>\n",
       "      <td>-8.421838e+06</td>\n",
       "      <td>5.688191e+06</td>\n",
       "      <td>1986-0084</td>\n",
       "      <td>NaN</td>\n",
       "      <td>NaN</td>\n",
       "      <td>NaN</td>\n",
       "      <td>PA315</td>\n",
       "      <td>NaN</td>\n",
       "      <td>NaN</td>\n",
       "      <td>45.421920</td>\n",
       "      <td>...</td>\n",
       "      <td>275 Coventry Road, Fire Station 56</td>\n",
       "      <td>Ottawa</td>\n",
       "      <td>ON</td>\n",
       "      <td>20210118</td>\n",
       "      <td>terrazzo, granite, and zinc</td>\n",
       "      <td>terrazo, granite et zinc</td>\n",
       "      <td>1986.0</td>\n",
       "      <td>4</td>\n",
       "      <td>1986</td>\n",
       "      <td>1980.0</td>\n",
       "    </tr>\n",
       "    <tr>\n",
       "      <th>4</th>\n",
       "      <td>-8.424991e+06</td>\n",
       "      <td>5.688736e+06</td>\n",
       "      <td>1986-0085</td>\n",
       "      <td>K1N 7N4</td>\n",
       "      <td>Four wood figures connect the street to the fi...</td>\n",
       "      <td>Quatre personnages en bois créent un lien entr...</td>\n",
       "      <td>PA4</td>\n",
       "      <td>https://ottawa.ca/sites/default/files/images/f...</td>\n",
       "      <td>NaN</td>\n",
       "      <td>45.425360</td>\n",
       "      <td>...</td>\n",
       "      <td>530 King Edward Street, Fire Station 13</td>\n",
       "      <td>Ottawa</td>\n",
       "      <td>ON</td>\n",
       "      <td>20210118</td>\n",
       "      <td>wood</td>\n",
       "      <td>bois</td>\n",
       "      <td>1986.0</td>\n",
       "      <td>5</td>\n",
       "      <td>1986</td>\n",
       "      <td>1980.0</td>\n",
       "    </tr>\n",
       "    <tr>\n",
       "      <th>...</th>\n",
       "      <td>...</td>\n",
       "      <td>...</td>\n",
       "      <td>...</td>\n",
       "      <td>...</td>\n",
       "      <td>...</td>\n",
       "      <td>...</td>\n",
       "      <td>...</td>\n",
       "      <td>...</td>\n",
       "      <td>...</td>\n",
       "      <td>...</td>\n",
       "      <td>...</td>\n",
       "      <td>...</td>\n",
       "      <td>...</td>\n",
       "      <td>...</td>\n",
       "      <td>...</td>\n",
       "      <td>...</td>\n",
       "      <td>...</td>\n",
       "      <td>...</td>\n",
       "      <td>...</td>\n",
       "      <td>...</td>\n",
       "      <td>...</td>\n",
       "    </tr>\n",
       "    <tr>\n",
       "      <th>170</th>\n",
       "      <td>-8.452192e+06</td>\n",
       "      <td>5.675205e+06</td>\n",
       "      <td>2017-0069</td>\n",
       "      <td>NaN</td>\n",
       "      <td>Tempus is made up of several undulating colour...</td>\n",
       "      <td>Tempus est composée de plusieurs pétales color...</td>\n",
       "      <td>PA337</td>\n",
       "      <td>https://ottawa.ca/en/arts-heritage-and-events/...</td>\n",
       "      <td>NaN</td>\n",
       "      <td>45.339986</td>\n",
       "      <td>...</td>\n",
       "      <td>1321-3043 Innovation Drive, Innovation Park an...</td>\n",
       "      <td>Ottawa</td>\n",
       "      <td>ON</td>\n",
       "      <td>20210118</td>\n",
       "      <td>powder-coated aluminum</td>\n",
       "      <td>aluminium enduit de poudre</td>\n",
       "      <td>2016.0</td>\n",
       "      <td>171</td>\n",
       "      <td>2017</td>\n",
       "      <td>2010.0</td>\n",
       "    </tr>\n",
       "    <tr>\n",
       "      <th>171</th>\n",
       "      <td>-8.419117e+06</td>\n",
       "      <td>5.683272e+06</td>\n",
       "      <td>2018-0001</td>\n",
       "      <td>NaN</td>\n",
       "      <td>Along the Boards pays homage to hockey, our be...</td>\n",
       "      <td>« Le long de la bande » et ses douze élégantes...</td>\n",
       "      <td>PA338</td>\n",
       "      <td>https://ottawa.ca/sites/default/files/images/f...</td>\n",
       "      <td>NaN</td>\n",
       "      <td>45.390901</td>\n",
       "      <td>...</td>\n",
       "      <td>Jim Tubman Chevrolet SENS Rink</td>\n",
       "      <td>Ottawa</td>\n",
       "      <td>ON</td>\n",
       "      <td>20210118</td>\n",
       "      <td>stainless steel</td>\n",
       "      <td>acier inoxydable</td>\n",
       "      <td>2017.0</td>\n",
       "      <td>172</td>\n",
       "      <td>2018</td>\n",
       "      <td>2010.0</td>\n",
       "    </tr>\n",
       "    <tr>\n",
       "      <th>172</th>\n",
       "      <td>-8.425956e+06</td>\n",
       "      <td>5.689797e+06</td>\n",
       "      <td>s2010-0008</td>\n",
       "      <td>NaN</td>\n",
       "      <td>NaN</td>\n",
       "      <td>NaN</td>\n",
       "      <td>PA339</td>\n",
       "      <td>NaN</td>\n",
       "      <td>NaN</td>\n",
       "      <td>45.432048</td>\n",
       "      <td>...</td>\n",
       "      <td>172 Guigues Avenue, 3rd Floor (Storage Room A ...</td>\n",
       "      <td>Ottawa</td>\n",
       "      <td>ON</td>\n",
       "      <td>20210118</td>\n",
       "      <td>aluminium</td>\n",
       "      <td>aluminium</td>\n",
       "      <td>2010.0</td>\n",
       "      <td>173</td>\n",
       "      <td>2010</td>\n",
       "      <td>2010.0</td>\n",
       "    </tr>\n",
       "    <tr>\n",
       "      <th>173</th>\n",
       "      <td>-8.394143e+06</td>\n",
       "      <td>5.703152e+06</td>\n",
       "      <td>s2016-0006</td>\n",
       "      <td>NaN</td>\n",
       "      <td>NaN</td>\n",
       "      <td>NaN</td>\n",
       "      <td>PA340</td>\n",
       "      <td>NaN</td>\n",
       "      <td>NaN</td>\n",
       "      <td>45.516177</td>\n",
       "      <td>...</td>\n",
       "      <td>Ken Emig’s studio, 532 Dunning Lane</td>\n",
       "      <td>Ottawa</td>\n",
       "      <td>ON</td>\n",
       "      <td>20210118</td>\n",
       "      <td>mixed media</td>\n",
       "      <td>NaN</td>\n",
       "      <td>2015.0</td>\n",
       "      <td>174</td>\n",
       "      <td>2016</td>\n",
       "      <td>2010.0</td>\n",
       "    </tr>\n",
       "    <tr>\n",
       "      <th>174</th>\n",
       "      <td>-8.425956e+06</td>\n",
       "      <td>5.689797e+06</td>\n",
       "      <td>T1999-0024</td>\n",
       "      <td>NaN</td>\n",
       "      <td>NaN</td>\n",
       "      <td>NaN</td>\n",
       "      <td>PA341</td>\n",
       "      <td>NaN</td>\n",
       "      <td>NaN</td>\n",
       "      <td>45.432048</td>\n",
       "      <td>...</td>\n",
       "      <td>172 Guigues Avenue, Main Floor</td>\n",
       "      <td>Ottawa</td>\n",
       "      <td>ON</td>\n",
       "      <td>20210118</td>\n",
       "      <td>steel, cast glass, photography</td>\n",
       "      <td>NaN</td>\n",
       "      <td>1998.0</td>\n",
       "      <td>175</td>\n",
       "      <td>1999</td>\n",
       "      <td>1990.0</td>\n",
       "    </tr>\n",
       "  </tbody>\n",
       "</table>\n",
       "<p>175 rows × 26 columns</p>\n",
       "</div>"
      ],
      "text/plain": [
       "                X             Y   ACCESSION       PC  \\\n",
       "0   -8.418854e+06  5.685030e+06   1977-0002  K1G 0N1   \n",
       "1   -8.426063e+06  5.689093e+06   1978-0001  K1N 9C3   \n",
       "2   -8.431277e+06  5.680450e+06   1986-0083  K1Z 8M7   \n",
       "3   -8.421838e+06  5.688191e+06   1986-0084      NaN   \n",
       "4   -8.424991e+06  5.688736e+06   1986-0085  K1N 7N4   \n",
       "..            ...           ...         ...      ...   \n",
       "170 -8.452192e+06  5.675205e+06   2017-0069      NaN   \n",
       "171 -8.419117e+06  5.683272e+06   2018-0001      NaN   \n",
       "172 -8.425956e+06  5.689797e+06  s2010-0008      NaN   \n",
       "173 -8.394143e+06  5.703152e+06  s2016-0006      NaN   \n",
       "174 -8.425956e+06  5.689797e+06  T1999-0024      NaN   \n",
       "\n",
       "                                                  TEXT  \\\n",
       "0    This artwork was a collaboration between Monik...   \n",
       "1    This papier mâché sculpture tells the story of...   \n",
       "2    Mural artist Pierre Hardy used his skills in o...   \n",
       "3                                                  NaN   \n",
       "4    Four wood figures connect the street to the fi...   \n",
       "..                                                 ...   \n",
       "170  Tempus is made up of several undulating colour...   \n",
       "171  Along the Boards pays homage to hockey, our be...   \n",
       "172                                                NaN   \n",
       "173                                                NaN   \n",
       "174                                                NaN   \n",
       "\n",
       "                                               TEXT_FR     ID  \\\n",
       "0    Cette œuvre d’art a été réalisée dans le cadre...    PA1   \n",
       "1    Cette sculpture en papier mâché raconte l’hist...    PA2   \n",
       "2    Le muraliste Pierre Hardy a mis à profit son t...    PA3   \n",
       "3                                                  NaN  PA315   \n",
       "4    Quatre personnages en bois créent un lien entr...    PA4   \n",
       "..                                                 ...    ...   \n",
       "170  Tempus est composée de plusieurs pétales color...  PA337   \n",
       "171  « Le long de la bande » et ses douze élégantes...  PA338   \n",
       "172                                                NaN  PA339   \n",
       "173                                                NaN  PA340   \n",
       "174                                                NaN  PA341   \n",
       "\n",
       "                                                 IMAGE CREDIT        LAT  ...  \\\n",
       "0    https://ottawa.ca/sites/default/files/images/f...    NaN  45.401988  ...   \n",
       "1    https://ottawa.ca/sites/default/files/images/f...    NaN  45.427613  ...   \n",
       "2    https://ottawa.ca/sites/default/files/images/f...    NaN  45.373096  ...   \n",
       "3                                                  NaN    NaN  45.421920  ...   \n",
       "4    https://ottawa.ca/sites/default/files/images/f...    NaN  45.425360  ...   \n",
       "..                                                 ...    ...        ...  ...   \n",
       "170  https://ottawa.ca/en/arts-heritage-and-events/...    NaN  45.339986  ...   \n",
       "171  https://ottawa.ca/sites/default/files/images/f...    NaN  45.390901  ...   \n",
       "172                                                NaN    NaN  45.432048  ...   \n",
       "173                                                NaN    NaN  45.516177  ...   \n",
       "174                                                NaN    NaN  45.432048  ...   \n",
       "\n",
       "                                              LOCATION    CITY PROVINCE  \\\n",
       "0          1895 Russell Road, Dempsey Community Centre  Ottawa       ON   \n",
       "1                           55 ByWard Market Building   Ottawa       ON   \n",
       "2    1520 Caldwell Avenue, Carlington Rec Centre, B...  Ottawa       ON   \n",
       "3                   275 Coventry Road, Fire Station 56  Ottawa       ON   \n",
       "4              530 King Edward Street, Fire Station 13  Ottawa       ON   \n",
       "..                                                 ...     ...      ...   \n",
       "170  1321-3043 Innovation Drive, Innovation Park an...  Ottawa       ON   \n",
       "171                     Jim Tubman Chevrolet SENS Rink  Ottawa       ON   \n",
       "172  172 Guigues Avenue, 3rd Floor (Storage Room A ...  Ottawa       ON   \n",
       "173                Ken Emig’s studio, 532 Dunning Lane  Ottawa       ON   \n",
       "174                     172 Guigues Avenue, Main Floor  Ottawa       ON   \n",
       "\n",
       "     DATE_MOD                        MATERIAL                 MATERIAL_FR  \\\n",
       "0    20210118            concrete and ceramic             béton et argile   \n",
       "1    20210118           papier maché, acrylic     papier maché, acrylique   \n",
       "2    20210118             acrylic on concrete        acrylique sur ciment   \n",
       "3    20210118     terrazzo, granite, and zinc    terrazo, granite et zinc   \n",
       "4    20210118                           wood                         bois   \n",
       "..        ...                             ...                         ...   \n",
       "170  20210118          powder-coated aluminum  aluminium enduit de poudre   \n",
       "171  20210118                 stainless steel           acier inoxydable    \n",
       "172  20210118                      aluminium                    aluminium   \n",
       "173  20210118                     mixed media                         NaN   \n",
       "174  20210118  steel, cast glass, photography                         NaN   \n",
       "\n",
       "       YEAR ObjectId Accession_Year  DECADE  \n",
       "0    1977.0        1           1977  1970.0  \n",
       "1    1978.0        2           1978  1970.0  \n",
       "2    1986.0        3           1986  1980.0  \n",
       "3    1986.0        4           1986  1980.0  \n",
       "4    1986.0        5           1986  1980.0  \n",
       "..      ...      ...            ...     ...  \n",
       "170  2016.0      171           2017  2010.0  \n",
       "171  2017.0      172           2018  2010.0  \n",
       "172  2010.0      173           2010  2010.0  \n",
       "173  2015.0      174           2016  2010.0  \n",
       "174  1998.0      175           1999  1990.0  \n",
       "\n",
       "[175 rows x 26 columns]"
      ]
     },
     "execution_count": 500,
     "metadata": {},
     "output_type": "execute_result"
    }
   ],
   "source": [
    "# I chose to convert the year into a date time using the pandas fucntion to_datetime but only keeping the year. \n",
    "# I wanted to do this so that it becomes easier to work with the year column.\n",
    "\n",
    "public_art_df['YEAR'] = pd.to_datetime(public_art_df['YEAR'], format='%Y').dt.year.round(0)\n",
    "public_art_df"
   ]
  },
  {
   "cell_type": "markdown",
   "id": "178636f3",
   "metadata": {},
   "source": [
    "## Part B\n",
    "\n",
    "**Question 1 (8 points)** \n",
    "\n",
    "Use plotly to plot the acquisition of each work of art (i.e. _an accession_) by year, choosing an appropriate chart type for the task. If there is a work of art which does not have a year listed as part of its accession code), deal with this in an appropriate way.\n",
    "\n",
    "(Hint: In many casese the year listed for the work of art may be the same as that indicated by the accession code, but not always)."
   ]
  },
  {
   "cell_type": "code",
   "execution_count": 501,
   "id": "535f36bf",
   "metadata": {},
   "outputs": [
    {
     "data": {
      "text/html": [
       "<div>\n",
       "<style scoped>\n",
       "    .dataframe tbody tr th:only-of-type {\n",
       "        vertical-align: middle;\n",
       "    }\n",
       "\n",
       "    .dataframe tbody tr th {\n",
       "        vertical-align: top;\n",
       "    }\n",
       "\n",
       "    .dataframe thead th {\n",
       "        text-align: right;\n",
       "    }\n",
       "</style>\n",
       "<table border=\"1\" class=\"dataframe\">\n",
       "  <thead>\n",
       "    <tr style=\"text-align: right;\">\n",
       "      <th></th>\n",
       "      <th>X</th>\n",
       "      <th>Y</th>\n",
       "      <th>ACCESSION</th>\n",
       "      <th>PC</th>\n",
       "      <th>TEXT</th>\n",
       "      <th>TEXT_FR</th>\n",
       "      <th>ID</th>\n",
       "      <th>IMAGE</th>\n",
       "      <th>CREDIT</th>\n",
       "      <th>LAT</th>\n",
       "      <th>...</th>\n",
       "      <th>LOCATION</th>\n",
       "      <th>CITY</th>\n",
       "      <th>PROVINCE</th>\n",
       "      <th>DATE_MOD</th>\n",
       "      <th>MATERIAL</th>\n",
       "      <th>MATERIAL_FR</th>\n",
       "      <th>YEAR</th>\n",
       "      <th>ObjectId</th>\n",
       "      <th>Accession_Year</th>\n",
       "      <th>DECADE</th>\n",
       "    </tr>\n",
       "  </thead>\n",
       "  <tbody>\n",
       "    <tr>\n",
       "      <th>0</th>\n",
       "      <td>-8.418854e+06</td>\n",
       "      <td>5.685030e+06</td>\n",
       "      <td>1977-0002</td>\n",
       "      <td>K1G 0N1</td>\n",
       "      <td>This artwork was a collaboration between Monik...</td>\n",
       "      <td>Cette œuvre d’art a été réalisée dans le cadre...</td>\n",
       "      <td>PA1</td>\n",
       "      <td>https://ottawa.ca/sites/default/files/images/f...</td>\n",
       "      <td>NaN</td>\n",
       "      <td>45.401988</td>\n",
       "      <td>...</td>\n",
       "      <td>1895 Russell Road, Dempsey Community Centre</td>\n",
       "      <td>Ottawa</td>\n",
       "      <td>ON</td>\n",
       "      <td>20210118</td>\n",
       "      <td>concrete and ceramic</td>\n",
       "      <td>béton et argile</td>\n",
       "      <td>1977.0</td>\n",
       "      <td>1</td>\n",
       "      <td>1977</td>\n",
       "      <td>1970.0</td>\n",
       "    </tr>\n",
       "    <tr>\n",
       "      <th>1</th>\n",
       "      <td>-8.426063e+06</td>\n",
       "      <td>5.689093e+06</td>\n",
       "      <td>1978-0001</td>\n",
       "      <td>K1N 9C3</td>\n",
       "      <td>This papier mâché sculpture tells the story of...</td>\n",
       "      <td>Cette sculpture en papier mâché raconte l’hist...</td>\n",
       "      <td>PA2</td>\n",
       "      <td>https://ottawa.ca/sites/default/files/images/f...</td>\n",
       "      <td>NaN</td>\n",
       "      <td>45.427613</td>\n",
       "      <td>...</td>\n",
       "      <td>55 ByWard Market Building</td>\n",
       "      <td>Ottawa</td>\n",
       "      <td>ON</td>\n",
       "      <td>20210118</td>\n",
       "      <td>papier maché, acrylic</td>\n",
       "      <td>papier maché, acrylique</td>\n",
       "      <td>1978.0</td>\n",
       "      <td>2</td>\n",
       "      <td>1978</td>\n",
       "      <td>1970.0</td>\n",
       "    </tr>\n",
       "    <tr>\n",
       "      <th>2</th>\n",
       "      <td>-8.431277e+06</td>\n",
       "      <td>5.680450e+06</td>\n",
       "      <td>1986-0083</td>\n",
       "      <td>K1Z 8M7</td>\n",
       "      <td>Mural artist Pierre Hardy used his skills in o...</td>\n",
       "      <td>Le muraliste Pierre Hardy a mis à profit son t...</td>\n",
       "      <td>PA3</td>\n",
       "      <td>https://ottawa.ca/sites/default/files/images/f...</td>\n",
       "      <td>NaN</td>\n",
       "      <td>45.373096</td>\n",
       "      <td>...</td>\n",
       "      <td>1520 Caldwell Avenue, Carlington Rec Centre, B...</td>\n",
       "      <td>Ottawa</td>\n",
       "      <td>ON</td>\n",
       "      <td>20210118</td>\n",
       "      <td>acrylic on concrete</td>\n",
       "      <td>acrylique sur ciment</td>\n",
       "      <td>1986.0</td>\n",
       "      <td>3</td>\n",
       "      <td>1986</td>\n",
       "      <td>1980.0</td>\n",
       "    </tr>\n",
       "    <tr>\n",
       "      <th>3</th>\n",
       "      <td>-8.421838e+06</td>\n",
       "      <td>5.688191e+06</td>\n",
       "      <td>1986-0084</td>\n",
       "      <td>NaN</td>\n",
       "      <td>NaN</td>\n",
       "      <td>NaN</td>\n",
       "      <td>PA315</td>\n",
       "      <td>NaN</td>\n",
       "      <td>NaN</td>\n",
       "      <td>45.421920</td>\n",
       "      <td>...</td>\n",
       "      <td>275 Coventry Road, Fire Station 56</td>\n",
       "      <td>Ottawa</td>\n",
       "      <td>ON</td>\n",
       "      <td>20210118</td>\n",
       "      <td>terrazzo, granite, and zinc</td>\n",
       "      <td>terrazo, granite et zinc</td>\n",
       "      <td>1986.0</td>\n",
       "      <td>4</td>\n",
       "      <td>1986</td>\n",
       "      <td>1980.0</td>\n",
       "    </tr>\n",
       "    <tr>\n",
       "      <th>4</th>\n",
       "      <td>-8.424991e+06</td>\n",
       "      <td>5.688736e+06</td>\n",
       "      <td>1986-0085</td>\n",
       "      <td>K1N 7N4</td>\n",
       "      <td>Four wood figures connect the street to the fi...</td>\n",
       "      <td>Quatre personnages en bois créent un lien entr...</td>\n",
       "      <td>PA4</td>\n",
       "      <td>https://ottawa.ca/sites/default/files/images/f...</td>\n",
       "      <td>NaN</td>\n",
       "      <td>45.425360</td>\n",
       "      <td>...</td>\n",
       "      <td>530 King Edward Street, Fire Station 13</td>\n",
       "      <td>Ottawa</td>\n",
       "      <td>ON</td>\n",
       "      <td>20210118</td>\n",
       "      <td>wood</td>\n",
       "      <td>bois</td>\n",
       "      <td>1986.0</td>\n",
       "      <td>5</td>\n",
       "      <td>1986</td>\n",
       "      <td>1980.0</td>\n",
       "    </tr>\n",
       "    <tr>\n",
       "      <th>...</th>\n",
       "      <td>...</td>\n",
       "      <td>...</td>\n",
       "      <td>...</td>\n",
       "      <td>...</td>\n",
       "      <td>...</td>\n",
       "      <td>...</td>\n",
       "      <td>...</td>\n",
       "      <td>...</td>\n",
       "      <td>...</td>\n",
       "      <td>...</td>\n",
       "      <td>...</td>\n",
       "      <td>...</td>\n",
       "      <td>...</td>\n",
       "      <td>...</td>\n",
       "      <td>...</td>\n",
       "      <td>...</td>\n",
       "      <td>...</td>\n",
       "      <td>...</td>\n",
       "      <td>...</td>\n",
       "      <td>...</td>\n",
       "      <td>...</td>\n",
       "    </tr>\n",
       "    <tr>\n",
       "      <th>170</th>\n",
       "      <td>-8.452192e+06</td>\n",
       "      <td>5.675205e+06</td>\n",
       "      <td>2017-0069</td>\n",
       "      <td>NaN</td>\n",
       "      <td>Tempus is made up of several undulating colour...</td>\n",
       "      <td>Tempus est composée de plusieurs pétales color...</td>\n",
       "      <td>PA337</td>\n",
       "      <td>https://ottawa.ca/en/arts-heritage-and-events/...</td>\n",
       "      <td>NaN</td>\n",
       "      <td>45.339986</td>\n",
       "      <td>...</td>\n",
       "      <td>1321-3043 Innovation Drive, Innovation Park an...</td>\n",
       "      <td>Ottawa</td>\n",
       "      <td>ON</td>\n",
       "      <td>20210118</td>\n",
       "      <td>powder-coated aluminum</td>\n",
       "      <td>aluminium enduit de poudre</td>\n",
       "      <td>2016.0</td>\n",
       "      <td>171</td>\n",
       "      <td>2017</td>\n",
       "      <td>2010.0</td>\n",
       "    </tr>\n",
       "    <tr>\n",
       "      <th>171</th>\n",
       "      <td>-8.419117e+06</td>\n",
       "      <td>5.683272e+06</td>\n",
       "      <td>2018-0001</td>\n",
       "      <td>NaN</td>\n",
       "      <td>Along the Boards pays homage to hockey, our be...</td>\n",
       "      <td>« Le long de la bande » et ses douze élégantes...</td>\n",
       "      <td>PA338</td>\n",
       "      <td>https://ottawa.ca/sites/default/files/images/f...</td>\n",
       "      <td>NaN</td>\n",
       "      <td>45.390901</td>\n",
       "      <td>...</td>\n",
       "      <td>Jim Tubman Chevrolet SENS Rink</td>\n",
       "      <td>Ottawa</td>\n",
       "      <td>ON</td>\n",
       "      <td>20210118</td>\n",
       "      <td>stainless steel</td>\n",
       "      <td>acier inoxydable</td>\n",
       "      <td>2017.0</td>\n",
       "      <td>172</td>\n",
       "      <td>2018</td>\n",
       "      <td>2010.0</td>\n",
       "    </tr>\n",
       "    <tr>\n",
       "      <th>172</th>\n",
       "      <td>-8.425956e+06</td>\n",
       "      <td>5.689797e+06</td>\n",
       "      <td>s2010-0008</td>\n",
       "      <td>NaN</td>\n",
       "      <td>NaN</td>\n",
       "      <td>NaN</td>\n",
       "      <td>PA339</td>\n",
       "      <td>NaN</td>\n",
       "      <td>NaN</td>\n",
       "      <td>45.432048</td>\n",
       "      <td>...</td>\n",
       "      <td>172 Guigues Avenue, 3rd Floor (Storage Room A ...</td>\n",
       "      <td>Ottawa</td>\n",
       "      <td>ON</td>\n",
       "      <td>20210118</td>\n",
       "      <td>aluminium</td>\n",
       "      <td>aluminium</td>\n",
       "      <td>2010.0</td>\n",
       "      <td>173</td>\n",
       "      <td>2010</td>\n",
       "      <td>2010.0</td>\n",
       "    </tr>\n",
       "    <tr>\n",
       "      <th>173</th>\n",
       "      <td>-8.394143e+06</td>\n",
       "      <td>5.703152e+06</td>\n",
       "      <td>s2016-0006</td>\n",
       "      <td>NaN</td>\n",
       "      <td>NaN</td>\n",
       "      <td>NaN</td>\n",
       "      <td>PA340</td>\n",
       "      <td>NaN</td>\n",
       "      <td>NaN</td>\n",
       "      <td>45.516177</td>\n",
       "      <td>...</td>\n",
       "      <td>Ken Emig’s studio, 532 Dunning Lane</td>\n",
       "      <td>Ottawa</td>\n",
       "      <td>ON</td>\n",
       "      <td>20210118</td>\n",
       "      <td>mixed media</td>\n",
       "      <td>NaN</td>\n",
       "      <td>2015.0</td>\n",
       "      <td>174</td>\n",
       "      <td>2016</td>\n",
       "      <td>2010.0</td>\n",
       "    </tr>\n",
       "    <tr>\n",
       "      <th>174</th>\n",
       "      <td>-8.425956e+06</td>\n",
       "      <td>5.689797e+06</td>\n",
       "      <td>T1999-0024</td>\n",
       "      <td>NaN</td>\n",
       "      <td>NaN</td>\n",
       "      <td>NaN</td>\n",
       "      <td>PA341</td>\n",
       "      <td>NaN</td>\n",
       "      <td>NaN</td>\n",
       "      <td>45.432048</td>\n",
       "      <td>...</td>\n",
       "      <td>172 Guigues Avenue, Main Floor</td>\n",
       "      <td>Ottawa</td>\n",
       "      <td>ON</td>\n",
       "      <td>20210118</td>\n",
       "      <td>steel, cast glass, photography</td>\n",
       "      <td>NaN</td>\n",
       "      <td>1998.0</td>\n",
       "      <td>175</td>\n",
       "      <td>1999</td>\n",
       "      <td>1990.0</td>\n",
       "    </tr>\n",
       "  </tbody>\n",
       "</table>\n",
       "<p>175 rows × 26 columns</p>\n",
       "</div>"
      ],
      "text/plain": [
       "                X             Y   ACCESSION       PC  \\\n",
       "0   -8.418854e+06  5.685030e+06   1977-0002  K1G 0N1   \n",
       "1   -8.426063e+06  5.689093e+06   1978-0001  K1N 9C3   \n",
       "2   -8.431277e+06  5.680450e+06   1986-0083  K1Z 8M7   \n",
       "3   -8.421838e+06  5.688191e+06   1986-0084      NaN   \n",
       "4   -8.424991e+06  5.688736e+06   1986-0085  K1N 7N4   \n",
       "..            ...           ...         ...      ...   \n",
       "170 -8.452192e+06  5.675205e+06   2017-0069      NaN   \n",
       "171 -8.419117e+06  5.683272e+06   2018-0001      NaN   \n",
       "172 -8.425956e+06  5.689797e+06  s2010-0008      NaN   \n",
       "173 -8.394143e+06  5.703152e+06  s2016-0006      NaN   \n",
       "174 -8.425956e+06  5.689797e+06  T1999-0024      NaN   \n",
       "\n",
       "                                                  TEXT  \\\n",
       "0    This artwork was a collaboration between Monik...   \n",
       "1    This papier mâché sculpture tells the story of...   \n",
       "2    Mural artist Pierre Hardy used his skills in o...   \n",
       "3                                                  NaN   \n",
       "4    Four wood figures connect the street to the fi...   \n",
       "..                                                 ...   \n",
       "170  Tempus is made up of several undulating colour...   \n",
       "171  Along the Boards pays homage to hockey, our be...   \n",
       "172                                                NaN   \n",
       "173                                                NaN   \n",
       "174                                                NaN   \n",
       "\n",
       "                                               TEXT_FR     ID  \\\n",
       "0    Cette œuvre d’art a été réalisée dans le cadre...    PA1   \n",
       "1    Cette sculpture en papier mâché raconte l’hist...    PA2   \n",
       "2    Le muraliste Pierre Hardy a mis à profit son t...    PA3   \n",
       "3                                                  NaN  PA315   \n",
       "4    Quatre personnages en bois créent un lien entr...    PA4   \n",
       "..                                                 ...    ...   \n",
       "170  Tempus est composée de plusieurs pétales color...  PA337   \n",
       "171  « Le long de la bande » et ses douze élégantes...  PA338   \n",
       "172                                                NaN  PA339   \n",
       "173                                                NaN  PA340   \n",
       "174                                                NaN  PA341   \n",
       "\n",
       "                                                 IMAGE CREDIT        LAT  ...  \\\n",
       "0    https://ottawa.ca/sites/default/files/images/f...    NaN  45.401988  ...   \n",
       "1    https://ottawa.ca/sites/default/files/images/f...    NaN  45.427613  ...   \n",
       "2    https://ottawa.ca/sites/default/files/images/f...    NaN  45.373096  ...   \n",
       "3                                                  NaN    NaN  45.421920  ...   \n",
       "4    https://ottawa.ca/sites/default/files/images/f...    NaN  45.425360  ...   \n",
       "..                                                 ...    ...        ...  ...   \n",
       "170  https://ottawa.ca/en/arts-heritage-and-events/...    NaN  45.339986  ...   \n",
       "171  https://ottawa.ca/sites/default/files/images/f...    NaN  45.390901  ...   \n",
       "172                                                NaN    NaN  45.432048  ...   \n",
       "173                                                NaN    NaN  45.516177  ...   \n",
       "174                                                NaN    NaN  45.432048  ...   \n",
       "\n",
       "                                              LOCATION    CITY PROVINCE  \\\n",
       "0          1895 Russell Road, Dempsey Community Centre  Ottawa       ON   \n",
       "1                           55 ByWard Market Building   Ottawa       ON   \n",
       "2    1520 Caldwell Avenue, Carlington Rec Centre, B...  Ottawa       ON   \n",
       "3                   275 Coventry Road, Fire Station 56  Ottawa       ON   \n",
       "4              530 King Edward Street, Fire Station 13  Ottawa       ON   \n",
       "..                                                 ...     ...      ...   \n",
       "170  1321-3043 Innovation Drive, Innovation Park an...  Ottawa       ON   \n",
       "171                     Jim Tubman Chevrolet SENS Rink  Ottawa       ON   \n",
       "172  172 Guigues Avenue, 3rd Floor (Storage Room A ...  Ottawa       ON   \n",
       "173                Ken Emig’s studio, 532 Dunning Lane  Ottawa       ON   \n",
       "174                     172 Guigues Avenue, Main Floor  Ottawa       ON   \n",
       "\n",
       "     DATE_MOD                        MATERIAL                 MATERIAL_FR  \\\n",
       "0    20210118            concrete and ceramic             béton et argile   \n",
       "1    20210118           papier maché, acrylic     papier maché, acrylique   \n",
       "2    20210118             acrylic on concrete        acrylique sur ciment   \n",
       "3    20210118     terrazzo, granite, and zinc    terrazo, granite et zinc   \n",
       "4    20210118                           wood                         bois   \n",
       "..        ...                             ...                         ...   \n",
       "170  20210118          powder-coated aluminum  aluminium enduit de poudre   \n",
       "171  20210118                 stainless steel           acier inoxydable    \n",
       "172  20210118                      aluminium                    aluminium   \n",
       "173  20210118                     mixed media                         NaN   \n",
       "174  20210118  steel, cast glass, photography                         NaN   \n",
       "\n",
       "       YEAR ObjectId Accession_Year  DECADE  \n",
       "0    1977.0        1           1977  1970.0  \n",
       "1    1978.0        2           1978  1970.0  \n",
       "2    1986.0        3           1986  1980.0  \n",
       "3    1986.0        4           1986  1980.0  \n",
       "4    1986.0        5           1986  1980.0  \n",
       "..      ...      ...            ...     ...  \n",
       "170  2016.0      171           2017  2010.0  \n",
       "171  2017.0      172           2018  2010.0  \n",
       "172  2010.0      173           2010  2010.0  \n",
       "173  2015.0      174           2016  2010.0  \n",
       "174  1998.0      175           1999  1990.0  \n",
       "\n",
       "[175 rows x 26 columns]"
      ]
     },
     "execution_count": 501,
     "metadata": {},
     "output_type": "execute_result"
    }
   ],
   "source": [
    "import re\n",
    "\n",
    "# Define a function to extract the year from Accession_Code\n",
    "\n",
    "def extract_year(code):\n",
    "    match = re.search(r'(\\d{4})', str(code))\n",
    "    return int(match.group(0)) if match else None\n",
    "\n",
    "# Source of: https://stackoverflow.com/questions/1327369/extract-part-of-a-regex-match\n",
    "\n",
    "# Then use the function to parse through the accession year\n",
    "public_art_df['Accession_Year'] = public_art_df['ACCESSION'].apply(extract_year)\n",
    "\n",
    "# count for each year the number of accessions\n",
    "yearly_counts = public_art_df['Accession_Year'].value_counts().sort_index()\n",
    "\n",
    "public_art_df\n"
   ]
  },
  {
   "cell_type": "code",
   "execution_count": 601,
   "id": "436bcf1e",
   "metadata": {},
   "outputs": [],
   "source": [
    "# converting the accession year to date time type for easier usage\n",
    "public_art_df['Accession_Year'] = pd.to_datetime(public_art_df['Accession_Year'], format='%Y').dt.year.round(0)"
   ]
  },
  {
   "cell_type": "code",
   "execution_count": 602,
   "id": "dcc1918f",
   "metadata": {},
   "outputs": [
    {
     "data": {
      "application/vnd.plotly.v1+json": {
       "config": {
        "plotlyServerURL": "https://plot.ly"
       },
       "data": [
        {
         "alignmentgroup": "True",
         "hovertemplate": "Accession_Year=%{x}<br>Count of Acquisitions=%{y}<extra></extra>",
         "legendgroup": "",
         "marker": {
          "color": "#636efa",
          "pattern": {
           "shape": ""
          }
         },
         "name": "",
         "offsetgroup": "",
         "orientation": "v",
         "showlegend": false,
         "textposition": "auto",
         "type": "bar",
         "x": [
          1977,
          1978,
          1986,
          1987,
          1988,
          1989,
          1990,
          1991,
          1992,
          1993,
          1994,
          1995,
          1996,
          1999,
          2001,
          2004,
          2005,
          2006,
          2008,
          2009,
          2010,
          2011,
          2012,
          2013,
          2014,
          2015,
          2016,
          2017,
          2018
         ],
         "xaxis": "x",
         "y": [
          1,
          1,
          3,
          3,
          2,
          5,
          2,
          5,
          3,
          3,
          9,
          7,
          1,
          1,
          32,
          4,
          4,
          3,
          2,
          33,
          5,
          12,
          4,
          8,
          3,
          6,
          7,
          5,
          1
         ],
         "yaxis": "y"
        }
       ],
       "layout": {
        "barmode": "relative",
        "legend": {
         "tracegroupgap": 0
        },
        "template": {
         "data": {
          "bar": [
           {
            "error_x": {
             "color": "#2a3f5f"
            },
            "error_y": {
             "color": "#2a3f5f"
            },
            "marker": {
             "line": {
              "color": "#E5ECF6",
              "width": 0.5
             },
             "pattern": {
              "fillmode": "overlay",
              "size": 10,
              "solidity": 0.2
             }
            },
            "type": "bar"
           }
          ],
          "barpolar": [
           {
            "marker": {
             "line": {
              "color": "#E5ECF6",
              "width": 0.5
             },
             "pattern": {
              "fillmode": "overlay",
              "size": 10,
              "solidity": 0.2
             }
            },
            "type": "barpolar"
           }
          ],
          "carpet": [
           {
            "aaxis": {
             "endlinecolor": "#2a3f5f",
             "gridcolor": "white",
             "linecolor": "white",
             "minorgridcolor": "white",
             "startlinecolor": "#2a3f5f"
            },
            "baxis": {
             "endlinecolor": "#2a3f5f",
             "gridcolor": "white",
             "linecolor": "white",
             "minorgridcolor": "white",
             "startlinecolor": "#2a3f5f"
            },
            "type": "carpet"
           }
          ],
          "choropleth": [
           {
            "colorbar": {
             "outlinewidth": 0,
             "ticks": ""
            },
            "type": "choropleth"
           }
          ],
          "contour": [
           {
            "colorbar": {
             "outlinewidth": 0,
             "ticks": ""
            },
            "colorscale": [
             [
              0,
              "#0d0887"
             ],
             [
              0.1111111111111111,
              "#46039f"
             ],
             [
              0.2222222222222222,
              "#7201a8"
             ],
             [
              0.3333333333333333,
              "#9c179e"
             ],
             [
              0.4444444444444444,
              "#bd3786"
             ],
             [
              0.5555555555555556,
              "#d8576b"
             ],
             [
              0.6666666666666666,
              "#ed7953"
             ],
             [
              0.7777777777777778,
              "#fb9f3a"
             ],
             [
              0.8888888888888888,
              "#fdca26"
             ],
             [
              1,
              "#f0f921"
             ]
            ],
            "type": "contour"
           }
          ],
          "contourcarpet": [
           {
            "colorbar": {
             "outlinewidth": 0,
             "ticks": ""
            },
            "type": "contourcarpet"
           }
          ],
          "heatmap": [
           {
            "colorbar": {
             "outlinewidth": 0,
             "ticks": ""
            },
            "colorscale": [
             [
              0,
              "#0d0887"
             ],
             [
              0.1111111111111111,
              "#46039f"
             ],
             [
              0.2222222222222222,
              "#7201a8"
             ],
             [
              0.3333333333333333,
              "#9c179e"
             ],
             [
              0.4444444444444444,
              "#bd3786"
             ],
             [
              0.5555555555555556,
              "#d8576b"
             ],
             [
              0.6666666666666666,
              "#ed7953"
             ],
             [
              0.7777777777777778,
              "#fb9f3a"
             ],
             [
              0.8888888888888888,
              "#fdca26"
             ],
             [
              1,
              "#f0f921"
             ]
            ],
            "type": "heatmap"
           }
          ],
          "heatmapgl": [
           {
            "colorbar": {
             "outlinewidth": 0,
             "ticks": ""
            },
            "colorscale": [
             [
              0,
              "#0d0887"
             ],
             [
              0.1111111111111111,
              "#46039f"
             ],
             [
              0.2222222222222222,
              "#7201a8"
             ],
             [
              0.3333333333333333,
              "#9c179e"
             ],
             [
              0.4444444444444444,
              "#bd3786"
             ],
             [
              0.5555555555555556,
              "#d8576b"
             ],
             [
              0.6666666666666666,
              "#ed7953"
             ],
             [
              0.7777777777777778,
              "#fb9f3a"
             ],
             [
              0.8888888888888888,
              "#fdca26"
             ],
             [
              1,
              "#f0f921"
             ]
            ],
            "type": "heatmapgl"
           }
          ],
          "histogram": [
           {
            "marker": {
             "pattern": {
              "fillmode": "overlay",
              "size": 10,
              "solidity": 0.2
             }
            },
            "type": "histogram"
           }
          ],
          "histogram2d": [
           {
            "colorbar": {
             "outlinewidth": 0,
             "ticks": ""
            },
            "colorscale": [
             [
              0,
              "#0d0887"
             ],
             [
              0.1111111111111111,
              "#46039f"
             ],
             [
              0.2222222222222222,
              "#7201a8"
             ],
             [
              0.3333333333333333,
              "#9c179e"
             ],
             [
              0.4444444444444444,
              "#bd3786"
             ],
             [
              0.5555555555555556,
              "#d8576b"
             ],
             [
              0.6666666666666666,
              "#ed7953"
             ],
             [
              0.7777777777777778,
              "#fb9f3a"
             ],
             [
              0.8888888888888888,
              "#fdca26"
             ],
             [
              1,
              "#f0f921"
             ]
            ],
            "type": "histogram2d"
           }
          ],
          "histogram2dcontour": [
           {
            "colorbar": {
             "outlinewidth": 0,
             "ticks": ""
            },
            "colorscale": [
             [
              0,
              "#0d0887"
             ],
             [
              0.1111111111111111,
              "#46039f"
             ],
             [
              0.2222222222222222,
              "#7201a8"
             ],
             [
              0.3333333333333333,
              "#9c179e"
             ],
             [
              0.4444444444444444,
              "#bd3786"
             ],
             [
              0.5555555555555556,
              "#d8576b"
             ],
             [
              0.6666666666666666,
              "#ed7953"
             ],
             [
              0.7777777777777778,
              "#fb9f3a"
             ],
             [
              0.8888888888888888,
              "#fdca26"
             ],
             [
              1,
              "#f0f921"
             ]
            ],
            "type": "histogram2dcontour"
           }
          ],
          "mesh3d": [
           {
            "colorbar": {
             "outlinewidth": 0,
             "ticks": ""
            },
            "type": "mesh3d"
           }
          ],
          "parcoords": [
           {
            "line": {
             "colorbar": {
              "outlinewidth": 0,
              "ticks": ""
             }
            },
            "type": "parcoords"
           }
          ],
          "pie": [
           {
            "automargin": true,
            "type": "pie"
           }
          ],
          "scatter": [
           {
            "fillpattern": {
             "fillmode": "overlay",
             "size": 10,
             "solidity": 0.2
            },
            "type": "scatter"
           }
          ],
          "scatter3d": [
           {
            "line": {
             "colorbar": {
              "outlinewidth": 0,
              "ticks": ""
             }
            },
            "marker": {
             "colorbar": {
              "outlinewidth": 0,
              "ticks": ""
             }
            },
            "type": "scatter3d"
           }
          ],
          "scattercarpet": [
           {
            "marker": {
             "colorbar": {
              "outlinewidth": 0,
              "ticks": ""
             }
            },
            "type": "scattercarpet"
           }
          ],
          "scattergeo": [
           {
            "marker": {
             "colorbar": {
              "outlinewidth": 0,
              "ticks": ""
             }
            },
            "type": "scattergeo"
           }
          ],
          "scattergl": [
           {
            "marker": {
             "colorbar": {
              "outlinewidth": 0,
              "ticks": ""
             }
            },
            "type": "scattergl"
           }
          ],
          "scattermapbox": [
           {
            "marker": {
             "colorbar": {
              "outlinewidth": 0,
              "ticks": ""
             }
            },
            "type": "scattermapbox"
           }
          ],
          "scatterpolar": [
           {
            "marker": {
             "colorbar": {
              "outlinewidth": 0,
              "ticks": ""
             }
            },
            "type": "scatterpolar"
           }
          ],
          "scatterpolargl": [
           {
            "marker": {
             "colorbar": {
              "outlinewidth": 0,
              "ticks": ""
             }
            },
            "type": "scatterpolargl"
           }
          ],
          "scatterternary": [
           {
            "marker": {
             "colorbar": {
              "outlinewidth": 0,
              "ticks": ""
             }
            },
            "type": "scatterternary"
           }
          ],
          "surface": [
           {
            "colorbar": {
             "outlinewidth": 0,
             "ticks": ""
            },
            "colorscale": [
             [
              0,
              "#0d0887"
             ],
             [
              0.1111111111111111,
              "#46039f"
             ],
             [
              0.2222222222222222,
              "#7201a8"
             ],
             [
              0.3333333333333333,
              "#9c179e"
             ],
             [
              0.4444444444444444,
              "#bd3786"
             ],
             [
              0.5555555555555556,
              "#d8576b"
             ],
             [
              0.6666666666666666,
              "#ed7953"
             ],
             [
              0.7777777777777778,
              "#fb9f3a"
             ],
             [
              0.8888888888888888,
              "#fdca26"
             ],
             [
              1,
              "#f0f921"
             ]
            ],
            "type": "surface"
           }
          ],
          "table": [
           {
            "cells": {
             "fill": {
              "color": "#EBF0F8"
             },
             "line": {
              "color": "white"
             }
            },
            "header": {
             "fill": {
              "color": "#C8D4E3"
             },
             "line": {
              "color": "white"
             }
            },
            "type": "table"
           }
          ]
         },
         "layout": {
          "annotationdefaults": {
           "arrowcolor": "#2a3f5f",
           "arrowhead": 0,
           "arrowwidth": 1
          },
          "autotypenumbers": "strict",
          "coloraxis": {
           "colorbar": {
            "outlinewidth": 0,
            "ticks": ""
           }
          },
          "colorscale": {
           "diverging": [
            [
             0,
             "#8e0152"
            ],
            [
             0.1,
             "#c51b7d"
            ],
            [
             0.2,
             "#de77ae"
            ],
            [
             0.3,
             "#f1b6da"
            ],
            [
             0.4,
             "#fde0ef"
            ],
            [
             0.5,
             "#f7f7f7"
            ],
            [
             0.6,
             "#e6f5d0"
            ],
            [
             0.7,
             "#b8e186"
            ],
            [
             0.8,
             "#7fbc41"
            ],
            [
             0.9,
             "#4d9221"
            ],
            [
             1,
             "#276419"
            ]
           ],
           "sequential": [
            [
             0,
             "#0d0887"
            ],
            [
             0.1111111111111111,
             "#46039f"
            ],
            [
             0.2222222222222222,
             "#7201a8"
            ],
            [
             0.3333333333333333,
             "#9c179e"
            ],
            [
             0.4444444444444444,
             "#bd3786"
            ],
            [
             0.5555555555555556,
             "#d8576b"
            ],
            [
             0.6666666666666666,
             "#ed7953"
            ],
            [
             0.7777777777777778,
             "#fb9f3a"
            ],
            [
             0.8888888888888888,
             "#fdca26"
            ],
            [
             1,
             "#f0f921"
            ]
           ],
           "sequentialminus": [
            [
             0,
             "#0d0887"
            ],
            [
             0.1111111111111111,
             "#46039f"
            ],
            [
             0.2222222222222222,
             "#7201a8"
            ],
            [
             0.3333333333333333,
             "#9c179e"
            ],
            [
             0.4444444444444444,
             "#bd3786"
            ],
            [
             0.5555555555555556,
             "#d8576b"
            ],
            [
             0.6666666666666666,
             "#ed7953"
            ],
            [
             0.7777777777777778,
             "#fb9f3a"
            ],
            [
             0.8888888888888888,
             "#fdca26"
            ],
            [
             1,
             "#f0f921"
            ]
           ]
          },
          "colorway": [
           "#636efa",
           "#EF553B",
           "#00cc96",
           "#ab63fa",
           "#FFA15A",
           "#19d3f3",
           "#FF6692",
           "#B6E880",
           "#FF97FF",
           "#FECB52"
          ],
          "font": {
           "color": "#2a3f5f"
          },
          "geo": {
           "bgcolor": "white",
           "lakecolor": "white",
           "landcolor": "#E5ECF6",
           "showlakes": true,
           "showland": true,
           "subunitcolor": "white"
          },
          "hoverlabel": {
           "align": "left"
          },
          "hovermode": "closest",
          "mapbox": {
           "style": "light"
          },
          "paper_bgcolor": "white",
          "plot_bgcolor": "#E5ECF6",
          "polar": {
           "angularaxis": {
            "gridcolor": "white",
            "linecolor": "white",
            "ticks": ""
           },
           "bgcolor": "#E5ECF6",
           "radialaxis": {
            "gridcolor": "white",
            "linecolor": "white",
            "ticks": ""
           }
          },
          "scene": {
           "xaxis": {
            "backgroundcolor": "#E5ECF6",
            "gridcolor": "white",
            "gridwidth": 2,
            "linecolor": "white",
            "showbackground": true,
            "ticks": "",
            "zerolinecolor": "white"
           },
           "yaxis": {
            "backgroundcolor": "#E5ECF6",
            "gridcolor": "white",
            "gridwidth": 2,
            "linecolor": "white",
            "showbackground": true,
            "ticks": "",
            "zerolinecolor": "white"
           },
           "zaxis": {
            "backgroundcolor": "#E5ECF6",
            "gridcolor": "white",
            "gridwidth": 2,
            "linecolor": "white",
            "showbackground": true,
            "ticks": "",
            "zerolinecolor": "white"
           }
          },
          "shapedefaults": {
           "line": {
            "color": "#2a3f5f"
           }
          },
          "ternary": {
           "aaxis": {
            "gridcolor": "white",
            "linecolor": "white",
            "ticks": ""
           },
           "baxis": {
            "gridcolor": "white",
            "linecolor": "white",
            "ticks": ""
           },
           "bgcolor": "#E5ECF6",
           "caxis": {
            "gridcolor": "white",
            "linecolor": "white",
            "ticks": ""
           }
          },
          "title": {
           "x": 0.05
          },
          "xaxis": {
           "automargin": true,
           "gridcolor": "white",
           "linecolor": "white",
           "ticks": "",
           "title": {
            "standoff": 15
           },
           "zerolinecolor": "white",
           "zerolinewidth": 2
          },
          "yaxis": {
           "automargin": true,
           "gridcolor": "white",
           "linecolor": "white",
           "ticks": "",
           "title": {
            "standoff": 15
           },
           "zerolinecolor": "white",
           "zerolinewidth": 2
          }
         }
        },
        "title": {
         "text": "Number of Artworks Acquired Per Year"
        },
        "xaxis": {
         "anchor": "y",
         "domain": [
          0,
          1
         ],
         "title": {
          "text": "Accession_Year"
         }
        },
        "yaxis": {
         "anchor": "x",
         "domain": [
          0,
          1
         ],
         "title": {
          "text": "Count of Acquisitions"
         }
        }
       }
      }
     },
     "metadata": {},
     "output_type": "display_data"
    },
    {
     "data": {
      "application/vnd.plotly.v1+json": {
       "config": {
        "plotlyServerURL": "https://plot.ly"
       },
       "data": [
        {
         "hovertemplate": "Accession_Year=%{x}<br>Count of Acquisitions=%{y}<extra></extra>",
         "legendgroup": "",
         "line": {
          "color": "#636efa",
          "dash": "solid"
         },
         "marker": {
          "symbol": "circle"
         },
         "mode": "lines",
         "name": "",
         "orientation": "v",
         "showlegend": false,
         "type": "scatter",
         "x": [
          1977,
          1978,
          1986,
          1987,
          1988,
          1989,
          1990,
          1991,
          1992,
          1993,
          1994,
          1995,
          1996,
          1999,
          2001,
          2004,
          2005,
          2006,
          2008,
          2009,
          2010,
          2011,
          2012,
          2013,
          2014,
          2015,
          2016,
          2017,
          2018
         ],
         "xaxis": "x",
         "y": [
          1,
          1,
          3,
          3,
          2,
          5,
          2,
          5,
          3,
          3,
          9,
          7,
          1,
          1,
          32,
          4,
          4,
          3,
          2,
          33,
          5,
          12,
          4,
          8,
          3,
          6,
          7,
          5,
          1
         ],
         "yaxis": "y"
        }
       ],
       "layout": {
        "legend": {
         "tracegroupgap": 0
        },
        "template": {
         "data": {
          "bar": [
           {
            "error_x": {
             "color": "#2a3f5f"
            },
            "error_y": {
             "color": "#2a3f5f"
            },
            "marker": {
             "line": {
              "color": "#E5ECF6",
              "width": 0.5
             },
             "pattern": {
              "fillmode": "overlay",
              "size": 10,
              "solidity": 0.2
             }
            },
            "type": "bar"
           }
          ],
          "barpolar": [
           {
            "marker": {
             "line": {
              "color": "#E5ECF6",
              "width": 0.5
             },
             "pattern": {
              "fillmode": "overlay",
              "size": 10,
              "solidity": 0.2
             }
            },
            "type": "barpolar"
           }
          ],
          "carpet": [
           {
            "aaxis": {
             "endlinecolor": "#2a3f5f",
             "gridcolor": "white",
             "linecolor": "white",
             "minorgridcolor": "white",
             "startlinecolor": "#2a3f5f"
            },
            "baxis": {
             "endlinecolor": "#2a3f5f",
             "gridcolor": "white",
             "linecolor": "white",
             "minorgridcolor": "white",
             "startlinecolor": "#2a3f5f"
            },
            "type": "carpet"
           }
          ],
          "choropleth": [
           {
            "colorbar": {
             "outlinewidth": 0,
             "ticks": ""
            },
            "type": "choropleth"
           }
          ],
          "contour": [
           {
            "colorbar": {
             "outlinewidth": 0,
             "ticks": ""
            },
            "colorscale": [
             [
              0,
              "#0d0887"
             ],
             [
              0.1111111111111111,
              "#46039f"
             ],
             [
              0.2222222222222222,
              "#7201a8"
             ],
             [
              0.3333333333333333,
              "#9c179e"
             ],
             [
              0.4444444444444444,
              "#bd3786"
             ],
             [
              0.5555555555555556,
              "#d8576b"
             ],
             [
              0.6666666666666666,
              "#ed7953"
             ],
             [
              0.7777777777777778,
              "#fb9f3a"
             ],
             [
              0.8888888888888888,
              "#fdca26"
             ],
             [
              1,
              "#f0f921"
             ]
            ],
            "type": "contour"
           }
          ],
          "contourcarpet": [
           {
            "colorbar": {
             "outlinewidth": 0,
             "ticks": ""
            },
            "type": "contourcarpet"
           }
          ],
          "heatmap": [
           {
            "colorbar": {
             "outlinewidth": 0,
             "ticks": ""
            },
            "colorscale": [
             [
              0,
              "#0d0887"
             ],
             [
              0.1111111111111111,
              "#46039f"
             ],
             [
              0.2222222222222222,
              "#7201a8"
             ],
             [
              0.3333333333333333,
              "#9c179e"
             ],
             [
              0.4444444444444444,
              "#bd3786"
             ],
             [
              0.5555555555555556,
              "#d8576b"
             ],
             [
              0.6666666666666666,
              "#ed7953"
             ],
             [
              0.7777777777777778,
              "#fb9f3a"
             ],
             [
              0.8888888888888888,
              "#fdca26"
             ],
             [
              1,
              "#f0f921"
             ]
            ],
            "type": "heatmap"
           }
          ],
          "heatmapgl": [
           {
            "colorbar": {
             "outlinewidth": 0,
             "ticks": ""
            },
            "colorscale": [
             [
              0,
              "#0d0887"
             ],
             [
              0.1111111111111111,
              "#46039f"
             ],
             [
              0.2222222222222222,
              "#7201a8"
             ],
             [
              0.3333333333333333,
              "#9c179e"
             ],
             [
              0.4444444444444444,
              "#bd3786"
             ],
             [
              0.5555555555555556,
              "#d8576b"
             ],
             [
              0.6666666666666666,
              "#ed7953"
             ],
             [
              0.7777777777777778,
              "#fb9f3a"
             ],
             [
              0.8888888888888888,
              "#fdca26"
             ],
             [
              1,
              "#f0f921"
             ]
            ],
            "type": "heatmapgl"
           }
          ],
          "histogram": [
           {
            "marker": {
             "pattern": {
              "fillmode": "overlay",
              "size": 10,
              "solidity": 0.2
             }
            },
            "type": "histogram"
           }
          ],
          "histogram2d": [
           {
            "colorbar": {
             "outlinewidth": 0,
             "ticks": ""
            },
            "colorscale": [
             [
              0,
              "#0d0887"
             ],
             [
              0.1111111111111111,
              "#46039f"
             ],
             [
              0.2222222222222222,
              "#7201a8"
             ],
             [
              0.3333333333333333,
              "#9c179e"
             ],
             [
              0.4444444444444444,
              "#bd3786"
             ],
             [
              0.5555555555555556,
              "#d8576b"
             ],
             [
              0.6666666666666666,
              "#ed7953"
             ],
             [
              0.7777777777777778,
              "#fb9f3a"
             ],
             [
              0.8888888888888888,
              "#fdca26"
             ],
             [
              1,
              "#f0f921"
             ]
            ],
            "type": "histogram2d"
           }
          ],
          "histogram2dcontour": [
           {
            "colorbar": {
             "outlinewidth": 0,
             "ticks": ""
            },
            "colorscale": [
             [
              0,
              "#0d0887"
             ],
             [
              0.1111111111111111,
              "#46039f"
             ],
             [
              0.2222222222222222,
              "#7201a8"
             ],
             [
              0.3333333333333333,
              "#9c179e"
             ],
             [
              0.4444444444444444,
              "#bd3786"
             ],
             [
              0.5555555555555556,
              "#d8576b"
             ],
             [
              0.6666666666666666,
              "#ed7953"
             ],
             [
              0.7777777777777778,
              "#fb9f3a"
             ],
             [
              0.8888888888888888,
              "#fdca26"
             ],
             [
              1,
              "#f0f921"
             ]
            ],
            "type": "histogram2dcontour"
           }
          ],
          "mesh3d": [
           {
            "colorbar": {
             "outlinewidth": 0,
             "ticks": ""
            },
            "type": "mesh3d"
           }
          ],
          "parcoords": [
           {
            "line": {
             "colorbar": {
              "outlinewidth": 0,
              "ticks": ""
             }
            },
            "type": "parcoords"
           }
          ],
          "pie": [
           {
            "automargin": true,
            "type": "pie"
           }
          ],
          "scatter": [
           {
            "fillpattern": {
             "fillmode": "overlay",
             "size": 10,
             "solidity": 0.2
            },
            "type": "scatter"
           }
          ],
          "scatter3d": [
           {
            "line": {
             "colorbar": {
              "outlinewidth": 0,
              "ticks": ""
             }
            },
            "marker": {
             "colorbar": {
              "outlinewidth": 0,
              "ticks": ""
             }
            },
            "type": "scatter3d"
           }
          ],
          "scattercarpet": [
           {
            "marker": {
             "colorbar": {
              "outlinewidth": 0,
              "ticks": ""
             }
            },
            "type": "scattercarpet"
           }
          ],
          "scattergeo": [
           {
            "marker": {
             "colorbar": {
              "outlinewidth": 0,
              "ticks": ""
             }
            },
            "type": "scattergeo"
           }
          ],
          "scattergl": [
           {
            "marker": {
             "colorbar": {
              "outlinewidth": 0,
              "ticks": ""
             }
            },
            "type": "scattergl"
           }
          ],
          "scattermapbox": [
           {
            "marker": {
             "colorbar": {
              "outlinewidth": 0,
              "ticks": ""
             }
            },
            "type": "scattermapbox"
           }
          ],
          "scatterpolar": [
           {
            "marker": {
             "colorbar": {
              "outlinewidth": 0,
              "ticks": ""
             }
            },
            "type": "scatterpolar"
           }
          ],
          "scatterpolargl": [
           {
            "marker": {
             "colorbar": {
              "outlinewidth": 0,
              "ticks": ""
             }
            },
            "type": "scatterpolargl"
           }
          ],
          "scatterternary": [
           {
            "marker": {
             "colorbar": {
              "outlinewidth": 0,
              "ticks": ""
             }
            },
            "type": "scatterternary"
           }
          ],
          "surface": [
           {
            "colorbar": {
             "outlinewidth": 0,
             "ticks": ""
            },
            "colorscale": [
             [
              0,
              "#0d0887"
             ],
             [
              0.1111111111111111,
              "#46039f"
             ],
             [
              0.2222222222222222,
              "#7201a8"
             ],
             [
              0.3333333333333333,
              "#9c179e"
             ],
             [
              0.4444444444444444,
              "#bd3786"
             ],
             [
              0.5555555555555556,
              "#d8576b"
             ],
             [
              0.6666666666666666,
              "#ed7953"
             ],
             [
              0.7777777777777778,
              "#fb9f3a"
             ],
             [
              0.8888888888888888,
              "#fdca26"
             ],
             [
              1,
              "#f0f921"
             ]
            ],
            "type": "surface"
           }
          ],
          "table": [
           {
            "cells": {
             "fill": {
              "color": "#EBF0F8"
             },
             "line": {
              "color": "white"
             }
            },
            "header": {
             "fill": {
              "color": "#C8D4E3"
             },
             "line": {
              "color": "white"
             }
            },
            "type": "table"
           }
          ]
         },
         "layout": {
          "annotationdefaults": {
           "arrowcolor": "#2a3f5f",
           "arrowhead": 0,
           "arrowwidth": 1
          },
          "autotypenumbers": "strict",
          "coloraxis": {
           "colorbar": {
            "outlinewidth": 0,
            "ticks": ""
           }
          },
          "colorscale": {
           "diverging": [
            [
             0,
             "#8e0152"
            ],
            [
             0.1,
             "#c51b7d"
            ],
            [
             0.2,
             "#de77ae"
            ],
            [
             0.3,
             "#f1b6da"
            ],
            [
             0.4,
             "#fde0ef"
            ],
            [
             0.5,
             "#f7f7f7"
            ],
            [
             0.6,
             "#e6f5d0"
            ],
            [
             0.7,
             "#b8e186"
            ],
            [
             0.8,
             "#7fbc41"
            ],
            [
             0.9,
             "#4d9221"
            ],
            [
             1,
             "#276419"
            ]
           ],
           "sequential": [
            [
             0,
             "#0d0887"
            ],
            [
             0.1111111111111111,
             "#46039f"
            ],
            [
             0.2222222222222222,
             "#7201a8"
            ],
            [
             0.3333333333333333,
             "#9c179e"
            ],
            [
             0.4444444444444444,
             "#bd3786"
            ],
            [
             0.5555555555555556,
             "#d8576b"
            ],
            [
             0.6666666666666666,
             "#ed7953"
            ],
            [
             0.7777777777777778,
             "#fb9f3a"
            ],
            [
             0.8888888888888888,
             "#fdca26"
            ],
            [
             1,
             "#f0f921"
            ]
           ],
           "sequentialminus": [
            [
             0,
             "#0d0887"
            ],
            [
             0.1111111111111111,
             "#46039f"
            ],
            [
             0.2222222222222222,
             "#7201a8"
            ],
            [
             0.3333333333333333,
             "#9c179e"
            ],
            [
             0.4444444444444444,
             "#bd3786"
            ],
            [
             0.5555555555555556,
             "#d8576b"
            ],
            [
             0.6666666666666666,
             "#ed7953"
            ],
            [
             0.7777777777777778,
             "#fb9f3a"
            ],
            [
             0.8888888888888888,
             "#fdca26"
            ],
            [
             1,
             "#f0f921"
            ]
           ]
          },
          "colorway": [
           "#636efa",
           "#EF553B",
           "#00cc96",
           "#ab63fa",
           "#FFA15A",
           "#19d3f3",
           "#FF6692",
           "#B6E880",
           "#FF97FF",
           "#FECB52"
          ],
          "font": {
           "color": "#2a3f5f"
          },
          "geo": {
           "bgcolor": "white",
           "lakecolor": "white",
           "landcolor": "#E5ECF6",
           "showlakes": true,
           "showland": true,
           "subunitcolor": "white"
          },
          "hoverlabel": {
           "align": "left"
          },
          "hovermode": "closest",
          "mapbox": {
           "style": "light"
          },
          "paper_bgcolor": "white",
          "plot_bgcolor": "#E5ECF6",
          "polar": {
           "angularaxis": {
            "gridcolor": "white",
            "linecolor": "white",
            "ticks": ""
           },
           "bgcolor": "#E5ECF6",
           "radialaxis": {
            "gridcolor": "white",
            "linecolor": "white",
            "ticks": ""
           }
          },
          "scene": {
           "xaxis": {
            "backgroundcolor": "#E5ECF6",
            "gridcolor": "white",
            "gridwidth": 2,
            "linecolor": "white",
            "showbackground": true,
            "ticks": "",
            "zerolinecolor": "white"
           },
           "yaxis": {
            "backgroundcolor": "#E5ECF6",
            "gridcolor": "white",
            "gridwidth": 2,
            "linecolor": "white",
            "showbackground": true,
            "ticks": "",
            "zerolinecolor": "white"
           },
           "zaxis": {
            "backgroundcolor": "#E5ECF6",
            "gridcolor": "white",
            "gridwidth": 2,
            "linecolor": "white",
            "showbackground": true,
            "ticks": "",
            "zerolinecolor": "white"
           }
          },
          "shapedefaults": {
           "line": {
            "color": "#2a3f5f"
           }
          },
          "ternary": {
           "aaxis": {
            "gridcolor": "white",
            "linecolor": "white",
            "ticks": ""
           },
           "baxis": {
            "gridcolor": "white",
            "linecolor": "white",
            "ticks": ""
           },
           "bgcolor": "#E5ECF6",
           "caxis": {
            "gridcolor": "white",
            "linecolor": "white",
            "ticks": ""
           }
          },
          "title": {
           "x": 0.05
          },
          "xaxis": {
           "automargin": true,
           "gridcolor": "white",
           "linecolor": "white",
           "ticks": "",
           "title": {
            "standoff": 15
           },
           "zerolinecolor": "white",
           "zerolinewidth": 2
          },
          "yaxis": {
           "automargin": true,
           "gridcolor": "white",
           "linecolor": "white",
           "ticks": "",
           "title": {
            "standoff": 15
           },
           "zerolinecolor": "white",
           "zerolinewidth": 2
          }
         }
        },
        "title": {
         "text": "Number of Artworks Acquired by Year"
        },
        "xaxis": {
         "anchor": "y",
         "domain": [
          0,
          1
         ],
         "title": {
          "text": "Accession_Year"
         }
        },
        "yaxis": {
         "anchor": "x",
         "domain": [
          0,
          1
         ],
         "title": {
          "text": "Count of Acquisitions"
         }
        }
       }
      }
     },
     "metadata": {},
     "output_type": "display_data"
    }
   ],
   "source": [
    "# Create a line graph\n",
    "\n",
    "public_art_df\n",
    "# Create the bar chart\n",
    "fig = px.bar(\n",
    "    x=yearly_counts.index, \n",
    "    y=yearly_counts.values, \n",
    "    labels={'x': 'Accession_Year', 'y': 'Count of Acquisitions'},\n",
    "    title='Number of Artworks Acquired Per Year'\n",
    ")\n",
    "\n",
    "fig.show()\n",
    "\n",
    "\n",
    "fig = px.line(\n",
    "    x=yearly_counts.index, \n",
    "    y=yearly_counts.values, \n",
    "    labels={'x': 'Accession_Year', 'y': 'Count of Acquisitions'},\n",
    "    title='Number of Artworks Acquired by Year'\n",
    ")\n",
    "\n",
    "fig.show()"
   ]
  },
  {
   "cell_type": "markdown",
   "id": "646f4e49",
   "metadata": {},
   "source": [
    "**Answer**\n",
    "\n",
    "The two most apporiate types of graphs would be a bar or line graph. If we are looking at the trend of sales, I would look at the line graph and see the trend, but if I am looking at just the sale to see which year we had the most in, i would go with the bar graph. "
   ]
  },
  {
   "cell_type": "markdown",
   "id": "0a61e32c",
   "metadata": {},
   "source": [
    "**Question 2**\n",
    "\n",
    "a) (10 points) Now use plotly to compare materials used in the public art by decade (for example, 1970s, 1980s, 1990s...). Use a stacked bar chart."
   ]
  },
  {
   "cell_type": "code",
   "execution_count": 609,
   "id": "57885dcd",
   "metadata": {},
   "outputs": [
    {
     "data": {
      "text/html": [
       "<div>\n",
       "<style scoped>\n",
       "    .dataframe tbody tr th:only-of-type {\n",
       "        vertical-align: middle;\n",
       "    }\n",
       "\n",
       "    .dataframe tbody tr th {\n",
       "        vertical-align: top;\n",
       "    }\n",
       "\n",
       "    .dataframe thead th {\n",
       "        text-align: right;\n",
       "    }\n",
       "</style>\n",
       "<table border=\"1\" class=\"dataframe\">\n",
       "  <thead>\n",
       "    <tr style=\"text-align: right;\">\n",
       "      <th></th>\n",
       "      <th>X</th>\n",
       "      <th>Y</th>\n",
       "      <th>ACCESSION</th>\n",
       "      <th>PC</th>\n",
       "      <th>TEXT</th>\n",
       "      <th>TEXT_FR</th>\n",
       "      <th>ID</th>\n",
       "      <th>IMAGE</th>\n",
       "      <th>CREDIT</th>\n",
       "      <th>LAT</th>\n",
       "      <th>...</th>\n",
       "      <th>LOCATION</th>\n",
       "      <th>CITY</th>\n",
       "      <th>PROVINCE</th>\n",
       "      <th>DATE_MOD</th>\n",
       "      <th>MATERIAL</th>\n",
       "      <th>MATERIAL_FR</th>\n",
       "      <th>YEAR</th>\n",
       "      <th>ObjectId</th>\n",
       "      <th>Accession_Year</th>\n",
       "      <th>DECADE</th>\n",
       "    </tr>\n",
       "  </thead>\n",
       "  <tbody>\n",
       "    <tr>\n",
       "      <th>0</th>\n",
       "      <td>-8.418854e+06</td>\n",
       "      <td>5.685030e+06</td>\n",
       "      <td>1977-0002</td>\n",
       "      <td>K1G 0N1</td>\n",
       "      <td>This artwork was a collaboration between Monik...</td>\n",
       "      <td>Cette œuvre d’art a été réalisée dans le cadre...</td>\n",
       "      <td>PA1</td>\n",
       "      <td>https://ottawa.ca/sites/default/files/images/f...</td>\n",
       "      <td>NaN</td>\n",
       "      <td>45.401988</td>\n",
       "      <td>...</td>\n",
       "      <td>1895 Russell Road, Dempsey Community Centre</td>\n",
       "      <td>Ottawa</td>\n",
       "      <td>ON</td>\n",
       "      <td>20210118</td>\n",
       "      <td>concrete and ceramic</td>\n",
       "      <td>béton et argile</td>\n",
       "      <td>1977.0</td>\n",
       "      <td>1</td>\n",
       "      <td>1977</td>\n",
       "      <td>1970.0</td>\n",
       "    </tr>\n",
       "    <tr>\n",
       "      <th>1</th>\n",
       "      <td>-8.426063e+06</td>\n",
       "      <td>5.689093e+06</td>\n",
       "      <td>1978-0001</td>\n",
       "      <td>K1N 9C3</td>\n",
       "      <td>This papier mâché sculpture tells the story of...</td>\n",
       "      <td>Cette sculpture en papier mâché raconte l’hist...</td>\n",
       "      <td>PA2</td>\n",
       "      <td>https://ottawa.ca/sites/default/files/images/f...</td>\n",
       "      <td>NaN</td>\n",
       "      <td>45.427613</td>\n",
       "      <td>...</td>\n",
       "      <td>55 ByWard Market Building</td>\n",
       "      <td>Ottawa</td>\n",
       "      <td>ON</td>\n",
       "      <td>20210118</td>\n",
       "      <td>papier maché, acrylic</td>\n",
       "      <td>papier maché, acrylique</td>\n",
       "      <td>1978.0</td>\n",
       "      <td>2</td>\n",
       "      <td>1978</td>\n",
       "      <td>1970.0</td>\n",
       "    </tr>\n",
       "    <tr>\n",
       "      <th>2</th>\n",
       "      <td>-8.431277e+06</td>\n",
       "      <td>5.680450e+06</td>\n",
       "      <td>1986-0083</td>\n",
       "      <td>K1Z 8M7</td>\n",
       "      <td>Mural artist Pierre Hardy used his skills in o...</td>\n",
       "      <td>Le muraliste Pierre Hardy a mis à profit son t...</td>\n",
       "      <td>PA3</td>\n",
       "      <td>https://ottawa.ca/sites/default/files/images/f...</td>\n",
       "      <td>NaN</td>\n",
       "      <td>45.373096</td>\n",
       "      <td>...</td>\n",
       "      <td>1520 Caldwell Avenue, Carlington Rec Centre, B...</td>\n",
       "      <td>Ottawa</td>\n",
       "      <td>ON</td>\n",
       "      <td>20210118</td>\n",
       "      <td>acrylic on concrete</td>\n",
       "      <td>acrylique sur ciment</td>\n",
       "      <td>1986.0</td>\n",
       "      <td>3</td>\n",
       "      <td>1986</td>\n",
       "      <td>1980.0</td>\n",
       "    </tr>\n",
       "    <tr>\n",
       "      <th>3</th>\n",
       "      <td>-8.421838e+06</td>\n",
       "      <td>5.688191e+06</td>\n",
       "      <td>1986-0084</td>\n",
       "      <td>NaN</td>\n",
       "      <td>NaN</td>\n",
       "      <td>NaN</td>\n",
       "      <td>PA315</td>\n",
       "      <td>NaN</td>\n",
       "      <td>NaN</td>\n",
       "      <td>45.421920</td>\n",
       "      <td>...</td>\n",
       "      <td>275 Coventry Road, Fire Station 56</td>\n",
       "      <td>Ottawa</td>\n",
       "      <td>ON</td>\n",
       "      <td>20210118</td>\n",
       "      <td>terrazzo, granite, and zinc</td>\n",
       "      <td>terrazo, granite et zinc</td>\n",
       "      <td>1986.0</td>\n",
       "      <td>4</td>\n",
       "      <td>1986</td>\n",
       "      <td>1980.0</td>\n",
       "    </tr>\n",
       "    <tr>\n",
       "      <th>4</th>\n",
       "      <td>-8.424991e+06</td>\n",
       "      <td>5.688736e+06</td>\n",
       "      <td>1986-0085</td>\n",
       "      <td>K1N 7N4</td>\n",
       "      <td>Four wood figures connect the street to the fi...</td>\n",
       "      <td>Quatre personnages en bois créent un lien entr...</td>\n",
       "      <td>PA4</td>\n",
       "      <td>https://ottawa.ca/sites/default/files/images/f...</td>\n",
       "      <td>NaN</td>\n",
       "      <td>45.425360</td>\n",
       "      <td>...</td>\n",
       "      <td>530 King Edward Street, Fire Station 13</td>\n",
       "      <td>Ottawa</td>\n",
       "      <td>ON</td>\n",
       "      <td>20210118</td>\n",
       "      <td>wood</td>\n",
       "      <td>bois</td>\n",
       "      <td>1986.0</td>\n",
       "      <td>5</td>\n",
       "      <td>1986</td>\n",
       "      <td>1980.0</td>\n",
       "    </tr>\n",
       "    <tr>\n",
       "      <th>...</th>\n",
       "      <td>...</td>\n",
       "      <td>...</td>\n",
       "      <td>...</td>\n",
       "      <td>...</td>\n",
       "      <td>...</td>\n",
       "      <td>...</td>\n",
       "      <td>...</td>\n",
       "      <td>...</td>\n",
       "      <td>...</td>\n",
       "      <td>...</td>\n",
       "      <td>...</td>\n",
       "      <td>...</td>\n",
       "      <td>...</td>\n",
       "      <td>...</td>\n",
       "      <td>...</td>\n",
       "      <td>...</td>\n",
       "      <td>...</td>\n",
       "      <td>...</td>\n",
       "      <td>...</td>\n",
       "      <td>...</td>\n",
       "      <td>...</td>\n",
       "    </tr>\n",
       "    <tr>\n",
       "      <th>170</th>\n",
       "      <td>-8.452192e+06</td>\n",
       "      <td>5.675205e+06</td>\n",
       "      <td>2017-0069</td>\n",
       "      <td>NaN</td>\n",
       "      <td>Tempus is made up of several undulating colour...</td>\n",
       "      <td>Tempus est composée de plusieurs pétales color...</td>\n",
       "      <td>PA337</td>\n",
       "      <td>https://ottawa.ca/en/arts-heritage-and-events/...</td>\n",
       "      <td>NaN</td>\n",
       "      <td>45.339986</td>\n",
       "      <td>...</td>\n",
       "      <td>1321-3043 Innovation Drive, Innovation Park an...</td>\n",
       "      <td>Ottawa</td>\n",
       "      <td>ON</td>\n",
       "      <td>20210118</td>\n",
       "      <td>powder-coated aluminum</td>\n",
       "      <td>aluminium enduit de poudre</td>\n",
       "      <td>2016.0</td>\n",
       "      <td>171</td>\n",
       "      <td>2017</td>\n",
       "      <td>2010.0</td>\n",
       "    </tr>\n",
       "    <tr>\n",
       "      <th>171</th>\n",
       "      <td>-8.419117e+06</td>\n",
       "      <td>5.683272e+06</td>\n",
       "      <td>2018-0001</td>\n",
       "      <td>NaN</td>\n",
       "      <td>Along the Boards pays homage to hockey, our be...</td>\n",
       "      <td>« Le long de la bande » et ses douze élégantes...</td>\n",
       "      <td>PA338</td>\n",
       "      <td>https://ottawa.ca/sites/default/files/images/f...</td>\n",
       "      <td>NaN</td>\n",
       "      <td>45.390901</td>\n",
       "      <td>...</td>\n",
       "      <td>Jim Tubman Chevrolet SENS Rink</td>\n",
       "      <td>Ottawa</td>\n",
       "      <td>ON</td>\n",
       "      <td>20210118</td>\n",
       "      <td>stainless steel</td>\n",
       "      <td>acier inoxydable</td>\n",
       "      <td>2017.0</td>\n",
       "      <td>172</td>\n",
       "      <td>2018</td>\n",
       "      <td>2010.0</td>\n",
       "    </tr>\n",
       "    <tr>\n",
       "      <th>172</th>\n",
       "      <td>-8.425956e+06</td>\n",
       "      <td>5.689797e+06</td>\n",
       "      <td>s2010-0008</td>\n",
       "      <td>NaN</td>\n",
       "      <td>NaN</td>\n",
       "      <td>NaN</td>\n",
       "      <td>PA339</td>\n",
       "      <td>NaN</td>\n",
       "      <td>NaN</td>\n",
       "      <td>45.432048</td>\n",
       "      <td>...</td>\n",
       "      <td>172 Guigues Avenue, 3rd Floor (Storage Room A ...</td>\n",
       "      <td>Ottawa</td>\n",
       "      <td>ON</td>\n",
       "      <td>20210118</td>\n",
       "      <td>aluminium</td>\n",
       "      <td>aluminium</td>\n",
       "      <td>2010.0</td>\n",
       "      <td>173</td>\n",
       "      <td>2010</td>\n",
       "      <td>2010.0</td>\n",
       "    </tr>\n",
       "    <tr>\n",
       "      <th>173</th>\n",
       "      <td>-8.394143e+06</td>\n",
       "      <td>5.703152e+06</td>\n",
       "      <td>s2016-0006</td>\n",
       "      <td>NaN</td>\n",
       "      <td>NaN</td>\n",
       "      <td>NaN</td>\n",
       "      <td>PA340</td>\n",
       "      <td>NaN</td>\n",
       "      <td>NaN</td>\n",
       "      <td>45.516177</td>\n",
       "      <td>...</td>\n",
       "      <td>Ken Emig’s studio, 532 Dunning Lane</td>\n",
       "      <td>Ottawa</td>\n",
       "      <td>ON</td>\n",
       "      <td>20210118</td>\n",
       "      <td>mixed media</td>\n",
       "      <td>NaN</td>\n",
       "      <td>2015.0</td>\n",
       "      <td>174</td>\n",
       "      <td>2016</td>\n",
       "      <td>2010.0</td>\n",
       "    </tr>\n",
       "    <tr>\n",
       "      <th>174</th>\n",
       "      <td>-8.425956e+06</td>\n",
       "      <td>5.689797e+06</td>\n",
       "      <td>T1999-0024</td>\n",
       "      <td>NaN</td>\n",
       "      <td>NaN</td>\n",
       "      <td>NaN</td>\n",
       "      <td>PA341</td>\n",
       "      <td>NaN</td>\n",
       "      <td>NaN</td>\n",
       "      <td>45.432048</td>\n",
       "      <td>...</td>\n",
       "      <td>172 Guigues Avenue, Main Floor</td>\n",
       "      <td>Ottawa</td>\n",
       "      <td>ON</td>\n",
       "      <td>20210118</td>\n",
       "      <td>steel, cast glass, photography</td>\n",
       "      <td>NaN</td>\n",
       "      <td>1998.0</td>\n",
       "      <td>175</td>\n",
       "      <td>1999</td>\n",
       "      <td>1990.0</td>\n",
       "    </tr>\n",
       "  </tbody>\n",
       "</table>\n",
       "<p>175 rows × 26 columns</p>\n",
       "</div>"
      ],
      "text/plain": [
       "                X             Y   ACCESSION       PC  \\\n",
       "0   -8.418854e+06  5.685030e+06   1977-0002  K1G 0N1   \n",
       "1   -8.426063e+06  5.689093e+06   1978-0001  K1N 9C3   \n",
       "2   -8.431277e+06  5.680450e+06   1986-0083  K1Z 8M7   \n",
       "3   -8.421838e+06  5.688191e+06   1986-0084      NaN   \n",
       "4   -8.424991e+06  5.688736e+06   1986-0085  K1N 7N4   \n",
       "..            ...           ...         ...      ...   \n",
       "170 -8.452192e+06  5.675205e+06   2017-0069      NaN   \n",
       "171 -8.419117e+06  5.683272e+06   2018-0001      NaN   \n",
       "172 -8.425956e+06  5.689797e+06  s2010-0008      NaN   \n",
       "173 -8.394143e+06  5.703152e+06  s2016-0006      NaN   \n",
       "174 -8.425956e+06  5.689797e+06  T1999-0024      NaN   \n",
       "\n",
       "                                                  TEXT  \\\n",
       "0    This artwork was a collaboration between Monik...   \n",
       "1    This papier mâché sculpture tells the story of...   \n",
       "2    Mural artist Pierre Hardy used his skills in o...   \n",
       "3                                                  NaN   \n",
       "4    Four wood figures connect the street to the fi...   \n",
       "..                                                 ...   \n",
       "170  Tempus is made up of several undulating colour...   \n",
       "171  Along the Boards pays homage to hockey, our be...   \n",
       "172                                                NaN   \n",
       "173                                                NaN   \n",
       "174                                                NaN   \n",
       "\n",
       "                                               TEXT_FR     ID  \\\n",
       "0    Cette œuvre d’art a été réalisée dans le cadre...    PA1   \n",
       "1    Cette sculpture en papier mâché raconte l’hist...    PA2   \n",
       "2    Le muraliste Pierre Hardy a mis à profit son t...    PA3   \n",
       "3                                                  NaN  PA315   \n",
       "4    Quatre personnages en bois créent un lien entr...    PA4   \n",
       "..                                                 ...    ...   \n",
       "170  Tempus est composée de plusieurs pétales color...  PA337   \n",
       "171  « Le long de la bande » et ses douze élégantes...  PA338   \n",
       "172                                                NaN  PA339   \n",
       "173                                                NaN  PA340   \n",
       "174                                                NaN  PA341   \n",
       "\n",
       "                                                 IMAGE CREDIT        LAT  ...  \\\n",
       "0    https://ottawa.ca/sites/default/files/images/f...    NaN  45.401988  ...   \n",
       "1    https://ottawa.ca/sites/default/files/images/f...    NaN  45.427613  ...   \n",
       "2    https://ottawa.ca/sites/default/files/images/f...    NaN  45.373096  ...   \n",
       "3                                                  NaN    NaN  45.421920  ...   \n",
       "4    https://ottawa.ca/sites/default/files/images/f...    NaN  45.425360  ...   \n",
       "..                                                 ...    ...        ...  ...   \n",
       "170  https://ottawa.ca/en/arts-heritage-and-events/...    NaN  45.339986  ...   \n",
       "171  https://ottawa.ca/sites/default/files/images/f...    NaN  45.390901  ...   \n",
       "172                                                NaN    NaN  45.432048  ...   \n",
       "173                                                NaN    NaN  45.516177  ...   \n",
       "174                                                NaN    NaN  45.432048  ...   \n",
       "\n",
       "                                              LOCATION    CITY PROVINCE  \\\n",
       "0          1895 Russell Road, Dempsey Community Centre  Ottawa       ON   \n",
       "1                           55 ByWard Market Building   Ottawa       ON   \n",
       "2    1520 Caldwell Avenue, Carlington Rec Centre, B...  Ottawa       ON   \n",
       "3                   275 Coventry Road, Fire Station 56  Ottawa       ON   \n",
       "4              530 King Edward Street, Fire Station 13  Ottawa       ON   \n",
       "..                                                 ...     ...      ...   \n",
       "170  1321-3043 Innovation Drive, Innovation Park an...  Ottawa       ON   \n",
       "171                     Jim Tubman Chevrolet SENS Rink  Ottawa       ON   \n",
       "172  172 Guigues Avenue, 3rd Floor (Storage Room A ...  Ottawa       ON   \n",
       "173                Ken Emig’s studio, 532 Dunning Lane  Ottawa       ON   \n",
       "174                     172 Guigues Avenue, Main Floor  Ottawa       ON   \n",
       "\n",
       "     DATE_MOD                        MATERIAL                 MATERIAL_FR  \\\n",
       "0    20210118            concrete and ceramic             béton et argile   \n",
       "1    20210118           papier maché, acrylic     papier maché, acrylique   \n",
       "2    20210118             acrylic on concrete        acrylique sur ciment   \n",
       "3    20210118     terrazzo, granite, and zinc    terrazo, granite et zinc   \n",
       "4    20210118                           wood                         bois   \n",
       "..        ...                             ...                         ...   \n",
       "170  20210118          powder-coated aluminum  aluminium enduit de poudre   \n",
       "171  20210118                 stainless steel           acier inoxydable    \n",
       "172  20210118                      aluminium                    aluminium   \n",
       "173  20210118                     mixed media                         NaN   \n",
       "174  20210118  steel, cast glass, photography                         NaN   \n",
       "\n",
       "       YEAR ObjectId Accession_Year  DECADE  \n",
       "0    1977.0        1           1977  1970.0  \n",
       "1    1978.0        2           1978  1970.0  \n",
       "2    1986.0        3           1986  1980.0  \n",
       "3    1986.0        4           1986  1980.0  \n",
       "4    1986.0        5           1986  1980.0  \n",
       "..      ...      ...            ...     ...  \n",
       "170  2016.0      171           2017  2010.0  \n",
       "171  2017.0      172           2018  2010.0  \n",
       "172  2010.0      173           2010  2010.0  \n",
       "173  2015.0      174           2016  2010.0  \n",
       "174  1998.0      175           1999  1990.0  \n",
       "\n",
       "[175 rows x 26 columns]"
      ]
     },
     "execution_count": 609,
     "metadata": {},
     "output_type": "execute_result"
    }
   ],
   "source": [
    "#creating a column of decade\n",
    "public_art_df['DECADE'] = (public_art_df['Accession_Year']// 10 * 10).astype(float)\n",
    "public_art_df\n"
   ]
  },
  {
   "cell_type": "code",
   "execution_count": 615,
   "id": "d0768142",
   "metadata": {},
   "outputs": [
    {
     "data": {
      "text/html": [
       "<div>\n",
       "<style scoped>\n",
       "    .dataframe tbody tr th:only-of-type {\n",
       "        vertical-align: middle;\n",
       "    }\n",
       "\n",
       "    .dataframe tbody tr th {\n",
       "        vertical-align: top;\n",
       "    }\n",
       "\n",
       "    .dataframe thead th {\n",
       "        text-align: right;\n",
       "    }\n",
       "</style>\n",
       "<table border=\"1\" class=\"dataframe\">\n",
       "  <thead>\n",
       "    <tr style=\"text-align: right;\">\n",
       "      <th></th>\n",
       "      <th>DECADE</th>\n",
       "      <th>MATERIAL</th>\n",
       "      <th>Counts</th>\n",
       "    </tr>\n",
       "  </thead>\n",
       "  <tbody>\n",
       "    <tr>\n",
       "      <th>0</th>\n",
       "      <td>1970.0</td>\n",
       "      <td>concrete and ceramic</td>\n",
       "      <td>1</td>\n",
       "    </tr>\n",
       "    <tr>\n",
       "      <th>1</th>\n",
       "      <td>1970.0</td>\n",
       "      <td>papier maché, acrylic</td>\n",
       "      <td>1</td>\n",
       "    </tr>\n",
       "    <tr>\n",
       "      <th>2</th>\n",
       "      <td>1980.0</td>\n",
       "      <td>Ektacolour print with text, dye-coupler print ...</td>\n",
       "      <td>1</td>\n",
       "    </tr>\n",
       "    <tr>\n",
       "      <th>3</th>\n",
       "      <td>1980.0</td>\n",
       "      <td>acrylic on canvas</td>\n",
       "      <td>1</td>\n",
       "    </tr>\n",
       "    <tr>\n",
       "      <th>4</th>\n",
       "      <td>1980.0</td>\n",
       "      <td>acrylic on concrete</td>\n",
       "      <td>1</td>\n",
       "    </tr>\n",
       "    <tr>\n",
       "      <th>...</th>\n",
       "      <td>...</td>\n",
       "      <td>...</td>\n",
       "      <td>...</td>\n",
       "    </tr>\n",
       "    <tr>\n",
       "      <th>127</th>\n",
       "      <td>2010.0</td>\n",
       "      <td>steel</td>\n",
       "      <td>2</td>\n",
       "    </tr>\n",
       "    <tr>\n",
       "      <th>128</th>\n",
       "      <td>2010.0</td>\n",
       "      <td>steel and found objects</td>\n",
       "      <td>1</td>\n",
       "    </tr>\n",
       "    <tr>\n",
       "      <th>129</th>\n",
       "      <td>2010.0</td>\n",
       "      <td>steel and zinc</td>\n",
       "      <td>1</td>\n",
       "    </tr>\n",
       "    <tr>\n",
       "      <th>130</th>\n",
       "      <td>2010.0</td>\n",
       "      <td>steel, brass, aluminum and rubber</td>\n",
       "      <td>1</td>\n",
       "    </tr>\n",
       "    <tr>\n",
       "      <th>131</th>\n",
       "      <td>2010.0</td>\n",
       "      <td>steel, stainless steel and copper</td>\n",
       "      <td>1</td>\n",
       "    </tr>\n",
       "  </tbody>\n",
       "</table>\n",
       "<p>132 rows × 3 columns</p>\n",
       "</div>"
      ],
      "text/plain": [
       "     DECADE                                           MATERIAL  Counts\n",
       "0    1970.0                               concrete and ceramic       1\n",
       "1    1970.0                              papier maché, acrylic       1\n",
       "2    1980.0  Ektacolour print with text, dye-coupler print ...       1\n",
       "3    1980.0                                  acrylic on canvas       1\n",
       "4    1980.0                                acrylic on concrete       1\n",
       "..      ...                                                ...     ...\n",
       "127  2010.0                                              steel       2\n",
       "128  2010.0                            steel and found objects       1\n",
       "129  2010.0                                    steel and zinc        1\n",
       "130  2010.0                  steel, brass, aluminum and rubber       1\n",
       "131  2010.0                  steel, stainless steel and copper       1\n",
       "\n",
       "[132 rows x 3 columns]"
      ]
     },
     "execution_count": 615,
     "metadata": {},
     "output_type": "execute_result"
    }
   ],
   "source": [
    "\n",
    "materials = public_art_df.groupby(['DECADE', 'MATERIAL']).size().reset_index(name='Counts')\n",
    "materials.columns = ['DECADE', 'MATERIAL', 'Counts']\n",
    "materials"
   ]
  },
  {
   "cell_type": "code",
   "execution_count": 620,
   "id": "61257764",
   "metadata": {},
   "outputs": [
    {
     "data": {
      "application/vnd.plotly.v1+json": {
       "config": {
        "plotlyServerURL": "https://plot.ly"
       },
       "data": [
        {
         "alignmentgroup": "True",
         "hovertemplate": "MATERIAL=concrete and ceramic<br>DECADE=%{x}<br>Count of Artworks=%{text}<extra></extra>",
         "legendgroup": "concrete and ceramic",
         "marker": {
          "color": "#636efa",
          "pattern": {
           "shape": ""
          }
         },
         "name": "concrete and ceramic",
         "offsetgroup": "concrete and ceramic",
         "orientation": "v",
         "showlegend": true,
         "text": [
          1
         ],
         "textposition": "auto",
         "type": "bar",
         "x": [
          1970
         ],
         "xaxis": "x",
         "y": [
          1
         ],
         "yaxis": "y"
        },
        {
         "alignmentgroup": "True",
         "hovertemplate": "MATERIAL=papier maché, acrylic<br>DECADE=%{x}<br>Count of Artworks=%{text}<extra></extra>",
         "legendgroup": "papier maché, acrylic",
         "marker": {
          "color": "#EF553B",
          "pattern": {
           "shape": ""
          }
         },
         "name": "papier maché, acrylic",
         "offsetgroup": "papier maché, acrylic",
         "orientation": "v",
         "showlegend": true,
         "text": [
          1
         ],
         "textposition": "auto",
         "type": "bar",
         "x": [
          1970
         ],
         "xaxis": "x",
         "y": [
          1
         ],
         "yaxis": "y"
        },
        {
         "alignmentgroup": "True",
         "hovertemplate": "MATERIAL=Ektacolour print with text, dye-coupler print (Ektacolour)<br>DECADE=%{x}<br>Count of Artworks=%{text}<extra></extra>",
         "legendgroup": "Ektacolour print with text, dye-coupler print (Ektacolour)",
         "marker": {
          "color": "#00cc96",
          "pattern": {
           "shape": ""
          }
         },
         "name": "Ektacolour print with text, dye-coupler print (Ektacolour)",
         "offsetgroup": "Ektacolour print with text, dye-coupler print (Ektacolour)",
         "orientation": "v",
         "showlegend": true,
         "text": [
          1
         ],
         "textposition": "auto",
         "type": "bar",
         "x": [
          1980
         ],
         "xaxis": "x",
         "y": [
          1
         ],
         "yaxis": "y"
        },
        {
         "alignmentgroup": "True",
         "hovertemplate": "MATERIAL=acrylic on canvas<br>DECADE=%{x}<br>Count of Artworks=%{text}<extra></extra>",
         "legendgroup": "acrylic on canvas",
         "marker": {
          "color": "#ab63fa",
          "pattern": {
           "shape": ""
          }
         },
         "name": "acrylic on canvas",
         "offsetgroup": "acrylic on canvas",
         "orientation": "v",
         "showlegend": true,
         "text": [
          1,
          1,
          1
         ],
         "textposition": "auto",
         "type": "bar",
         "x": [
          1980,
          2000,
          2010
         ],
         "xaxis": "x",
         "y": [
          1,
          1,
          1
         ],
         "yaxis": "y"
        },
        {
         "alignmentgroup": "True",
         "hovertemplate": "MATERIAL=acrylic on concrete<br>DECADE=%{x}<br>Count of Artworks=%{text}<extra></extra>",
         "legendgroup": "acrylic on concrete",
         "marker": {
          "color": "#FFA15A",
          "pattern": {
           "shape": ""
          }
         },
         "name": "acrylic on concrete",
         "offsetgroup": "acrylic on concrete",
         "orientation": "v",
         "showlegend": true,
         "text": [
          1
         ],
         "textposition": "auto",
         "type": "bar",
         "x": [
          1980
         ],
         "xaxis": "x",
         "y": [
          1
         ],
         "yaxis": "y"
        },
        {
         "alignmentgroup": "True",
         "hovertemplate": "MATERIAL=bronze<br>DECADE=%{x}<br>Count of Artworks=%{text}<extra></extra>",
         "legendgroup": "bronze",
         "marker": {
          "color": "#19d3f3",
          "pattern": {
           "shape": ""
          }
         },
         "name": "bronze",
         "offsetgroup": "bronze",
         "orientation": "v",
         "showlegend": true,
         "text": [
          1,
          1,
          4,
          1
         ],
         "textposition": "auto",
         "type": "bar",
         "x": [
          1980,
          1990,
          2000,
          2010
         ],
         "xaxis": "x",
         "y": [
          1,
          1,
          4,
          1
         ],
         "yaxis": "y"
        },
        {
         "alignmentgroup": "True",
         "hovertemplate": "MATERIAL=ceramic<br>DECADE=%{x}<br>Count of Artworks=%{text}<extra></extra>",
         "legendgroup": "ceramic",
         "marker": {
          "color": "#FF6692",
          "pattern": {
           "shape": ""
          }
         },
         "name": "ceramic",
         "offsetgroup": "ceramic",
         "orientation": "v",
         "showlegend": true,
         "text": [
          1
         ],
         "textposition": "auto",
         "type": "bar",
         "x": [
          1980
         ],
         "xaxis": "x",
         "y": [
          1
         ],
         "yaxis": "y"
        },
        {
         "alignmentgroup": "True",
         "hovertemplate": "MATERIAL=fresco: oil and acrylic on paper<br>DECADE=%{x}<br>Count of Artworks=%{text}<extra></extra>",
         "legendgroup": "fresco: oil and acrylic on paper",
         "marker": {
          "color": "#B6E880",
          "pattern": {
           "shape": ""
          }
         },
         "name": "fresco: oil and acrylic on paper",
         "offsetgroup": "fresco: oil and acrylic on paper",
         "orientation": "v",
         "showlegend": true,
         "text": [
          1
         ],
         "textposition": "auto",
         "type": "bar",
         "x": [
          1980
         ],
         "xaxis": "x",
         "y": [
          1
         ],
         "yaxis": "y"
        },
        {
         "alignmentgroup": "True",
         "hovertemplate": "MATERIAL=oil on canvas<br>DECADE=%{x}<br>Count of Artworks=%{text}<extra></extra>",
         "legendgroup": "oil on canvas",
         "marker": {
          "color": "#FF97FF",
          "pattern": {
           "shape": ""
          }
         },
         "name": "oil on canvas",
         "offsetgroup": "oil on canvas",
         "orientation": "v",
         "showlegend": true,
         "text": [
          1
         ],
         "textposition": "auto",
         "type": "bar",
         "x": [
          1980
         ],
         "xaxis": "x",
         "y": [
          1
         ],
         "yaxis": "y"
        },
        {
         "alignmentgroup": "True",
         "hovertemplate": "MATERIAL=silkscreen, oil pastel on paper<br>DECADE=%{x}<br>Count of Artworks=%{text}<extra></extra>",
         "legendgroup": "silkscreen, oil pastel on paper",
         "marker": {
          "color": "#FECB52",
          "pattern": {
           "shape": ""
          }
         },
         "name": "silkscreen, oil pastel on paper",
         "offsetgroup": "silkscreen, oil pastel on paper",
         "orientation": "v",
         "showlegend": true,
         "text": [
          1
         ],
         "textposition": "auto",
         "type": "bar",
         "x": [
          1980
         ],
         "xaxis": "x",
         "y": [
          1
         ],
         "yaxis": "y"
        },
        {
         "alignmentgroup": "True",
         "hovertemplate": "MATERIAL=stained glass<br>DECADE=%{x}<br>Count of Artworks=%{text}<extra></extra>",
         "legendgroup": "stained glass",
         "marker": {
          "color": "#636efa",
          "pattern": {
           "shape": ""
          }
         },
         "name": "stained glass",
         "offsetgroup": "stained glass",
         "orientation": "v",
         "showlegend": true,
         "text": [
          1
         ],
         "textposition": "auto",
         "type": "bar",
         "x": [
          1980
         ],
         "xaxis": "x",
         "y": [
          1
         ],
         "yaxis": "y"
        },
        {
         "alignmentgroup": "True",
         "hovertemplate": "MATERIAL=steel and paint<br>DECADE=%{x}<br>Count of Artworks=%{text}<extra></extra>",
         "legendgroup": "steel and paint",
         "marker": {
          "color": "#EF553B",
          "pattern": {
           "shape": ""
          }
         },
         "name": "steel and paint",
         "offsetgroup": "steel and paint",
         "orientation": "v",
         "showlegend": true,
         "text": [
          1
         ],
         "textposition": "auto",
         "type": "bar",
         "x": [
          1980
         ],
         "xaxis": "x",
         "y": [
          1
         ],
         "yaxis": "y"
        },
        {
         "alignmentgroup": "True",
         "hovertemplate": "MATERIAL=terrazzo, granite, and zinc<br>DECADE=%{x}<br>Count of Artworks=%{text}<extra></extra>",
         "legendgroup": "terrazzo, granite, and zinc",
         "marker": {
          "color": "#00cc96",
          "pattern": {
           "shape": ""
          }
         },
         "name": "terrazzo, granite, and zinc",
         "offsetgroup": "terrazzo, granite, and zinc",
         "orientation": "v",
         "showlegend": true,
         "text": [
          1
         ],
         "textposition": "auto",
         "type": "bar",
         "x": [
          1980
         ],
         "xaxis": "x",
         "y": [
          1
         ],
         "yaxis": "y"
        },
        {
         "alignmentgroup": "True",
         "hovertemplate": "MATERIAL=wood <br>DECADE=%{x}<br>Count of Artworks=%{text}<extra></extra>",
         "legendgroup": "wood ",
         "marker": {
          "color": "#ab63fa",
          "pattern": {
           "shape": ""
          }
         },
         "name": "wood ",
         "offsetgroup": "wood ",
         "orientation": "v",
         "showlegend": true,
         "text": [
          1
         ],
         "textposition": "auto",
         "type": "bar",
         "x": [
          1980
         ],
         "xaxis": "x",
         "y": [
          1
         ],
         "yaxis": "y"
        },
        {
         "alignmentgroup": "True",
         "hovertemplate": "MATERIAL=wool, rope, and stone<br>DECADE=%{x}<br>Count of Artworks=%{text}<extra></extra>",
         "legendgroup": "wool, rope, and stone",
         "marker": {
          "color": "#FFA15A",
          "pattern": {
           "shape": ""
          }
         },
         "name": "wool, rope, and stone",
         "offsetgroup": "wool, rope, and stone",
         "orientation": "v",
         "showlegend": true,
         "text": [
          1
         ],
         "textposition": "auto",
         "type": "bar",
         "x": [
          1980
         ],
         "xaxis": "x",
         "y": [
          1
         ],
         "yaxis": "y"
        },
        {
         "alignmentgroup": "True",
         "hovertemplate": "MATERIAL=Ektachrome colour prints<br>DECADE=%{x}<br>Count of Artworks=%{text}<extra></extra>",
         "legendgroup": "Ektachrome colour prints",
         "marker": {
          "color": "#19d3f3",
          "pattern": {
           "shape": ""
          }
         },
         "name": "Ektachrome colour prints",
         "offsetgroup": "Ektachrome colour prints",
         "orientation": "v",
         "showlegend": true,
         "text": [
          1
         ],
         "textposition": "auto",
         "type": "bar",
         "x": [
          1990
         ],
         "xaxis": "x",
         "y": [
          1
         ],
         "yaxis": "y"
        },
        {
         "alignmentgroup": "True",
         "hovertemplate": "MATERIAL=acrylic on cotton duck canvas on cassiform<br>DECADE=%{x}<br>Count of Artworks=%{text}<extra></extra>",
         "legendgroup": "acrylic on cotton duck canvas on cassiform",
         "marker": {
          "color": "#FF6692",
          "pattern": {
           "shape": ""
          }
         },
         "name": "acrylic on cotton duck canvas on cassiform",
         "offsetgroup": "acrylic on cotton duck canvas on cassiform",
         "orientation": "v",
         "showlegend": true,
         "text": [
          1
         ],
         "textposition": "auto",
         "type": "bar",
         "x": [
          1990
         ],
         "xaxis": "x",
         "y": [
          1
         ],
         "yaxis": "y"
        },
        {
         "alignmentgroup": "True",
         "hovertemplate": "MATERIAL=aluminum and Plexiglas<br>DECADE=%{x}<br>Count of Artworks=%{text}<extra></extra>",
         "legendgroup": "aluminum and Plexiglas",
         "marker": {
          "color": "#B6E880",
          "pattern": {
           "shape": ""
          }
         },
         "name": "aluminum and Plexiglas",
         "offsetgroup": "aluminum and Plexiglas",
         "orientation": "v",
         "showlegend": true,
         "text": [
          1
         ],
         "textposition": "auto",
         "type": "bar",
         "x": [
          1990
         ],
         "xaxis": "x",
         "y": [
          1
         ],
         "yaxis": "y"
        },
        {
         "alignmentgroup": "True",
         "hovertemplate": "MATERIAL=aluminum and wood<br>DECADE=%{x}<br>Count of Artworks=%{text}<extra></extra>",
         "legendgroup": "aluminum and wood",
         "marker": {
          "color": "#FF97FF",
          "pattern": {
           "shape": ""
          }
         },
         "name": "aluminum and wood",
         "offsetgroup": "aluminum and wood",
         "orientation": "v",
         "showlegend": true,
         "text": [
          1
         ],
         "textposition": "auto",
         "type": "bar",
         "x": [
          1990
         ],
         "xaxis": "x",
         "y": [
          1
         ],
         "yaxis": "y"
        },
        {
         "alignmentgroup": "True",
         "hovertemplate": "MATERIAL=aluminum, concrete, acrylic<br>DECADE=%{x}<br>Count of Artworks=%{text}<extra></extra>",
         "legendgroup": "aluminum, concrete, acrylic",
         "marker": {
          "color": "#FECB52",
          "pattern": {
           "shape": ""
          }
         },
         "name": "aluminum, concrete, acrylic",
         "offsetgroup": "aluminum, concrete, acrylic",
         "orientation": "v",
         "showlegend": true,
         "text": [
          1
         ],
         "textposition": "auto",
         "type": "bar",
         "x": [
          1990
         ],
         "xaxis": "x",
         "y": [
          1
         ],
         "yaxis": "y"
        },
        {
         "alignmentgroup": "True",
         "hovertemplate": "MATERIAL=bevelled and mouthblown glass, lead, heat coloured steel<br>DECADE=%{x}<br>Count of Artworks=%{text}<extra></extra>",
         "legendgroup": "bevelled and mouthblown glass, lead, heat coloured steel",
         "marker": {
          "color": "#636efa",
          "pattern": {
           "shape": ""
          }
         },
         "name": "bevelled and mouthblown glass, lead, heat coloured steel",
         "offsetgroup": "bevelled and mouthblown glass, lead, heat coloured steel",
         "orientation": "v",
         "showlegend": true,
         "text": [
          1
         ],
         "textposition": "auto",
         "type": "bar",
         "x": [
          1990
         ],
         "xaxis": "x",
         "y": [
          1
         ],
         "yaxis": "y"
        },
        {
         "alignmentgroup": "True",
         "hovertemplate": "MATERIAL=cast bronze and aluminium <br>DECADE=%{x}<br>Count of Artworks=%{text}<extra></extra>",
         "legendgroup": "cast bronze and aluminium ",
         "marker": {
          "color": "#EF553B",
          "pattern": {
           "shape": ""
          }
         },
         "name": "cast bronze and aluminium ",
         "offsetgroup": "cast bronze and aluminium ",
         "orientation": "v",
         "showlegend": true,
         "text": [
          1
         ],
         "textposition": "auto",
         "type": "bar",
         "x": [
          1990
         ],
         "xaxis": "x",
         "y": [
          1
         ],
         "yaxis": "y"
        },
        {
         "alignmentgroup": "True",
         "hovertemplate": "MATERIAL=ceramic tile<br>DECADE=%{x}<br>Count of Artworks=%{text}<extra></extra>",
         "legendgroup": "ceramic tile",
         "marker": {
          "color": "#00cc96",
          "pattern": {
           "shape": ""
          }
         },
         "name": "ceramic tile",
         "offsetgroup": "ceramic tile",
         "orientation": "v",
         "showlegend": true,
         "text": [
          1
         ],
         "textposition": "auto",
         "type": "bar",
         "x": [
          1990
         ],
         "xaxis": "x",
         "y": [
          1
         ],
         "yaxis": "y"
        },
        {
         "alignmentgroup": "True",
         "hovertemplate": "MATERIAL=cibachrome and steel<br>DECADE=%{x}<br>Count of Artworks=%{text}<extra></extra>",
         "legendgroup": "cibachrome and steel",
         "marker": {
          "color": "#ab63fa",
          "pattern": {
           "shape": ""
          }
         },
         "name": "cibachrome and steel",
         "offsetgroup": "cibachrome and steel",
         "orientation": "v",
         "showlegend": true,
         "text": [
          1
         ],
         "textposition": "auto",
         "type": "bar",
         "x": [
          1990
         ],
         "xaxis": "x",
         "y": [
          1
         ],
         "yaxis": "y"
        },
        {
         "alignmentgroup": "True",
         "hovertemplate": "MATERIAL=clay<br>DECADE=%{x}<br>Count of Artworks=%{text}<extra></extra>",
         "legendgroup": "clay",
         "marker": {
          "color": "#FFA15A",
          "pattern": {
           "shape": ""
          }
         },
         "name": "clay",
         "offsetgroup": "clay",
         "orientation": "v",
         "showlegend": true,
         "text": [
          1,
          1
         ],
         "textposition": "auto",
         "type": "bar",
         "x": [
          1990,
          2000
         ],
         "xaxis": "x",
         "y": [
          1,
          1
         ],
         "yaxis": "y"
        },
        {
         "alignmentgroup": "True",
         "hovertemplate": "MATERIAL=clay, wood and leather<br>DECADE=%{x}<br>Count of Artworks=%{text}<extra></extra>",
         "legendgroup": "clay, wood and leather",
         "marker": {
          "color": "#19d3f3",
          "pattern": {
           "shape": ""
          }
         },
         "name": "clay, wood and leather",
         "offsetgroup": "clay, wood and leather",
         "orientation": "v",
         "showlegend": true,
         "text": [
          1
         ],
         "textposition": "auto",
         "type": "bar",
         "x": [
          1990
         ],
         "xaxis": "x",
         "y": [
          1
         ],
         "yaxis": "y"
        },
        {
         "alignmentgroup": "True",
         "hovertemplate": "MATERIAL=concrete, stone, bronze and wood<br>DECADE=%{x}<br>Count of Artworks=%{text}<extra></extra>",
         "legendgroup": "concrete, stone, bronze and wood",
         "marker": {
          "color": "#FF6692",
          "pattern": {
           "shape": ""
          }
         },
         "name": "concrete, stone, bronze and wood",
         "offsetgroup": "concrete, stone, bronze and wood",
         "orientation": "v",
         "showlegend": true,
         "text": [
          1
         ],
         "textposition": "auto",
         "type": "bar",
         "x": [
          1990
         ],
         "xaxis": "x",
         "y": [
          1
         ],
         "yaxis": "y"
        },
        {
         "alignmentgroup": "True",
         "hovertemplate": "MATERIAL=corten steel <br>DECADE=%{x}<br>Count of Artworks=%{text}<extra></extra>",
         "legendgroup": "corten steel ",
         "marker": {
          "color": "#B6E880",
          "pattern": {
           "shape": ""
          }
         },
         "name": "corten steel ",
         "offsetgroup": "corten steel ",
         "orientation": "v",
         "showlegend": true,
         "text": [
          1,
          1
         ],
         "textposition": "auto",
         "type": "bar",
         "x": [
          1990,
          2010
         ],
         "xaxis": "x",
         "y": [
          1,
          1
         ],
         "yaxis": "y"
        },
        {
         "alignmentgroup": "True",
         "hovertemplate": "MATERIAL=frescoe Bueno on galvanized steel lathing, plywood and steel support system, steel angle frame, acrylic medium<br>DECADE=%{x}<br>Count of Artworks=%{text}<extra></extra>",
         "legendgroup": "frescoe Bueno on galvanized steel lathing, plywood and steel support system, steel angle frame, acrylic medium",
         "marker": {
          "color": "#FF97FF",
          "pattern": {
           "shape": ""
          }
         },
         "name": "frescoe Bueno on galvanized steel lathing, plywood and steel support system, steel angle frame, acrylic medium",
         "offsetgroup": "frescoe Bueno on galvanized steel lathing, plywood and steel support system, steel angle frame, acrylic medium",
         "orientation": "v",
         "showlegend": true,
         "text": [
          1
         ],
         "textposition": "auto",
         "type": "bar",
         "x": [
          1990
         ],
         "xaxis": "x",
         "y": [
          1
         ],
         "yaxis": "y"
        },
        {
         "alignmentgroup": "True",
         "hovertemplate": "MATERIAL=glass, slate and brass<br>DECADE=%{x}<br>Count of Artworks=%{text}<extra></extra>",
         "legendgroup": "glass, slate and brass",
         "marker": {
          "color": "#FECB52",
          "pattern": {
           "shape": ""
          }
         },
         "name": "glass, slate and brass",
         "offsetgroup": "glass, slate and brass",
         "orientation": "v",
         "showlegend": true,
         "text": [
          1
         ],
         "textposition": "auto",
         "type": "bar",
         "x": [
          1990
         ],
         "xaxis": "x",
         "y": [
          1
         ],
         "yaxis": "y"
        },
        {
         "alignmentgroup": "True",
         "hovertemplate": "MATERIAL=inkjet print<br>DECADE=%{x}<br>Count of Artworks=%{text}<extra></extra>",
         "legendgroup": "inkjet print",
         "marker": {
          "color": "#636efa",
          "pattern": {
           "shape": ""
          }
         },
         "name": "inkjet print",
         "offsetgroup": "inkjet print",
         "orientation": "v",
         "showlegend": true,
         "text": [
          1
         ],
         "textposition": "auto",
         "type": "bar",
         "x": [
          1990
         ],
         "xaxis": "x",
         "y": [
          1
         ],
         "yaxis": "y"
        },
        {
         "alignmentgroup": "True",
         "hovertemplate": "MATERIAL=limestone, sand, steel, wood, tripod, aluminum lunch box\n<br>DECADE=%{x}<br>Count of Artworks=%{text}<extra></extra>",
         "legendgroup": "limestone, sand, steel, wood, tripod, aluminum lunch box\n",
         "marker": {
          "color": "#EF553B",
          "pattern": {
           "shape": ""
          }
         },
         "name": "limestone, sand, steel, wood, tripod, aluminum lunch box\n",
         "offsetgroup": "limestone, sand, steel, wood, tripod, aluminum lunch box\n",
         "orientation": "v",
         "showlegend": true,
         "text": [
          1
         ],
         "textposition": "auto",
         "type": "bar",
         "x": [
          1990
         ],
         "xaxis": "x",
         "y": [
          1
         ],
         "yaxis": "y"
        },
        {
         "alignmentgroup": "True",
         "hovertemplate": "MATERIAL=mixed media<br>DECADE=%{x}<br>Count of Artworks=%{text}<extra></extra>",
         "legendgroup": "mixed media",
         "marker": {
          "color": "#00cc96",
          "pattern": {
           "shape": ""
          }
         },
         "name": "mixed media",
         "offsetgroup": "mixed media",
         "orientation": "v",
         "showlegend": true,
         "text": [
          2,
          2
         ],
         "textposition": "auto",
         "type": "bar",
         "x": [
          1990,
          2010
         ],
         "xaxis": "x",
         "y": [
          2,
          2
         ],
         "yaxis": "y"
        },
        {
         "alignmentgroup": "True",
         "hovertemplate": "MATERIAL=nylon filament, rope, dye<br>DECADE=%{x}<br>Count of Artworks=%{text}<extra></extra>",
         "legendgroup": "nylon filament, rope, dye",
         "marker": {
          "color": "#ab63fa",
          "pattern": {
           "shape": ""
          }
         },
         "name": "nylon filament, rope, dye",
         "offsetgroup": "nylon filament, rope, dye",
         "orientation": "v",
         "showlegend": true,
         "text": [
          1
         ],
         "textposition": "auto",
         "type": "bar",
         "x": [
          1990
         ],
         "xaxis": "x",
         "y": [
          1
         ],
         "yaxis": "y"
        },
        {
         "alignmentgroup": "True",
         "hovertemplate": "MATERIAL=paint on concrete<br>DECADE=%{x}<br>Count of Artworks=%{text}<extra></extra>",
         "legendgroup": "paint on concrete",
         "marker": {
          "color": "#FFA15A",
          "pattern": {
           "shape": ""
          }
         },
         "name": "paint on concrete",
         "offsetgroup": "paint on concrete",
         "orientation": "v",
         "showlegend": true,
         "text": [
          1
         ],
         "textposition": "auto",
         "type": "bar",
         "x": [
          1990
         ],
         "xaxis": "x",
         "y": [
          1
         ],
         "yaxis": "y"
        },
        {
         "alignmentgroup": "True",
         "hovertemplate": "MATERIAL=photo etching on zinc plates, concrete base<br>DECADE=%{x}<br>Count of Artworks=%{text}<extra></extra>",
         "legendgroup": "photo etching on zinc plates, concrete base",
         "marker": {
          "color": "#19d3f3",
          "pattern": {
           "shape": ""
          }
         },
         "name": "photo etching on zinc plates, concrete base",
         "offsetgroup": "photo etching on zinc plates, concrete base",
         "orientation": "v",
         "showlegend": true,
         "text": [
          1
         ],
         "textposition": "auto",
         "type": "bar",
         "x": [
          1990
         ],
         "xaxis": "x",
         "y": [
          1
         ],
         "yaxis": "y"
        },
        {
         "alignmentgroup": "True",
         "hovertemplate": "MATERIAL=polychromed steel, wood<br>DECADE=%{x}<br>Count of Artworks=%{text}<extra></extra>",
         "legendgroup": "polychromed steel, wood",
         "marker": {
          "color": "#FF6692",
          "pattern": {
           "shape": ""
          }
         },
         "name": "polychromed steel, wood",
         "offsetgroup": "polychromed steel, wood",
         "orientation": "v",
         "showlegend": true,
         "text": [
          1
         ],
         "textposition": "auto",
         "type": "bar",
         "x": [
          1990
         ],
         "xaxis": "x",
         "y": [
          1
         ],
         "yaxis": "y"
        },
        {
         "alignmentgroup": "True",
         "hovertemplate": "MATERIAL=sand blasted glass<br>DECADE=%{x}<br>Count of Artworks=%{text}<extra></extra>",
         "legendgroup": "sand blasted glass",
         "marker": {
          "color": "#B6E880",
          "pattern": {
           "shape": ""
          }
         },
         "name": "sand blasted glass",
         "offsetgroup": "sand blasted glass",
         "orientation": "v",
         "showlegend": true,
         "text": [
          1
         ],
         "textposition": "auto",
         "type": "bar",
         "x": [
          1990
         ],
         "xaxis": "x",
         "y": [
          1
         ],
         "yaxis": "y"
        },
        {
         "alignmentgroup": "True",
         "hovertemplate": "MATERIAL=steel, cast glass, photography<br>DECADE=%{x}<br>Count of Artworks=%{text}<extra></extra>",
         "legendgroup": "steel, cast glass, photography",
         "marker": {
          "color": "#FF97FF",
          "pattern": {
           "shape": ""
          }
         },
         "name": "steel, cast glass, photography",
         "offsetgroup": "steel, cast glass, photography",
         "orientation": "v",
         "showlegend": true,
         "text": [
          1
         ],
         "textposition": "auto",
         "type": "bar",
         "x": [
          1990
         ],
         "xaxis": "x",
         "y": [
          1
         ],
         "yaxis": "y"
        },
        {
         "alignmentgroup": "True",
         "hovertemplate": "MATERIAL=steel, chrome<br>DECADE=%{x}<br>Count of Artworks=%{text}<extra></extra>",
         "legendgroup": "steel, chrome",
         "marker": {
          "color": "#FECB52",
          "pattern": {
           "shape": ""
          }
         },
         "name": "steel, chrome",
         "offsetgroup": "steel, chrome",
         "orientation": "v",
         "showlegend": true,
         "text": [
          1
         ],
         "textposition": "auto",
         "type": "bar",
         "x": [
          1990
         ],
         "xaxis": "x",
         "y": [
          1
         ],
         "yaxis": "y"
        },
        {
         "alignmentgroup": "True",
         "hovertemplate": "MATERIAL=tapestry and canvas<br>DECADE=%{x}<br>Count of Artworks=%{text}<extra></extra>",
         "legendgroup": "tapestry and canvas",
         "marker": {
          "color": "#636efa",
          "pattern": {
           "shape": ""
          }
         },
         "name": "tapestry and canvas",
         "offsetgroup": "tapestry and canvas",
         "orientation": "v",
         "showlegend": true,
         "text": [
          1
         ],
         "textposition": "auto",
         "type": "bar",
         "x": [
          1990
         ],
         "xaxis": "x",
         "y": [
          1
         ],
         "yaxis": "y"
        },
        {
         "alignmentgroup": "True",
         "hovertemplate": "MATERIAL=wood, leather, mother of pearl<br>DECADE=%{x}<br>Count of Artworks=%{text}<extra></extra>",
         "legendgroup": "wood, leather, mother of pearl",
         "marker": {
          "color": "#EF553B",
          "pattern": {
           "shape": ""
          }
         },
         "name": "wood, leather, mother of pearl",
         "offsetgroup": "wood, leather, mother of pearl",
         "orientation": "v",
         "showlegend": true,
         "text": [
          1
         ],
         "textposition": "auto",
         "type": "bar",
         "x": [
          1990
         ],
         "xaxis": "x",
         "y": [
          1
         ],
         "yaxis": "y"
        },
        {
         "alignmentgroup": "True",
         "hovertemplate": "MATERIAL=wood, metal, Plexiglas and concrete<br>DECADE=%{x}<br>Count of Artworks=%{text}<extra></extra>",
         "legendgroup": "wood, metal, Plexiglas and concrete",
         "marker": {
          "color": "#00cc96",
          "pattern": {
           "shape": ""
          }
         },
         "name": "wood, metal, Plexiglas and concrete",
         "offsetgroup": "wood, metal, Plexiglas and concrete",
         "orientation": "v",
         "showlegend": true,
         "text": [
          1
         ],
         "textposition": "auto",
         "type": "bar",
         "x": [
          1990
         ],
         "xaxis": "x",
         "y": [
          1
         ],
         "yaxis": "y"
        },
        {
         "alignmentgroup": "True",
         "hovertemplate": "MATERIAL=wood, steel, acrylic, plaster<br>DECADE=%{x}<br>Count of Artworks=%{text}<extra></extra>",
         "legendgroup": "wood, steel, acrylic, plaster",
         "marker": {
          "color": "#ab63fa",
          "pattern": {
           "shape": ""
          }
         },
         "name": "wood, steel, acrylic, plaster",
         "offsetgroup": "wood, steel, acrylic, plaster",
         "orientation": "v",
         "showlegend": true,
         "text": [
          1
         ],
         "textposition": "auto",
         "type": "bar",
         "x": [
          1990
         ],
         "xaxis": "x",
         "y": [
          1
         ],
         "yaxis": "y"
        },
        {
         "alignmentgroup": "True",
         "hovertemplate": "MATERIAL=Kingston hue sandstone<br>DECADE=%{x}<br>Count of Artworks=%{text}<extra></extra>",
         "legendgroup": "Kingston hue sandstone",
         "marker": {
          "color": "#FFA15A",
          "pattern": {
           "shape": ""
          }
         },
         "name": "Kingston hue sandstone",
         "offsetgroup": "Kingston hue sandstone",
         "orientation": "v",
         "showlegend": true,
         "text": [
          1
         ],
         "textposition": "auto",
         "type": "bar",
         "x": [
          2000
         ],
         "xaxis": "x",
         "y": [
          1
         ],
         "yaxis": "y"
        },
        {
         "alignmentgroup": "True",
         "hovertemplate": "MATERIAL=acrylic and resin on wood<br>DECADE=%{x}<br>Count of Artworks=%{text}<extra></extra>",
         "legendgroup": "acrylic and resin on wood",
         "marker": {
          "color": "#19d3f3",
          "pattern": {
           "shape": ""
          }
         },
         "name": "acrylic and resin on wood",
         "offsetgroup": "acrylic and resin on wood",
         "orientation": "v",
         "showlegend": true,
         "text": [
          1
         ],
         "textposition": "auto",
         "type": "bar",
         "x": [
          2000
         ],
         "xaxis": "x",
         "y": [
          1
         ],
         "yaxis": "y"
        },
        {
         "alignmentgroup": "True",
         "hovertemplate": "MATERIAL=acrylic, ceramic, cotton, found objects, paper<br>DECADE=%{x}<br>Count of Artworks=%{text}<extra></extra>",
         "legendgroup": "acrylic, ceramic, cotton, found objects, paper",
         "marker": {
          "color": "#FF6692",
          "pattern": {
           "shape": ""
          }
         },
         "name": "acrylic, ceramic, cotton, found objects, paper",
         "offsetgroup": "acrylic, ceramic, cotton, found objects, paper",
         "orientation": "v",
         "showlegend": true,
         "text": [
          1
         ],
         "textposition": "auto",
         "type": "bar",
         "x": [
          2000
         ],
         "xaxis": "x",
         "y": [
          1
         ],
         "yaxis": "y"
        },
        {
         "alignmentgroup": "True",
         "hovertemplate": "MATERIAL=acrylic, plaster, oil<br>DECADE=%{x}<br>Count of Artworks=%{text}<extra></extra>",
         "legendgroup": "acrylic, plaster, oil",
         "marker": {
          "color": "#B6E880",
          "pattern": {
           "shape": ""
          }
         },
         "name": "acrylic, plaster, oil",
         "offsetgroup": "acrylic, plaster, oil",
         "orientation": "v",
         "showlegend": true,
         "text": [
          1
         ],
         "textposition": "auto",
         "type": "bar",
         "x": [
          2000
         ],
         "xaxis": "x",
         "y": [
          1
         ],
         "yaxis": "y"
        },
        {
         "alignmentgroup": "True",
         "hovertemplate": "MATERIAL=aluminium <br>DECADE=%{x}<br>Count of Artworks=%{text}<extra></extra>",
         "legendgroup": "aluminium ",
         "marker": {
          "color": "#FF97FF",
          "pattern": {
           "shape": ""
          }
         },
         "name": "aluminium ",
         "offsetgroup": "aluminium ",
         "orientation": "v",
         "showlegend": true,
         "text": [
          1,
          1
         ],
         "textposition": "auto",
         "type": "bar",
         "x": [
          2000,
          2010
         ],
         "xaxis": "x",
         "y": [
          1,
          1
         ],
         "yaxis": "y"
        },
        {
         "alignmentgroup": "True",
         "hovertemplate": "MATERIAL=aluminium and stained glass<br>DECADE=%{x}<br>Count of Artworks=%{text}<extra></extra>",
         "legendgroup": "aluminium and stained glass",
         "marker": {
          "color": "#FECB52",
          "pattern": {
           "shape": ""
          }
         },
         "name": "aluminium and stained glass",
         "offsetgroup": "aluminium and stained glass",
         "orientation": "v",
         "showlegend": true,
         "text": [
          1
         ],
         "textposition": "auto",
         "type": "bar",
         "x": [
          2000
         ],
         "xaxis": "x",
         "y": [
          1
         ],
         "yaxis": "y"
        },
        {
         "alignmentgroup": "True",
         "hovertemplate": "MATERIAL=anodized aluminum, translucent ceramic<br>DECADE=%{x}<br>Count of Artworks=%{text}<extra></extra>",
         "legendgroup": "anodized aluminum, translucent ceramic",
         "marker": {
          "color": "#636efa",
          "pattern": {
           "shape": ""
          }
         },
         "name": "anodized aluminum, translucent ceramic",
         "offsetgroup": "anodized aluminum, translucent ceramic",
         "orientation": "v",
         "showlegend": true,
         "text": [
          1
         ],
         "textposition": "auto",
         "type": "bar",
         "x": [
          2000
         ],
         "xaxis": "x",
         "y": [
          1
         ],
         "yaxis": "y"
        },
        {
         "alignmentgroup": "True",
         "hovertemplate": "MATERIAL=bronze casting<br>DECADE=%{x}<br>Count of Artworks=%{text}<extra></extra>",
         "legendgroup": "bronze casting",
         "marker": {
          "color": "#EF553B",
          "pattern": {
           "shape": ""
          }
         },
         "name": "bronze casting",
         "offsetgroup": "bronze casting",
         "orientation": "v",
         "showlegend": true,
         "text": [
          1
         ],
         "textposition": "auto",
         "type": "bar",
         "x": [
          2000
         ],
         "xaxis": "x",
         "y": [
          1
         ],
         "yaxis": "y"
        },
        {
         "alignmentgroup": "True",
         "hovertemplate": "MATERIAL=bronze, copper, steel, patina, Plexiglas, paint<br>DECADE=%{x}<br>Count of Artworks=%{text}<extra></extra>",
         "legendgroup": "bronze, copper, steel, patina, Plexiglas, paint",
         "marker": {
          "color": "#00cc96",
          "pattern": {
           "shape": ""
          }
         },
         "name": "bronze, copper, steel, patina, Plexiglas, paint",
         "offsetgroup": "bronze, copper, steel, patina, Plexiglas, paint",
         "orientation": "v",
         "showlegend": true,
         "text": [
          1
         ],
         "textposition": "auto",
         "type": "bar",
         "x": [
          2000
         ],
         "xaxis": "x",
         "y": [
          1
         ],
         "yaxis": "y"
        },
        {
         "alignmentgroup": "True",
         "hovertemplate": "MATERIAL=bronze, stainless steel, limestone and cement<br>DECADE=%{x}<br>Count of Artworks=%{text}<extra></extra>",
         "legendgroup": "bronze, stainless steel, limestone and cement",
         "marker": {
          "color": "#ab63fa",
          "pattern": {
           "shape": ""
          }
         },
         "name": "bronze, stainless steel, limestone and cement",
         "offsetgroup": "bronze, stainless steel, limestone and cement",
         "orientation": "v",
         "showlegend": true,
         "text": [
          1
         ],
         "textposition": "auto",
         "type": "bar",
         "x": [
          2000
         ],
         "xaxis": "x",
         "y": [
          1
         ],
         "yaxis": "y"
        },
        {
         "alignmentgroup": "True",
         "hovertemplate": "MATERIAL=cast iron and bronze, sand blasted glass<br>DECADE=%{x}<br>Count of Artworks=%{text}<extra></extra>",
         "legendgroup": "cast iron and bronze, sand blasted glass",
         "marker": {
          "color": "#FFA15A",
          "pattern": {
           "shape": ""
          }
         },
         "name": "cast iron and bronze, sand blasted glass",
         "offsetgroup": "cast iron and bronze, sand blasted glass",
         "orientation": "v",
         "showlegend": true,
         "text": [
          1
         ],
         "textposition": "auto",
         "type": "bar",
         "x": [
          2000
         ],
         "xaxis": "x",
         "y": [
          1
         ],
         "yaxis": "y"
        },
        {
         "alignmentgroup": "True",
         "hovertemplate": "MATERIAL=ceramic mosaic<br>DECADE=%{x}<br>Count of Artworks=%{text}<extra></extra>",
         "legendgroup": "ceramic mosaic",
         "marker": {
          "color": "#19d3f3",
          "pattern": {
           "shape": ""
          }
         },
         "name": "ceramic mosaic",
         "offsetgroup": "ceramic mosaic",
         "orientation": "v",
         "showlegend": true,
         "text": [
          1
         ],
         "textposition": "auto",
         "type": "bar",
         "x": [
          2000
         ],
         "xaxis": "x",
         "y": [
          1
         ],
         "yaxis": "y"
        },
        {
         "alignmentgroup": "True",
         "hovertemplate": "MATERIAL=ceramic, raku fired<br>DECADE=%{x}<br>Count of Artworks=%{text}<extra></extra>",
         "legendgroup": "ceramic, raku fired",
         "marker": {
          "color": "#FF6692",
          "pattern": {
           "shape": ""
          }
         },
         "name": "ceramic, raku fired",
         "offsetgroup": "ceramic, raku fired",
         "orientation": "v",
         "showlegend": true,
         "text": [
          1
         ],
         "textposition": "auto",
         "type": "bar",
         "x": [
          2000
         ],
         "xaxis": "x",
         "y": [
          1
         ],
         "yaxis": "y"
        },
        {
         "alignmentgroup": "True",
         "hovertemplate": "MATERIAL=coloured concrete <br>DECADE=%{x}<br>Count of Artworks=%{text}<extra></extra>",
         "legendgroup": "coloured concrete ",
         "marker": {
          "color": "#B6E880",
          "pattern": {
           "shape": ""
          }
         },
         "name": "coloured concrete ",
         "offsetgroup": "coloured concrete ",
         "orientation": "v",
         "showlegend": true,
         "text": [
          1
         ],
         "textposition": "auto",
         "type": "bar",
         "x": [
          2000
         ],
         "xaxis": "x",
         "y": [
          1
         ],
         "yaxis": "y"
        },
        {
         "alignmentgroup": "True",
         "hovertemplate": "MATERIAL=concrete and steel<br>DECADE=%{x}<br>Count of Artworks=%{text}<extra></extra>",
         "legendgroup": "concrete and steel",
         "marker": {
          "color": "#FF97FF",
          "pattern": {
           "shape": ""
          }
         },
         "name": "concrete and steel",
         "offsetgroup": "concrete and steel",
         "orientation": "v",
         "showlegend": true,
         "text": [
          1
         ],
         "textposition": "auto",
         "type": "bar",
         "x": [
          2000
         ],
         "xaxis": "x",
         "y": [
          1
         ],
         "yaxis": "y"
        },
        {
         "alignmentgroup": "True",
         "hovertemplate": "MATERIAL=concrete, computer, speaker, sound system, video camera<br>DECADE=%{x}<br>Count of Artworks=%{text}<extra></extra>",
         "legendgroup": "concrete, computer, speaker, sound system, video camera",
         "marker": {
          "color": "#FECB52",
          "pattern": {
           "shape": ""
          }
         },
         "name": "concrete, computer, speaker, sound system, video camera",
         "offsetgroup": "concrete, computer, speaker, sound system, video camera",
         "orientation": "v",
         "showlegend": true,
         "text": [
          1
         ],
         "textposition": "auto",
         "type": "bar",
         "x": [
          2000
         ],
         "xaxis": "x",
         "y": [
          1
         ],
         "yaxis": "y"
        },
        {
         "alignmentgroup": "True",
         "hovertemplate": "MATERIAL=embossed stainless steel mural plates <br>DECADE=%{x}<br>Count of Artworks=%{text}<extra></extra>",
         "legendgroup": "embossed stainless steel mural plates ",
         "marker": {
          "color": "#636efa",
          "pattern": {
           "shape": ""
          }
         },
         "name": "embossed stainless steel mural plates ",
         "offsetgroup": "embossed stainless steel mural plates ",
         "orientation": "v",
         "showlegend": true,
         "text": [
          1
         ],
         "textposition": "auto",
         "type": "bar",
         "x": [
          2000
         ],
         "xaxis": "x",
         "y": [
          1
         ],
         "yaxis": "y"
        },
        {
         "alignmentgroup": "True",
         "hovertemplate": "MATERIAL=enamel on aluminum<br>DECADE=%{x}<br>Count of Artworks=%{text}<extra></extra>",
         "legendgroup": "enamel on aluminum",
         "marker": {
          "color": "#EF553B",
          "pattern": {
           "shape": ""
          }
         },
         "name": "enamel on aluminum",
         "offsetgroup": "enamel on aluminum",
         "orientation": "v",
         "showlegend": true,
         "text": [
          2
         ],
         "textposition": "auto",
         "type": "bar",
         "x": [
          2000
         ],
         "xaxis": "x",
         "y": [
          2
         ],
         "yaxis": "y"
        },
        {
         "alignmentgroup": "True",
         "hovertemplate": "MATERIAL=epoxy coating <br>DECADE=%{x}<br>Count of Artworks=%{text}<extra></extra>",
         "legendgroup": "epoxy coating ",
         "marker": {
          "color": "#00cc96",
          "pattern": {
           "shape": ""
          }
         },
         "name": "epoxy coating ",
         "offsetgroup": "epoxy coating ",
         "orientation": "v",
         "showlegend": true,
         "text": [
          1
         ],
         "textposition": "auto",
         "type": "bar",
         "x": [
          2000
         ],
         "xaxis": "x",
         "y": [
          1
         ],
         "yaxis": "y"
        },
        {
         "alignmentgroup": "True",
         "hovertemplate": "MATERIAL=glass<br>DECADE=%{x}<br>Count of Artworks=%{text}<extra></extra>",
         "legendgroup": "glass",
         "marker": {
          "color": "#ab63fa",
          "pattern": {
           "shape": ""
          }
         },
         "name": "glass",
         "offsetgroup": "glass",
         "orientation": "v",
         "showlegend": true,
         "text": [
          1,
          1
         ],
         "textposition": "auto",
         "type": "bar",
         "x": [
          2000,
          2010
         ],
         "xaxis": "x",
         "y": [
          1,
          1
         ],
         "yaxis": "y"
        },
        {
         "alignmentgroup": "True",
         "hovertemplate": "MATERIAL=glass and bronze casting<br>DECADE=%{x}<br>Count of Artworks=%{text}<extra></extra>",
         "legendgroup": "glass and bronze casting",
         "marker": {
          "color": "#FFA15A",
          "pattern": {
           "shape": ""
          }
         },
         "name": "glass and bronze casting",
         "offsetgroup": "glass and bronze casting",
         "orientation": "v",
         "showlegend": true,
         "text": [
          1
         ],
         "textposition": "auto",
         "type": "bar",
         "x": [
          2000
         ],
         "xaxis": "x",
         "y": [
          1
         ],
         "yaxis": "y"
        },
        {
         "alignmentgroup": "True",
         "hovertemplate": "MATERIAL=glass tiles, gold leaf tiles, silver plated buttons<br>DECADE=%{x}<br>Count of Artworks=%{text}<extra></extra>",
         "legendgroup": "glass tiles, gold leaf tiles, silver plated buttons",
         "marker": {
          "color": "#19d3f3",
          "pattern": {
           "shape": ""
          }
         },
         "name": "glass tiles, gold leaf tiles, silver plated buttons",
         "offsetgroup": "glass tiles, gold leaf tiles, silver plated buttons",
         "orientation": "v",
         "showlegend": true,
         "text": [
          1
         ],
         "textposition": "auto",
         "type": "bar",
         "x": [
          2000
         ],
         "xaxis": "x",
         "y": [
          1
         ],
         "yaxis": "y"
        },
        {
         "alignmentgroup": "True",
         "hovertemplate": "MATERIAL=glass, granite and steel<br>DECADE=%{x}<br>Count of Artworks=%{text}<extra></extra>",
         "legendgroup": "glass, granite and steel",
         "marker": {
          "color": "#FF6692",
          "pattern": {
           "shape": ""
          }
         },
         "name": "glass, granite and steel",
         "offsetgroup": "glass, granite and steel",
         "orientation": "v",
         "showlegend": true,
         "text": [
          1
         ],
         "textposition": "auto",
         "type": "bar",
         "x": [
          2000
         ],
         "xaxis": "x",
         "y": [
          1
         ],
         "yaxis": "y"
        },
        {
         "alignmentgroup": "True",
         "hovertemplate": "MATERIAL=glazed concrete blocks <br>DECADE=%{x}<br>Count of Artworks=%{text}<extra></extra>",
         "legendgroup": "glazed concrete blocks ",
         "marker": {
          "color": "#B6E880",
          "pattern": {
           "shape": ""
          }
         },
         "name": "glazed concrete blocks ",
         "offsetgroup": "glazed concrete blocks ",
         "orientation": "v",
         "showlegend": true,
         "text": [
          1
         ],
         "textposition": "auto",
         "type": "bar",
         "x": [
          2000
         ],
         "xaxis": "x",
         "y": [
          1
         ],
         "yaxis": "y"
        },
        {
         "alignmentgroup": "True",
         "hovertemplate": "MATERIAL=granite <br>DECADE=%{x}<br>Count of Artworks=%{text}<extra></extra>",
         "legendgroup": "granite ",
         "marker": {
          "color": "#FF97FF",
          "pattern": {
           "shape": ""
          }
         },
         "name": "granite ",
         "offsetgroup": "granite ",
         "orientation": "v",
         "showlegend": true,
         "text": [
          1
         ],
         "textposition": "auto",
         "type": "bar",
         "x": [
          2000
         ],
         "xaxis": "x",
         "y": [
          1
         ],
         "yaxis": "y"
        },
        {
         "alignmentgroup": "True",
         "hovertemplate": "MATERIAL=limestone<br>DECADE=%{x}<br>Count of Artworks=%{text}<extra></extra>",
         "legendgroup": "limestone",
         "marker": {
          "color": "#FECB52",
          "pattern": {
           "shape": ""
          }
         },
         "name": "limestone",
         "offsetgroup": "limestone",
         "orientation": "v",
         "showlegend": true,
         "text": [
          1
         ],
         "textposition": "auto",
         "type": "bar",
         "x": [
          2000
         ],
         "xaxis": "x",
         "y": [
          1
         ],
         "yaxis": "y"
        },
        {
         "alignmentgroup": "True",
         "hovertemplate": "MATERIAL=mixed media <br>DECADE=%{x}<br>Count of Artworks=%{text}<extra></extra>",
         "legendgroup": "mixed media ",
         "marker": {
          "color": "#636efa",
          "pattern": {
           "shape": ""
          }
         },
         "name": "mixed media ",
         "offsetgroup": "mixed media ",
         "orientation": "v",
         "showlegend": true,
         "text": [
          1
         ],
         "textposition": "auto",
         "type": "bar",
         "x": [
          2000
         ],
         "xaxis": "x",
         "y": [
          1
         ],
         "yaxis": "y"
        },
        {
         "alignmentgroup": "True",
         "hovertemplate": "MATERIAL=mosaic tile mural<br>DECADE=%{x}<br>Count of Artworks=%{text}<extra></extra>",
         "legendgroup": "mosaic tile mural",
         "marker": {
          "color": "#EF553B",
          "pattern": {
           "shape": ""
          }
         },
         "name": "mosaic tile mural",
         "offsetgroup": "mosaic tile mural",
         "orientation": "v",
         "showlegend": true,
         "text": [
          1
         ],
         "textposition": "auto",
         "type": "bar",
         "x": [
          2000
         ],
         "xaxis": "x",
         "y": [
          1
         ],
         "yaxis": "y"
        },
        {
         "alignmentgroup": "True",
         "hovertemplate": "MATERIAL=multi synthetic fabric, machine bonded<br>DECADE=%{x}<br>Count of Artworks=%{text}<extra></extra>",
         "legendgroup": "multi synthetic fabric, machine bonded",
         "marker": {
          "color": "#00cc96",
          "pattern": {
           "shape": ""
          }
         },
         "name": "multi synthetic fabric, machine bonded",
         "offsetgroup": "multi synthetic fabric, machine bonded",
         "orientation": "v",
         "showlegend": true,
         "text": [
          1
         ],
         "textposition": "auto",
         "type": "bar",
         "x": [
          2000
         ],
         "xaxis": "x",
         "y": [
          1
         ],
         "yaxis": "y"
        },
        {
         "alignmentgroup": "True",
         "hovertemplate": "MATERIAL=painted steel and Galvalume pipe<br>DECADE=%{x}<br>Count of Artworks=%{text}<extra></extra>",
         "legendgroup": "painted steel and Galvalume pipe",
         "marker": {
          "color": "#ab63fa",
          "pattern": {
           "shape": ""
          }
         },
         "name": "painted steel and Galvalume pipe",
         "offsetgroup": "painted steel and Galvalume pipe",
         "orientation": "v",
         "showlegend": true,
         "text": [
          1
         ],
         "textposition": "auto",
         "type": "bar",
         "x": [
          2000
         ],
         "xaxis": "x",
         "y": [
          1
         ],
         "yaxis": "y"
        },
        {
         "alignmentgroup": "True",
         "hovertemplate": "MATERIAL=painted wood<br>DECADE=%{x}<br>Count of Artworks=%{text}<extra></extra>",
         "legendgroup": "painted wood",
         "marker": {
          "color": "#FFA15A",
          "pattern": {
           "shape": ""
          }
         },
         "name": "painted wood",
         "offsetgroup": "painted wood",
         "orientation": "v",
         "showlegend": true,
         "text": [
          1
         ],
         "textposition": "auto",
         "type": "bar",
         "x": [
          2000
         ],
         "xaxis": "x",
         "y": [
          1
         ],
         "yaxis": "y"
        },
        {
         "alignmentgroup": "True",
         "hovertemplate": "MATERIAL=porcelain tile mosaic<br>DECADE=%{x}<br>Count of Artworks=%{text}<extra></extra>",
         "legendgroup": "porcelain tile mosaic",
         "marker": {
          "color": "#19d3f3",
          "pattern": {
           "shape": ""
          }
         },
         "name": "porcelain tile mosaic",
         "offsetgroup": "porcelain tile mosaic",
         "orientation": "v",
         "showlegend": true,
         "text": [
          1
         ],
         "textposition": "auto",
         "type": "bar",
         "x": [
          2000
         ],
         "xaxis": "x",
         "y": [
          1
         ],
         "yaxis": "y"
        },
        {
         "alignmentgroup": "True",
         "hovertemplate": "MATERIAL=sand blasted concrete<br>DECADE=%{x}<br>Count of Artworks=%{text}<extra></extra>",
         "legendgroup": "sand blasted concrete",
         "marker": {
          "color": "#FF6692",
          "pattern": {
           "shape": ""
          }
         },
         "name": "sand blasted concrete",
         "offsetgroup": "sand blasted concrete",
         "orientation": "v",
         "showlegend": true,
         "text": [
          1
         ],
         "textposition": "auto",
         "type": "bar",
         "x": [
          2000
         ],
         "xaxis": "x",
         "y": [
          1
         ],
         "yaxis": "y"
        },
        {
         "alignmentgroup": "True",
         "hovertemplate": "MATERIAL=stained glass and porcelain tile mosaic on concrete wall <br>DECADE=%{x}<br>Count of Artworks=%{text}<extra></extra>",
         "legendgroup": "stained glass and porcelain tile mosaic on concrete wall ",
         "marker": {
          "color": "#B6E880",
          "pattern": {
           "shape": ""
          }
         },
         "name": "stained glass and porcelain tile mosaic on concrete wall ",
         "offsetgroup": "stained glass and porcelain tile mosaic on concrete wall ",
         "orientation": "v",
         "showlegend": true,
         "text": [
          1
         ],
         "textposition": "auto",
         "type": "bar",
         "x": [
          2000
         ],
         "xaxis": "x",
         "y": [
          1
         ],
         "yaxis": "y"
        },
        {
         "alignmentgroup": "True",
         "hovertemplate": "MATERIAL=stainless steel <br>DECADE=%{x}<br>Count of Artworks=%{text}<extra></extra>",
         "legendgroup": "stainless steel ",
         "marker": {
          "color": "#FF97FF",
          "pattern": {
           "shape": ""
          }
         },
         "name": "stainless steel ",
         "offsetgroup": "stainless steel ",
         "orientation": "v",
         "showlegend": true,
         "text": [
          30
         ],
         "textposition": "auto",
         "type": "bar",
         "x": [
          2000
         ],
         "xaxis": "x",
         "y": [
          30
         ],
         "yaxis": "y"
        },
        {
         "alignmentgroup": "True",
         "hovertemplate": "MATERIAL=steel, copper, aluminum<br>DECADE=%{x}<br>Count of Artworks=%{text}<extra></extra>",
         "legendgroup": "steel, copper, aluminum",
         "marker": {
          "color": "#FECB52",
          "pattern": {
           "shape": ""
          }
         },
         "name": "steel, copper, aluminum",
         "offsetgroup": "steel, copper, aluminum",
         "orientation": "v",
         "showlegend": true,
         "text": [
          1
         ],
         "textposition": "auto",
         "type": "bar",
         "x": [
          2000
         ],
         "xaxis": "x",
         "y": [
          1
         ],
         "yaxis": "y"
        },
        {
         "alignmentgroup": "True",
         "hovertemplate": "MATERIAL=stoneware and concrete<br>DECADE=%{x}<br>Count of Artworks=%{text}<extra></extra>",
         "legendgroup": "stoneware and concrete",
         "marker": {
          "color": "#636efa",
          "pattern": {
           "shape": ""
          }
         },
         "name": "stoneware and concrete",
         "offsetgroup": "stoneware and concrete",
         "orientation": "v",
         "showlegend": true,
         "text": [
          1
         ],
         "textposition": "auto",
         "type": "bar",
         "x": [
          2000
         ],
         "xaxis": "x",
         "y": [
          1
         ],
         "yaxis": "y"
        },
        {
         "alignmentgroup": "True",
         "hovertemplate": "MATERIAL=stonhard flooring paint system<br>DECADE=%{x}<br>Count of Artworks=%{text}<extra></extra>",
         "legendgroup": "stonhard flooring paint system",
         "marker": {
          "color": "#EF553B",
          "pattern": {
           "shape": ""
          }
         },
         "name": "stonhard flooring paint system",
         "offsetgroup": "stonhard flooring paint system",
         "orientation": "v",
         "showlegend": true,
         "text": [
          1
         ],
         "textposition": "auto",
         "type": "bar",
         "x": [
          2000
         ],
         "xaxis": "x",
         "y": [
          1
         ],
         "yaxis": "y"
        },
        {
         "alignmentgroup": "True",
         "hovertemplate": "MATERIAL=vacuum formed ABS plastic <br>DECADE=%{x}<br>Count of Artworks=%{text}<extra></extra>",
         "legendgroup": "vacuum formed ABS plastic ",
         "marker": {
          "color": "#00cc96",
          "pattern": {
           "shape": ""
          }
         },
         "name": "vacuum formed ABS plastic ",
         "offsetgroup": "vacuum formed ABS plastic ",
         "orientation": "v",
         "showlegend": true,
         "text": [
          1
         ],
         "textposition": "auto",
         "type": "bar",
         "x": [
          2000
         ],
         "xaxis": "x",
         "y": [
          1
         ],
         "yaxis": "y"
        },
        {
         "alignmentgroup": "True",
         "hovertemplate": "MATERIAL=wood and glass<br>DECADE=%{x}<br>Count of Artworks=%{text}<extra></extra>",
         "legendgroup": "wood and glass",
         "marker": {
          "color": "#ab63fa",
          "pattern": {
           "shape": ""
          }
         },
         "name": "wood and glass",
         "offsetgroup": "wood and glass",
         "orientation": "v",
         "showlegend": true,
         "text": [
          1
         ],
         "textposition": "auto",
         "type": "bar",
         "x": [
          2000
         ],
         "xaxis": "x",
         "y": [
          1
         ],
         "yaxis": "y"
        },
        {
         "alignmentgroup": "True",
         "hovertemplate": "MATERIAL=wood construction, mixed media, found objects and photographs<br>DECADE=%{x}<br>Count of Artworks=%{text}<extra></extra>",
         "legendgroup": "wood construction, mixed media, found objects and photographs",
         "marker": {
          "color": "#FFA15A",
          "pattern": {
           "shape": ""
          }
         },
         "name": "wood construction, mixed media, found objects and photographs",
         "offsetgroup": "wood construction, mixed media, found objects and photographs",
         "orientation": "v",
         "showlegend": true,
         "text": [
          1
         ],
         "textposition": "auto",
         "type": "bar",
         "x": [
          2000
         ],
         "xaxis": "x",
         "y": [
          1
         ],
         "yaxis": "y"
        },
        {
         "alignmentgroup": "True",
         "hovertemplate": "MATERIAL=wood, mirror, fluorescent light<br>DECADE=%{x}<br>Count of Artworks=%{text}<extra></extra>",
         "legendgroup": "wood, mirror, fluorescent light",
         "marker": {
          "color": "#19d3f3",
          "pattern": {
           "shape": ""
          }
         },
         "name": "wood, mirror, fluorescent light",
         "offsetgroup": "wood, mirror, fluorescent light",
         "orientation": "v",
         "showlegend": true,
         "text": [
          1
         ],
         "textposition": "auto",
         "type": "bar",
         "x": [
          2000
         ],
         "xaxis": "x",
         "y": [
          1
         ],
         "yaxis": "y"
        },
        {
         "alignmentgroup": "True",
         "hovertemplate": "MATERIAL=LED panels and software<br>DECADE=%{x}<br>Count of Artworks=%{text}<extra></extra>",
         "legendgroup": "LED panels and software",
         "marker": {
          "color": "#FF6692",
          "pattern": {
           "shape": ""
          }
         },
         "name": "LED panels and software",
         "offsetgroup": "LED panels and software",
         "orientation": "v",
         "showlegend": true,
         "text": [
          1
         ],
         "textposition": "auto",
         "type": "bar",
         "x": [
          2010
         ],
         "xaxis": "x",
         "y": [
          1
         ],
         "yaxis": "y"
        },
        {
         "alignmentgroup": "True",
         "hovertemplate": "MATERIAL=LED panels and video<br>DECADE=%{x}<br>Count of Artworks=%{text}<extra></extra>",
         "legendgroup": "LED panels and video",
         "marker": {
          "color": "#B6E880",
          "pattern": {
           "shape": ""
          }
         },
         "name": "LED panels and video",
         "offsetgroup": "LED panels and video",
         "orientation": "v",
         "showlegend": true,
         "text": [
          1
         ],
         "textposition": "auto",
         "type": "bar",
         "x": [
          2010
         ],
         "xaxis": "x",
         "y": [
          1
         ],
         "yaxis": "y"
        },
        {
         "alignmentgroup": "True",
         "hovertemplate": "MATERIAL=LED, acrylic panels, software<br>DECADE=%{x}<br>Count of Artworks=%{text}<extra></extra>",
         "legendgroup": "LED, acrylic panels, software",
         "marker": {
          "color": "#FF97FF",
          "pattern": {
           "shape": ""
          }
         },
         "name": "LED, acrylic panels, software",
         "offsetgroup": "LED, acrylic panels, software",
         "orientation": "v",
         "showlegend": true,
         "text": [
          1
         ],
         "textposition": "auto",
         "type": "bar",
         "x": [
          2010
         ],
         "xaxis": "x",
         "y": [
          1
         ],
         "yaxis": "y"
        },
        {
         "alignmentgroup": "True",
         "hovertemplate": "MATERIAL=Plywood, aluminum, steel, glass, Phenolic resin<br>DECADE=%{x}<br>Count of Artworks=%{text}<extra></extra>",
         "legendgroup": "Plywood, aluminum, steel, glass, Phenolic resin",
         "marker": {
          "color": "#FECB52",
          "pattern": {
           "shape": ""
          }
         },
         "name": "Plywood, aluminum, steel, glass, Phenolic resin",
         "offsetgroup": "Plywood, aluminum, steel, glass, Phenolic resin",
         "orientation": "v",
         "showlegend": true,
         "text": [
          1
         ],
         "textposition": "auto",
         "type": "bar",
         "x": [
          2010
         ],
         "xaxis": "x",
         "y": [
          1
         ],
         "yaxis": "y"
        },
        {
         "alignmentgroup": "True",
         "hovertemplate": "MATERIAL=aluminum<br>DECADE=%{x}<br>Count of Artworks=%{text}<extra></extra>",
         "legendgroup": "aluminum",
         "marker": {
          "color": "#636efa",
          "pattern": {
           "shape": ""
          }
         },
         "name": "aluminum",
         "offsetgroup": "aluminum",
         "orientation": "v",
         "showlegend": true,
         "text": [
          2
         ],
         "textposition": "auto",
         "type": "bar",
         "x": [
          2010
         ],
         "xaxis": "x",
         "y": [
          2
         ],
         "yaxis": "y"
        },
        {
         "alignmentgroup": "True",
         "hovertemplate": "MATERIAL=aluminum and glass<br>DECADE=%{x}<br>Count of Artworks=%{text}<extra></extra>",
         "legendgroup": "aluminum and glass",
         "marker": {
          "color": "#EF553B",
          "pattern": {
           "shape": ""
          }
         },
         "name": "aluminum and glass",
         "offsetgroup": "aluminum and glass",
         "orientation": "v",
         "showlegend": true,
         "text": [
          2
         ],
         "textposition": "auto",
         "type": "bar",
         "x": [
          2010
         ],
         "xaxis": "x",
         "y": [
          2
         ],
         "yaxis": "y"
        },
        {
         "alignmentgroup": "True",
         "hovertemplate": "MATERIAL=aluminum, acrylic and LED<br>DECADE=%{x}<br>Count of Artworks=%{text}<extra></extra>",
         "legendgroup": "aluminum, acrylic and LED",
         "marker": {
          "color": "#00cc96",
          "pattern": {
           "shape": ""
          }
         },
         "name": "aluminum, acrylic and LED",
         "offsetgroup": "aluminum, acrylic and LED",
         "orientation": "v",
         "showlegend": true,
         "text": [
          1
         ],
         "textposition": "auto",
         "type": "bar",
         "x": [
          2010
         ],
         "xaxis": "x",
         "y": [
          1
         ],
         "yaxis": "y"
        },
        {
         "alignmentgroup": "True",
         "hovertemplate": "MATERIAL=aluminum, stainless steel and stone\n<br>DECADE=%{x}<br>Count of Artworks=%{text}<extra></extra>",
         "legendgroup": "aluminum, stainless steel and stone\n",
         "marker": {
          "color": "#ab63fa",
          "pattern": {
           "shape": ""
          }
         },
         "name": "aluminum, stainless steel and stone\n",
         "offsetgroup": "aluminum, stainless steel and stone\n",
         "orientation": "v",
         "showlegend": true,
         "text": [
          1
         ],
         "textposition": "auto",
         "type": "bar",
         "x": [
          2010
         ],
         "xaxis": "x",
         "y": [
          1
         ],
         "yaxis": "y"
        },
        {
         "alignmentgroup": "True",
         "hovertemplate": "MATERIAL=bronze and stainless steel<br>DECADE=%{x}<br>Count of Artworks=%{text}<extra></extra>",
         "legendgroup": "bronze and stainless steel",
         "marker": {
          "color": "#FFA15A",
          "pattern": {
           "shape": ""
          }
         },
         "name": "bronze and stainless steel",
         "offsetgroup": "bronze and stainless steel",
         "orientation": "v",
         "showlegend": true,
         "text": [
          1
         ],
         "textposition": "auto",
         "type": "bar",
         "x": [
          2010
         ],
         "xaxis": "x",
         "y": [
          1
         ],
         "yaxis": "y"
        },
        {
         "alignmentgroup": "True",
         "hovertemplate": "MATERIAL=bronze, stainless steel and granite<br>DECADE=%{x}<br>Count of Artworks=%{text}<extra></extra>",
         "legendgroup": "bronze, stainless steel and granite",
         "marker": {
          "color": "#19d3f3",
          "pattern": {
           "shape": ""
          }
         },
         "name": "bronze, stainless steel and granite",
         "offsetgroup": "bronze, stainless steel and granite",
         "orientation": "v",
         "showlegend": true,
         "text": [
          1
         ],
         "textposition": "auto",
         "type": "bar",
         "x": [
          2010
         ],
         "xaxis": "x",
         "y": [
          1
         ],
         "yaxis": "y"
        },
        {
         "alignmentgroup": "True",
         "hovertemplate": "MATERIAL=ceramic frit on glass, aluminum, steel, and concrete<br>DECADE=%{x}<br>Count of Artworks=%{text}<extra></extra>",
         "legendgroup": "ceramic frit on glass, aluminum, steel, and concrete",
         "marker": {
          "color": "#FF6692",
          "pattern": {
           "shape": ""
          }
         },
         "name": "ceramic frit on glass, aluminum, steel, and concrete",
         "offsetgroup": "ceramic frit on glass, aluminum, steel, and concrete",
         "orientation": "v",
         "showlegend": true,
         "text": [
          1
         ],
         "textposition": "auto",
         "type": "bar",
         "x": [
          2010
         ],
         "xaxis": "x",
         "y": [
          1
         ],
         "yaxis": "y"
        },
        {
         "alignmentgroup": "True",
         "hovertemplate": "MATERIAL=clay, acrylic, wood<br>DECADE=%{x}<br>Count of Artworks=%{text}<extra></extra>",
         "legendgroup": "clay, acrylic, wood",
         "marker": {
          "color": "#B6E880",
          "pattern": {
           "shape": ""
          }
         },
         "name": "clay, acrylic, wood",
         "offsetgroup": "clay, acrylic, wood",
         "orientation": "v",
         "showlegend": true,
         "text": [
          1
         ],
         "textposition": "auto",
         "type": "bar",
         "x": [
          2010
         ],
         "xaxis": "x",
         "y": [
          1
         ],
         "yaxis": "y"
        },
        {
         "alignmentgroup": "True",
         "hovertemplate": "MATERIAL=clear anodized aluminium <br>DECADE=%{x}<br>Count of Artworks=%{text}<extra></extra>",
         "legendgroup": "clear anodized aluminium ",
         "marker": {
          "color": "#FF97FF",
          "pattern": {
           "shape": ""
          }
         },
         "name": "clear anodized aluminium ",
         "offsetgroup": "clear anodized aluminium ",
         "orientation": "v",
         "showlegend": true,
         "text": [
          1
         ],
         "textposition": "auto",
         "type": "bar",
         "x": [
          2010
         ],
         "xaxis": "x",
         "y": [
          1
         ],
         "yaxis": "y"
        },
        {
         "alignmentgroup": "True",
         "hovertemplate": "MATERIAL=clear anodized aluminium, glass <br>DECADE=%{x}<br>Count of Artworks=%{text}<extra></extra>",
         "legendgroup": "clear anodized aluminium, glass ",
         "marker": {
          "color": "#FECB52",
          "pattern": {
           "shape": ""
          }
         },
         "name": "clear anodized aluminium, glass ",
         "offsetgroup": "clear anodized aluminium, glass ",
         "orientation": "v",
         "showlegend": true,
         "text": [
          1
         ],
         "textposition": "auto",
         "type": "bar",
         "x": [
          2010
         ],
         "xaxis": "x",
         "y": [
          1
         ],
         "yaxis": "y"
        },
        {
         "alignmentgroup": "True",
         "hovertemplate": "MATERIAL=concrete<br>DECADE=%{x}<br>Count of Artworks=%{text}<extra></extra>",
         "legendgroup": "concrete",
         "marker": {
          "color": "#636efa",
          "pattern": {
           "shape": ""
          }
         },
         "name": "concrete",
         "offsetgroup": "concrete",
         "orientation": "v",
         "showlegend": true,
         "text": [
          2
         ],
         "textposition": "auto",
         "type": "bar",
         "x": [
          2010
         ],
         "xaxis": "x",
         "y": [
          2
         ],
         "yaxis": "y"
        },
        {
         "alignmentgroup": "True",
         "hovertemplate": "MATERIAL=copper <br>DECADE=%{x}<br>Count of Artworks=%{text}<extra></extra>",
         "legendgroup": "copper ",
         "marker": {
          "color": "#EF553B",
          "pattern": {
           "shape": ""
          }
         },
         "name": "copper ",
         "offsetgroup": "copper ",
         "orientation": "v",
         "showlegend": true,
         "text": [
          2
         ],
         "textposition": "auto",
         "type": "bar",
         "x": [
          2010
         ],
         "xaxis": "x",
         "y": [
          2
         ],
         "yaxis": "y"
        },
        {
         "alignmentgroup": "True",
         "hovertemplate": "MATERIAL=digital media installation<br>DECADE=%{x}<br>Count of Artworks=%{text}<extra></extra>",
         "legendgroup": "digital media installation",
         "marker": {
          "color": "#00cc96",
          "pattern": {
           "shape": ""
          }
         },
         "name": "digital media installation",
         "offsetgroup": "digital media installation",
         "orientation": "v",
         "showlegend": true,
         "text": [
          1
         ],
         "textposition": "auto",
         "type": "bar",
         "x": [
          2010
         ],
         "xaxis": "x",
         "y": [
          1
         ],
         "yaxis": "y"
        },
        {
         "alignmentgroup": "True",
         "hovertemplate": "MATERIAL=glass, programmable LEDs, steel<br>DECADE=%{x}<br>Count of Artworks=%{text}<extra></extra>",
         "legendgroup": "glass, programmable LEDs, steel",
         "marker": {
          "color": "#ab63fa",
          "pattern": {
           "shape": ""
          }
         },
         "name": "glass, programmable LEDs, steel",
         "offsetgroup": "glass, programmable LEDs, steel",
         "orientation": "v",
         "showlegend": true,
         "text": [
          1
         ],
         "textposition": "auto",
         "type": "bar",
         "x": [
          2010
         ],
         "xaxis": "x",
         "y": [
          1
         ],
         "yaxis": "y"
        },
        {
         "alignmentgroup": "True",
         "hovertemplate": "MATERIAL=granite and cement<br>DECADE=%{x}<br>Count of Artworks=%{text}<extra></extra>",
         "legendgroup": "granite and cement",
         "marker": {
          "color": "#FFA15A",
          "pattern": {
           "shape": ""
          }
         },
         "name": "granite and cement",
         "offsetgroup": "granite and cement",
         "orientation": "v",
         "showlegend": true,
         "text": [
          1
         ],
         "textposition": "auto",
         "type": "bar",
         "x": [
          2010
         ],
         "xaxis": "x",
         "y": [
          1
         ],
         "yaxis": "y"
        },
        {
         "alignmentgroup": "True",
         "hovertemplate": "MATERIAL=marble and limestone<br>DECADE=%{x}<br>Count of Artworks=%{text}<extra></extra>",
         "legendgroup": "marble and limestone",
         "marker": {
          "color": "#19d3f3",
          "pattern": {
           "shape": ""
          }
         },
         "name": "marble and limestone",
         "offsetgroup": "marble and limestone",
         "orientation": "v",
         "showlegend": true,
         "text": [
          1
         ],
         "textposition": "auto",
         "type": "bar",
         "x": [
          2010
         ],
         "xaxis": "x",
         "y": [
          1
         ],
         "yaxis": "y"
        },
        {
         "alignmentgroup": "True",
         "hovertemplate": "MATERIAL=mixed fibre tapestry and wood <br>DECADE=%{x}<br>Count of Artworks=%{text}<extra></extra>",
         "legendgroup": "mixed fibre tapestry and wood ",
         "marker": {
          "color": "#FF6692",
          "pattern": {
           "shape": ""
          }
         },
         "name": "mixed fibre tapestry and wood ",
         "offsetgroup": "mixed fibre tapestry and wood ",
         "orientation": "v",
         "showlegend": true,
         "text": [
          1
         ],
         "textposition": "auto",
         "type": "bar",
         "x": [
          2010
         ],
         "xaxis": "x",
         "y": [
          1
         ],
         "yaxis": "y"
        },
        {
         "alignmentgroup": "True",
         "hovertemplate": "MATERIAL=powder coated aluminum posts, aluminum panels with reflective sheeting, stainless steel <br>DECADE=%{x}<br>Count of Artworks=%{text}<extra></extra>",
         "legendgroup": "powder coated aluminum posts, aluminum panels with reflective sheeting, stainless steel ",
         "marker": {
          "color": "#B6E880",
          "pattern": {
           "shape": ""
          }
         },
         "name": "powder coated aluminum posts, aluminum panels with reflective sheeting, stainless steel ",
         "offsetgroup": "powder coated aluminum posts, aluminum panels with reflective sheeting, stainless steel ",
         "orientation": "v",
         "showlegend": true,
         "text": [
          1
         ],
         "textposition": "auto",
         "type": "bar",
         "x": [
          2010
         ],
         "xaxis": "x",
         "y": [
          1
         ],
         "yaxis": "y"
        },
        {
         "alignmentgroup": "True",
         "hovertemplate": "MATERIAL=powder-coated aluminum<br>DECADE=%{x}<br>Count of Artworks=%{text}<extra></extra>",
         "legendgroup": "powder-coated aluminum",
         "marker": {
          "color": "#FF97FF",
          "pattern": {
           "shape": ""
          }
         },
         "name": "powder-coated aluminum",
         "offsetgroup": "powder-coated aluminum",
         "orientation": "v",
         "showlegend": true,
         "text": [
          2
         ],
         "textposition": "auto",
         "type": "bar",
         "x": [
          2010
         ],
         "xaxis": "x",
         "y": [
          2
         ],
         "yaxis": "y"
        },
        {
         "alignmentgroup": "True",
         "hovertemplate": "MATERIAL=powder-coated aluminum and stainless steel<br>DECADE=%{x}<br>Count of Artworks=%{text}<extra></extra>",
         "legendgroup": "powder-coated aluminum and stainless steel",
         "marker": {
          "color": "#FECB52",
          "pattern": {
           "shape": ""
          }
         },
         "name": "powder-coated aluminum and stainless steel",
         "offsetgroup": "powder-coated aluminum and stainless steel",
         "orientation": "v",
         "showlegend": true,
         "text": [
          1
         ],
         "textposition": "auto",
         "type": "bar",
         "x": [
          2010
         ],
         "xaxis": "x",
         "y": [
          1
         ],
         "yaxis": "y"
        },
        {
         "alignmentgroup": "True",
         "hovertemplate": "MATERIAL=powder-coated steel<br>DECADE=%{x}<br>Count of Artworks=%{text}<extra></extra>",
         "legendgroup": "powder-coated steel",
         "marker": {
          "color": "#636efa",
          "pattern": {
           "shape": ""
          }
         },
         "name": "powder-coated steel",
         "offsetgroup": "powder-coated steel",
         "orientation": "v",
         "showlegend": true,
         "text": [
          1
         ],
         "textposition": "auto",
         "type": "bar",
         "x": [
          2010
         ],
         "xaxis": "x",
         "y": [
          1
         ],
         "yaxis": "y"
        },
        {
         "alignmentgroup": "True",
         "hovertemplate": "MATERIAL=powder-coated steel and stainless steel<br>DECADE=%{x}<br>Count of Artworks=%{text}<extra></extra>",
         "legendgroup": "powder-coated steel and stainless steel",
         "marker": {
          "color": "#EF553B",
          "pattern": {
           "shape": ""
          }
         },
         "name": "powder-coated steel and stainless steel",
         "offsetgroup": "powder-coated steel and stainless steel",
         "orientation": "v",
         "showlegend": true,
         "text": [
          1
         ],
         "textposition": "auto",
         "type": "bar",
         "x": [
          2010
         ],
         "xaxis": "x",
         "y": [
          1
         ],
         "yaxis": "y"
        },
        {
         "alignmentgroup": "True",
         "hovertemplate": "MATERIAL=powder-coated, stainless steel<br>DECADE=%{x}<br>Count of Artworks=%{text}<extra></extra>",
         "legendgroup": "powder-coated, stainless steel",
         "marker": {
          "color": "#00cc96",
          "pattern": {
           "shape": ""
          }
         },
         "name": "powder-coated, stainless steel",
         "offsetgroup": "powder-coated, stainless steel",
         "orientation": "v",
         "showlegend": true,
         "text": [
          1
         ],
         "textposition": "auto",
         "type": "bar",
         "x": [
          2010
         ],
         "xaxis": "x",
         "y": [
          1
         ],
         "yaxis": "y"
        },
        {
         "alignmentgroup": "True",
         "hovertemplate": "MATERIAL=red anodized aluminium <br>DECADE=%{x}<br>Count of Artworks=%{text}<extra></extra>",
         "legendgroup": "red anodized aluminium ",
         "marker": {
          "color": "#ab63fa",
          "pattern": {
           "shape": ""
          }
         },
         "name": "red anodized aluminium ",
         "offsetgroup": "red anodized aluminium ",
         "orientation": "v",
         "showlegend": true,
         "text": [
          1
         ],
         "textposition": "auto",
         "type": "bar",
         "x": [
          2010
         ],
         "xaxis": "x",
         "y": [
          1
         ],
         "yaxis": "y"
        },
        {
         "alignmentgroup": "True",
         "hovertemplate": "MATERIAL=stainless steel<br>DECADE=%{x}<br>Count of Artworks=%{text}<extra></extra>",
         "legendgroup": "stainless steel",
         "marker": {
          "color": "#FFA15A",
          "pattern": {
           "shape": ""
          }
         },
         "name": "stainless steel",
         "offsetgroup": "stainless steel",
         "orientation": "v",
         "showlegend": true,
         "text": [
          3
         ],
         "textposition": "auto",
         "type": "bar",
         "x": [
          2010
         ],
         "xaxis": "x",
         "y": [
          3
         ],
         "yaxis": "y"
        },
        {
         "alignmentgroup": "True",
         "hovertemplate": "MATERIAL=stainless steel, aluminum, bronze and prefabricated components<br>DECADE=%{x}<br>Count of Artworks=%{text}<extra></extra>",
         "legendgroup": "stainless steel, aluminum, bronze and prefabricated components",
         "marker": {
          "color": "#19d3f3",
          "pattern": {
           "shape": ""
          }
         },
         "name": "stainless steel, aluminum, bronze and prefabricated components",
         "offsetgroup": "stainless steel, aluminum, bronze and prefabricated components",
         "orientation": "v",
         "showlegend": true,
         "text": [
          1
         ],
         "textposition": "auto",
         "type": "bar",
         "x": [
          2010
         ],
         "xaxis": "x",
         "y": [
          1
         ],
         "yaxis": "y"
        },
        {
         "alignmentgroup": "True",
         "hovertemplate": "MATERIAL=stainless steel, stone, LED<br>DECADE=%{x}<br>Count of Artworks=%{text}<extra></extra>",
         "legendgroup": "stainless steel, stone, LED",
         "marker": {
          "color": "#FF6692",
          "pattern": {
           "shape": ""
          }
         },
         "name": "stainless steel, stone, LED",
         "offsetgroup": "stainless steel, stone, LED",
         "orientation": "v",
         "showlegend": true,
         "text": [
          1
         ],
         "textposition": "auto",
         "type": "bar",
         "x": [
          2010
         ],
         "xaxis": "x",
         "y": [
          1
         ],
         "yaxis": "y"
        },
        {
         "alignmentgroup": "True",
         "hovertemplate": "MATERIAL=steel<br>DECADE=%{x}<br>Count of Artworks=%{text}<extra></extra>",
         "legendgroup": "steel",
         "marker": {
          "color": "#B6E880",
          "pattern": {
           "shape": ""
          }
         },
         "name": "steel",
         "offsetgroup": "steel",
         "orientation": "v",
         "showlegend": true,
         "text": [
          2
         ],
         "textposition": "auto",
         "type": "bar",
         "x": [
          2010
         ],
         "xaxis": "x",
         "y": [
          2
         ],
         "yaxis": "y"
        },
        {
         "alignmentgroup": "True",
         "hovertemplate": "MATERIAL=steel and found objects<br>DECADE=%{x}<br>Count of Artworks=%{text}<extra></extra>",
         "legendgroup": "steel and found objects",
         "marker": {
          "color": "#FF97FF",
          "pattern": {
           "shape": ""
          }
         },
         "name": "steel and found objects",
         "offsetgroup": "steel and found objects",
         "orientation": "v",
         "showlegend": true,
         "text": [
          1
         ],
         "textposition": "auto",
         "type": "bar",
         "x": [
          2010
         ],
         "xaxis": "x",
         "y": [
          1
         ],
         "yaxis": "y"
        },
        {
         "alignmentgroup": "True",
         "hovertemplate": "MATERIAL=steel and zinc <br>DECADE=%{x}<br>Count of Artworks=%{text}<extra></extra>",
         "legendgroup": "steel and zinc ",
         "marker": {
          "color": "#FECB52",
          "pattern": {
           "shape": ""
          }
         },
         "name": "steel and zinc ",
         "offsetgroup": "steel and zinc ",
         "orientation": "v",
         "showlegend": true,
         "text": [
          1
         ],
         "textposition": "auto",
         "type": "bar",
         "x": [
          2010
         ],
         "xaxis": "x",
         "y": [
          1
         ],
         "yaxis": "y"
        },
        {
         "alignmentgroup": "True",
         "hovertemplate": "MATERIAL=steel, brass, aluminum and rubber<br>DECADE=%{x}<br>Count of Artworks=%{text}<extra></extra>",
         "legendgroup": "steel, brass, aluminum and rubber",
         "marker": {
          "color": "#636efa",
          "pattern": {
           "shape": ""
          }
         },
         "name": "steel, brass, aluminum and rubber",
         "offsetgroup": "steel, brass, aluminum and rubber",
         "orientation": "v",
         "showlegend": true,
         "text": [
          1
         ],
         "textposition": "auto",
         "type": "bar",
         "x": [
          2010
         ],
         "xaxis": "x",
         "y": [
          1
         ],
         "yaxis": "y"
        },
        {
         "alignmentgroup": "True",
         "hovertemplate": "MATERIAL=steel, stainless steel and copper<br>DECADE=%{x}<br>Count of Artworks=%{text}<extra></extra>",
         "legendgroup": "steel, stainless steel and copper",
         "marker": {
          "color": "#EF553B",
          "pattern": {
           "shape": ""
          }
         },
         "name": "steel, stainless steel and copper",
         "offsetgroup": "steel, stainless steel and copper",
         "orientation": "v",
         "showlegend": true,
         "text": [
          1
         ],
         "textposition": "auto",
         "type": "bar",
         "x": [
          2010
         ],
         "xaxis": "x",
         "y": [
          1
         ],
         "yaxis": "y"
        }
       ],
       "layout": {
        "barmode": "relative",
        "height": 1000,
        "legend": {
         "title": {
          "text": "MATERIAL"
         },
         "tracegroupgap": 0
        },
        "template": {
         "data": {
          "bar": [
           {
            "error_x": {
             "color": "#2a3f5f"
            },
            "error_y": {
             "color": "#2a3f5f"
            },
            "marker": {
             "line": {
              "color": "#E5ECF6",
              "width": 0.5
             },
             "pattern": {
              "fillmode": "overlay",
              "size": 10,
              "solidity": 0.2
             }
            },
            "type": "bar"
           }
          ],
          "barpolar": [
           {
            "marker": {
             "line": {
              "color": "#E5ECF6",
              "width": 0.5
             },
             "pattern": {
              "fillmode": "overlay",
              "size": 10,
              "solidity": 0.2
             }
            },
            "type": "barpolar"
           }
          ],
          "carpet": [
           {
            "aaxis": {
             "endlinecolor": "#2a3f5f",
             "gridcolor": "white",
             "linecolor": "white",
             "minorgridcolor": "white",
             "startlinecolor": "#2a3f5f"
            },
            "baxis": {
             "endlinecolor": "#2a3f5f",
             "gridcolor": "white",
             "linecolor": "white",
             "minorgridcolor": "white",
             "startlinecolor": "#2a3f5f"
            },
            "type": "carpet"
           }
          ],
          "choropleth": [
           {
            "colorbar": {
             "outlinewidth": 0,
             "ticks": ""
            },
            "type": "choropleth"
           }
          ],
          "contour": [
           {
            "colorbar": {
             "outlinewidth": 0,
             "ticks": ""
            },
            "colorscale": [
             [
              0,
              "#0d0887"
             ],
             [
              0.1111111111111111,
              "#46039f"
             ],
             [
              0.2222222222222222,
              "#7201a8"
             ],
             [
              0.3333333333333333,
              "#9c179e"
             ],
             [
              0.4444444444444444,
              "#bd3786"
             ],
             [
              0.5555555555555556,
              "#d8576b"
             ],
             [
              0.6666666666666666,
              "#ed7953"
             ],
             [
              0.7777777777777778,
              "#fb9f3a"
             ],
             [
              0.8888888888888888,
              "#fdca26"
             ],
             [
              1,
              "#f0f921"
             ]
            ],
            "type": "contour"
           }
          ],
          "contourcarpet": [
           {
            "colorbar": {
             "outlinewidth": 0,
             "ticks": ""
            },
            "type": "contourcarpet"
           }
          ],
          "heatmap": [
           {
            "colorbar": {
             "outlinewidth": 0,
             "ticks": ""
            },
            "colorscale": [
             [
              0,
              "#0d0887"
             ],
             [
              0.1111111111111111,
              "#46039f"
             ],
             [
              0.2222222222222222,
              "#7201a8"
             ],
             [
              0.3333333333333333,
              "#9c179e"
             ],
             [
              0.4444444444444444,
              "#bd3786"
             ],
             [
              0.5555555555555556,
              "#d8576b"
             ],
             [
              0.6666666666666666,
              "#ed7953"
             ],
             [
              0.7777777777777778,
              "#fb9f3a"
             ],
             [
              0.8888888888888888,
              "#fdca26"
             ],
             [
              1,
              "#f0f921"
             ]
            ],
            "type": "heatmap"
           }
          ],
          "heatmapgl": [
           {
            "colorbar": {
             "outlinewidth": 0,
             "ticks": ""
            },
            "colorscale": [
             [
              0,
              "#0d0887"
             ],
             [
              0.1111111111111111,
              "#46039f"
             ],
             [
              0.2222222222222222,
              "#7201a8"
             ],
             [
              0.3333333333333333,
              "#9c179e"
             ],
             [
              0.4444444444444444,
              "#bd3786"
             ],
             [
              0.5555555555555556,
              "#d8576b"
             ],
             [
              0.6666666666666666,
              "#ed7953"
             ],
             [
              0.7777777777777778,
              "#fb9f3a"
             ],
             [
              0.8888888888888888,
              "#fdca26"
             ],
             [
              1,
              "#f0f921"
             ]
            ],
            "type": "heatmapgl"
           }
          ],
          "histogram": [
           {
            "marker": {
             "pattern": {
              "fillmode": "overlay",
              "size": 10,
              "solidity": 0.2
             }
            },
            "type": "histogram"
           }
          ],
          "histogram2d": [
           {
            "colorbar": {
             "outlinewidth": 0,
             "ticks": ""
            },
            "colorscale": [
             [
              0,
              "#0d0887"
             ],
             [
              0.1111111111111111,
              "#46039f"
             ],
             [
              0.2222222222222222,
              "#7201a8"
             ],
             [
              0.3333333333333333,
              "#9c179e"
             ],
             [
              0.4444444444444444,
              "#bd3786"
             ],
             [
              0.5555555555555556,
              "#d8576b"
             ],
             [
              0.6666666666666666,
              "#ed7953"
             ],
             [
              0.7777777777777778,
              "#fb9f3a"
             ],
             [
              0.8888888888888888,
              "#fdca26"
             ],
             [
              1,
              "#f0f921"
             ]
            ],
            "type": "histogram2d"
           }
          ],
          "histogram2dcontour": [
           {
            "colorbar": {
             "outlinewidth": 0,
             "ticks": ""
            },
            "colorscale": [
             [
              0,
              "#0d0887"
             ],
             [
              0.1111111111111111,
              "#46039f"
             ],
             [
              0.2222222222222222,
              "#7201a8"
             ],
             [
              0.3333333333333333,
              "#9c179e"
             ],
             [
              0.4444444444444444,
              "#bd3786"
             ],
             [
              0.5555555555555556,
              "#d8576b"
             ],
             [
              0.6666666666666666,
              "#ed7953"
             ],
             [
              0.7777777777777778,
              "#fb9f3a"
             ],
             [
              0.8888888888888888,
              "#fdca26"
             ],
             [
              1,
              "#f0f921"
             ]
            ],
            "type": "histogram2dcontour"
           }
          ],
          "mesh3d": [
           {
            "colorbar": {
             "outlinewidth": 0,
             "ticks": ""
            },
            "type": "mesh3d"
           }
          ],
          "parcoords": [
           {
            "line": {
             "colorbar": {
              "outlinewidth": 0,
              "ticks": ""
             }
            },
            "type": "parcoords"
           }
          ],
          "pie": [
           {
            "automargin": true,
            "type": "pie"
           }
          ],
          "scatter": [
           {
            "fillpattern": {
             "fillmode": "overlay",
             "size": 10,
             "solidity": 0.2
            },
            "type": "scatter"
           }
          ],
          "scatter3d": [
           {
            "line": {
             "colorbar": {
              "outlinewidth": 0,
              "ticks": ""
             }
            },
            "marker": {
             "colorbar": {
              "outlinewidth": 0,
              "ticks": ""
             }
            },
            "type": "scatter3d"
           }
          ],
          "scattercarpet": [
           {
            "marker": {
             "colorbar": {
              "outlinewidth": 0,
              "ticks": ""
             }
            },
            "type": "scattercarpet"
           }
          ],
          "scattergeo": [
           {
            "marker": {
             "colorbar": {
              "outlinewidth": 0,
              "ticks": ""
             }
            },
            "type": "scattergeo"
           }
          ],
          "scattergl": [
           {
            "marker": {
             "colorbar": {
              "outlinewidth": 0,
              "ticks": ""
             }
            },
            "type": "scattergl"
           }
          ],
          "scattermapbox": [
           {
            "marker": {
             "colorbar": {
              "outlinewidth": 0,
              "ticks": ""
             }
            },
            "type": "scattermapbox"
           }
          ],
          "scatterpolar": [
           {
            "marker": {
             "colorbar": {
              "outlinewidth": 0,
              "ticks": ""
             }
            },
            "type": "scatterpolar"
           }
          ],
          "scatterpolargl": [
           {
            "marker": {
             "colorbar": {
              "outlinewidth": 0,
              "ticks": ""
             }
            },
            "type": "scatterpolargl"
           }
          ],
          "scatterternary": [
           {
            "marker": {
             "colorbar": {
              "outlinewidth": 0,
              "ticks": ""
             }
            },
            "type": "scatterternary"
           }
          ],
          "surface": [
           {
            "colorbar": {
             "outlinewidth": 0,
             "ticks": ""
            },
            "colorscale": [
             [
              0,
              "#0d0887"
             ],
             [
              0.1111111111111111,
              "#46039f"
             ],
             [
              0.2222222222222222,
              "#7201a8"
             ],
             [
              0.3333333333333333,
              "#9c179e"
             ],
             [
              0.4444444444444444,
              "#bd3786"
             ],
             [
              0.5555555555555556,
              "#d8576b"
             ],
             [
              0.6666666666666666,
              "#ed7953"
             ],
             [
              0.7777777777777778,
              "#fb9f3a"
             ],
             [
              0.8888888888888888,
              "#fdca26"
             ],
             [
              1,
              "#f0f921"
             ]
            ],
            "type": "surface"
           }
          ],
          "table": [
           {
            "cells": {
             "fill": {
              "color": "#EBF0F8"
             },
             "line": {
              "color": "white"
             }
            },
            "header": {
             "fill": {
              "color": "#C8D4E3"
             },
             "line": {
              "color": "white"
             }
            },
            "type": "table"
           }
          ]
         },
         "layout": {
          "annotationdefaults": {
           "arrowcolor": "#2a3f5f",
           "arrowhead": 0,
           "arrowwidth": 1
          },
          "autotypenumbers": "strict",
          "coloraxis": {
           "colorbar": {
            "outlinewidth": 0,
            "ticks": ""
           }
          },
          "colorscale": {
           "diverging": [
            [
             0,
             "#8e0152"
            ],
            [
             0.1,
             "#c51b7d"
            ],
            [
             0.2,
             "#de77ae"
            ],
            [
             0.3,
             "#f1b6da"
            ],
            [
             0.4,
             "#fde0ef"
            ],
            [
             0.5,
             "#f7f7f7"
            ],
            [
             0.6,
             "#e6f5d0"
            ],
            [
             0.7,
             "#b8e186"
            ],
            [
             0.8,
             "#7fbc41"
            ],
            [
             0.9,
             "#4d9221"
            ],
            [
             1,
             "#276419"
            ]
           ],
           "sequential": [
            [
             0,
             "#0d0887"
            ],
            [
             0.1111111111111111,
             "#46039f"
            ],
            [
             0.2222222222222222,
             "#7201a8"
            ],
            [
             0.3333333333333333,
             "#9c179e"
            ],
            [
             0.4444444444444444,
             "#bd3786"
            ],
            [
             0.5555555555555556,
             "#d8576b"
            ],
            [
             0.6666666666666666,
             "#ed7953"
            ],
            [
             0.7777777777777778,
             "#fb9f3a"
            ],
            [
             0.8888888888888888,
             "#fdca26"
            ],
            [
             1,
             "#f0f921"
            ]
           ],
           "sequentialminus": [
            [
             0,
             "#0d0887"
            ],
            [
             0.1111111111111111,
             "#46039f"
            ],
            [
             0.2222222222222222,
             "#7201a8"
            ],
            [
             0.3333333333333333,
             "#9c179e"
            ],
            [
             0.4444444444444444,
             "#bd3786"
            ],
            [
             0.5555555555555556,
             "#d8576b"
            ],
            [
             0.6666666666666666,
             "#ed7953"
            ],
            [
             0.7777777777777778,
             "#fb9f3a"
            ],
            [
             0.8888888888888888,
             "#fdca26"
            ],
            [
             1,
             "#f0f921"
            ]
           ]
          },
          "colorway": [
           "#636efa",
           "#EF553B",
           "#00cc96",
           "#ab63fa",
           "#FFA15A",
           "#19d3f3",
           "#FF6692",
           "#B6E880",
           "#FF97FF",
           "#FECB52"
          ],
          "font": {
           "color": "#2a3f5f"
          },
          "geo": {
           "bgcolor": "white",
           "lakecolor": "white",
           "landcolor": "#E5ECF6",
           "showlakes": true,
           "showland": true,
           "subunitcolor": "white"
          },
          "hoverlabel": {
           "align": "left"
          },
          "hovermode": "closest",
          "mapbox": {
           "style": "light"
          },
          "paper_bgcolor": "white",
          "plot_bgcolor": "#E5ECF6",
          "polar": {
           "angularaxis": {
            "gridcolor": "white",
            "linecolor": "white",
            "ticks": ""
           },
           "bgcolor": "#E5ECF6",
           "radialaxis": {
            "gridcolor": "white",
            "linecolor": "white",
            "ticks": ""
           }
          },
          "scene": {
           "xaxis": {
            "backgroundcolor": "#E5ECF6",
            "gridcolor": "white",
            "gridwidth": 2,
            "linecolor": "white",
            "showbackground": true,
            "ticks": "",
            "zerolinecolor": "white"
           },
           "yaxis": {
            "backgroundcolor": "#E5ECF6",
            "gridcolor": "white",
            "gridwidth": 2,
            "linecolor": "white",
            "showbackground": true,
            "ticks": "",
            "zerolinecolor": "white"
           },
           "zaxis": {
            "backgroundcolor": "#E5ECF6",
            "gridcolor": "white",
            "gridwidth": 2,
            "linecolor": "white",
            "showbackground": true,
            "ticks": "",
            "zerolinecolor": "white"
           }
          },
          "shapedefaults": {
           "line": {
            "color": "#2a3f5f"
           }
          },
          "ternary": {
           "aaxis": {
            "gridcolor": "white",
            "linecolor": "white",
            "ticks": ""
           },
           "baxis": {
            "gridcolor": "white",
            "linecolor": "white",
            "ticks": ""
           },
           "bgcolor": "#E5ECF6",
           "caxis": {
            "gridcolor": "white",
            "linecolor": "white",
            "ticks": ""
           }
          },
          "title": {
           "x": 0.05
          },
          "xaxis": {
           "automargin": true,
           "gridcolor": "white",
           "linecolor": "white",
           "ticks": "",
           "title": {
            "standoff": 15
           },
           "zerolinecolor": "white",
           "zerolinewidth": 2
          },
          "yaxis": {
           "automargin": true,
           "gridcolor": "white",
           "linecolor": "white",
           "ticks": "",
           "title": {
            "standoff": 15
           },
           "zerolinecolor": "white",
           "zerolinewidth": 2
          }
         }
        },
        "title": {
         "text": "Materials by Decade"
        },
        "width": 1500,
        "xaxis": {
         "anchor": "y",
         "domain": [
          0,
          1
         ],
         "title": {
          "text": "DECADE"
         }
        },
        "yaxis": {
         "anchor": "x",
         "domain": [
          0,
          1
         ],
         "title": {
          "text": "Count of Artworks"
         }
        }
       }
      }
     },
     "metadata": {},
     "output_type": "display_data"
    }
   ],
   "source": [
    "\n",
    "# Creating the stacked bar chart\n",
    "fig = px.bar(\n",
    "    materials, x='DECADE', y='Counts', color='MATERIAL', title='Materials by Decade', labels={'Counts': 'Count of Artworks'}, text='Counts'\n",
    ")\n",
    "\n",
    "# setting the layout of the graph\n",
    "fig.update_layout(\n",
    "    width=1500,  \n",
    "    height=1000  \n",
    ")\n",
    "\n",
    "# Show the figure\n",
    "fig.show()\n",
    "\n",
    "# Source: https://plotly.com/python/bar-charts/"
   ]
  },
  {
   "cell_type": "markdown",
   "id": "b63bcb21",
   "metadata": {},
   "source": [
    "b) (2 points) You may have detected some difficulties with this task above. Discuss an aspect of the data which required some consideration or additional manipulation for this task."
   ]
  },
  {
   "cell_type": "markdown",
   "id": "a6fac108",
   "metadata": {},
   "source": []
  },
  {
   "cell_type": "markdown",
   "id": "33fce43f",
   "metadata": {},
   "source": [
    "**Answer**\n",
    "\n",
    "It might be more effective to group the materials since there are so many different types. This could help create a clearer graph that represents various events associated with each material type. For instance, grouping materials like stainless steel, alloy, and glass together could make it easier to analyze and understand the different material types."
   ]
  },
  {
   "cell_type": "markdown",
   "id": "7568e041",
   "metadata": {},
   "source": [
    "## Part C\n",
    "\n",
    "Consider the plot using geopandas and Folium (a library that it is possible you have not yet worked with) in the following below."
   ]
  },
  {
   "cell_type": "code",
   "execution_count": 624,
   "id": "18a3fbbd",
   "metadata": {},
   "outputs": [
    {
     "data": {
      "text/html": [
       "<div>\n",
       "<style scoped>\n",
       "    .dataframe tbody tr th:only-of-type {\n",
       "        vertical-align: middle;\n",
       "    }\n",
       "\n",
       "    .dataframe tbody tr th {\n",
       "        vertical-align: top;\n",
       "    }\n",
       "\n",
       "    .dataframe thead th {\n",
       "        text-align: right;\n",
       "    }\n",
       "</style>\n",
       "<table border=\"1\" class=\"dataframe\">\n",
       "  <thead>\n",
       "    <tr style=\"text-align: right;\">\n",
       "      <th></th>\n",
       "      <th>ACCESSION</th>\n",
       "      <th>PC</th>\n",
       "      <th>TEXT</th>\n",
       "      <th>TEXT_FR</th>\n",
       "      <th>ID</th>\n",
       "      <th>IMAGE</th>\n",
       "      <th>IMAGE_FR</th>\n",
       "      <th>CREDIT</th>\n",
       "      <th>LAT</th>\n",
       "      <th>LONG</th>\n",
       "      <th>...</th>\n",
       "      <th>LOCATION</th>\n",
       "      <th>LOCATION_FR</th>\n",
       "      <th>CITY</th>\n",
       "      <th>PROVINCE</th>\n",
       "      <th>DATE_MOD</th>\n",
       "      <th>MATERIAL</th>\n",
       "      <th>MATERIAL_FR</th>\n",
       "      <th>YEAR</th>\n",
       "      <th>ObjectId</th>\n",
       "      <th>geometry</th>\n",
       "    </tr>\n",
       "  </thead>\n",
       "  <tbody>\n",
       "    <tr>\n",
       "      <th>0</th>\n",
       "      <td>1977-0002</td>\n",
       "      <td>K1G 0N1</td>\n",
       "      <td>This artwork was a collaboration between Monik...</td>\n",
       "      <td>Cette œuvre d’art a été réalisée dans le cadre...</td>\n",
       "      <td>PA1</td>\n",
       "      <td>https://ottawa.ca/sites/default/files/images/f...</td>\n",
       "      <td>https://ottawa.ca/sites/default/files/images/f...</td>\n",
       "      <td>None</td>\n",
       "      <td>45.401988</td>\n",
       "      <td>-75.627848</td>\n",
       "      <td>...</td>\n",
       "      <td>1895 Russell Road, Dempsey Community Centre</td>\n",
       "      <td>1895 Russell Road, Dempsey Community Centre</td>\n",
       "      <td>Ottawa</td>\n",
       "      <td>ON</td>\n",
       "      <td>20210118</td>\n",
       "      <td>concrete and ceramic</td>\n",
       "      <td>béton et argile</td>\n",
       "      <td>1977.0</td>\n",
       "      <td>1</td>\n",
       "      <td>POINT (-75.62785 45.40199)</td>\n",
       "    </tr>\n",
       "    <tr>\n",
       "      <th>1</th>\n",
       "      <td>1978-0001</td>\n",
       "      <td>K1N 9C3</td>\n",
       "      <td>This papier mâché sculpture tells the story of...</td>\n",
       "      <td>Cette sculpture en papier mâché raconte l’hist...</td>\n",
       "      <td>PA2</td>\n",
       "      <td>https://ottawa.ca/sites/default/files/images/f...</td>\n",
       "      <td>https://ottawa.ca/sites/default/files/images/f...</td>\n",
       "      <td>None</td>\n",
       "      <td>45.427613</td>\n",
       "      <td>-75.692613</td>\n",
       "      <td>...</td>\n",
       "      <td>55 ByWard Market Building</td>\n",
       "      <td>55 ByWard Market Building</td>\n",
       "      <td>Ottawa</td>\n",
       "      <td>ON</td>\n",
       "      <td>20210118</td>\n",
       "      <td>papier maché, acrylic</td>\n",
       "      <td>papier maché, acrylique</td>\n",
       "      <td>1978.0</td>\n",
       "      <td>2</td>\n",
       "      <td>POINT (-75.69261 45.42761)</td>\n",
       "    </tr>\n",
       "    <tr>\n",
       "      <th>2</th>\n",
       "      <td>1986-0083</td>\n",
       "      <td>K1Z 8M7</td>\n",
       "      <td>Mural artist Pierre Hardy used his skills in o...</td>\n",
       "      <td>Le muraliste Pierre Hardy a mis à profit son t...</td>\n",
       "      <td>PA3</td>\n",
       "      <td>https://ottawa.ca/sites/default/files/images/f...</td>\n",
       "      <td>https://ottawa.ca/sites/default/files/images/f...</td>\n",
       "      <td>None</td>\n",
       "      <td>45.373096</td>\n",
       "      <td>-75.739452</td>\n",
       "      <td>...</td>\n",
       "      <td>1520 Caldwell Avenue, Carlington Rec Centre, B...</td>\n",
       "      <td>1520 Caldwell Avenue, Carlington Rec Centre, B...</td>\n",
       "      <td>Ottawa</td>\n",
       "      <td>ON</td>\n",
       "      <td>20210118</td>\n",
       "      <td>acrylic on concrete</td>\n",
       "      <td>acrylique sur ciment</td>\n",
       "      <td>1986.0</td>\n",
       "      <td>3</td>\n",
       "      <td>POINT (-75.73945 45.3731)</td>\n",
       "    </tr>\n",
       "    <tr>\n",
       "      <th>3</th>\n",
       "      <td>1986-0084</td>\n",
       "      <td>None</td>\n",
       "      <td>None</td>\n",
       "      <td>None</td>\n",
       "      <td>PA315</td>\n",
       "      <td>None</td>\n",
       "      <td>None</td>\n",
       "      <td>None</td>\n",
       "      <td>45.421920</td>\n",
       "      <td>-75.654656</td>\n",
       "      <td>...</td>\n",
       "      <td>275 Coventry Road, Fire Station 56</td>\n",
       "      <td>275 Coventry Road, Fire Station 56</td>\n",
       "      <td>Ottawa</td>\n",
       "      <td>ON</td>\n",
       "      <td>20210118</td>\n",
       "      <td>terrazzo, granite, and zinc</td>\n",
       "      <td>terrazo, granite et zinc</td>\n",
       "      <td>1986.0</td>\n",
       "      <td>4</td>\n",
       "      <td>POINT (-75.65466 45.42192)</td>\n",
       "    </tr>\n",
       "    <tr>\n",
       "      <th>4</th>\n",
       "      <td>1986-0085</td>\n",
       "      <td>K1N 7N4</td>\n",
       "      <td>Four wood figures connect the street to the fi...</td>\n",
       "      <td>Quatre personnages en bois créent un lien entr...</td>\n",
       "      <td>PA4</td>\n",
       "      <td>https://ottawa.ca/sites/default/files/images/f...</td>\n",
       "      <td>https://ottawa.ca/sites/default/files/images/f...</td>\n",
       "      <td>None</td>\n",
       "      <td>45.425360</td>\n",
       "      <td>-75.682985</td>\n",
       "      <td>...</td>\n",
       "      <td>530 King Edward Street, Fire Station 13</td>\n",
       "      <td>530 King Edward Street, Fire Station 13</td>\n",
       "      <td>Ottawa</td>\n",
       "      <td>ON</td>\n",
       "      <td>20210118</td>\n",
       "      <td>wood</td>\n",
       "      <td>bois</td>\n",
       "      <td>1986.0</td>\n",
       "      <td>5</td>\n",
       "      <td>POINT (-75.68298 45.42536)</td>\n",
       "    </tr>\n",
       "    <tr>\n",
       "      <th>...</th>\n",
       "      <td>...</td>\n",
       "      <td>...</td>\n",
       "      <td>...</td>\n",
       "      <td>...</td>\n",
       "      <td>...</td>\n",
       "      <td>...</td>\n",
       "      <td>...</td>\n",
       "      <td>...</td>\n",
       "      <td>...</td>\n",
       "      <td>...</td>\n",
       "      <td>...</td>\n",
       "      <td>...</td>\n",
       "      <td>...</td>\n",
       "      <td>...</td>\n",
       "      <td>...</td>\n",
       "      <td>...</td>\n",
       "      <td>...</td>\n",
       "      <td>...</td>\n",
       "      <td>...</td>\n",
       "      <td>...</td>\n",
       "      <td>...</td>\n",
       "    </tr>\n",
       "    <tr>\n",
       "      <th>170</th>\n",
       "      <td>2017-0069</td>\n",
       "      <td>None</td>\n",
       "      <td>Tempus is made up of several undulating colour...</td>\n",
       "      <td>Tempus est composée de plusieurs pétales color...</td>\n",
       "      <td>PA337</td>\n",
       "      <td>https://ottawa.ca/en/arts-heritage-and-events/...</td>\n",
       "      <td>https://ottawa.ca/fr/arts-patrimoine-et-evenem...</td>\n",
       "      <td>None</td>\n",
       "      <td>45.339986</td>\n",
       "      <td>-75.927333</td>\n",
       "      <td>...</td>\n",
       "      <td>1321-3043 Innovation Drive, Innovation Park an...</td>\n",
       "      <td>1321-3043 Innovation Drive, Innovation Park an...</td>\n",
       "      <td>Ottawa</td>\n",
       "      <td>ON</td>\n",
       "      <td>20210118</td>\n",
       "      <td>powder-coated aluminum</td>\n",
       "      <td>aluminium enduit de poudre</td>\n",
       "      <td>2016.0</td>\n",
       "      <td>171</td>\n",
       "      <td>POINT (-75.92733 45.33999)</td>\n",
       "    </tr>\n",
       "    <tr>\n",
       "      <th>171</th>\n",
       "      <td>2018-0001</td>\n",
       "      <td>None</td>\n",
       "      <td>Along the Boards pays homage to hockey, our be...</td>\n",
       "      <td>« Le long de la bande » et ses douze élégantes...</td>\n",
       "      <td>PA338</td>\n",
       "      <td>https://ottawa.ca/sites/default/files/images/f...</td>\n",
       "      <td>https://ottawa.ca/sites/default/files/images/f...</td>\n",
       "      <td>None</td>\n",
       "      <td>45.390901</td>\n",
       "      <td>-75.630215</td>\n",
       "      <td>...</td>\n",
       "      <td>Jim Tubman Chevrolet SENS Rink</td>\n",
       "      <td>Jim Tubman Chevrolet SENS Rink</td>\n",
       "      <td>Ottawa</td>\n",
       "      <td>ON</td>\n",
       "      <td>20210118</td>\n",
       "      <td>stainless steel</td>\n",
       "      <td>acier inoxydable</td>\n",
       "      <td>2017.0</td>\n",
       "      <td>172</td>\n",
       "      <td>POINT (-75.63022 45.3909)</td>\n",
       "    </tr>\n",
       "    <tr>\n",
       "      <th>172</th>\n",
       "      <td>s2010-0008</td>\n",
       "      <td>None</td>\n",
       "      <td>None</td>\n",
       "      <td>None</td>\n",
       "      <td>PA339</td>\n",
       "      <td>None</td>\n",
       "      <td>None</td>\n",
       "      <td>None</td>\n",
       "      <td>45.432048</td>\n",
       "      <td>-75.691648</td>\n",
       "      <td>...</td>\n",
       "      <td>172 Guigues Avenue, 3rd Floor (Storage Room A ...</td>\n",
       "      <td>172 Guigues Avenue, 3rd Floor (Storage Room A ...</td>\n",
       "      <td>Ottawa</td>\n",
       "      <td>ON</td>\n",
       "      <td>20210118</td>\n",
       "      <td>aluminium</td>\n",
       "      <td>aluminium</td>\n",
       "      <td>2010.0</td>\n",
       "      <td>173</td>\n",
       "      <td>POINT (-75.69165 45.43205)</td>\n",
       "    </tr>\n",
       "    <tr>\n",
       "      <th>173</th>\n",
       "      <td>s2016-0006</td>\n",
       "      <td>None</td>\n",
       "      <td>None</td>\n",
       "      <td>None</td>\n",
       "      <td>PA340</td>\n",
       "      <td>None</td>\n",
       "      <td>None</td>\n",
       "      <td>None</td>\n",
       "      <td>45.516177</td>\n",
       "      <td>-75.405868</td>\n",
       "      <td>...</td>\n",
       "      <td>Ken Emig’s studio, 532 Dunning Lane</td>\n",
       "      <td>Ken Emig’s studio, 532 Dunning Lane</td>\n",
       "      <td>Ottawa</td>\n",
       "      <td>ON</td>\n",
       "      <td>20210118</td>\n",
       "      <td>mixed media</td>\n",
       "      <td>None</td>\n",
       "      <td>2015.0</td>\n",
       "      <td>174</td>\n",
       "      <td>POINT (-75.40587 45.51618)</td>\n",
       "    </tr>\n",
       "    <tr>\n",
       "      <th>174</th>\n",
       "      <td>T1999-0024</td>\n",
       "      <td>None</td>\n",
       "      <td>None</td>\n",
       "      <td>None</td>\n",
       "      <td>PA341</td>\n",
       "      <td>None</td>\n",
       "      <td>None</td>\n",
       "      <td>None</td>\n",
       "      <td>45.432048</td>\n",
       "      <td>-75.691648</td>\n",
       "      <td>...</td>\n",
       "      <td>172 Guigues Avenue, Main Floor</td>\n",
       "      <td>172 Guigues Avenue, Main Floor</td>\n",
       "      <td>Ottawa</td>\n",
       "      <td>ON</td>\n",
       "      <td>20210118</td>\n",
       "      <td>steel, cast glass, photography</td>\n",
       "      <td>None</td>\n",
       "      <td>1998.0</td>\n",
       "      <td>175</td>\n",
       "      <td>POINT (-75.69165 45.43205)</td>\n",
       "    </tr>\n",
       "  </tbody>\n",
       "</table>\n",
       "<p>175 rows × 25 columns</p>\n",
       "</div>"
      ],
      "text/plain": [
       "      ACCESSION       PC                                               TEXT  \\\n",
       "0     1977-0002  K1G 0N1  This artwork was a collaboration between Monik...   \n",
       "1     1978-0001  K1N 9C3  This papier mâché sculpture tells the story of...   \n",
       "2     1986-0083  K1Z 8M7  Mural artist Pierre Hardy used his skills in o...   \n",
       "3     1986-0084     None                                               None   \n",
       "4     1986-0085  K1N 7N4  Four wood figures connect the street to the fi...   \n",
       "..          ...      ...                                                ...   \n",
       "170   2017-0069     None  Tempus is made up of several undulating colour...   \n",
       "171   2018-0001     None  Along the Boards pays homage to hockey, our be...   \n",
       "172  s2010-0008     None                                               None   \n",
       "173  s2016-0006     None                                               None   \n",
       "174  T1999-0024     None                                               None   \n",
       "\n",
       "                                               TEXT_FR     ID  \\\n",
       "0    Cette œuvre d’art a été réalisée dans le cadre...    PA1   \n",
       "1    Cette sculpture en papier mâché raconte l’hist...    PA2   \n",
       "2    Le muraliste Pierre Hardy a mis à profit son t...    PA3   \n",
       "3                                                 None  PA315   \n",
       "4    Quatre personnages en bois créent un lien entr...    PA4   \n",
       "..                                                 ...    ...   \n",
       "170  Tempus est composée de plusieurs pétales color...  PA337   \n",
       "171  « Le long de la bande » et ses douze élégantes...  PA338   \n",
       "172                                               None  PA339   \n",
       "173                                               None  PA340   \n",
       "174                                               None  PA341   \n",
       "\n",
       "                                                 IMAGE  \\\n",
       "0    https://ottawa.ca/sites/default/files/images/f...   \n",
       "1    https://ottawa.ca/sites/default/files/images/f...   \n",
       "2    https://ottawa.ca/sites/default/files/images/f...   \n",
       "3                                                 None   \n",
       "4    https://ottawa.ca/sites/default/files/images/f...   \n",
       "..                                                 ...   \n",
       "170  https://ottawa.ca/en/arts-heritage-and-events/...   \n",
       "171  https://ottawa.ca/sites/default/files/images/f...   \n",
       "172                                               None   \n",
       "173                                               None   \n",
       "174                                               None   \n",
       "\n",
       "                                              IMAGE_FR CREDIT        LAT  \\\n",
       "0    https://ottawa.ca/sites/default/files/images/f...   None  45.401988   \n",
       "1    https://ottawa.ca/sites/default/files/images/f...   None  45.427613   \n",
       "2    https://ottawa.ca/sites/default/files/images/f...   None  45.373096   \n",
       "3                                                 None   None  45.421920   \n",
       "4    https://ottawa.ca/sites/default/files/images/f...   None  45.425360   \n",
       "..                                                 ...    ...        ...   \n",
       "170  https://ottawa.ca/fr/arts-patrimoine-et-evenem...   None  45.339986   \n",
       "171  https://ottawa.ca/sites/default/files/images/f...   None  45.390901   \n",
       "172                                               None   None  45.432048   \n",
       "173                                               None   None  45.516177   \n",
       "174                                               None   None  45.432048   \n",
       "\n",
       "          LONG  ...                                           LOCATION  \\\n",
       "0   -75.627848  ...        1895 Russell Road, Dempsey Community Centre   \n",
       "1   -75.692613  ...                         55 ByWard Market Building    \n",
       "2   -75.739452  ...  1520 Caldwell Avenue, Carlington Rec Centre, B...   \n",
       "3   -75.654656  ...                 275 Coventry Road, Fire Station 56   \n",
       "4   -75.682985  ...            530 King Edward Street, Fire Station 13   \n",
       "..         ...  ...                                                ...   \n",
       "170 -75.927333  ...  1321-3043 Innovation Drive, Innovation Park an...   \n",
       "171 -75.630215  ...                     Jim Tubman Chevrolet SENS Rink   \n",
       "172 -75.691648  ...  172 Guigues Avenue, 3rd Floor (Storage Room A ...   \n",
       "173 -75.405868  ...                Ken Emig’s studio, 532 Dunning Lane   \n",
       "174 -75.691648  ...                     172 Guigues Avenue, Main Floor   \n",
       "\n",
       "                                           LOCATION_FR    CITY PROVINCE  \\\n",
       "0          1895 Russell Road, Dempsey Community Centre  Ottawa       ON   \n",
       "1                           55 ByWard Market Building   Ottawa       ON   \n",
       "2    1520 Caldwell Avenue, Carlington Rec Centre, B...  Ottawa       ON   \n",
       "3                   275 Coventry Road, Fire Station 56  Ottawa       ON   \n",
       "4              530 King Edward Street, Fire Station 13  Ottawa       ON   \n",
       "..                                                 ...     ...      ...   \n",
       "170  1321-3043 Innovation Drive, Innovation Park an...  Ottawa       ON   \n",
       "171                     Jim Tubman Chevrolet SENS Rink  Ottawa       ON   \n",
       "172  172 Guigues Avenue, 3rd Floor (Storage Room A ...  Ottawa       ON   \n",
       "173                Ken Emig’s studio, 532 Dunning Lane  Ottawa       ON   \n",
       "174                     172 Guigues Avenue, Main Floor  Ottawa       ON   \n",
       "\n",
       "     DATE_MOD                        MATERIAL                 MATERIAL_FR  \\\n",
       "0    20210118            concrete and ceramic             béton et argile   \n",
       "1    20210118           papier maché, acrylic     papier maché, acrylique   \n",
       "2    20210118             acrylic on concrete        acrylique sur ciment   \n",
       "3    20210118     terrazzo, granite, and zinc    terrazo, granite et zinc   \n",
       "4    20210118                           wood                         bois   \n",
       "..        ...                             ...                         ...   \n",
       "170  20210118          powder-coated aluminum  aluminium enduit de poudre   \n",
       "171  20210118                 stainless steel           acier inoxydable    \n",
       "172  20210118                      aluminium                    aluminium   \n",
       "173  20210118                     mixed media                        None   \n",
       "174  20210118  steel, cast glass, photography                        None   \n",
       "\n",
       "       YEAR ObjectId                    geometry  \n",
       "0    1977.0        1  POINT (-75.62785 45.40199)  \n",
       "1    1978.0        2  POINT (-75.69261 45.42761)  \n",
       "2    1986.0        3   POINT (-75.73945 45.3731)  \n",
       "3    1986.0        4  POINT (-75.65466 45.42192)  \n",
       "4    1986.0        5  POINT (-75.68298 45.42536)  \n",
       "..      ...      ...                         ...  \n",
       "170  2016.0      171  POINT (-75.92733 45.33999)  \n",
       "171  2017.0      172   POINT (-75.63022 45.3909)  \n",
       "172  2010.0      173  POINT (-75.69165 45.43205)  \n",
       "173  2015.0      174  POINT (-75.40587 45.51618)  \n",
       "174  1998.0      175  POINT (-75.69165 45.43205)  \n",
       "\n",
       "[175 rows x 25 columns]"
      ]
     },
     "execution_count": 624,
     "metadata": {},
     "output_type": "execute_result"
    }
   ],
   "source": [
    "# Do not alter this code\n",
    "public_art_geo_file = 'Public_Art.geojson'\n",
    "pa_df = gpd.read_file(public_art_geo_file)\n",
    "pa_df"
   ]
  },
  {
   "cell_type": "code",
   "execution_count": 627,
   "id": "08040610",
   "metadata": {},
   "outputs": [
    {
     "data": {
      "text/html": [
       "<div style=\"width:100%;\"><div style=\"position:relative;width:100%;height:0;padding-bottom:60%;\"><span style=\"color:#565656\">Make this Notebook Trusted to load map: File -> Trust Notebook</span><iframe srcdoc=\"&lt;!DOCTYPE html&gt;\n",
       "&lt;html&gt;\n",
       "&lt;head&gt;\n",
       "    \n",
       "    &lt;meta http-equiv=&quot;content-type&quot; content=&quot;text/html; charset=UTF-8&quot; /&gt;\n",
       "    \n",
       "        &lt;script&gt;\n",
       "            L_NO_TOUCH = false;\n",
       "            L_DISABLE_3D = false;\n",
       "        &lt;/script&gt;\n",
       "    \n",
       "    &lt;style&gt;html, body {width: 100%;height: 100%;margin: 0;padding: 0;}&lt;/style&gt;\n",
       "    &lt;style&gt;#map {position:absolute;top:0;bottom:0;right:0;left:0;}&lt;/style&gt;\n",
       "    &lt;script src=&quot;https://cdn.jsdelivr.net/npm/leaflet@1.9.3/dist/leaflet.js&quot;&gt;&lt;/script&gt;\n",
       "    &lt;script src=&quot;https://code.jquery.com/jquery-3.7.1.min.js&quot;&gt;&lt;/script&gt;\n",
       "    &lt;script src=&quot;https://cdn.jsdelivr.net/npm/bootstrap@5.2.2/dist/js/bootstrap.bundle.min.js&quot;&gt;&lt;/script&gt;\n",
       "    &lt;script src=&quot;https://cdnjs.cloudflare.com/ajax/libs/Leaflet.awesome-markers/2.0.2/leaflet.awesome-markers.js&quot;&gt;&lt;/script&gt;\n",
       "    &lt;link rel=&quot;stylesheet&quot; href=&quot;https://cdn.jsdelivr.net/npm/leaflet@1.9.3/dist/leaflet.css&quot;/&gt;\n",
       "    &lt;link rel=&quot;stylesheet&quot; href=&quot;https://cdn.jsdelivr.net/npm/bootstrap@5.2.2/dist/css/bootstrap.min.css&quot;/&gt;\n",
       "    &lt;link rel=&quot;stylesheet&quot; href=&quot;https://netdna.bootstrapcdn.com/bootstrap/3.0.0/css/bootstrap-glyphicons.css&quot;/&gt;\n",
       "    &lt;link rel=&quot;stylesheet&quot; href=&quot;https://cdn.jsdelivr.net/npm/@fortawesome/fontawesome-free@6.2.0/css/all.min.css&quot;/&gt;\n",
       "    &lt;link rel=&quot;stylesheet&quot; href=&quot;https://cdnjs.cloudflare.com/ajax/libs/Leaflet.awesome-markers/2.0.2/leaflet.awesome-markers.css&quot;/&gt;\n",
       "    &lt;link rel=&quot;stylesheet&quot; href=&quot;https://cdn.jsdelivr.net/gh/python-visualization/folium/folium/templates/leaflet.awesome.rotate.min.css&quot;/&gt;\n",
       "    \n",
       "            &lt;meta name=&quot;viewport&quot; content=&quot;width=device-width,\n",
       "                initial-scale=1.0, maximum-scale=1.0, user-scalable=no&quot; /&gt;\n",
       "            &lt;style&gt;\n",
       "                #map_7f9015f00f8a17af3072ba61aa863b8a {\n",
       "                    position: relative;\n",
       "                    width: 100.0%;\n",
       "                    height: 100.0%;\n",
       "                    left: 0.0%;\n",
       "                    top: 0.0%;\n",
       "                }\n",
       "                .leaflet-container { font-size: 1rem; }\n",
       "            &lt;/style&gt;\n",
       "        \n",
       "&lt;/head&gt;\n",
       "&lt;body&gt;\n",
       "    \n",
       "    \n",
       "            &lt;div class=&quot;folium-map&quot; id=&quot;map_7f9015f00f8a17af3072ba61aa863b8a&quot; &gt;&lt;/div&gt;\n",
       "        \n",
       "&lt;/body&gt;\n",
       "&lt;script&gt;\n",
       "    \n",
       "    \n",
       "            var map_7f9015f00f8a17af3072ba61aa863b8a = L.map(\n",
       "                &quot;map_7f9015f00f8a17af3072ba61aa863b8a&quot;,\n",
       "                {\n",
       "                    center: [45.4, -75.7],\n",
       "                    crs: L.CRS.EPSG3857,\n",
       "                    zoom: 12,\n",
       "                    zoomControl: true,\n",
       "                    preferCanvas: false,\n",
       "                }\n",
       "            );\n",
       "\n",
       "            \n",
       "\n",
       "        \n",
       "    \n",
       "            var tile_layer_92fa5dc5ec74774210b4cd02a0e723da = L.tileLayer(\n",
       "                &quot;https://tile.openstreetmap.org/{z}/{x}/{y}.png&quot;,\n",
       "                {&quot;attribution&quot;: &quot;\\u0026copy; \\u003ca href=\\&quot;https://www.openstreetmap.org/copyright\\&quot;\\u003eOpenStreetMap\\u003c/a\\u003e contributors&quot;, &quot;detectRetina&quot;: false, &quot;maxNativeZoom&quot;: 19, &quot;maxZoom&quot;: 19, &quot;minZoom&quot;: 0, &quot;noWrap&quot;: false, &quot;opacity&quot;: 1, &quot;subdomains&quot;: &quot;abc&quot;, &quot;tms&quot;: false}\n",
       "            );\n",
       "        \n",
       "    \n",
       "            tile_layer_92fa5dc5ec74774210b4cd02a0e723da.addTo(map_7f9015f00f8a17af3072ba61aa863b8a);\n",
       "        \n",
       "    \n",
       "            var marker_f7d17e9a1660c87c1bcc095303b3a033 = L.marker(\n",
       "                [45.401988, -75.627848],\n",
       "                {}\n",
       "            ).addTo(map_7f9015f00f8a17af3072ba61aa863b8a);\n",
       "        \n",
       "    \n",
       "        var popup_c6edf9a357a3a893d7aa89d0ec5539c4 = L.popup({&quot;maxWidth&quot;: &quot;100%&quot;});\n",
       "\n",
       "        \n",
       "            \n",
       "                var html_c9ba13ad94d8b5f688331c8d6567a02e = $(`&lt;div id=&quot;html_c9ba13ad94d8b5f688331c8d6567a02e&quot; style=&quot;width: 100.0%; height: 100.0%;&quot;&gt;Accession: 1977-0002&lt;/div&gt;`)[0];\n",
       "                popup_c6edf9a357a3a893d7aa89d0ec5539c4.setContent(html_c9ba13ad94d8b5f688331c8d6567a02e);\n",
       "            \n",
       "        \n",
       "\n",
       "        marker_f7d17e9a1660c87c1bcc095303b3a033.bindPopup(popup_c6edf9a357a3a893d7aa89d0ec5539c4)\n",
       "        ;\n",
       "\n",
       "        \n",
       "    \n",
       "    \n",
       "            var marker_8952232c8306b1744e84dfb5e2b0079b = L.marker(\n",
       "                [45.427613, -75.692613],\n",
       "                {}\n",
       "            ).addTo(map_7f9015f00f8a17af3072ba61aa863b8a);\n",
       "        \n",
       "    \n",
       "        var popup_e4fbadd3fe9e627269ade5b04849869e = L.popup({&quot;maxWidth&quot;: &quot;100%&quot;});\n",
       "\n",
       "        \n",
       "            \n",
       "                var html_37653b32a4ce55ecd2d1b06e5f17a5e3 = $(`&lt;div id=&quot;html_37653b32a4ce55ecd2d1b06e5f17a5e3&quot; style=&quot;width: 100.0%; height: 100.0%;&quot;&gt;Accession: 1978-0001&lt;/div&gt;`)[0];\n",
       "                popup_e4fbadd3fe9e627269ade5b04849869e.setContent(html_37653b32a4ce55ecd2d1b06e5f17a5e3);\n",
       "            \n",
       "        \n",
       "\n",
       "        marker_8952232c8306b1744e84dfb5e2b0079b.bindPopup(popup_e4fbadd3fe9e627269ade5b04849869e)\n",
       "        ;\n",
       "\n",
       "        \n",
       "    \n",
       "    \n",
       "            var marker_6464848effb7831fcb52d26ec8aefaf1 = L.marker(\n",
       "                [45.373096, -75.739452],\n",
       "                {}\n",
       "            ).addTo(map_7f9015f00f8a17af3072ba61aa863b8a);\n",
       "        \n",
       "    \n",
       "        var popup_b2d72a5e360e792b51e043ae4724ed10 = L.popup({&quot;maxWidth&quot;: &quot;100%&quot;});\n",
       "\n",
       "        \n",
       "            \n",
       "                var html_cf97a09b589034cacec2b91bb8a8fe57 = $(`&lt;div id=&quot;html_cf97a09b589034cacec2b91bb8a8fe57&quot; style=&quot;width: 100.0%; height: 100.0%;&quot;&gt;Accession: 1986-0083&lt;/div&gt;`)[0];\n",
       "                popup_b2d72a5e360e792b51e043ae4724ed10.setContent(html_cf97a09b589034cacec2b91bb8a8fe57);\n",
       "            \n",
       "        \n",
       "\n",
       "        marker_6464848effb7831fcb52d26ec8aefaf1.bindPopup(popup_b2d72a5e360e792b51e043ae4724ed10)\n",
       "        ;\n",
       "\n",
       "        \n",
       "    \n",
       "    \n",
       "            var marker_d0b71150ecec54e97839c57f13edb6cb = L.marker(\n",
       "                [45.42192, -75.654656],\n",
       "                {}\n",
       "            ).addTo(map_7f9015f00f8a17af3072ba61aa863b8a);\n",
       "        \n",
       "    \n",
       "        var popup_19a33db022febabad7b20cef2c7f8c91 = L.popup({&quot;maxWidth&quot;: &quot;100%&quot;});\n",
       "\n",
       "        \n",
       "            \n",
       "                var html_3ec4ce32e761ea6d3dbcb70cae8dcc7a = $(`&lt;div id=&quot;html_3ec4ce32e761ea6d3dbcb70cae8dcc7a&quot; style=&quot;width: 100.0%; height: 100.0%;&quot;&gt;Accession: 1986-0084&lt;/div&gt;`)[0];\n",
       "                popup_19a33db022febabad7b20cef2c7f8c91.setContent(html_3ec4ce32e761ea6d3dbcb70cae8dcc7a);\n",
       "            \n",
       "        \n",
       "\n",
       "        marker_d0b71150ecec54e97839c57f13edb6cb.bindPopup(popup_19a33db022febabad7b20cef2c7f8c91)\n",
       "        ;\n",
       "\n",
       "        \n",
       "    \n",
       "    \n",
       "            var marker_17c6df46f69ea340bc8bb95c7e81d6ce = L.marker(\n",
       "                [45.42536, -75.682985],\n",
       "                {}\n",
       "            ).addTo(map_7f9015f00f8a17af3072ba61aa863b8a);\n",
       "        \n",
       "    \n",
       "        var popup_ed4f136426a579dedaf51affba29e8bb = L.popup({&quot;maxWidth&quot;: &quot;100%&quot;});\n",
       "\n",
       "        \n",
       "            \n",
       "                var html_24be8712cb6d083a388c66ac763998c1 = $(`&lt;div id=&quot;html_24be8712cb6d083a388c66ac763998c1&quot; style=&quot;width: 100.0%; height: 100.0%;&quot;&gt;Accession: 1986-0085&lt;/div&gt;`)[0];\n",
       "                popup_ed4f136426a579dedaf51affba29e8bb.setContent(html_24be8712cb6d083a388c66ac763998c1);\n",
       "            \n",
       "        \n",
       "\n",
       "        marker_17c6df46f69ea340bc8bb95c7e81d6ce.bindPopup(popup_ed4f136426a579dedaf51affba29e8bb)\n",
       "        ;\n",
       "\n",
       "        \n",
       "    \n",
       "    \n",
       "            var marker_ec5a66bffd921daf5b90443627a9dcb0 = L.marker(\n",
       "                [45.360547, -75.792376],\n",
       "                {}\n",
       "            ).addTo(map_7f9015f00f8a17af3072ba61aa863b8a);\n",
       "        \n",
       "    \n",
       "        var popup_0490c57f7799a7a8d04fd0588a1d68de = L.popup({&quot;maxWidth&quot;: &quot;100%&quot;});\n",
       "\n",
       "        \n",
       "            \n",
       "                var html_31d3ddbb6d682f5f25c915e5da43606c = $(`&lt;div id=&quot;html_31d3ddbb6d682f5f25c915e5da43606c&quot; style=&quot;width: 100.0%; height: 100.0%;&quot;&gt;Accession: 1987-0072&lt;/div&gt;`)[0];\n",
       "                popup_0490c57f7799a7a8d04fd0588a1d68de.setContent(html_31d3ddbb6d682f5f25c915e5da43606c);\n",
       "            \n",
       "        \n",
       "\n",
       "        marker_ec5a66bffd921daf5b90443627a9dcb0.bindPopup(popup_0490c57f7799a7a8d04fd0588a1d68de)\n",
       "        ;\n",
       "\n",
       "        \n",
       "    \n",
       "    \n",
       "            var marker_edee0975c62e9402c83e0357d63a8bcb = L.marker(\n",
       "                [45.359131, -75.703085],\n",
       "                {}\n",
       "            ).addTo(map_7f9015f00f8a17af3072ba61aa863b8a);\n",
       "        \n",
       "    \n",
       "        var popup_a447ed24c96951e85664fd5b016b743f = L.popup({&quot;maxWidth&quot;: &quot;100%&quot;});\n",
       "\n",
       "        \n",
       "            \n",
       "                var html_ba2bf4648d7802f02633a09227eefdf0 = $(`&lt;div id=&quot;html_ba2bf4648d7802f02633a09227eefdf0&quot; style=&quot;width: 100.0%; height: 100.0%;&quot;&gt;Accession: 1987-0092&lt;/div&gt;`)[0];\n",
       "                popup_a447ed24c96951e85664fd5b016b743f.setContent(html_ba2bf4648d7802f02633a09227eefdf0);\n",
       "            \n",
       "        \n",
       "\n",
       "        marker_edee0975c62e9402c83e0357d63a8bcb.bindPopup(popup_a447ed24c96951e85664fd5b016b743f)\n",
       "        ;\n",
       "\n",
       "        \n",
       "    \n",
       "    \n",
       "            var marker_332dc4e329c9b86d1df2043187be7c21 = L.marker(\n",
       "                [45.360051, -75.793279],\n",
       "                {}\n",
       "            ).addTo(map_7f9015f00f8a17af3072ba61aa863b8a);\n",
       "        \n",
       "    \n",
       "        var popup_21fc167767a54fe50bc3f5fd574515e3 = L.popup({&quot;maxWidth&quot;: &quot;100%&quot;});\n",
       "\n",
       "        \n",
       "            \n",
       "                var html_99fefdb7a26fd2c71d1942606df4f2de = $(`&lt;div id=&quot;html_99fefdb7a26fd2c71d1942606df4f2de&quot; style=&quot;width: 100.0%; height: 100.0%;&quot;&gt;Accession: 1987-0095&lt;/div&gt;`)[0];\n",
       "                popup_21fc167767a54fe50bc3f5fd574515e3.setContent(html_99fefdb7a26fd2c71d1942606df4f2de);\n",
       "            \n",
       "        \n",
       "\n",
       "        marker_332dc4e329c9b86d1df2043187be7c21.bindPopup(popup_21fc167767a54fe50bc3f5fd574515e3)\n",
       "        ;\n",
       "\n",
       "        \n",
       "    \n",
       "    \n",
       "            var marker_272c1e4473a5c713fa1ea4b6f5734717 = L.marker(\n",
       "                [45.347399, -75.775039],\n",
       "                {}\n",
       "            ).addTo(map_7f9015f00f8a17af3072ba61aa863b8a);\n",
       "        \n",
       "    \n",
       "        var popup_750dbf7ec2974bccef8eedf7509bd256 = L.popup({&quot;maxWidth&quot;: &quot;100%&quot;});\n",
       "\n",
       "        \n",
       "            \n",
       "                var html_7235ec854acd727ffbc010948ef91df9 = $(`&lt;div id=&quot;html_7235ec854acd727ffbc010948ef91df9&quot; style=&quot;width: 100.0%; height: 100.0%;&quot;&gt;Accession: 1988-0038&lt;/div&gt;`)[0];\n",
       "                popup_750dbf7ec2974bccef8eedf7509bd256.setContent(html_7235ec854acd727ffbc010948ef91df9);\n",
       "            \n",
       "        \n",
       "\n",
       "        marker_272c1e4473a5c713fa1ea4b6f5734717.bindPopup(popup_750dbf7ec2974bccef8eedf7509bd256)\n",
       "        ;\n",
       "\n",
       "        \n",
       "    \n",
       "    \n",
       "            var marker_e6a0e31285243415cc97683d164c4417 = L.marker(\n",
       "                [45.450207, -75.655325],\n",
       "                {}\n",
       "            ).addTo(map_7f9015f00f8a17af3072ba61aa863b8a);\n",
       "        \n",
       "    \n",
       "        var popup_35a211726db0717470655f5e87c264e0 = L.popup({&quot;maxWidth&quot;: &quot;100%&quot;});\n",
       "\n",
       "        \n",
       "            \n",
       "                var html_7e78eb6873c9660f1fbc65a6cc92c8f0 = $(`&lt;div id=&quot;html_7e78eb6873c9660f1fbc65a6cc92c8f0&quot; style=&quot;width: 100.0%; height: 100.0%;&quot;&gt;Accession: 1988-0040&lt;/div&gt;`)[0];\n",
       "                popup_35a211726db0717470655f5e87c264e0.setContent(html_7e78eb6873c9660f1fbc65a6cc92c8f0);\n",
       "            \n",
       "        \n",
       "\n",
       "        marker_e6a0e31285243415cc97683d164c4417.bindPopup(popup_35a211726db0717470655f5e87c264e0)\n",
       "        ;\n",
       "\n",
       "        \n",
       "    \n",
       "    \n",
       "            var marker_be680baa91a1961f7024125d76ff8581 = L.marker(\n",
       "                [45.403638, -75.724719],\n",
       "                {}\n",
       "            ).addTo(map_7f9015f00f8a17af3072ba61aa863b8a);\n",
       "        \n",
       "    \n",
       "        var popup_9dc78ad312bbcdda1081b34ebafb0d52 = L.popup({&quot;maxWidth&quot;: &quot;100%&quot;});\n",
       "\n",
       "        \n",
       "            \n",
       "                var html_b5a40f9803ea235d243b775c7a55de87 = $(`&lt;div id=&quot;html_b5a40f9803ea235d243b775c7a55de87&quot; style=&quot;width: 100.0%; height: 100.0%;&quot;&gt;Accession: 1989-0017&lt;/div&gt;`)[0];\n",
       "                popup_9dc78ad312bbcdda1081b34ebafb0d52.setContent(html_b5a40f9803ea235d243b775c7a55de87);\n",
       "            \n",
       "        \n",
       "\n",
       "        marker_be680baa91a1961f7024125d76ff8581.bindPopup(popup_9dc78ad312bbcdda1081b34ebafb0d52)\n",
       "        ;\n",
       "\n",
       "        \n",
       "    \n",
       "    \n",
       "            var marker_0537f9614ca63f9ff23caad2deee867e = L.marker(\n",
       "                [45.403638, -75.724719],\n",
       "                {}\n",
       "            ).addTo(map_7f9015f00f8a17af3072ba61aa863b8a);\n",
       "        \n",
       "    \n",
       "        var popup_115c78f0f195ca64160eb18742939bda = L.popup({&quot;maxWidth&quot;: &quot;100%&quot;});\n",
       "\n",
       "        \n",
       "            \n",
       "                var html_28734349f747883a51afeaa24fed6ff7 = $(`&lt;div id=&quot;html_28734349f747883a51afeaa24fed6ff7&quot; style=&quot;width: 100.0%; height: 100.0%;&quot;&gt;Accession: 1989-0019&lt;/div&gt;`)[0];\n",
       "                popup_115c78f0f195ca64160eb18742939bda.setContent(html_28734349f747883a51afeaa24fed6ff7);\n",
       "            \n",
       "        \n",
       "\n",
       "        marker_0537f9614ca63f9ff23caad2deee867e.bindPopup(popup_115c78f0f195ca64160eb18742939bda)\n",
       "        ;\n",
       "\n",
       "        \n",
       "    \n",
       "    \n",
       "            var marker_89401c72802b3f6cd8231760e092fd5d = L.marker(\n",
       "                [45.384073, -75.741218],\n",
       "                {}\n",
       "            ).addTo(map_7f9015f00f8a17af3072ba61aa863b8a);\n",
       "        \n",
       "    \n",
       "        var popup_bad882f7aea922ce429fd54869287901 = L.popup({&quot;maxWidth&quot;: &quot;100%&quot;});\n",
       "\n",
       "        \n",
       "            \n",
       "                var html_b3762a87e326ed3478f7904b43c44344 = $(`&lt;div id=&quot;html_b3762a87e326ed3478f7904b43c44344&quot; style=&quot;width: 100.0%; height: 100.0%;&quot;&gt;Accession: 1989-0020&lt;/div&gt;`)[0];\n",
       "                popup_bad882f7aea922ce429fd54869287901.setContent(html_b3762a87e326ed3478f7904b43c44344);\n",
       "            \n",
       "        \n",
       "\n",
       "        marker_89401c72802b3f6cd8231760e092fd5d.bindPopup(popup_bad882f7aea922ce429fd54869287901)\n",
       "        ;\n",
       "\n",
       "        \n",
       "    \n",
       "    \n",
       "            var marker_37efadd2c96cf7d0623e1a4b61379c09 = L.marker(\n",
       "                [45.415478, -75.689035],\n",
       "                {}\n",
       "            ).addTo(map_7f9015f00f8a17af3072ba61aa863b8a);\n",
       "        \n",
       "    \n",
       "        var popup_c2fc74cfdfcea0860c2893d08f2d53af = L.popup({&quot;maxWidth&quot;: &quot;100%&quot;});\n",
       "\n",
       "        \n",
       "            \n",
       "                var html_32816775604879d962aad0851fb222b9 = $(`&lt;div id=&quot;html_32816775604879d962aad0851fb222b9&quot; style=&quot;width: 100.0%; height: 100.0%;&quot;&gt;Accession: 1989-0021&lt;/div&gt;`)[0];\n",
       "                popup_c2fc74cfdfcea0860c2893d08f2d53af.setContent(html_32816775604879d962aad0851fb222b9);\n",
       "            \n",
       "        \n",
       "\n",
       "        marker_37efadd2c96cf7d0623e1a4b61379c09.bindPopup(popup_c2fc74cfdfcea0860c2893d08f2d53af)\n",
       "        ;\n",
       "\n",
       "        \n",
       "    \n",
       "    \n",
       "            var marker_94da133a6bfe731af966012d5578f3b5 = L.marker(\n",
       "                [45.378451, -75.610229],\n",
       "                {}\n",
       "            ).addTo(map_7f9015f00f8a17af3072ba61aa863b8a);\n",
       "        \n",
       "    \n",
       "        var popup_20a5be2096a109c41585d5a7d78c711c = L.popup({&quot;maxWidth&quot;: &quot;100%&quot;});\n",
       "\n",
       "        \n",
       "            \n",
       "                var html_6812530e8239d3698bcff4f7bcdd97ba = $(`&lt;div id=&quot;html_6812530e8239d3698bcff4f7bcdd97ba&quot; style=&quot;width: 100.0%; height: 100.0%;&quot;&gt;Accession: 1989-0022&lt;/div&gt;`)[0];\n",
       "                popup_20a5be2096a109c41585d5a7d78c711c.setContent(html_6812530e8239d3698bcff4f7bcdd97ba);\n",
       "            \n",
       "        \n",
       "\n",
       "        marker_94da133a6bfe731af966012d5578f3b5.bindPopup(popup_20a5be2096a109c41585d5a7d78c711c)\n",
       "        ;\n",
       "\n",
       "        \n",
       "    \n",
       "    \n",
       "            var marker_99e3a1f1bc4d0327c0316e8793c120b2 = L.marker(\n",
       "                [45.430499, -75.686988],\n",
       "                {}\n",
       "            ).addTo(map_7f9015f00f8a17af3072ba61aa863b8a);\n",
       "        \n",
       "    \n",
       "        var popup_15bb7931581cbccf779288e28382a3a2 = L.popup({&quot;maxWidth&quot;: &quot;100%&quot;});\n",
       "\n",
       "        \n",
       "            \n",
       "                var html_a5c9969fa4a39b1a7bca6f9ae53049d3 = $(`&lt;div id=&quot;html_a5c9969fa4a39b1a7bca6f9ae53049d3&quot; style=&quot;width: 100.0%; height: 100.0%;&quot;&gt;Accession: 1990-0001&lt;/div&gt;`)[0];\n",
       "                popup_15bb7931581cbccf779288e28382a3a2.setContent(html_a5c9969fa4a39b1a7bca6f9ae53049d3);\n",
       "            \n",
       "        \n",
       "\n",
       "        marker_99e3a1f1bc4d0327c0316e8793c120b2.bindPopup(popup_15bb7931581cbccf779288e28382a3a2)\n",
       "        ;\n",
       "\n",
       "        \n",
       "    \n",
       "    \n",
       "            var marker_1bed91158931ceb3d50938eb1fecd75e = L.marker(\n",
       "                [45.379463, -75.654049],\n",
       "                {}\n",
       "            ).addTo(map_7f9015f00f8a17af3072ba61aa863b8a);\n",
       "        \n",
       "    \n",
       "        var popup_b4e0ad598d0162139dc3a49ff52fc0fd = L.popup({&quot;maxWidth&quot;: &quot;100%&quot;});\n",
       "\n",
       "        \n",
       "            \n",
       "                var html_fbdec8b5bbbfa4d80a826123078030cd = $(`&lt;div id=&quot;html_fbdec8b5bbbfa4d80a826123078030cd&quot; style=&quot;width: 100.0%; height: 100.0%;&quot;&gt;Accession: 1990-0030&lt;/div&gt;`)[0];\n",
       "                popup_b4e0ad598d0162139dc3a49ff52fc0fd.setContent(html_fbdec8b5bbbfa4d80a826123078030cd);\n",
       "            \n",
       "        \n",
       "\n",
       "        marker_1bed91158931ceb3d50938eb1fecd75e.bindPopup(popup_b4e0ad598d0162139dc3a49ff52fc0fd)\n",
       "        ;\n",
       "\n",
       "        \n",
       "    \n",
       "    \n",
       "            var marker_56d702d6a30829ef424d08cc9f11a10c = L.marker(\n",
       "                [45.363903, -75.634656],\n",
       "                {}\n",
       "            ).addTo(map_7f9015f00f8a17af3072ba61aa863b8a);\n",
       "        \n",
       "    \n",
       "        var popup_07cfbdc941bd394e25e4a0a94af8579e = L.popup({&quot;maxWidth&quot;: &quot;100%&quot;});\n",
       "\n",
       "        \n",
       "            \n",
       "                var html_9644f06c9b432f6a50dc6b40d0c51e71 = $(`&lt;div id=&quot;html_9644f06c9b432f6a50dc6b40d0c51e71&quot; style=&quot;width: 100.0%; height: 100.0%;&quot;&gt;Accession: 1991-0004&lt;/div&gt;`)[0];\n",
       "                popup_07cfbdc941bd394e25e4a0a94af8579e.setContent(html_9644f06c9b432f6a50dc6b40d0c51e71);\n",
       "            \n",
       "        \n",
       "\n",
       "        marker_56d702d6a30829ef424d08cc9f11a10c.bindPopup(popup_07cfbdc941bd394e25e4a0a94af8579e)\n",
       "        ;\n",
       "\n",
       "        \n",
       "    \n",
       "    \n",
       "            var marker_60c43eef58519da41e8e8b3c5a0e3f1d = L.marker(\n",
       "                [45.432048, -75.691648],\n",
       "                {}\n",
       "            ).addTo(map_7f9015f00f8a17af3072ba61aa863b8a);\n",
       "        \n",
       "    \n",
       "        var popup_5635c6a6a590524350738090308f62ee = L.popup({&quot;maxWidth&quot;: &quot;100%&quot;});\n",
       "\n",
       "        \n",
       "            \n",
       "                var html_40bff556385a9c837b42c7ad93d46623 = $(`&lt;div id=&quot;html_40bff556385a9c837b42c7ad93d46623&quot; style=&quot;width: 100.0%; height: 100.0%;&quot;&gt;Accession: 1991-0007&lt;/div&gt;`)[0];\n",
       "                popup_5635c6a6a590524350738090308f62ee.setContent(html_40bff556385a9c837b42c7ad93d46623);\n",
       "            \n",
       "        \n",
       "\n",
       "        marker_60c43eef58519da41e8e8b3c5a0e3f1d.bindPopup(popup_5635c6a6a590524350738090308f62ee)\n",
       "        ;\n",
       "\n",
       "        \n",
       "    \n",
       "    \n",
       "            var marker_4469c53bdfa4919ef3ac36748ee428b8 = L.marker(\n",
       "                [45.422992, -75.677901],\n",
       "                {}\n",
       "            ).addTo(map_7f9015f00f8a17af3072ba61aa863b8a);\n",
       "        \n",
       "    \n",
       "        var popup_de997f223937d281c1c64badb3bc9770 = L.popup({&quot;maxWidth&quot;: &quot;100%&quot;});\n",
       "\n",
       "        \n",
       "            \n",
       "                var html_738c9e2070ccef861c5a991ee7f9c5cd = $(`&lt;div id=&quot;html_738c9e2070ccef861c5a991ee7f9c5cd&quot; style=&quot;width: 100.0%; height: 100.0%;&quot;&gt;Accession: 1991-0008&lt;/div&gt;`)[0];\n",
       "                popup_de997f223937d281c1c64badb3bc9770.setContent(html_738c9e2070ccef861c5a991ee7f9c5cd);\n",
       "            \n",
       "        \n",
       "\n",
       "        marker_4469c53bdfa4919ef3ac36748ee428b8.bindPopup(popup_de997f223937d281c1c64badb3bc9770)\n",
       "        ;\n",
       "\n",
       "        \n",
       "    \n",
       "    \n",
       "            var marker_46337b5f5dfdfdf93e38838de06221f6 = L.marker(\n",
       "                [45.37225, -75.658971],\n",
       "                {}\n",
       "            ).addTo(map_7f9015f00f8a17af3072ba61aa863b8a);\n",
       "        \n",
       "    \n",
       "        var popup_493e86ccadc4cf216e7fed585cbb7493 = L.popup({&quot;maxWidth&quot;: &quot;100%&quot;});\n",
       "\n",
       "        \n",
       "            \n",
       "                var html_d6bfdd403d4b6888ddc7f6b412c5f3ec = $(`&lt;div id=&quot;html_d6bfdd403d4b6888ddc7f6b412c5f3ec&quot; style=&quot;width: 100.0%; height: 100.0%;&quot;&gt;Accession: 1991-0040&lt;/div&gt;`)[0];\n",
       "                popup_493e86ccadc4cf216e7fed585cbb7493.setContent(html_d6bfdd403d4b6888ddc7f6b412c5f3ec);\n",
       "            \n",
       "        \n",
       "\n",
       "        marker_46337b5f5dfdfdf93e38838de06221f6.bindPopup(popup_493e86ccadc4cf216e7fed585cbb7493)\n",
       "        ;\n",
       "\n",
       "        \n",
       "    \n",
       "    \n",
       "            var marker_b4b8d2b8848358347274a5c1d2f8ff39 = L.marker(\n",
       "                [45.401706, -75.729756],\n",
       "                {}\n",
       "            ).addTo(map_7f9015f00f8a17af3072ba61aa863b8a);\n",
       "        \n",
       "    \n",
       "        var popup_90b56c22e5712dc894993b7a42658390 = L.popup({&quot;maxWidth&quot;: &quot;100%&quot;});\n",
       "\n",
       "        \n",
       "            \n",
       "                var html_0d75f35a6c60f92fb36b0ebeaddbb782 = $(`&lt;div id=&quot;html_0d75f35a6c60f92fb36b0ebeaddbb782&quot; style=&quot;width: 100.0%; height: 100.0%;&quot;&gt;Accession: 1991-0043&lt;/div&gt;`)[0];\n",
       "                popup_90b56c22e5712dc894993b7a42658390.setContent(html_0d75f35a6c60f92fb36b0ebeaddbb782);\n",
       "            \n",
       "        \n",
       "\n",
       "        marker_b4b8d2b8848358347274a5c1d2f8ff39.bindPopup(popup_90b56c22e5712dc894993b7a42658390)\n",
       "        ;\n",
       "\n",
       "        \n",
       "    \n",
       "    \n",
       "            var marker_0b490db643f82375ead5949151f2d2cd = L.marker(\n",
       "                [45.409278, -75.701565],\n",
       "                {}\n",
       "            ).addTo(map_7f9015f00f8a17af3072ba61aa863b8a);\n",
       "        \n",
       "    \n",
       "        var popup_8499003edc37002db9dca81c91c7705f = L.popup({&quot;maxWidth&quot;: &quot;100%&quot;});\n",
       "\n",
       "        \n",
       "            \n",
       "                var html_c5b66fe0b552dc193800e6507bd0ac21 = $(`&lt;div id=&quot;html_c5b66fe0b552dc193800e6507bd0ac21&quot; style=&quot;width: 100.0%; height: 100.0%;&quot;&gt;Accession: 1992-0003&lt;/div&gt;`)[0];\n",
       "                popup_8499003edc37002db9dca81c91c7705f.setContent(html_c5b66fe0b552dc193800e6507bd0ac21);\n",
       "            \n",
       "        \n",
       "\n",
       "        marker_0b490db643f82375ead5949151f2d2cd.bindPopup(popup_8499003edc37002db9dca81c91c7705f)\n",
       "        ;\n",
       "\n",
       "        \n",
       "    \n",
       "    \n",
       "            var marker_609488735c2c730ed6b56ed7ef84e9eb = L.marker(\n",
       "                [45.389782, -75.672045],\n",
       "                {}\n",
       "            ).addTo(map_7f9015f00f8a17af3072ba61aa863b8a);\n",
       "        \n",
       "    \n",
       "        var popup_4f91e785daf1a383fe58365c87c4e713 = L.popup({&quot;maxWidth&quot;: &quot;100%&quot;});\n",
       "\n",
       "        \n",
       "            \n",
       "                var html_f31efa283ce72150b03f3285a973d8be = $(`&lt;div id=&quot;html_f31efa283ce72150b03f3285a973d8be&quot; style=&quot;width: 100.0%; height: 100.0%;&quot;&gt;Accession: 1992-0004&lt;/div&gt;`)[0];\n",
       "                popup_4f91e785daf1a383fe58365c87c4e713.setContent(html_f31efa283ce72150b03f3285a973d8be);\n",
       "            \n",
       "        \n",
       "\n",
       "        marker_609488735c2c730ed6b56ed7ef84e9eb.bindPopup(popup_4f91e785daf1a383fe58365c87c4e713)\n",
       "        ;\n",
       "\n",
       "        \n",
       "    \n",
       "    \n",
       "            var marker_73d798c689027062f12734f37189b760 = L.marker(\n",
       "                [45.426752, -75.672726],\n",
       "                {}\n",
       "            ).addTo(map_7f9015f00f8a17af3072ba61aa863b8a);\n",
       "        \n",
       "    \n",
       "        var popup_e810487233bc09e1189a26cb1c7c536a = L.popup({&quot;maxWidth&quot;: &quot;100%&quot;});\n",
       "\n",
       "        \n",
       "            \n",
       "                var html_9ceaa427c901762a16c4a4094bdb1485 = $(`&lt;div id=&quot;html_9ceaa427c901762a16c4a4094bdb1485&quot; style=&quot;width: 100.0%; height: 100.0%;&quot;&gt;Accession: 1992-0012&lt;/div&gt;`)[0];\n",
       "                popup_e810487233bc09e1189a26cb1c7c536a.setContent(html_9ceaa427c901762a16c4a4094bdb1485);\n",
       "            \n",
       "        \n",
       "\n",
       "        marker_73d798c689027062f12734f37189b760.bindPopup(popup_e810487233bc09e1189a26cb1c7c536a)\n",
       "        ;\n",
       "\n",
       "        \n",
       "    \n",
       "    \n",
       "            var marker_eacc6e2aa33e4381b2f62c9d9bc31a36 = L.marker(\n",
       "                [45.429947, -75.691032],\n",
       "                {}\n",
       "            ).addTo(map_7f9015f00f8a17af3072ba61aa863b8a);\n",
       "        \n",
       "    \n",
       "        var popup_d947fee76770e8a0d5cc62966c63d20c = L.popup({&quot;maxWidth&quot;: &quot;100%&quot;});\n",
       "\n",
       "        \n",
       "            \n",
       "                var html_5d1e2fd5332762149cce4b2ddf28304d = $(`&lt;div id=&quot;html_5d1e2fd5332762149cce4b2ddf28304d&quot; style=&quot;width: 100.0%; height: 100.0%;&quot;&gt;Accession: 1993-0001&lt;/div&gt;`)[0];\n",
       "                popup_d947fee76770e8a0d5cc62966c63d20c.setContent(html_5d1e2fd5332762149cce4b2ddf28304d);\n",
       "            \n",
       "        \n",
       "\n",
       "        marker_eacc6e2aa33e4381b2f62c9d9bc31a36.bindPopup(popup_d947fee76770e8a0d5cc62966c63d20c)\n",
       "        ;\n",
       "\n",
       "        \n",
       "    \n",
       "    \n",
       "            var marker_32adaf9b4334d45566922ab5c9fe02e6 = L.marker(\n",
       "                [45.429947, -75.691032],\n",
       "                {}\n",
       "            ).addTo(map_7f9015f00f8a17af3072ba61aa863b8a);\n",
       "        \n",
       "    \n",
       "        var popup_6d3925b49cd16676cb46633ae489e336 = L.popup({&quot;maxWidth&quot;: &quot;100%&quot;});\n",
       "\n",
       "        \n",
       "            \n",
       "                var html_feeb1d8df9027bfdde4b1972f0a749e2 = $(`&lt;div id=&quot;html_feeb1d8df9027bfdde4b1972f0a749e2&quot; style=&quot;width: 100.0%; height: 100.0%;&quot;&gt;Accession: 1993-0002&lt;/div&gt;`)[0];\n",
       "                popup_6d3925b49cd16676cb46633ae489e336.setContent(html_feeb1d8df9027bfdde4b1972f0a749e2);\n",
       "            \n",
       "        \n",
       "\n",
       "        marker_32adaf9b4334d45566922ab5c9fe02e6.bindPopup(popup_6d3925b49cd16676cb46633ae489e336)\n",
       "        ;\n",
       "\n",
       "        \n",
       "    \n",
       "    \n",
       "            var marker_3cb63006ab55dee6ee1b40ddf780077a = L.marker(\n",
       "                [45.425644, -75.68899],\n",
       "                {}\n",
       "            ).addTo(map_7f9015f00f8a17af3072ba61aa863b8a);\n",
       "        \n",
       "    \n",
       "        var popup_56ec44a98a4d6fded73acff2e8dd0b08 = L.popup({&quot;maxWidth&quot;: &quot;100%&quot;});\n",
       "\n",
       "        \n",
       "            \n",
       "                var html_1bbfc7b1469f062d13f6b8447c08a1f4 = $(`&lt;div id=&quot;html_1bbfc7b1469f062d13f6b8447c08a1f4&quot; style=&quot;width: 100.0%; height: 100.0%;&quot;&gt;Accession: 1993-0003&lt;/div&gt;`)[0];\n",
       "                popup_56ec44a98a4d6fded73acff2e8dd0b08.setContent(html_1bbfc7b1469f062d13f6b8447c08a1f4);\n",
       "            \n",
       "        \n",
       "\n",
       "        marker_3cb63006ab55dee6ee1b40ddf780077a.bindPopup(popup_56ec44a98a4d6fded73acff2e8dd0b08)\n",
       "        ;\n",
       "\n",
       "        \n",
       "    \n",
       "    \n",
       "            var marker_8157982ea705faa19f22cf9962db4602 = L.marker(\n",
       "                [45.439069, -75.696107],\n",
       "                {}\n",
       "            ).addTo(map_7f9015f00f8a17af3072ba61aa863b8a);\n",
       "        \n",
       "    \n",
       "        var popup_f161dcff019678e395a52e80cfee982d = L.popup({&quot;maxWidth&quot;: &quot;100%&quot;});\n",
       "\n",
       "        \n",
       "            \n",
       "                var html_ea4a7a98cea868be65b8ca18583468f6 = $(`&lt;div id=&quot;html_ea4a7a98cea868be65b8ca18583468f6&quot; style=&quot;width: 100.0%; height: 100.0%;&quot;&gt;Accession: 1994-0001&lt;/div&gt;`)[0];\n",
       "                popup_f161dcff019678e395a52e80cfee982d.setContent(html_ea4a7a98cea868be65b8ca18583468f6);\n",
       "            \n",
       "        \n",
       "\n",
       "        marker_8157982ea705faa19f22cf9962db4602.bindPopup(popup_f161dcff019678e395a52e80cfee982d)\n",
       "        ;\n",
       "\n",
       "        \n",
       "    \n",
       "    \n",
       "            var marker_29d8649a2fadc0b9488f608cce2f5652 = L.marker(\n",
       "                [45.43963, -75.693755],\n",
       "                {}\n",
       "            ).addTo(map_7f9015f00f8a17af3072ba61aa863b8a);\n",
       "        \n",
       "    \n",
       "        var popup_f0b8af9e4ca8095a8f9a612f324f20ed = L.popup({&quot;maxWidth&quot;: &quot;100%&quot;});\n",
       "\n",
       "        \n",
       "            \n",
       "                var html_fa62102ccb3adbf4a92d6f298179671a = $(`&lt;div id=&quot;html_fa62102ccb3adbf4a92d6f298179671a&quot; style=&quot;width: 100.0%; height: 100.0%;&quot;&gt;Accession: 1994-0002&lt;/div&gt;`)[0];\n",
       "                popup_f0b8af9e4ca8095a8f9a612f324f20ed.setContent(html_fa62102ccb3adbf4a92d6f298179671a);\n",
       "            \n",
       "        \n",
       "\n",
       "        marker_29d8649a2fadc0b9488f608cce2f5652.bindPopup(popup_f0b8af9e4ca8095a8f9a612f324f20ed)\n",
       "        ;\n",
       "\n",
       "        \n",
       "    \n",
       "    \n",
       "            var marker_f55f82c289c58a9a7db520479e9dcc83 = L.marker(\n",
       "                [45.340672, -75.761316],\n",
       "                {}\n",
       "            ).addTo(map_7f9015f00f8a17af3072ba61aa863b8a);\n",
       "        \n",
       "    \n",
       "        var popup_adb5aef4b2945b072a61cbb491a0c522 = L.popup({&quot;maxWidth&quot;: &quot;100%&quot;});\n",
       "\n",
       "        \n",
       "            \n",
       "                var html_ebc4e1aa7037c5e3097e037f2e238204 = $(`&lt;div id=&quot;html_ebc4e1aa7037c5e3097e037f2e238204&quot; style=&quot;width: 100.0%; height: 100.0%;&quot;&gt;Accession: 1994-0003&lt;/div&gt;`)[0];\n",
       "                popup_adb5aef4b2945b072a61cbb491a0c522.setContent(html_ebc4e1aa7037c5e3097e037f2e238204);\n",
       "            \n",
       "        \n",
       "\n",
       "        marker_f55f82c289c58a9a7db520479e9dcc83.bindPopup(popup_adb5aef4b2945b072a61cbb491a0c522)\n",
       "        ;\n",
       "\n",
       "        \n",
       "    \n",
       "    \n",
       "            var marker_cd987c0a6b24ae493906b49e1e00bf40 = L.marker(\n",
       "                [45.43963, -75.693755],\n",
       "                {}\n",
       "            ).addTo(map_7f9015f00f8a17af3072ba61aa863b8a);\n",
       "        \n",
       "    \n",
       "        var popup_54d9ce8140f2ff48fc855ce691638848 = L.popup({&quot;maxWidth&quot;: &quot;100%&quot;});\n",
       "\n",
       "        \n",
       "            \n",
       "                var html_c672bdbc537dd000ab6ce683971bf9e2 = $(`&lt;div id=&quot;html_c672bdbc537dd000ab6ce683971bf9e2&quot; style=&quot;width: 100.0%; height: 100.0%;&quot;&gt;Accession: 1994-0004&lt;/div&gt;`)[0];\n",
       "                popup_54d9ce8140f2ff48fc855ce691638848.setContent(html_c672bdbc537dd000ab6ce683971bf9e2);\n",
       "            \n",
       "        \n",
       "\n",
       "        marker_cd987c0a6b24ae493906b49e1e00bf40.bindPopup(popup_54d9ce8140f2ff48fc855ce691638848)\n",
       "        ;\n",
       "\n",
       "        \n",
       "    \n",
       "    \n",
       "            var marker_c6935712743084387e17eb1c3d0cd7eb = L.marker(\n",
       "                [45.439069, -75.696107],\n",
       "                {}\n",
       "            ).addTo(map_7f9015f00f8a17af3072ba61aa863b8a);\n",
       "        \n",
       "    \n",
       "        var popup_cb813f94cd88e40b9bcad059440c3fdf = L.popup({&quot;maxWidth&quot;: &quot;100%&quot;});\n",
       "\n",
       "        \n",
       "            \n",
       "                var html_be61bed3cc64490d104fc64542d57215 = $(`&lt;div id=&quot;html_be61bed3cc64490d104fc64542d57215&quot; style=&quot;width: 100.0%; height: 100.0%;&quot;&gt;Accession: 1994-0005&lt;/div&gt;`)[0];\n",
       "                popup_cb813f94cd88e40b9bcad059440c3fdf.setContent(html_be61bed3cc64490d104fc64542d57215);\n",
       "            \n",
       "        \n",
       "\n",
       "        marker_c6935712743084387e17eb1c3d0cd7eb.bindPopup(popup_cb813f94cd88e40b9bcad059440c3fdf)\n",
       "        ;\n",
       "\n",
       "        \n",
       "    \n",
       "    \n",
       "            var marker_de753c01c7a593be61e0ee3fdf16b2b2 = L.marker(\n",
       "                [45.439069, -75.696107],\n",
       "                {}\n",
       "            ).addTo(map_7f9015f00f8a17af3072ba61aa863b8a);\n",
       "        \n",
       "    \n",
       "        var popup_626cefb59789552bfb33c27ec2506b27 = L.popup({&quot;maxWidth&quot;: &quot;100%&quot;});\n",
       "\n",
       "        \n",
       "            \n",
       "                var html_2a5895c75d87f22aff036c1d0e2527a0 = $(`&lt;div id=&quot;html_2a5895c75d87f22aff036c1d0e2527a0&quot; style=&quot;width: 100.0%; height: 100.0%;&quot;&gt;Accession: 1994-0006&lt;/div&gt;`)[0];\n",
       "                popup_626cefb59789552bfb33c27ec2506b27.setContent(html_2a5895c75d87f22aff036c1d0e2527a0);\n",
       "            \n",
       "        \n",
       "\n",
       "        marker_de753c01c7a593be61e0ee3fdf16b2b2.bindPopup(popup_626cefb59789552bfb33c27ec2506b27)\n",
       "        ;\n",
       "\n",
       "        \n",
       "    \n",
       "    \n",
       "            var marker_1fdc11df4488f1f230f1fd1fc3294a30 = L.marker(\n",
       "                [45.439069, -75.696107],\n",
       "                {}\n",
       "            ).addTo(map_7f9015f00f8a17af3072ba61aa863b8a);\n",
       "        \n",
       "    \n",
       "        var popup_8c4396ea923fca918bc0161e74e34c21 = L.popup({&quot;maxWidth&quot;: &quot;100%&quot;});\n",
       "\n",
       "        \n",
       "            \n",
       "                var html_e310694a440de9b6f9c4862a489b6e0b = $(`&lt;div id=&quot;html_e310694a440de9b6f9c4862a489b6e0b&quot; style=&quot;width: 100.0%; height: 100.0%;&quot;&gt;Accession: 1994-0007&lt;/div&gt;`)[0];\n",
       "                popup_8c4396ea923fca918bc0161e74e34c21.setContent(html_e310694a440de9b6f9c4862a489b6e0b);\n",
       "            \n",
       "        \n",
       "\n",
       "        marker_1fdc11df4488f1f230f1fd1fc3294a30.bindPopup(popup_8c4396ea923fca918bc0161e74e34c21)\n",
       "        ;\n",
       "\n",
       "        \n",
       "    \n",
       "    \n",
       "            var marker_bdcb9f08e663b7997fd2076220d12dfa = L.marker(\n",
       "                [45.421254, -75.653829],\n",
       "                {}\n",
       "            ).addTo(map_7f9015f00f8a17af3072ba61aa863b8a);\n",
       "        \n",
       "    \n",
       "        var popup_e149e6c0d02203b9297b407f34ff3355 = L.popup({&quot;maxWidth&quot;: &quot;100%&quot;});\n",
       "\n",
       "        \n",
       "            \n",
       "                var html_e188afa926fc3bb10f9818d9e91aaf06 = $(`&lt;div id=&quot;html_e188afa926fc3bb10f9818d9e91aaf06&quot; style=&quot;width: 100.0%; height: 100.0%;&quot;&gt;Accession: 1994-0008&lt;/div&gt;`)[0];\n",
       "                popup_e149e6c0d02203b9297b407f34ff3355.setContent(html_e188afa926fc3bb10f9818d9e91aaf06);\n",
       "            \n",
       "        \n",
       "\n",
       "        marker_bdcb9f08e663b7997fd2076220d12dfa.bindPopup(popup_e149e6c0d02203b9297b407f34ff3355)\n",
       "        ;\n",
       "\n",
       "        \n",
       "    \n",
       "    \n",
       "            var marker_44342cf23f595680f0d4673202a8be54 = L.marker(\n",
       "                [45.42805, -75.68754],\n",
       "                {}\n",
       "            ).addTo(map_7f9015f00f8a17af3072ba61aa863b8a);\n",
       "        \n",
       "    \n",
       "        var popup_b7a13038610d4dcb3e337e1298034da9 = L.popup({&quot;maxWidth&quot;: &quot;100%&quot;});\n",
       "\n",
       "        \n",
       "            \n",
       "                var html_9941ec71b357807d9aaa5ffc6993ca0a = $(`&lt;div id=&quot;html_9941ec71b357807d9aaa5ffc6993ca0a&quot; style=&quot;width: 100.0%; height: 100.0%;&quot;&gt;Accession: 1994-0009&lt;/div&gt;`)[0];\n",
       "                popup_b7a13038610d4dcb3e337e1298034da9.setContent(html_9941ec71b357807d9aaa5ffc6993ca0a);\n",
       "            \n",
       "        \n",
       "\n",
       "        marker_44342cf23f595680f0d4673202a8be54.bindPopup(popup_b7a13038610d4dcb3e337e1298034da9)\n",
       "        ;\n",
       "\n",
       "        \n",
       "    \n",
       "    \n",
       "            var marker_2d5d8e7641c11d7a1bac7a2e7dcdb18b = L.marker(\n",
       "                [45.379621, -75.616101],\n",
       "                {}\n",
       "            ).addTo(map_7f9015f00f8a17af3072ba61aa863b8a);\n",
       "        \n",
       "    \n",
       "        var popup_32bd71099789bdb5e42b77c8a511f128 = L.popup({&quot;maxWidth&quot;: &quot;100%&quot;});\n",
       "\n",
       "        \n",
       "            \n",
       "                var html_dc52ad71f3175f5208b3ca37ae333981 = $(`&lt;div id=&quot;html_dc52ad71f3175f5208b3ca37ae333981&quot; style=&quot;width: 100.0%; height: 100.0%;&quot;&gt;Accession: 1995-0001&lt;/div&gt;`)[0];\n",
       "                popup_32bd71099789bdb5e42b77c8a511f128.setContent(html_dc52ad71f3175f5208b3ca37ae333981);\n",
       "            \n",
       "        \n",
       "\n",
       "        marker_2d5d8e7641c11d7a1bac7a2e7dcdb18b.bindPopup(popup_32bd71099789bdb5e42b77c8a511f128)\n",
       "        ;\n",
       "\n",
       "        \n",
       "    \n",
       "    \n",
       "            var marker_ec31ab4c88cd4dd312808e6186b274c2 = L.marker(\n",
       "                [45.379621, -75.616101],\n",
       "                {}\n",
       "            ).addTo(map_7f9015f00f8a17af3072ba61aa863b8a);\n",
       "        \n",
       "    \n",
       "        var popup_0f0d416d5917f2b969f8286c283a0351 = L.popup({&quot;maxWidth&quot;: &quot;100%&quot;});\n",
       "\n",
       "        \n",
       "            \n",
       "                var html_be56e6b5b70c67a90b2219f3f550de2f = $(`&lt;div id=&quot;html_be56e6b5b70c67a90b2219f3f550de2f&quot; style=&quot;width: 100.0%; height: 100.0%;&quot;&gt;Accession: 1995-0002&lt;/div&gt;`)[0];\n",
       "                popup_0f0d416d5917f2b969f8286c283a0351.setContent(html_be56e6b5b70c67a90b2219f3f550de2f);\n",
       "            \n",
       "        \n",
       "\n",
       "        marker_ec31ab4c88cd4dd312808e6186b274c2.bindPopup(popup_0f0d416d5917f2b969f8286c283a0351)\n",
       "        ;\n",
       "\n",
       "        \n",
       "    \n",
       "    \n",
       "            var marker_ac1ad8da702beeb26ebca3b55eb6581f = L.marker(\n",
       "                [45.379621, -75.616101],\n",
       "                {}\n",
       "            ).addTo(map_7f9015f00f8a17af3072ba61aa863b8a);\n",
       "        \n",
       "    \n",
       "        var popup_fd48cafb37365a9bf37b2e0dcea9cb98 = L.popup({&quot;maxWidth&quot;: &quot;100%&quot;});\n",
       "\n",
       "        \n",
       "            \n",
       "                var html_9523ccf46c8d32289f36395f3058b92f = $(`&lt;div id=&quot;html_9523ccf46c8d32289f36395f3058b92f&quot; style=&quot;width: 100.0%; height: 100.0%;&quot;&gt;Accession: 1995-0003&lt;/div&gt;`)[0];\n",
       "                popup_fd48cafb37365a9bf37b2e0dcea9cb98.setContent(html_9523ccf46c8d32289f36395f3058b92f);\n",
       "            \n",
       "        \n",
       "\n",
       "        marker_ac1ad8da702beeb26ebca3b55eb6581f.bindPopup(popup_fd48cafb37365a9bf37b2e0dcea9cb98)\n",
       "        ;\n",
       "\n",
       "        \n",
       "    \n",
       "    \n",
       "            var marker_963f7efaaddb74fb7b9a5be23e60c027 = L.marker(\n",
       "                [45.379621, -75.616101],\n",
       "                {}\n",
       "            ).addTo(map_7f9015f00f8a17af3072ba61aa863b8a);\n",
       "        \n",
       "    \n",
       "        var popup_82a5e46a72017db0005939e815660832 = L.popup({&quot;maxWidth&quot;: &quot;100%&quot;});\n",
       "\n",
       "        \n",
       "            \n",
       "                var html_d714d3318bcfaaf1d025380bcbbe45fd = $(`&lt;div id=&quot;html_d714d3318bcfaaf1d025380bcbbe45fd&quot; style=&quot;width: 100.0%; height: 100.0%;&quot;&gt;Accession: 1995-0004&lt;/div&gt;`)[0];\n",
       "                popup_82a5e46a72017db0005939e815660832.setContent(html_d714d3318bcfaaf1d025380bcbbe45fd);\n",
       "            \n",
       "        \n",
       "\n",
       "        marker_963f7efaaddb74fb7b9a5be23e60c027.bindPopup(popup_82a5e46a72017db0005939e815660832)\n",
       "        ;\n",
       "\n",
       "        \n",
       "    \n",
       "    \n",
       "            var marker_4bb4532f0520fdcbf01a3a9579f3df6f = L.marker(\n",
       "                [45.379621, -75.616101],\n",
       "                {}\n",
       "            ).addTo(map_7f9015f00f8a17af3072ba61aa863b8a);\n",
       "        \n",
       "    \n",
       "        var popup_3fdeefdf4d1bfd6392b39641583632a2 = L.popup({&quot;maxWidth&quot;: &quot;100%&quot;});\n",
       "\n",
       "        \n",
       "            \n",
       "                var html_363c22b2aa92b3dab22e8a02b770243c = $(`&lt;div id=&quot;html_363c22b2aa92b3dab22e8a02b770243c&quot; style=&quot;width: 100.0%; height: 100.0%;&quot;&gt;Accession: 1995-0005&lt;/div&gt;`)[0];\n",
       "                popup_3fdeefdf4d1bfd6392b39641583632a2.setContent(html_363c22b2aa92b3dab22e8a02b770243c);\n",
       "            \n",
       "        \n",
       "\n",
       "        marker_4bb4532f0520fdcbf01a3a9579f3df6f.bindPopup(popup_3fdeefdf4d1bfd6392b39641583632a2)\n",
       "        ;\n",
       "\n",
       "        \n",
       "    \n",
       "    \n",
       "            var marker_e71d8cd36c46ff6634a48c3d74d5eb0a = L.marker(\n",
       "                [45.379621, -75.616101],\n",
       "                {}\n",
       "            ).addTo(map_7f9015f00f8a17af3072ba61aa863b8a);\n",
       "        \n",
       "    \n",
       "        var popup_bfac9efb56d7e34aa734da7aa054e29d = L.popup({&quot;maxWidth&quot;: &quot;100%&quot;});\n",
       "\n",
       "        \n",
       "            \n",
       "                var html_9544270163bc99aab5474a51ebe66ada = $(`&lt;div id=&quot;html_9544270163bc99aab5474a51ebe66ada&quot; style=&quot;width: 100.0%; height: 100.0%;&quot;&gt;Accession: 1995-0006&lt;/div&gt;`)[0];\n",
       "                popup_bfac9efb56d7e34aa734da7aa054e29d.setContent(html_9544270163bc99aab5474a51ebe66ada);\n",
       "            \n",
       "        \n",
       "\n",
       "        marker_e71d8cd36c46ff6634a48c3d74d5eb0a.bindPopup(popup_bfac9efb56d7e34aa734da7aa054e29d)\n",
       "        ;\n",
       "\n",
       "        \n",
       "    \n",
       "    \n",
       "            var marker_a2e37cbc6b1146ab38472a629102bd0f = L.marker(\n",
       "                [45.379883, -75.616032],\n",
       "                {}\n",
       "            ).addTo(map_7f9015f00f8a17af3072ba61aa863b8a);\n",
       "        \n",
       "    \n",
       "        var popup_6be561b8a27efb60ffb2b51904449c5e = L.popup({&quot;maxWidth&quot;: &quot;100%&quot;});\n",
       "\n",
       "        \n",
       "            \n",
       "                var html_95479f41f3a0854c0ed83610dfe971f3 = $(`&lt;div id=&quot;html_95479f41f3a0854c0ed83610dfe971f3&quot; style=&quot;width: 100.0%; height: 100.0%;&quot;&gt;Accession: 1995-0007&lt;/div&gt;`)[0];\n",
       "                popup_6be561b8a27efb60ffb2b51904449c5e.setContent(html_95479f41f3a0854c0ed83610dfe971f3);\n",
       "            \n",
       "        \n",
       "\n",
       "        marker_a2e37cbc6b1146ab38472a629102bd0f.bindPopup(popup_6be561b8a27efb60ffb2b51904449c5e)\n",
       "        ;\n",
       "\n",
       "        \n",
       "    \n",
       "    \n",
       "            var marker_a464e594a905c3734894777e28c6f456 = L.marker(\n",
       "                [45.435623, -75.646343],\n",
       "                {}\n",
       "            ).addTo(map_7f9015f00f8a17af3072ba61aa863b8a);\n",
       "        \n",
       "    \n",
       "        var popup_067a1639c876b4c170facda25d0eec60 = L.popup({&quot;maxWidth&quot;: &quot;100%&quot;});\n",
       "\n",
       "        \n",
       "            \n",
       "                var html_5405f7cdb3dae8425099ca2783c88669 = $(`&lt;div id=&quot;html_5405f7cdb3dae8425099ca2783c88669&quot; style=&quot;width: 100.0%; height: 100.0%;&quot;&gt;Accession: 1996-0001&lt;/div&gt;`)[0];\n",
       "                popup_067a1639c876b4c170facda25d0eec60.setContent(html_5405f7cdb3dae8425099ca2783c88669);\n",
       "            \n",
       "        \n",
       "\n",
       "        marker_a464e594a905c3734894777e28c6f456.bindPopup(popup_067a1639c876b4c170facda25d0eec60)\n",
       "        ;\n",
       "\n",
       "        \n",
       "    \n",
       "    \n",
       "            var marker_ab239b6c4dd8f10099fd5e8ff5dc276d = L.marker(\n",
       "                [45.319954, -75.895681],\n",
       "                {}\n",
       "            ).addTo(map_7f9015f00f8a17af3072ba61aa863b8a);\n",
       "        \n",
       "    \n",
       "        var popup_7eaf318d388fb7e141d10c4dd2fae9ed = L.popup({&quot;maxWidth&quot;: &quot;100%&quot;});\n",
       "\n",
       "        \n",
       "            \n",
       "                var html_259f3a3a833ca918148f9c2990cd0d23 = $(`&lt;div id=&quot;html_259f3a3a833ca918148f9c2990cd0d23&quot; style=&quot;width: 100.0%; height: 100.0%;&quot;&gt;Accession: 2001-0129&lt;/div&gt;`)[0];\n",
       "                popup_7eaf318d388fb7e141d10c4dd2fae9ed.setContent(html_259f3a3a833ca918148f9c2990cd0d23);\n",
       "            \n",
       "        \n",
       "\n",
       "        marker_ab239b6c4dd8f10099fd5e8ff5dc276d.bindPopup(popup_7eaf318d388fb7e141d10c4dd2fae9ed)\n",
       "        ;\n",
       "\n",
       "        \n",
       "    \n",
       "    \n",
       "            var marker_78fe2fdd4788b8cebd3a16e6a507e71d = L.marker(\n",
       "                [45.34459, -75.76448],\n",
       "                {}\n",
       "            ).addTo(map_7f9015f00f8a17af3072ba61aa863b8a);\n",
       "        \n",
       "    \n",
       "        var popup_8472fbe3890d090b59fdc0a8eb449a34 = L.popup({&quot;maxWidth&quot;: &quot;100%&quot;});\n",
       "\n",
       "        \n",
       "            \n",
       "                var html_edc26bcb38ed17fe117a57188c5b3def = $(`&lt;div id=&quot;html_edc26bcb38ed17fe117a57188c5b3def&quot; style=&quot;width: 100.0%; height: 100.0%;&quot;&gt;Accession: 2001-0205&lt;/div&gt;`)[0];\n",
       "                popup_8472fbe3890d090b59fdc0a8eb449a34.setContent(html_edc26bcb38ed17fe117a57188c5b3def);\n",
       "            \n",
       "        \n",
       "\n",
       "        marker_78fe2fdd4788b8cebd3a16e6a507e71d.bindPopup(popup_8472fbe3890d090b59fdc0a8eb449a34)\n",
       "        ;\n",
       "\n",
       "        \n",
       "    \n",
       "    \n",
       "            var marker_77349a77412f89bd87ea45d544242e59 = L.marker(\n",
       "                [45.455995, -75.524831],\n",
       "                {}\n",
       "            ).addTo(map_7f9015f00f8a17af3072ba61aa863b8a);\n",
       "        \n",
       "    \n",
       "        var popup_bb90da8a90f3c0876cd49fe4aa5f28ec = L.popup({&quot;maxWidth&quot;: &quot;100%&quot;});\n",
       "\n",
       "        \n",
       "            \n",
       "                var html_7db8a69295b49347746e3b250c762bf2 = $(`&lt;div id=&quot;html_7db8a69295b49347746e3b250c762bf2&quot; style=&quot;width: 100.0%; height: 100.0%;&quot;&gt;Accession: 2001-0256&lt;/div&gt;`)[0];\n",
       "                popup_bb90da8a90f3c0876cd49fe4aa5f28ec.setContent(html_7db8a69295b49347746e3b250c762bf2);\n",
       "            \n",
       "        \n",
       "\n",
       "        marker_77349a77412f89bd87ea45d544242e59.bindPopup(popup_bb90da8a90f3c0876cd49fe4aa5f28ec)\n",
       "        ;\n",
       "\n",
       "        \n",
       "    \n",
       "    \n",
       "            var marker_0b1c1fc8a16cc163468954a270e67476 = L.marker(\n",
       "                [45.421781, -75.691182],\n",
       "                {}\n",
       "            ).addTo(map_7f9015f00f8a17af3072ba61aa863b8a);\n",
       "        \n",
       "    \n",
       "        var popup_858504fb37503161b085f7f2a11f2e16 = L.popup({&quot;maxWidth&quot;: &quot;100%&quot;});\n",
       "\n",
       "        \n",
       "            \n",
       "                var html_8b10c8f2279fec55929aa4546a503ea8 = $(`&lt;div id=&quot;html_8b10c8f2279fec55929aa4546a503ea8&quot; style=&quot;width: 100.0%; height: 100.0%;&quot;&gt;Accession: 2001-0257&lt;/div&gt;`)[0];\n",
       "                popup_858504fb37503161b085f7f2a11f2e16.setContent(html_8b10c8f2279fec55929aa4546a503ea8);\n",
       "            \n",
       "        \n",
       "\n",
       "        marker_0b1c1fc8a16cc163468954a270e67476.bindPopup(popup_858504fb37503161b085f7f2a11f2e16)\n",
       "        ;\n",
       "\n",
       "        \n",
       "    \n",
       "    \n",
       "            var marker_5de72f687c20997969e63d4b8fffe7d3 = L.marker(\n",
       "                [45.458408, -75.497648],\n",
       "                {}\n",
       "            ).addTo(map_7f9015f00f8a17af3072ba61aa863b8a);\n",
       "        \n",
       "    \n",
       "        var popup_dc0b1083233ac6e74ac1858c688c6d5b = L.popup({&quot;maxWidth&quot;: &quot;100%&quot;});\n",
       "\n",
       "        \n",
       "            \n",
       "                var html_91678cd1afb1d165f68f4c080007adea = $(`&lt;div id=&quot;html_91678cd1afb1d165f68f4c080007adea&quot; style=&quot;width: 100.0%; height: 100.0%;&quot;&gt;Accession: 2001-0278&lt;/div&gt;`)[0];\n",
       "                popup_dc0b1083233ac6e74ac1858c688c6d5b.setContent(html_91678cd1afb1d165f68f4c080007adea);\n",
       "            \n",
       "        \n",
       "\n",
       "        marker_5de72f687c20997969e63d4b8fffe7d3.bindPopup(popup_dc0b1083233ac6e74ac1858c688c6d5b)\n",
       "        ;\n",
       "\n",
       "        \n",
       "    \n",
       "    \n",
       "            var marker_4fb11cdf00319059389bdde8be8fdcfb = L.marker(\n",
       "                [45.465652, -75.546161],\n",
       "                {}\n",
       "            ).addTo(map_7f9015f00f8a17af3072ba61aa863b8a);\n",
       "        \n",
       "    \n",
       "        var popup_24ba52ea910e33bfaa45407e758ef9f9 = L.popup({&quot;maxWidth&quot;: &quot;100%&quot;});\n",
       "\n",
       "        \n",
       "            \n",
       "                var html_057bf325fdcae780df8646f70a1991ef = $(`&lt;div id=&quot;html_057bf325fdcae780df8646f70a1991ef&quot; style=&quot;width: 100.0%; height: 100.0%;&quot;&gt;Accession: 2001-0287&lt;/div&gt;`)[0];\n",
       "                popup_24ba52ea910e33bfaa45407e758ef9f9.setContent(html_057bf325fdcae780df8646f70a1991ef);\n",
       "            \n",
       "        \n",
       "\n",
       "        marker_4fb11cdf00319059389bdde8be8fdcfb.bindPopup(popup_24ba52ea910e33bfaa45407e758ef9f9)\n",
       "        ;\n",
       "\n",
       "        \n",
       "    \n",
       "    \n",
       "            var marker_93fe8795ed3af9fb3af435f1cde6eb74 = L.marker(\n",
       "                [45.448473, -75.683201],\n",
       "                {}\n",
       "            ).addTo(map_7f9015f00f8a17af3072ba61aa863b8a);\n",
       "        \n",
       "    \n",
       "        var popup_1ff02dd2b61c8272a6b04a0ccfe3fd61 = L.popup({&quot;maxWidth&quot;: &quot;100%&quot;});\n",
       "\n",
       "        \n",
       "            \n",
       "                var html_e6f2d0507e492a0469d103f15e6aaa7a = $(`&lt;div id=&quot;html_e6f2d0507e492a0469d103f15e6aaa7a&quot; style=&quot;width: 100.0%; height: 100.0%;&quot;&gt;Accession: 2001-0318&lt;/div&gt;`)[0];\n",
       "                popup_1ff02dd2b61c8272a6b04a0ccfe3fd61.setContent(html_e6f2d0507e492a0469d103f15e6aaa7a);\n",
       "            \n",
       "        \n",
       "\n",
       "        marker_93fe8795ed3af9fb3af435f1cde6eb74.bindPopup(popup_1ff02dd2b61c8272a6b04a0ccfe3fd61)\n",
       "        ;\n",
       "\n",
       "        \n",
       "    \n",
       "    \n",
       "            var marker_023e5346dc02c3ed6a597b1da8cf125d = L.marker(\n",
       "                [45.400236, -75.68235],\n",
       "                {}\n",
       "            ).addTo(map_7f9015f00f8a17af3072ba61aa863b8a);\n",
       "        \n",
       "    \n",
       "        var popup_0dd428c6740c07857c2105d5d55f2f48 = L.popup({&quot;maxWidth&quot;: &quot;100%&quot;});\n",
       "\n",
       "        \n",
       "            \n",
       "                var html_0a17faad5618284c32971d1552fee8a3 = $(`&lt;div id=&quot;html_0a17faad5618284c32971d1552fee8a3&quot; style=&quot;width: 100.0%; height: 100.0%;&quot;&gt;Accession: 2001-0322&lt;/div&gt;`)[0];\n",
       "                popup_0dd428c6740c07857c2105d5d55f2f48.setContent(html_0a17faad5618284c32971d1552fee8a3);\n",
       "            \n",
       "        \n",
       "\n",
       "        marker_023e5346dc02c3ed6a597b1da8cf125d.bindPopup(popup_0dd428c6740c07857c2105d5d55f2f48)\n",
       "        ;\n",
       "\n",
       "        \n",
       "    \n",
       "    \n",
       "            var marker_e895e41b6c65f5a50a6771fb14aaf0d6 = L.marker(\n",
       "                [45.38881, -75.76015],\n",
       "                {}\n",
       "            ).addTo(map_7f9015f00f8a17af3072ba61aa863b8a);\n",
       "        \n",
       "    \n",
       "        var popup_3a536f81b592ff168bb7fff1000015bf = L.popup({&quot;maxWidth&quot;: &quot;100%&quot;});\n",
       "\n",
       "        \n",
       "            \n",
       "                var html_14e1b5ef23288b276789fa2383341b8f = $(`&lt;div id=&quot;html_14e1b5ef23288b276789fa2383341b8f&quot; style=&quot;width: 100.0%; height: 100.0%;&quot;&gt;Accession: 2001-0323&lt;/div&gt;`)[0];\n",
       "                popup_3a536f81b592ff168bb7fff1000015bf.setContent(html_14e1b5ef23288b276789fa2383341b8f);\n",
       "            \n",
       "        \n",
       "\n",
       "        marker_e895e41b6c65f5a50a6771fb14aaf0d6.bindPopup(popup_3a536f81b592ff168bb7fff1000015bf)\n",
       "        ;\n",
       "\n",
       "        \n",
       "    \n",
       "    \n",
       "            var marker_fe4a6e791d28d9d24794739febd5fbec = L.marker(\n",
       "                [45.379006, -75.667727],\n",
       "                {}\n",
       "            ).addTo(map_7f9015f00f8a17af3072ba61aa863b8a);\n",
       "        \n",
       "    \n",
       "        var popup_bac59bd7d15d3e0c05bbb03341f1d6ac = L.popup({&quot;maxWidth&quot;: &quot;100%&quot;});\n",
       "\n",
       "        \n",
       "            \n",
       "                var html_3cf05f8995ae1183fbf7bdbb73ead99b = $(`&lt;div id=&quot;html_3cf05f8995ae1183fbf7bdbb73ead99b&quot; style=&quot;width: 100.0%; height: 100.0%;&quot;&gt;Accession: 2001-0325&lt;/div&gt;`)[0];\n",
       "                popup_bac59bd7d15d3e0c05bbb03341f1d6ac.setContent(html_3cf05f8995ae1183fbf7bdbb73ead99b);\n",
       "            \n",
       "        \n",
       "\n",
       "        marker_fe4a6e791d28d9d24794739febd5fbec.bindPopup(popup_bac59bd7d15d3e0c05bbb03341f1d6ac)\n",
       "        ;\n",
       "\n",
       "        \n",
       "    \n",
       "    \n",
       "            var marker_ae17177cfca3231dccee23f7a91259bd = L.marker(\n",
       "                [45.421848, -75.690861],\n",
       "                {}\n",
       "            ).addTo(map_7f9015f00f8a17af3072ba61aa863b8a);\n",
       "        \n",
       "    \n",
       "        var popup_d2c1b1476dbdf9171ecb8ab3e2d32477 = L.popup({&quot;maxWidth&quot;: &quot;100%&quot;});\n",
       "\n",
       "        \n",
       "            \n",
       "                var html_49675dece73b9b0910c4bef36f36184c = $(`&lt;div id=&quot;html_49675dece73b9b0910c4bef36f36184c&quot; style=&quot;width: 100.0%; height: 100.0%;&quot;&gt;Accession: 2001-0327&lt;/div&gt;`)[0];\n",
       "                popup_d2c1b1476dbdf9171ecb8ab3e2d32477.setContent(html_49675dece73b9b0910c4bef36f36184c);\n",
       "            \n",
       "        \n",
       "\n",
       "        marker_ae17177cfca3231dccee23f7a91259bd.bindPopup(popup_d2c1b1476dbdf9171ecb8ab3e2d32477)\n",
       "        ;\n",
       "\n",
       "        \n",
       "    \n",
       "    \n",
       "            var marker_697d2fff450e706d78e5d07656cae4b8 = L.marker(\n",
       "                [45.41243, -75.685749],\n",
       "                {}\n",
       "            ).addTo(map_7f9015f00f8a17af3072ba61aa863b8a);\n",
       "        \n",
       "    \n",
       "        var popup_12c4e02c6a275dfec2159f773235c662 = L.popup({&quot;maxWidth&quot;: &quot;100%&quot;});\n",
       "\n",
       "        \n",
       "            \n",
       "                var html_499e49f3a13ad52d6914ba4dd19992d4 = $(`&lt;div id=&quot;html_499e49f3a13ad52d6914ba4dd19992d4&quot; style=&quot;width: 100.0%; height: 100.0%;&quot;&gt;Accession: 2001-0328&lt;/div&gt;`)[0];\n",
       "                popup_12c4e02c6a275dfec2159f773235c662.setContent(html_499e49f3a13ad52d6914ba4dd19992d4);\n",
       "            \n",
       "        \n",
       "\n",
       "        marker_697d2fff450e706d78e5d07656cae4b8.bindPopup(popup_12c4e02c6a275dfec2159f773235c662)\n",
       "        ;\n",
       "\n",
       "        \n",
       "    \n",
       "    \n",
       "            var marker_12b5c5d230ac840d234360d009f8379e = L.marker(\n",
       "                [45.421848, -75.690861],\n",
       "                {}\n",
       "            ).addTo(map_7f9015f00f8a17af3072ba61aa863b8a);\n",
       "        \n",
       "    \n",
       "        var popup_1aaa12f19bc8c7982b2eb3aec936f72b = L.popup({&quot;maxWidth&quot;: &quot;100%&quot;});\n",
       "\n",
       "        \n",
       "            \n",
       "                var html_13597efcecf5673501fc148c0875c376 = $(`&lt;div id=&quot;html_13597efcecf5673501fc148c0875c376&quot; style=&quot;width: 100.0%; height: 100.0%;&quot;&gt;Accession: 2001-0360&lt;/div&gt;`)[0];\n",
       "                popup_1aaa12f19bc8c7982b2eb3aec936f72b.setContent(html_13597efcecf5673501fc148c0875c376);\n",
       "            \n",
       "        \n",
       "\n",
       "        marker_12b5c5d230ac840d234360d009f8379e.bindPopup(popup_1aaa12f19bc8c7982b2eb3aec936f72b)\n",
       "        ;\n",
       "\n",
       "        \n",
       "    \n",
       "    \n",
       "            var marker_89ae388a4b1e782f8565202d84706a1e = L.marker(\n",
       "                [45.421848, -75.690861],\n",
       "                {}\n",
       "            ).addTo(map_7f9015f00f8a17af3072ba61aa863b8a);\n",
       "        \n",
       "    \n",
       "        var popup_2a79bbf4e672528acfe27a61680cd643 = L.popup({&quot;maxWidth&quot;: &quot;100%&quot;});\n",
       "\n",
       "        \n",
       "            \n",
       "                var html_7c89aa17702a5e78e6fd5a587a5bd0e2 = $(`&lt;div id=&quot;html_7c89aa17702a5e78e6fd5a587a5bd0e2&quot; style=&quot;width: 100.0%; height: 100.0%;&quot;&gt;Accession: 2001-0361&lt;/div&gt;`)[0];\n",
       "                popup_2a79bbf4e672528acfe27a61680cd643.setContent(html_7c89aa17702a5e78e6fd5a587a5bd0e2);\n",
       "            \n",
       "        \n",
       "\n",
       "        marker_89ae388a4b1e782f8565202d84706a1e.bindPopup(popup_2a79bbf4e672528acfe27a61680cd643)\n",
       "        ;\n",
       "\n",
       "        \n",
       "    \n",
       "    \n",
       "            var marker_82af7e4faa673f75b540b84c6e04464f = L.marker(\n",
       "                [45.421848, -75.690861],\n",
       "                {}\n",
       "            ).addTo(map_7f9015f00f8a17af3072ba61aa863b8a);\n",
       "        \n",
       "    \n",
       "        var popup_ab498bbe2b770650dc31e6005df1aef4 = L.popup({&quot;maxWidth&quot;: &quot;100%&quot;});\n",
       "\n",
       "        \n",
       "            \n",
       "                var html_c655195d15bf323e789e8a0398609a66 = $(`&lt;div id=&quot;html_c655195d15bf323e789e8a0398609a66&quot; style=&quot;width: 100.0%; height: 100.0%;&quot;&gt;Accession: 2001-0362&lt;/div&gt;`)[0];\n",
       "                popup_ab498bbe2b770650dc31e6005df1aef4.setContent(html_c655195d15bf323e789e8a0398609a66);\n",
       "            \n",
       "        \n",
       "\n",
       "        marker_82af7e4faa673f75b540b84c6e04464f.bindPopup(popup_ab498bbe2b770650dc31e6005df1aef4)\n",
       "        ;\n",
       "\n",
       "        \n",
       "    \n",
       "    \n",
       "            var marker_6a2d2ad7c885a565dd6362b5526464e6 = L.marker(\n",
       "                [45.421848, -75.690861],\n",
       "                {}\n",
       "            ).addTo(map_7f9015f00f8a17af3072ba61aa863b8a);\n",
       "        \n",
       "    \n",
       "        var popup_dcb215bf617388ea98212677c14ff8c7 = L.popup({&quot;maxWidth&quot;: &quot;100%&quot;});\n",
       "\n",
       "        \n",
       "            \n",
       "                var html_01c99cce1fc5dccbd91454649b359890 = $(`&lt;div id=&quot;html_01c99cce1fc5dccbd91454649b359890&quot; style=&quot;width: 100.0%; height: 100.0%;&quot;&gt;Accession: 2001-0363&lt;/div&gt;`)[0];\n",
       "                popup_dcb215bf617388ea98212677c14ff8c7.setContent(html_01c99cce1fc5dccbd91454649b359890);\n",
       "            \n",
       "        \n",
       "\n",
       "        marker_6a2d2ad7c885a565dd6362b5526464e6.bindPopup(popup_dcb215bf617388ea98212677c14ff8c7)\n",
       "        ;\n",
       "\n",
       "        \n",
       "    \n",
       "    \n",
       "            var marker_77ca4450f8ee13e254a47f5b4d1487ca = L.marker(\n",
       "                [45.421848, -75.690861],\n",
       "                {}\n",
       "            ).addTo(map_7f9015f00f8a17af3072ba61aa863b8a);\n",
       "        \n",
       "    \n",
       "        var popup_d2a927b810cec33f042b1401b99c248a = L.popup({&quot;maxWidth&quot;: &quot;100%&quot;});\n",
       "\n",
       "        \n",
       "            \n",
       "                var html_3f9598ba711d727cad79e1e3e09d10d1 = $(`&lt;div id=&quot;html_3f9598ba711d727cad79e1e3e09d10d1&quot; style=&quot;width: 100.0%; height: 100.0%;&quot;&gt;Accession: 2001-0364&lt;/div&gt;`)[0];\n",
       "                popup_d2a927b810cec33f042b1401b99c248a.setContent(html_3f9598ba711d727cad79e1e3e09d10d1);\n",
       "            \n",
       "        \n",
       "\n",
       "        marker_77ca4450f8ee13e254a47f5b4d1487ca.bindPopup(popup_d2a927b810cec33f042b1401b99c248a)\n",
       "        ;\n",
       "\n",
       "        \n",
       "    \n",
       "    \n",
       "            var marker_4466260bab2db5fef6f9175d4d80b746 = L.marker(\n",
       "                [45.421848, -75.690861],\n",
       "                {}\n",
       "            ).addTo(map_7f9015f00f8a17af3072ba61aa863b8a);\n",
       "        \n",
       "    \n",
       "        var popup_01033cff956c07a2fe69c4af0ab0decb = L.popup({&quot;maxWidth&quot;: &quot;100%&quot;});\n",
       "\n",
       "        \n",
       "            \n",
       "                var html_4f94e84d60b460a84bd5dde3627ba67a = $(`&lt;div id=&quot;html_4f94e84d60b460a84bd5dde3627ba67a&quot; style=&quot;width: 100.0%; height: 100.0%;&quot;&gt;Accession: 2001-0365&lt;/div&gt;`)[0];\n",
       "                popup_01033cff956c07a2fe69c4af0ab0decb.setContent(html_4f94e84d60b460a84bd5dde3627ba67a);\n",
       "            \n",
       "        \n",
       "\n",
       "        marker_4466260bab2db5fef6f9175d4d80b746.bindPopup(popup_01033cff956c07a2fe69c4af0ab0decb)\n",
       "        ;\n",
       "\n",
       "        \n",
       "    \n",
       "    \n",
       "            var marker_5fe51c133b39a26dec6c43f8224d916b = L.marker(\n",
       "                [45.401471, -75.667083],\n",
       "                {}\n",
       "            ).addTo(map_7f9015f00f8a17af3072ba61aa863b8a);\n",
       "        \n",
       "    \n",
       "        var popup_88a98a8ef62cd4d0c707f479a356dd98 = L.popup({&quot;maxWidth&quot;: &quot;100%&quot;});\n",
       "\n",
       "        \n",
       "            \n",
       "                var html_94646636c5a6b9d015a069e4b89af566 = $(`&lt;div id=&quot;html_94646636c5a6b9d015a069e4b89af566&quot; style=&quot;width: 100.0%; height: 100.0%;&quot;&gt;Accession: 2001-0398&lt;/div&gt;`)[0];\n",
       "                popup_88a98a8ef62cd4d0c707f479a356dd98.setContent(html_94646636c5a6b9d015a069e4b89af566);\n",
       "            \n",
       "        \n",
       "\n",
       "        marker_5fe51c133b39a26dec6c43f8224d916b.bindPopup(popup_88a98a8ef62cd4d0c707f479a356dd98)\n",
       "        ;\n",
       "\n",
       "        \n",
       "    \n",
       "    \n",
       "            var marker_e7f4b316b2520b8c2bc899fcf83de487 = L.marker(\n",
       "                [45.401185, -75.666747],\n",
       "                {}\n",
       "            ).addTo(map_7f9015f00f8a17af3072ba61aa863b8a);\n",
       "        \n",
       "    \n",
       "        var popup_0b5290f5e391de253a24847ac57523b4 = L.popup({&quot;maxWidth&quot;: &quot;100%&quot;});\n",
       "\n",
       "        \n",
       "            \n",
       "                var html_07fee47fd13377a2aeb50d10d50412e7 = $(`&lt;div id=&quot;html_07fee47fd13377a2aeb50d10d50412e7&quot; style=&quot;width: 100.0%; height: 100.0%;&quot;&gt;Accession: 2001-0399&lt;/div&gt;`)[0];\n",
       "                popup_0b5290f5e391de253a24847ac57523b4.setContent(html_07fee47fd13377a2aeb50d10d50412e7);\n",
       "            \n",
       "        \n",
       "\n",
       "        marker_e7f4b316b2520b8c2bc899fcf83de487.bindPopup(popup_0b5290f5e391de253a24847ac57523b4)\n",
       "        ;\n",
       "\n",
       "        \n",
       "    \n",
       "    \n",
       "            var marker_d8155e9d337f9d74502f56836be23ea5 = L.marker(\n",
       "                [45.421781, -75.691182],\n",
       "                {}\n",
       "            ).addTo(map_7f9015f00f8a17af3072ba61aa863b8a);\n",
       "        \n",
       "    \n",
       "        var popup_4e7fcf52b20a6953bf85f7f985df5253 = L.popup({&quot;maxWidth&quot;: &quot;100%&quot;});\n",
       "\n",
       "        \n",
       "            \n",
       "                var html_b987418109e500e4f5ca167f61b191cc = $(`&lt;div id=&quot;html_b987418109e500e4f5ca167f61b191cc&quot; style=&quot;width: 100.0%; height: 100.0%;&quot;&gt;Accession: 2001-0400&lt;/div&gt;`)[0];\n",
       "                popup_4e7fcf52b20a6953bf85f7f985df5253.setContent(html_b987418109e500e4f5ca167f61b191cc);\n",
       "            \n",
       "        \n",
       "\n",
       "        marker_d8155e9d337f9d74502f56836be23ea5.bindPopup(popup_4e7fcf52b20a6953bf85f7f985df5253)\n",
       "        ;\n",
       "\n",
       "        \n",
       "    \n",
       "    \n",
       "            var marker_c60756c3cc67d0dadc7352d19b055d2b = L.marker(\n",
       "                [45.421848, -75.690861],\n",
       "                {}\n",
       "            ).addTo(map_7f9015f00f8a17af3072ba61aa863b8a);\n",
       "        \n",
       "    \n",
       "        var popup_78e770f079c0998f20d46e166a7edb70 = L.popup({&quot;maxWidth&quot;: &quot;100%&quot;});\n",
       "\n",
       "        \n",
       "            \n",
       "                var html_f4b0bb410336dd05a89b363c0041cbf0 = $(`&lt;div id=&quot;html_f4b0bb410336dd05a89b363c0041cbf0&quot; style=&quot;width: 100.0%; height: 100.0%;&quot;&gt;Accession: 2001-0401&lt;/div&gt;`)[0];\n",
       "                popup_78e770f079c0998f20d46e166a7edb70.setContent(html_f4b0bb410336dd05a89b363c0041cbf0);\n",
       "            \n",
       "        \n",
       "\n",
       "        marker_c60756c3cc67d0dadc7352d19b055d2b.bindPopup(popup_78e770f079c0998f20d46e166a7edb70)\n",
       "        ;\n",
       "\n",
       "        \n",
       "    \n",
       "    \n",
       "            var marker_cef562bbb850e958ef8a3e3fdec8ddea = L.marker(\n",
       "                [45.263767, -75.706993],\n",
       "                {}\n",
       "            ).addTo(map_7f9015f00f8a17af3072ba61aa863b8a);\n",
       "        \n",
       "    \n",
       "        var popup_e90b28e8f727db4b8bd354a71b8980ac = L.popup({&quot;maxWidth&quot;: &quot;100%&quot;});\n",
       "\n",
       "        \n",
       "            \n",
       "                var html_863c035d6cd22b68d195985d1b259275 = $(`&lt;div id=&quot;html_863c035d6cd22b68d195985d1b259275&quot; style=&quot;width: 100.0%; height: 100.0%;&quot;&gt;Accession: 2001-0433&lt;/div&gt;`)[0];\n",
       "                popup_e90b28e8f727db4b8bd354a71b8980ac.setContent(html_863c035d6cd22b68d195985d1b259275);\n",
       "            \n",
       "        \n",
       "\n",
       "        marker_cef562bbb850e958ef8a3e3fdec8ddea.bindPopup(popup_e90b28e8f727db4b8bd354a71b8980ac)\n",
       "        ;\n",
       "\n",
       "        \n",
       "    \n",
       "    \n",
       "            var marker_8d103206656104f3d1d5c340aaa3c99a = L.marker(\n",
       "                [45.432264, -75.683647],\n",
       "                {}\n",
       "            ).addTo(map_7f9015f00f8a17af3072ba61aa863b8a);\n",
       "        \n",
       "    \n",
       "        var popup_1dfff1737e8673d99631bad5745b7484 = L.popup({&quot;maxWidth&quot;: &quot;100%&quot;});\n",
       "\n",
       "        \n",
       "            \n",
       "                var html_3dcfbef2dfa2120268f80fdb8755639a = $(`&lt;div id=&quot;html_3dcfbef2dfa2120268f80fdb8755639a&quot; style=&quot;width: 100.0%; height: 100.0%;&quot;&gt;Accession: 2001-0478&lt;/div&gt;`)[0];\n",
       "                popup_1dfff1737e8673d99631bad5745b7484.setContent(html_3dcfbef2dfa2120268f80fdb8755639a);\n",
       "            \n",
       "        \n",
       "\n",
       "        marker_8d103206656104f3d1d5c340aaa3c99a.bindPopup(popup_1dfff1737e8673d99631bad5745b7484)\n",
       "        ;\n",
       "\n",
       "        \n",
       "    \n",
       "    \n",
       "            var marker_ebacfc8ce82c7a9922b95a40fd994e12 = L.marker(\n",
       "                [45.475387, -75.518349],\n",
       "                {}\n",
       "            ).addTo(map_7f9015f00f8a17af3072ba61aa863b8a);\n",
       "        \n",
       "    \n",
       "        var popup_ae4a73965117561ff5fde66bba4f1a53 = L.popup({&quot;maxWidth&quot;: &quot;100%&quot;});\n",
       "\n",
       "        \n",
       "            \n",
       "                var html_0bc49ac769ccd6cc074677b98dd81399 = $(`&lt;div id=&quot;html_0bc49ac769ccd6cc074677b98dd81399&quot; style=&quot;width: 100.0%; height: 100.0%;&quot;&gt;Accession: 2001-0479&lt;/div&gt;`)[0];\n",
       "                popup_ae4a73965117561ff5fde66bba4f1a53.setContent(html_0bc49ac769ccd6cc074677b98dd81399);\n",
       "            \n",
       "        \n",
       "\n",
       "        marker_ebacfc8ce82c7a9922b95a40fd994e12.bindPopup(popup_ae4a73965117561ff5fde66bba4f1a53)\n",
       "        ;\n",
       "\n",
       "        \n",
       "    \n",
       "    \n",
       "            var marker_8508ffeedaaff0ea9b12d977f6df5e9f = L.marker(\n",
       "                [45.393434, -75.605654],\n",
       "                {}\n",
       "            ).addTo(map_7f9015f00f8a17af3072ba61aa863b8a);\n",
       "        \n",
       "    \n",
       "        var popup_75546d08a13325a12061b97fc1cbd191 = L.popup({&quot;maxWidth&quot;: &quot;100%&quot;});\n",
       "\n",
       "        \n",
       "            \n",
       "                var html_84ec60ac507a998ef8113e0fa0a06cfe = $(`&lt;div id=&quot;html_84ec60ac507a998ef8113e0fa0a06cfe&quot; style=&quot;width: 100.0%; height: 100.0%;&quot;&gt;Accession: 2001-0480&lt;/div&gt;`)[0];\n",
       "                popup_75546d08a13325a12061b97fc1cbd191.setContent(html_84ec60ac507a998ef8113e0fa0a06cfe);\n",
       "            \n",
       "        \n",
       "\n",
       "        marker_8508ffeedaaff0ea9b12d977f6df5e9f.bindPopup(popup_75546d08a13325a12061b97fc1cbd191)\n",
       "        ;\n",
       "\n",
       "        \n",
       "    \n",
       "    \n",
       "            var marker_a3a10fd3e38c73cbe3ec300c426341d9 = L.marker(\n",
       "                [45.376036, -75.696922],\n",
       "                {}\n",
       "            ).addTo(map_7f9015f00f8a17af3072ba61aa863b8a);\n",
       "        \n",
       "    \n",
       "        var popup_c549eba2186932a37ca617b018783931 = L.popup({&quot;maxWidth&quot;: &quot;100%&quot;});\n",
       "\n",
       "        \n",
       "            \n",
       "                var html_73502c1733ba37dcf69b77170dae1a9d = $(`&lt;div id=&quot;html_73502c1733ba37dcf69b77170dae1a9d&quot; style=&quot;width: 100.0%; height: 100.0%;&quot;&gt;Accession: 2001-0481&lt;/div&gt;`)[0];\n",
       "                popup_c549eba2186932a37ca617b018783931.setContent(html_73502c1733ba37dcf69b77170dae1a9d);\n",
       "            \n",
       "        \n",
       "\n",
       "        marker_a3a10fd3e38c73cbe3ec300c426341d9.bindPopup(popup_c549eba2186932a37ca617b018783931)\n",
       "        ;\n",
       "\n",
       "        \n",
       "    \n",
       "    \n",
       "            var marker_3615b67971f46e72fc827156ccaf4d84 = L.marker(\n",
       "                [45.399086, -75.745279],\n",
       "                {}\n",
       "            ).addTo(map_7f9015f00f8a17af3072ba61aa863b8a);\n",
       "        \n",
       "    \n",
       "        var popup_b9d14411e5a53330dce2ba760c93f96e = L.popup({&quot;maxWidth&quot;: &quot;100%&quot;});\n",
       "\n",
       "        \n",
       "            \n",
       "                var html_9f9501fe773036f21093ba6e81a08280 = $(`&lt;div id=&quot;html_9f9501fe773036f21093ba6e81a08280&quot; style=&quot;width: 100.0%; height: 100.0%;&quot;&gt;Accession: 2001-0548&lt;/div&gt;`)[0];\n",
       "                popup_b9d14411e5a53330dce2ba760c93f96e.setContent(html_9f9501fe773036f21093ba6e81a08280);\n",
       "            \n",
       "        \n",
       "\n",
       "        marker_3615b67971f46e72fc827156ccaf4d84.bindPopup(popup_b9d14411e5a53330dce2ba760c93f96e)\n",
       "        ;\n",
       "\n",
       "        \n",
       "    \n",
       "    \n",
       "            var marker_2309b37bf04d12cafef3b779adb55084 = L.marker(\n",
       "                [45.421848, -75.690861],\n",
       "                {}\n",
       "            ).addTo(map_7f9015f00f8a17af3072ba61aa863b8a);\n",
       "        \n",
       "    \n",
       "        var popup_17e2d5fec64eb70dd35eee59ae87c7d5 = L.popup({&quot;maxWidth&quot;: &quot;100%&quot;});\n",
       "\n",
       "        \n",
       "            \n",
       "                var html_0fc1edbc233ef279b16a33a92e5bbc0d = $(`&lt;div id=&quot;html_0fc1edbc233ef279b16a33a92e5bbc0d&quot; style=&quot;width: 100.0%; height: 100.0%;&quot;&gt;Accession: 2001-0549&lt;/div&gt;`)[0];\n",
       "                popup_17e2d5fec64eb70dd35eee59ae87c7d5.setContent(html_0fc1edbc233ef279b16a33a92e5bbc0d);\n",
       "            \n",
       "        \n",
       "\n",
       "        marker_2309b37bf04d12cafef3b779adb55084.bindPopup(popup_17e2d5fec64eb70dd35eee59ae87c7d5)\n",
       "        ;\n",
       "\n",
       "        \n",
       "    \n",
       "    \n",
       "            var marker_0c647b99ef1541c5b63c84ffc8f0b86b = L.marker(\n",
       "                [45.39372, -75.639644],\n",
       "                {}\n",
       "            ).addTo(map_7f9015f00f8a17af3072ba61aa863b8a);\n",
       "        \n",
       "    \n",
       "        var popup_4de9781a5aa8f4aab593b5bdf4cd0230 = L.popup({&quot;maxWidth&quot;: &quot;100%&quot;});\n",
       "\n",
       "        \n",
       "            \n",
       "                var html_45b758e34f4611be7e7101c151794516 = $(`&lt;div id=&quot;html_45b758e34f4611be7e7101c151794516&quot; style=&quot;width: 100.0%; height: 100.0%;&quot;&gt;Accession: 2001-0551&lt;/div&gt;`)[0];\n",
       "                popup_4de9781a5aa8f4aab593b5bdf4cd0230.setContent(html_45b758e34f4611be7e7101c151794516);\n",
       "            \n",
       "        \n",
       "\n",
       "        marker_0c647b99ef1541c5b63c84ffc8f0b86b.bindPopup(popup_4de9781a5aa8f4aab593b5bdf4cd0230)\n",
       "        ;\n",
       "\n",
       "        \n",
       "    \n",
       "    \n",
       "            var marker_19b9802448a30a570f24d6c60a3f08dc = L.marker(\n",
       "                [45.379006, -75.667727],\n",
       "                {}\n",
       "            ).addTo(map_7f9015f00f8a17af3072ba61aa863b8a);\n",
       "        \n",
       "    \n",
       "        var popup_6a797aeb8046ab14d7cf5f6c6ffd3538 = L.popup({&quot;maxWidth&quot;: &quot;100%&quot;});\n",
       "\n",
       "        \n",
       "            \n",
       "                var html_cf5770a6c563f49c6e7d19914dd657d2 = $(`&lt;div id=&quot;html_cf5770a6c563f49c6e7d19914dd657d2&quot; style=&quot;width: 100.0%; height: 100.0%;&quot;&gt;Accession: 2001-0552&lt;/div&gt;`)[0];\n",
       "                popup_6a797aeb8046ab14d7cf5f6c6ffd3538.setContent(html_cf5770a6c563f49c6e7d19914dd657d2);\n",
       "            \n",
       "        \n",
       "\n",
       "        marker_19b9802448a30a570f24d6c60a3f08dc.bindPopup(popup_6a797aeb8046ab14d7cf5f6c6ffd3538)\n",
       "        ;\n",
       "\n",
       "        \n",
       "    \n",
       "    \n",
       "            var marker_d5e596b48044b5f68dc1a6d18df695c4 = L.marker(\n",
       "                [45.379006, -75.667727],\n",
       "                {}\n",
       "            ).addTo(map_7f9015f00f8a17af3072ba61aa863b8a);\n",
       "        \n",
       "    \n",
       "        var popup_a2f8ad24a4b3dc44e931673de92756e6 = L.popup({&quot;maxWidth&quot;: &quot;100%&quot;});\n",
       "\n",
       "        \n",
       "            \n",
       "                var html_ef278cde31756a9a2f74d694b693afb4 = $(`&lt;div id=&quot;html_ef278cde31756a9a2f74d694b693afb4&quot; style=&quot;width: 100.0%; height: 100.0%;&quot;&gt;Accession: 2001-0584&lt;/div&gt;`)[0];\n",
       "                popup_a2f8ad24a4b3dc44e931673de92756e6.setContent(html_ef278cde31756a9a2f74d694b693afb4);\n",
       "            \n",
       "        \n",
       "\n",
       "        marker_d5e596b48044b5f68dc1a6d18df695c4.bindPopup(popup_a2f8ad24a4b3dc44e931673de92756e6)\n",
       "        ;\n",
       "\n",
       "        \n",
       "    \n",
       "    \n",
       "            var marker_1c8c651a32078165aa135b18bf667bbe = L.marker(\n",
       "                [45.422627, -75.686072],\n",
       "                {}\n",
       "            ).addTo(map_7f9015f00f8a17af3072ba61aa863b8a);\n",
       "        \n",
       "    \n",
       "        var popup_26a55685fb4bb416097a664e2c8c109f = L.popup({&quot;maxWidth&quot;: &quot;100%&quot;});\n",
       "\n",
       "        \n",
       "            \n",
       "                var html_d830ba44dd4222606df4c92bfea72bd5 = $(`&lt;div id=&quot;html_d830ba44dd4222606df4c92bfea72bd5&quot; style=&quot;width: 100.0%; height: 100.0%;&quot;&gt;Accession: 2004-0002&lt;/div&gt;`)[0];\n",
       "                popup_26a55685fb4bb416097a664e2c8c109f.setContent(html_d830ba44dd4222606df4c92bfea72bd5);\n",
       "            \n",
       "        \n",
       "\n",
       "        marker_1c8c651a32078165aa135b18bf667bbe.bindPopup(popup_26a55685fb4bb416097a664e2c8c109f)\n",
       "        ;\n",
       "\n",
       "        \n",
       "    \n",
       "    \n",
       "            var marker_f23b2609a0b66fee44bb36d72215446b = L.marker(\n",
       "                [45.408182, -75.714647],\n",
       "                {}\n",
       "            ).addTo(map_7f9015f00f8a17af3072ba61aa863b8a);\n",
       "        \n",
       "    \n",
       "        var popup_f5ecc9acf7d7daf72faf1824a4c19b9b = L.popup({&quot;maxWidth&quot;: &quot;100%&quot;});\n",
       "\n",
       "        \n",
       "            \n",
       "                var html_9dc866156b320ef1f1209a0edefdecea = $(`&lt;div id=&quot;html_9dc866156b320ef1f1209a0edefdecea&quot; style=&quot;width: 100.0%; height: 100.0%;&quot;&gt;Accession: 2004-0003&lt;/div&gt;`)[0];\n",
       "                popup_f5ecc9acf7d7daf72faf1824a4c19b9b.setContent(html_9dc866156b320ef1f1209a0edefdecea);\n",
       "            \n",
       "        \n",
       "\n",
       "        marker_f23b2609a0b66fee44bb36d72215446b.bindPopup(popup_f5ecc9acf7d7daf72faf1824a4c19b9b)\n",
       "        ;\n",
       "\n",
       "        \n",
       "    \n",
       "    \n",
       "            var marker_16f748d194eb54a9ac4ae08dcb219a2c = L.marker(\n",
       "                [45.421781, -75.691182],\n",
       "                {}\n",
       "            ).addTo(map_7f9015f00f8a17af3072ba61aa863b8a);\n",
       "        \n",
       "    \n",
       "        var popup_cdfb2d77fbdd08279836dcf7329b81ca = L.popup({&quot;maxWidth&quot;: &quot;100%&quot;});\n",
       "\n",
       "        \n",
       "            \n",
       "                var html_ab6317aeed04642e6810267bc2f62445 = $(`&lt;div id=&quot;html_ab6317aeed04642e6810267bc2f62445&quot; style=&quot;width: 100.0%; height: 100.0%;&quot;&gt;Accession: 2004-0004&lt;/div&gt;`)[0];\n",
       "                popup_cdfb2d77fbdd08279836dcf7329b81ca.setContent(html_ab6317aeed04642e6810267bc2f62445);\n",
       "            \n",
       "        \n",
       "\n",
       "        marker_16f748d194eb54a9ac4ae08dcb219a2c.bindPopup(popup_cdfb2d77fbdd08279836dcf7329b81ca)\n",
       "        ;\n",
       "\n",
       "        \n",
       "    \n",
       "    \n",
       "            var marker_0f29a3b161d1dbd4a782fd99df1f6ca6 = L.marker(\n",
       "                [45.402073, -75.690894],\n",
       "                {}\n",
       "            ).addTo(map_7f9015f00f8a17af3072ba61aa863b8a);\n",
       "        \n",
       "    \n",
       "        var popup_bdc1d684a72713f66fcb2049914c8185 = L.popup({&quot;maxWidth&quot;: &quot;100%&quot;});\n",
       "\n",
       "        \n",
       "            \n",
       "                var html_2b6389a510ea6bc06838d69231aee532 = $(`&lt;div id=&quot;html_2b6389a510ea6bc06838d69231aee532&quot; style=&quot;width: 100.0%; height: 100.0%;&quot;&gt;Accession: 2004-0005&lt;/div&gt;`)[0];\n",
       "                popup_bdc1d684a72713f66fcb2049914c8185.setContent(html_2b6389a510ea6bc06838d69231aee532);\n",
       "            \n",
       "        \n",
       "\n",
       "        marker_0f29a3b161d1dbd4a782fd99df1f6ca6.bindPopup(popup_bdc1d684a72713f66fcb2049914c8185)\n",
       "        ;\n",
       "\n",
       "        \n",
       "    \n",
       "    \n",
       "            var marker_e3790afee570fdb43e6cc6df97de453e = L.marker(\n",
       "                [45.261106, -75.709833],\n",
       "                {}\n",
       "            ).addTo(map_7f9015f00f8a17af3072ba61aa863b8a);\n",
       "        \n",
       "    \n",
       "        var popup_1cf3983fb7c8919cb1ca6c354ed06884 = L.popup({&quot;maxWidth&quot;: &quot;100%&quot;});\n",
       "\n",
       "        \n",
       "            \n",
       "                var html_5a6e81ffa5672307dca58199f488e7c7 = $(`&lt;div id=&quot;html_5a6e81ffa5672307dca58199f488e7c7&quot; style=&quot;width: 100.0%; height: 100.0%;&quot;&gt;Accession: 2005-0002&lt;/div&gt;`)[0];\n",
       "                popup_1cf3983fb7c8919cb1ca6c354ed06884.setContent(html_5a6e81ffa5672307dca58199f488e7c7);\n",
       "            \n",
       "        \n",
       "\n",
       "        marker_e3790afee570fdb43e6cc6df97de453e.bindPopup(popup_1cf3983fb7c8919cb1ca6c354ed06884)\n",
       "        ;\n",
       "\n",
       "        \n",
       "    \n",
       "    \n",
       "            var marker_f2ba6cabaeb7952831bec73e9af3b566 = L.marker(\n",
       "                [45.261106, -75.709833],\n",
       "                {}\n",
       "            ).addTo(map_7f9015f00f8a17af3072ba61aa863b8a);\n",
       "        \n",
       "    \n",
       "        var popup_d45e05fa56da5e41d0cc0188db084b2d = L.popup({&quot;maxWidth&quot;: &quot;100%&quot;});\n",
       "\n",
       "        \n",
       "            \n",
       "                var html_02715de81be35bc8b9532db008d25485 = $(`&lt;div id=&quot;html_02715de81be35bc8b9532db008d25485&quot; style=&quot;width: 100.0%; height: 100.0%;&quot;&gt;Accession: 2005-0003&lt;/div&gt;`)[0];\n",
       "                popup_d45e05fa56da5e41d0cc0188db084b2d.setContent(html_02715de81be35bc8b9532db008d25485);\n",
       "            \n",
       "        \n",
       "\n",
       "        marker_f2ba6cabaeb7952831bec73e9af3b566.bindPopup(popup_d45e05fa56da5e41d0cc0188db084b2d)\n",
       "        ;\n",
       "\n",
       "        \n",
       "    \n",
       "    \n",
       "            var marker_eb6256432148d0cd8f1364703768eb75 = L.marker(\n",
       "                [45.261106, -75.709833],\n",
       "                {}\n",
       "            ).addTo(map_7f9015f00f8a17af3072ba61aa863b8a);\n",
       "        \n",
       "    \n",
       "        var popup_849e4ce0336c608863bb08f8f5e702b0 = L.popup({&quot;maxWidth&quot;: &quot;100%&quot;});\n",
       "\n",
       "        \n",
       "            \n",
       "                var html_91d8e4a34048b93665b04d7fd2154447 = $(`&lt;div id=&quot;html_91d8e4a34048b93665b04d7fd2154447&quot; style=&quot;width: 100.0%; height: 100.0%;&quot;&gt;Accession: 2005-0004&lt;/div&gt;`)[0];\n",
       "                popup_849e4ce0336c608863bb08f8f5e702b0.setContent(html_91d8e4a34048b93665b04d7fd2154447);\n",
       "            \n",
       "        \n",
       "\n",
       "        marker_eb6256432148d0cd8f1364703768eb75.bindPopup(popup_849e4ce0336c608863bb08f8f5e702b0)\n",
       "        ;\n",
       "\n",
       "        \n",
       "    \n",
       "    \n",
       "            var marker_b343d2f07fde2a71d992c9cf14c096e3 = L.marker(\n",
       "                [45.261106, -75.709833],\n",
       "                {}\n",
       "            ).addTo(map_7f9015f00f8a17af3072ba61aa863b8a);\n",
       "        \n",
       "    \n",
       "        var popup_b77f711eaf5e001062affc8346a7a7c2 = L.popup({&quot;maxWidth&quot;: &quot;100%&quot;});\n",
       "\n",
       "        \n",
       "            \n",
       "                var html_c7ab12f961ed7463d47899f2c4e315f6 = $(`&lt;div id=&quot;html_c7ab12f961ed7463d47899f2c4e315f6&quot; style=&quot;width: 100.0%; height: 100.0%;&quot;&gt;Accession: 2005-0005&lt;/div&gt;`)[0];\n",
       "                popup_b77f711eaf5e001062affc8346a7a7c2.setContent(html_c7ab12f961ed7463d47899f2c4e315f6);\n",
       "            \n",
       "        \n",
       "\n",
       "        marker_b343d2f07fde2a71d992c9cf14c096e3.bindPopup(popup_b77f711eaf5e001062affc8346a7a7c2)\n",
       "        ;\n",
       "\n",
       "        \n",
       "    \n",
       "    \n",
       "            var marker_a2e53ca2d32f75a8d5bc8a57394816ec = L.marker(\n",
       "                [45.363903, -75.634656],\n",
       "                {}\n",
       "            ).addTo(map_7f9015f00f8a17af3072ba61aa863b8a);\n",
       "        \n",
       "    \n",
       "        var popup_5beecab37e392cfb11d7d157ee69bbd2 = L.popup({&quot;maxWidth&quot;: &quot;100%&quot;});\n",
       "\n",
       "        \n",
       "            \n",
       "                var html_9903d118c0940b44334f35e10e3b43df = $(`&lt;div id=&quot;html_9903d118c0940b44334f35e10e3b43df&quot; style=&quot;width: 100.0%; height: 100.0%;&quot;&gt;Accession: 2006-0005&lt;/div&gt;`)[0];\n",
       "                popup_5beecab37e392cfb11d7d157ee69bbd2.setContent(html_9903d118c0940b44334f35e10e3b43df);\n",
       "            \n",
       "        \n",
       "\n",
       "        marker_a2e53ca2d32f75a8d5bc8a57394816ec.bindPopup(popup_5beecab37e392cfb11d7d157ee69bbd2)\n",
       "        ;\n",
       "\n",
       "        \n",
       "    \n",
       "    \n",
       "            var marker_d641262e28cf112841a832e39a9e8cf0 = L.marker(\n",
       "                [45.378531, -75.635555],\n",
       "                {}\n",
       "            ).addTo(map_7f9015f00f8a17af3072ba61aa863b8a);\n",
       "        \n",
       "    \n",
       "        var popup_d0873d6980a55f40a775053b7cd0703c = L.popup({&quot;maxWidth&quot;: &quot;100%&quot;});\n",
       "\n",
       "        \n",
       "            \n",
       "                var html_2582f5d36d66f5db630019a0476f11e3 = $(`&lt;div id=&quot;html_2582f5d36d66f5db630019a0476f11e3&quot; style=&quot;width: 100.0%; height: 100.0%;&quot;&gt;Accession: 2006-0043&lt;/div&gt;`)[0];\n",
       "                popup_d0873d6980a55f40a775053b7cd0703c.setContent(html_2582f5d36d66f5db630019a0476f11e3);\n",
       "            \n",
       "        \n",
       "\n",
       "        marker_d641262e28cf112841a832e39a9e8cf0.bindPopup(popup_d0873d6980a55f40a775053b7cd0703c)\n",
       "        ;\n",
       "\n",
       "        \n",
       "    \n",
       "    \n",
       "            var marker_45a4d6c45c6c431caefa351e5e6d5a0b = L.marker(\n",
       "                [45.421781, -75.691182],\n",
       "                {}\n",
       "            ).addTo(map_7f9015f00f8a17af3072ba61aa863b8a);\n",
       "        \n",
       "    \n",
       "        var popup_ce93157c6105af7a0f4fef786b0ddf60 = L.popup({&quot;maxWidth&quot;: &quot;100%&quot;});\n",
       "\n",
       "        \n",
       "            \n",
       "                var html_a959797f82c65c0511d34c21d6a39731 = $(`&lt;div id=&quot;html_a959797f82c65c0511d34c21d6a39731&quot; style=&quot;width: 100.0%; height: 100.0%;&quot;&gt;Accession: 2006-0044&lt;/div&gt;`)[0];\n",
       "                popup_ce93157c6105af7a0f4fef786b0ddf60.setContent(html_a959797f82c65c0511d34c21d6a39731);\n",
       "            \n",
       "        \n",
       "\n",
       "        marker_45a4d6c45c6c431caefa351e5e6d5a0b.bindPopup(popup_ce93157c6105af7a0f4fef786b0ddf60)\n",
       "        ;\n",
       "\n",
       "        \n",
       "    \n",
       "    \n",
       "            var marker_04759945f790d3406069e921bf742cf6 = L.marker(\n",
       "                [45.421781, -75.691182],\n",
       "                {}\n",
       "            ).addTo(map_7f9015f00f8a17af3072ba61aa863b8a);\n",
       "        \n",
       "    \n",
       "        var popup_a6207b3dcc55a754db706b84c875dff9 = L.popup({&quot;maxWidth&quot;: &quot;100%&quot;});\n",
       "\n",
       "        \n",
       "            \n",
       "                var html_c6b5a035f8b5284da33f63ae65bfc8ed = $(`&lt;div id=&quot;html_c6b5a035f8b5284da33f63ae65bfc8ed&quot; style=&quot;width: 100.0%; height: 100.0%;&quot;&gt;Accession: 2008-0005&lt;/div&gt;`)[0];\n",
       "                popup_a6207b3dcc55a754db706b84c875dff9.setContent(html_c6b5a035f8b5284da33f63ae65bfc8ed);\n",
       "            \n",
       "        \n",
       "\n",
       "        marker_04759945f790d3406069e921bf742cf6.bindPopup(popup_a6207b3dcc55a754db706b84c875dff9)\n",
       "        ;\n",
       "\n",
       "        \n",
       "    \n",
       "    \n",
       "            var marker_58987e6127c7c24067d76df88ec75763 = L.marker(\n",
       "                [45.265098, -75.908555],\n",
       "                {}\n",
       "            ).addTo(map_7f9015f00f8a17af3072ba61aa863b8a);\n",
       "        \n",
       "    \n",
       "        var popup_7894f05b9935f7eb3fcb372649387d6d = L.popup({&quot;maxWidth&quot;: &quot;100%&quot;});\n",
       "\n",
       "        \n",
       "            \n",
       "                var html_3ea3fa3fbc76193df22a850e012452d7 = $(`&lt;div id=&quot;html_3ea3fa3fbc76193df22a850e012452d7&quot; style=&quot;width: 100.0%; height: 100.0%;&quot;&gt;Accession: 2008-0118&lt;/div&gt;`)[0];\n",
       "                popup_7894f05b9935f7eb3fcb372649387d6d.setContent(html_3ea3fa3fbc76193df22a850e012452d7);\n",
       "            \n",
       "        \n",
       "\n",
       "        marker_58987e6127c7c24067d76df88ec75763.bindPopup(popup_7894f05b9935f7eb3fcb372649387d6d)\n",
       "        ;\n",
       "\n",
       "        \n",
       "    \n",
       "    \n",
       "            var marker_e4b983711a00d0a594ab8dcefd5a06fd = L.marker(\n",
       "                [45.480367, -75.510982],\n",
       "                {}\n",
       "            ).addTo(map_7f9015f00f8a17af3072ba61aa863b8a);\n",
       "        \n",
       "    \n",
       "        var popup_0739011c8a80ddb6f947c9e6d16cfa7e = L.popup({&quot;maxWidth&quot;: &quot;100%&quot;});\n",
       "\n",
       "        \n",
       "            \n",
       "                var html_3e7c4e04e25b3b9e48b61feae1e2f03b = $(`&lt;div id=&quot;html_3e7c4e04e25b3b9e48b61feae1e2f03b&quot; style=&quot;width: 100.0%; height: 100.0%;&quot;&gt;Accession: 2009-0015&lt;/div&gt;`)[0];\n",
       "                popup_0739011c8a80ddb6f947c9e6d16cfa7e.setContent(html_3e7c4e04e25b3b9e48b61feae1e2f03b);\n",
       "            \n",
       "        \n",
       "\n",
       "        marker_e4b983711a00d0a594ab8dcefd5a06fd.bindPopup(popup_0739011c8a80ddb6f947c9e6d16cfa7e)\n",
       "        ;\n",
       "\n",
       "        \n",
       "    \n",
       "    \n",
       "            var marker_af9c736909f62f0e7ab56cd4fc13ce4e = L.marker(\n",
       "                [45.480367, -75.510982],\n",
       "                {}\n",
       "            ).addTo(map_7f9015f00f8a17af3072ba61aa863b8a);\n",
       "        \n",
       "    \n",
       "        var popup_7216a2037084c77f8a6deca8a3b54cc6 = L.popup({&quot;maxWidth&quot;: &quot;100%&quot;});\n",
       "\n",
       "        \n",
       "            \n",
       "                var html_87b03eb84f19b984e5eab17e267175d3 = $(`&lt;div id=&quot;html_87b03eb84f19b984e5eab17e267175d3&quot; style=&quot;width: 100.0%; height: 100.0%;&quot;&gt;Accession: 2009-0016&lt;/div&gt;`)[0];\n",
       "                popup_7216a2037084c77f8a6deca8a3b54cc6.setContent(html_87b03eb84f19b984e5eab17e267175d3);\n",
       "            \n",
       "        \n",
       "\n",
       "        marker_af9c736909f62f0e7ab56cd4fc13ce4e.bindPopup(popup_7216a2037084c77f8a6deca8a3b54cc6)\n",
       "        ;\n",
       "\n",
       "        \n",
       "    \n",
       "    \n",
       "            var marker_732997ff7d5992fd047fc4b262118e40 = L.marker(\n",
       "                [45.418636, -75.69919],\n",
       "                {}\n",
       "            ).addTo(map_7f9015f00f8a17af3072ba61aa863b8a);\n",
       "        \n",
       "    \n",
       "        var popup_a7a64c1532fe78925e6fb81e6b49e140 = L.popup({&quot;maxWidth&quot;: &quot;100%&quot;});\n",
       "\n",
       "        \n",
       "            \n",
       "                var html_e6e286071c98b1f37d8a04f9dbfbaaa2 = $(`&lt;div id=&quot;html_e6e286071c98b1f37d8a04f9dbfbaaa2&quot; style=&quot;width: 100.0%; height: 100.0%;&quot;&gt;Accession: 2009-0023&lt;/div&gt;`)[0];\n",
       "                popup_a7a64c1532fe78925e6fb81e6b49e140.setContent(html_e6e286071c98b1f37d8a04f9dbfbaaa2);\n",
       "            \n",
       "        \n",
       "\n",
       "        marker_732997ff7d5992fd047fc4b262118e40.bindPopup(popup_a7a64c1532fe78925e6fb81e6b49e140)\n",
       "        ;\n",
       "\n",
       "        \n",
       "    \n",
       "    \n",
       "            var marker_0defaf762d0925304dabd277f891042c = L.marker(\n",
       "                [45.418636, -75.69919],\n",
       "                {}\n",
       "            ).addTo(map_7f9015f00f8a17af3072ba61aa863b8a);\n",
       "        \n",
       "    \n",
       "        var popup_4a9db0ec48b872f1ba3b2485746ae5fe = L.popup({&quot;maxWidth&quot;: &quot;100%&quot;});\n",
       "\n",
       "        \n",
       "            \n",
       "                var html_a3e0e151f85eb4fedfe7f2028374bbf0 = $(`&lt;div id=&quot;html_a3e0e151f85eb4fedfe7f2028374bbf0&quot; style=&quot;width: 100.0%; height: 100.0%;&quot;&gt;Accession: 2009-0024&lt;/div&gt;`)[0];\n",
       "                popup_4a9db0ec48b872f1ba3b2485746ae5fe.setContent(html_a3e0e151f85eb4fedfe7f2028374bbf0);\n",
       "            \n",
       "        \n",
       "\n",
       "        marker_0defaf762d0925304dabd277f891042c.bindPopup(popup_4a9db0ec48b872f1ba3b2485746ae5fe)\n",
       "        ;\n",
       "\n",
       "        \n",
       "    \n",
       "    \n",
       "            var marker_86b5b7df9cdcfa9f36d798092e39cea2 = L.marker(\n",
       "                [45.418636, -75.69919],\n",
       "                {}\n",
       "            ).addTo(map_7f9015f00f8a17af3072ba61aa863b8a);\n",
       "        \n",
       "    \n",
       "        var popup_8f1ccac5661ec99be6a368f076d9943a = L.popup({&quot;maxWidth&quot;: &quot;100%&quot;});\n",
       "\n",
       "        \n",
       "            \n",
       "                var html_0f751e0cfe76e1b01b65cbee2347fb51 = $(`&lt;div id=&quot;html_0f751e0cfe76e1b01b65cbee2347fb51&quot; style=&quot;width: 100.0%; height: 100.0%;&quot;&gt;Accession: 2009-0025&lt;/div&gt;`)[0];\n",
       "                popup_8f1ccac5661ec99be6a368f076d9943a.setContent(html_0f751e0cfe76e1b01b65cbee2347fb51);\n",
       "            \n",
       "        \n",
       "\n",
       "        marker_86b5b7df9cdcfa9f36d798092e39cea2.bindPopup(popup_8f1ccac5661ec99be6a368f076d9943a)\n",
       "        ;\n",
       "\n",
       "        \n",
       "    \n",
       "    \n",
       "            var marker_afc7418c01c6c1956b63974649c75b72 = L.marker(\n",
       "                [45.418636, -75.69919],\n",
       "                {}\n",
       "            ).addTo(map_7f9015f00f8a17af3072ba61aa863b8a);\n",
       "        \n",
       "    \n",
       "        var popup_fabb5dd6d36044ef91de72fad9038c03 = L.popup({&quot;maxWidth&quot;: &quot;100%&quot;});\n",
       "\n",
       "        \n",
       "            \n",
       "                var html_ec076f9c7324768b25d253f49406acb9 = $(`&lt;div id=&quot;html_ec076f9c7324768b25d253f49406acb9&quot; style=&quot;width: 100.0%; height: 100.0%;&quot;&gt;Accession: 2009-0026&lt;/div&gt;`)[0];\n",
       "                popup_fabb5dd6d36044ef91de72fad9038c03.setContent(html_ec076f9c7324768b25d253f49406acb9);\n",
       "            \n",
       "        \n",
       "\n",
       "        marker_afc7418c01c6c1956b63974649c75b72.bindPopup(popup_fabb5dd6d36044ef91de72fad9038c03)\n",
       "        ;\n",
       "\n",
       "        \n",
       "    \n",
       "    \n",
       "            var marker_397e8cf4b492fcde190e2eb089979d81 = L.marker(\n",
       "                [45.418636, -75.69919],\n",
       "                {}\n",
       "            ).addTo(map_7f9015f00f8a17af3072ba61aa863b8a);\n",
       "        \n",
       "    \n",
       "        var popup_bb21a2c847fb2c9657a7ddebe17390c7 = L.popup({&quot;maxWidth&quot;: &quot;100%&quot;});\n",
       "\n",
       "        \n",
       "            \n",
       "                var html_4c429d8d3ba9bbf25d6783775b2d1136 = $(`&lt;div id=&quot;html_4c429d8d3ba9bbf25d6783775b2d1136&quot; style=&quot;width: 100.0%; height: 100.0%;&quot;&gt;Accession: 2009-0027&lt;/div&gt;`)[0];\n",
       "                popup_bb21a2c847fb2c9657a7ddebe17390c7.setContent(html_4c429d8d3ba9bbf25d6783775b2d1136);\n",
       "            \n",
       "        \n",
       "\n",
       "        marker_397e8cf4b492fcde190e2eb089979d81.bindPopup(popup_bb21a2c847fb2c9657a7ddebe17390c7)\n",
       "        ;\n",
       "\n",
       "        \n",
       "    \n",
       "    \n",
       "            var marker_199daac04299e87159d4f80cf06e8e16 = L.marker(\n",
       "                [45.418636, -75.69919],\n",
       "                {}\n",
       "            ).addTo(map_7f9015f00f8a17af3072ba61aa863b8a);\n",
       "        \n",
       "    \n",
       "        var popup_ba65b88e79455ee8cc62b7be6e939a2f = L.popup({&quot;maxWidth&quot;: &quot;100%&quot;});\n",
       "\n",
       "        \n",
       "            \n",
       "                var html_8b2935c0411b86a7f49ab50c02f85a41 = $(`&lt;div id=&quot;html_8b2935c0411b86a7f49ab50c02f85a41&quot; style=&quot;width: 100.0%; height: 100.0%;&quot;&gt;Accession: 2009-0028&lt;/div&gt;`)[0];\n",
       "                popup_ba65b88e79455ee8cc62b7be6e939a2f.setContent(html_8b2935c0411b86a7f49ab50c02f85a41);\n",
       "            \n",
       "        \n",
       "\n",
       "        marker_199daac04299e87159d4f80cf06e8e16.bindPopup(popup_ba65b88e79455ee8cc62b7be6e939a2f)\n",
       "        ;\n",
       "\n",
       "        \n",
       "    \n",
       "    \n",
       "            var marker_12efeb3a06e46932558a02977d8e6669 = L.marker(\n",
       "                [45.418636, -75.69919],\n",
       "                {}\n",
       "            ).addTo(map_7f9015f00f8a17af3072ba61aa863b8a);\n",
       "        \n",
       "    \n",
       "        var popup_43519fea7c3b7444ba1461f16332a4ca = L.popup({&quot;maxWidth&quot;: &quot;100%&quot;});\n",
       "\n",
       "        \n",
       "            \n",
       "                var html_f6cc1d4866e0bd5fdd3f791020cd5990 = $(`&lt;div id=&quot;html_f6cc1d4866e0bd5fdd3f791020cd5990&quot; style=&quot;width: 100.0%; height: 100.0%;&quot;&gt;Accession: 2009-0029&lt;/div&gt;`)[0];\n",
       "                popup_43519fea7c3b7444ba1461f16332a4ca.setContent(html_f6cc1d4866e0bd5fdd3f791020cd5990);\n",
       "            \n",
       "        \n",
       "\n",
       "        marker_12efeb3a06e46932558a02977d8e6669.bindPopup(popup_43519fea7c3b7444ba1461f16332a4ca)\n",
       "        ;\n",
       "\n",
       "        \n",
       "    \n",
       "    \n",
       "            var marker_64677583554738dacff003f08653835c = L.marker(\n",
       "                [45.418636, -75.69919],\n",
       "                {}\n",
       "            ).addTo(map_7f9015f00f8a17af3072ba61aa863b8a);\n",
       "        \n",
       "    \n",
       "        var popup_c7aadfcbb9038f4bdd510b81fa57bf6e = L.popup({&quot;maxWidth&quot;: &quot;100%&quot;});\n",
       "\n",
       "        \n",
       "            \n",
       "                var html_a67ab7dffa9844f9749c23ac9997f8af = $(`&lt;div id=&quot;html_a67ab7dffa9844f9749c23ac9997f8af&quot; style=&quot;width: 100.0%; height: 100.0%;&quot;&gt;Accession: 2009-0030&lt;/div&gt;`)[0];\n",
       "                popup_c7aadfcbb9038f4bdd510b81fa57bf6e.setContent(html_a67ab7dffa9844f9749c23ac9997f8af);\n",
       "            \n",
       "        \n",
       "\n",
       "        marker_64677583554738dacff003f08653835c.bindPopup(popup_c7aadfcbb9038f4bdd510b81fa57bf6e)\n",
       "        ;\n",
       "\n",
       "        \n",
       "    \n",
       "    \n",
       "            var marker_af62b5af6e76d3cf096fc03a27e7425b = L.marker(\n",
       "                [45.418636, -75.69919],\n",
       "                {}\n",
       "            ).addTo(map_7f9015f00f8a17af3072ba61aa863b8a);\n",
       "        \n",
       "    \n",
       "        var popup_4644ebef090014be475dc3d97d13b7ea = L.popup({&quot;maxWidth&quot;: &quot;100%&quot;});\n",
       "\n",
       "        \n",
       "            \n",
       "                var html_cc767e1d0d1604f5c15fd635487807ab = $(`&lt;div id=&quot;html_cc767e1d0d1604f5c15fd635487807ab&quot; style=&quot;width: 100.0%; height: 100.0%;&quot;&gt;Accession: 2009-0031&lt;/div&gt;`)[0];\n",
       "                popup_4644ebef090014be475dc3d97d13b7ea.setContent(html_cc767e1d0d1604f5c15fd635487807ab);\n",
       "            \n",
       "        \n",
       "\n",
       "        marker_af62b5af6e76d3cf096fc03a27e7425b.bindPopup(popup_4644ebef090014be475dc3d97d13b7ea)\n",
       "        ;\n",
       "\n",
       "        \n",
       "    \n",
       "    \n",
       "            var marker_5376630db34046f4250536fab8cbbb00 = L.marker(\n",
       "                [45.418636, -75.69919],\n",
       "                {}\n",
       "            ).addTo(map_7f9015f00f8a17af3072ba61aa863b8a);\n",
       "        \n",
       "    \n",
       "        var popup_e54fc23da7cdc3dd688688d3b53b25ec = L.popup({&quot;maxWidth&quot;: &quot;100%&quot;});\n",
       "\n",
       "        \n",
       "            \n",
       "                var html_e8374a46ef43120c7c21125f242f5b3e = $(`&lt;div id=&quot;html_e8374a46ef43120c7c21125f242f5b3e&quot; style=&quot;width: 100.0%; height: 100.0%;&quot;&gt;Accession: 2009-0032&lt;/div&gt;`)[0];\n",
       "                popup_e54fc23da7cdc3dd688688d3b53b25ec.setContent(html_e8374a46ef43120c7c21125f242f5b3e);\n",
       "            \n",
       "        \n",
       "\n",
       "        marker_5376630db34046f4250536fab8cbbb00.bindPopup(popup_e54fc23da7cdc3dd688688d3b53b25ec)\n",
       "        ;\n",
       "\n",
       "        \n",
       "    \n",
       "    \n",
       "            var marker_0ab735ebb52018861a59c9d52d7e2b40 = L.marker(\n",
       "                [45.418636, -75.69919],\n",
       "                {}\n",
       "            ).addTo(map_7f9015f00f8a17af3072ba61aa863b8a);\n",
       "        \n",
       "    \n",
       "        var popup_2f015d2573d901c1e342c37cb096b5fb = L.popup({&quot;maxWidth&quot;: &quot;100%&quot;});\n",
       "\n",
       "        \n",
       "            \n",
       "                var html_9b9fffe24b813f8b7e5426872ab2f39a = $(`&lt;div id=&quot;html_9b9fffe24b813f8b7e5426872ab2f39a&quot; style=&quot;width: 100.0%; height: 100.0%;&quot;&gt;Accession: 2009-0033&lt;/div&gt;`)[0];\n",
       "                popup_2f015d2573d901c1e342c37cb096b5fb.setContent(html_9b9fffe24b813f8b7e5426872ab2f39a);\n",
       "            \n",
       "        \n",
       "\n",
       "        marker_0ab735ebb52018861a59c9d52d7e2b40.bindPopup(popup_2f015d2573d901c1e342c37cb096b5fb)\n",
       "        ;\n",
       "\n",
       "        \n",
       "    \n",
       "    \n",
       "            var marker_03d9cf10f761b2fbf7bf4628d5f1e750 = L.marker(\n",
       "                [45.418636, -75.69919],\n",
       "                {}\n",
       "            ).addTo(map_7f9015f00f8a17af3072ba61aa863b8a);\n",
       "        \n",
       "    \n",
       "        var popup_fcf24e3a5f269c7ff0e1ba2aaa1357b7 = L.popup({&quot;maxWidth&quot;: &quot;100%&quot;});\n",
       "\n",
       "        \n",
       "            \n",
       "                var html_7f823a8d2dccf56d33bb6bd1e7494b8f = $(`&lt;div id=&quot;html_7f823a8d2dccf56d33bb6bd1e7494b8f&quot; style=&quot;width: 100.0%; height: 100.0%;&quot;&gt;Accession: 2009-0034&lt;/div&gt;`)[0];\n",
       "                popup_fcf24e3a5f269c7ff0e1ba2aaa1357b7.setContent(html_7f823a8d2dccf56d33bb6bd1e7494b8f);\n",
       "            \n",
       "        \n",
       "\n",
       "        marker_03d9cf10f761b2fbf7bf4628d5f1e750.bindPopup(popup_fcf24e3a5f269c7ff0e1ba2aaa1357b7)\n",
       "        ;\n",
       "\n",
       "        \n",
       "    \n",
       "    \n",
       "            var marker_ed561a882eea11f35be47033bf824f0d = L.marker(\n",
       "                [45.418636, -75.69919],\n",
       "                {}\n",
       "            ).addTo(map_7f9015f00f8a17af3072ba61aa863b8a);\n",
       "        \n",
       "    \n",
       "        var popup_35b71a9e82cf5658f2c42b319f30fe5e = L.popup({&quot;maxWidth&quot;: &quot;100%&quot;});\n",
       "\n",
       "        \n",
       "            \n",
       "                var html_ec857b66f2eea85cc8d9a04696b75b00 = $(`&lt;div id=&quot;html_ec857b66f2eea85cc8d9a04696b75b00&quot; style=&quot;width: 100.0%; height: 100.0%;&quot;&gt;Accession: 2009-0035&lt;/div&gt;`)[0];\n",
       "                popup_35b71a9e82cf5658f2c42b319f30fe5e.setContent(html_ec857b66f2eea85cc8d9a04696b75b00);\n",
       "            \n",
       "        \n",
       "\n",
       "        marker_ed561a882eea11f35be47033bf824f0d.bindPopup(popup_35b71a9e82cf5658f2c42b319f30fe5e)\n",
       "        ;\n",
       "\n",
       "        \n",
       "    \n",
       "    \n",
       "            var marker_07cf3836cbe10e9a697077fb040d4d0a = L.marker(\n",
       "                [45.418636, -75.69919],\n",
       "                {}\n",
       "            ).addTo(map_7f9015f00f8a17af3072ba61aa863b8a);\n",
       "        \n",
       "    \n",
       "        var popup_8fb79fbdf9240a07a770601bece37281 = L.popup({&quot;maxWidth&quot;: &quot;100%&quot;});\n",
       "\n",
       "        \n",
       "            \n",
       "                var html_1d9bdaca5ff256c743e7b61d89c62c1c = $(`&lt;div id=&quot;html_1d9bdaca5ff256c743e7b61d89c62c1c&quot; style=&quot;width: 100.0%; height: 100.0%;&quot;&gt;Accession: 2009-0036&lt;/div&gt;`)[0];\n",
       "                popup_8fb79fbdf9240a07a770601bece37281.setContent(html_1d9bdaca5ff256c743e7b61d89c62c1c);\n",
       "            \n",
       "        \n",
       "\n",
       "        marker_07cf3836cbe10e9a697077fb040d4d0a.bindPopup(popup_8fb79fbdf9240a07a770601bece37281)\n",
       "        ;\n",
       "\n",
       "        \n",
       "    \n",
       "    \n",
       "            var marker_d88582fa6c1f1086b4e955fb789d21f2 = L.marker(\n",
       "                [45.418636, -75.69919],\n",
       "                {}\n",
       "            ).addTo(map_7f9015f00f8a17af3072ba61aa863b8a);\n",
       "        \n",
       "    \n",
       "        var popup_e26966a0802b22e48f3455b91faf5e06 = L.popup({&quot;maxWidth&quot;: &quot;100%&quot;});\n",
       "\n",
       "        \n",
       "            \n",
       "                var html_efc02d4615005a0a52cc574850d68f25 = $(`&lt;div id=&quot;html_efc02d4615005a0a52cc574850d68f25&quot; style=&quot;width: 100.0%; height: 100.0%;&quot;&gt;Accession: 2009-0037&lt;/div&gt;`)[0];\n",
       "                popup_e26966a0802b22e48f3455b91faf5e06.setContent(html_efc02d4615005a0a52cc574850d68f25);\n",
       "            \n",
       "        \n",
       "\n",
       "        marker_d88582fa6c1f1086b4e955fb789d21f2.bindPopup(popup_e26966a0802b22e48f3455b91faf5e06)\n",
       "        ;\n",
       "\n",
       "        \n",
       "    \n",
       "    \n",
       "            var marker_22df8775ff64a75f4600ac343abbcda2 = L.marker(\n",
       "                [45.418636, -75.69919],\n",
       "                {}\n",
       "            ).addTo(map_7f9015f00f8a17af3072ba61aa863b8a);\n",
       "        \n",
       "    \n",
       "        var popup_579e8a676870c84dcb79c5b2c0f680f3 = L.popup({&quot;maxWidth&quot;: &quot;100%&quot;});\n",
       "\n",
       "        \n",
       "            \n",
       "                var html_64802ed138eb5b470aa8e1d2e2900c7d = $(`&lt;div id=&quot;html_64802ed138eb5b470aa8e1d2e2900c7d&quot; style=&quot;width: 100.0%; height: 100.0%;&quot;&gt;Accession: 2009-0038&lt;/div&gt;`)[0];\n",
       "                popup_579e8a676870c84dcb79c5b2c0f680f3.setContent(html_64802ed138eb5b470aa8e1d2e2900c7d);\n",
       "            \n",
       "        \n",
       "\n",
       "        marker_22df8775ff64a75f4600ac343abbcda2.bindPopup(popup_579e8a676870c84dcb79c5b2c0f680f3)\n",
       "        ;\n",
       "\n",
       "        \n",
       "    \n",
       "    \n",
       "            var marker_8bf675287271d63e294c1d45206b02f4 = L.marker(\n",
       "                [45.418636, -75.69919],\n",
       "                {}\n",
       "            ).addTo(map_7f9015f00f8a17af3072ba61aa863b8a);\n",
       "        \n",
       "    \n",
       "        var popup_ef02dec98b0075099f5b9084e990d374 = L.popup({&quot;maxWidth&quot;: &quot;100%&quot;});\n",
       "\n",
       "        \n",
       "            \n",
       "                var html_61025c4b2010296e3a856fcd5ed54d6c = $(`&lt;div id=&quot;html_61025c4b2010296e3a856fcd5ed54d6c&quot; style=&quot;width: 100.0%; height: 100.0%;&quot;&gt;Accession: 2009-0039&lt;/div&gt;`)[0];\n",
       "                popup_ef02dec98b0075099f5b9084e990d374.setContent(html_61025c4b2010296e3a856fcd5ed54d6c);\n",
       "            \n",
       "        \n",
       "\n",
       "        marker_8bf675287271d63e294c1d45206b02f4.bindPopup(popup_ef02dec98b0075099f5b9084e990d374)\n",
       "        ;\n",
       "\n",
       "        \n",
       "    \n",
       "    \n",
       "            var marker_4a41076360ce5ec975acc604ccd7f3d0 = L.marker(\n",
       "                [45.418636, -75.69919],\n",
       "                {}\n",
       "            ).addTo(map_7f9015f00f8a17af3072ba61aa863b8a);\n",
       "        \n",
       "    \n",
       "        var popup_f1ce9fd003df9379a7e770f76fc584e9 = L.popup({&quot;maxWidth&quot;: &quot;100%&quot;});\n",
       "\n",
       "        \n",
       "            \n",
       "                var html_df1a1d37cef0c8713945c1c374420c43 = $(`&lt;div id=&quot;html_df1a1d37cef0c8713945c1c374420c43&quot; style=&quot;width: 100.0%; height: 100.0%;&quot;&gt;Accession: 2009-0040&lt;/div&gt;`)[0];\n",
       "                popup_f1ce9fd003df9379a7e770f76fc584e9.setContent(html_df1a1d37cef0c8713945c1c374420c43);\n",
       "            \n",
       "        \n",
       "\n",
       "        marker_4a41076360ce5ec975acc604ccd7f3d0.bindPopup(popup_f1ce9fd003df9379a7e770f76fc584e9)\n",
       "        ;\n",
       "\n",
       "        \n",
       "    \n",
       "    \n",
       "            var marker_2aaa1b38ff1f303f639440a3dc32c8d2 = L.marker(\n",
       "                [45.418636, -75.69919],\n",
       "                {}\n",
       "            ).addTo(map_7f9015f00f8a17af3072ba61aa863b8a);\n",
       "        \n",
       "    \n",
       "        var popup_f467f99acdd72bd5efe1ce82791942db = L.popup({&quot;maxWidth&quot;: &quot;100%&quot;});\n",
       "\n",
       "        \n",
       "            \n",
       "                var html_5710a5fa711f1b508ed691a299a03cfc = $(`&lt;div id=&quot;html_5710a5fa711f1b508ed691a299a03cfc&quot; style=&quot;width: 100.0%; height: 100.0%;&quot;&gt;Accession: 2009-0041&lt;/div&gt;`)[0];\n",
       "                popup_f467f99acdd72bd5efe1ce82791942db.setContent(html_5710a5fa711f1b508ed691a299a03cfc);\n",
       "            \n",
       "        \n",
       "\n",
       "        marker_2aaa1b38ff1f303f639440a3dc32c8d2.bindPopup(popup_f467f99acdd72bd5efe1ce82791942db)\n",
       "        ;\n",
       "\n",
       "        \n",
       "    \n",
       "    \n",
       "            var marker_32e73bfc66f311d0f7cdc61379d3bd30 = L.marker(\n",
       "                [45.418636, -75.69919],\n",
       "                {}\n",
       "            ).addTo(map_7f9015f00f8a17af3072ba61aa863b8a);\n",
       "        \n",
       "    \n",
       "        var popup_c5535a26157c3bd291ae4a947eab1eaa = L.popup({&quot;maxWidth&quot;: &quot;100%&quot;});\n",
       "\n",
       "        \n",
       "            \n",
       "                var html_fef8a90ff6236b25560c0ba4cdea5853 = $(`&lt;div id=&quot;html_fef8a90ff6236b25560c0ba4cdea5853&quot; style=&quot;width: 100.0%; height: 100.0%;&quot;&gt;Accession: 2009-0042&lt;/div&gt;`)[0];\n",
       "                popup_c5535a26157c3bd291ae4a947eab1eaa.setContent(html_fef8a90ff6236b25560c0ba4cdea5853);\n",
       "            \n",
       "        \n",
       "\n",
       "        marker_32e73bfc66f311d0f7cdc61379d3bd30.bindPopup(popup_c5535a26157c3bd291ae4a947eab1eaa)\n",
       "        ;\n",
       "\n",
       "        \n",
       "    \n",
       "    \n",
       "            var marker_a572063f0003729afc7f0605736dd8b6 = L.marker(\n",
       "                [45.418636, -75.69919],\n",
       "                {}\n",
       "            ).addTo(map_7f9015f00f8a17af3072ba61aa863b8a);\n",
       "        \n",
       "    \n",
       "        var popup_708a198af8dd0e2718e248e91156fcc7 = L.popup({&quot;maxWidth&quot;: &quot;100%&quot;});\n",
       "\n",
       "        \n",
       "            \n",
       "                var html_f952f7558a52486653b24ad6ab3e17cc = $(`&lt;div id=&quot;html_f952f7558a52486653b24ad6ab3e17cc&quot; style=&quot;width: 100.0%; height: 100.0%;&quot;&gt;Accession: 2009-0043&lt;/div&gt;`)[0];\n",
       "                popup_708a198af8dd0e2718e248e91156fcc7.setContent(html_f952f7558a52486653b24ad6ab3e17cc);\n",
       "            \n",
       "        \n",
       "\n",
       "        marker_a572063f0003729afc7f0605736dd8b6.bindPopup(popup_708a198af8dd0e2718e248e91156fcc7)\n",
       "        ;\n",
       "\n",
       "        \n",
       "    \n",
       "    \n",
       "            var marker_1f6a7a6aad2b688ffe91d5ebe4096a45 = L.marker(\n",
       "                [45.418636, -75.69919],\n",
       "                {}\n",
       "            ).addTo(map_7f9015f00f8a17af3072ba61aa863b8a);\n",
       "        \n",
       "    \n",
       "        var popup_497f8faacfeb20e1fff012f01ffa1115 = L.popup({&quot;maxWidth&quot;: &quot;100%&quot;});\n",
       "\n",
       "        \n",
       "            \n",
       "                var html_cc1b36afee9d86f9088fd157a5c08ca9 = $(`&lt;div id=&quot;html_cc1b36afee9d86f9088fd157a5c08ca9&quot; style=&quot;width: 100.0%; height: 100.0%;&quot;&gt;Accession: 2009-0044&lt;/div&gt;`)[0];\n",
       "                popup_497f8faacfeb20e1fff012f01ffa1115.setContent(html_cc1b36afee9d86f9088fd157a5c08ca9);\n",
       "            \n",
       "        \n",
       "\n",
       "        marker_1f6a7a6aad2b688ffe91d5ebe4096a45.bindPopup(popup_497f8faacfeb20e1fff012f01ffa1115)\n",
       "        ;\n",
       "\n",
       "        \n",
       "    \n",
       "    \n",
       "            var marker_38d5ce58a400ebd43403c47f6d1e26d3 = L.marker(\n",
       "                [45.418636, -75.69919],\n",
       "                {}\n",
       "            ).addTo(map_7f9015f00f8a17af3072ba61aa863b8a);\n",
       "        \n",
       "    \n",
       "        var popup_e7a01376fbf7d48fbc4bc6b824592ef4 = L.popup({&quot;maxWidth&quot;: &quot;100%&quot;});\n",
       "\n",
       "        \n",
       "            \n",
       "                var html_41ad4e44ad0271bbec1d2ad845396f0c = $(`&lt;div id=&quot;html_41ad4e44ad0271bbec1d2ad845396f0c&quot; style=&quot;width: 100.0%; height: 100.0%;&quot;&gt;Accession: 2009-0045&lt;/div&gt;`)[0];\n",
       "                popup_e7a01376fbf7d48fbc4bc6b824592ef4.setContent(html_41ad4e44ad0271bbec1d2ad845396f0c);\n",
       "            \n",
       "        \n",
       "\n",
       "        marker_38d5ce58a400ebd43403c47f6d1e26d3.bindPopup(popup_e7a01376fbf7d48fbc4bc6b824592ef4)\n",
       "        ;\n",
       "\n",
       "        \n",
       "    \n",
       "    \n",
       "            var marker_5d9a982d60987da2b6d61dbb00f80b32 = L.marker(\n",
       "                [45.418636, -75.69919],\n",
       "                {}\n",
       "            ).addTo(map_7f9015f00f8a17af3072ba61aa863b8a);\n",
       "        \n",
       "    \n",
       "        var popup_4dbfb4b286000cf3c8f71419325871e9 = L.popup({&quot;maxWidth&quot;: &quot;100%&quot;});\n",
       "\n",
       "        \n",
       "            \n",
       "                var html_188c038d40559485002ab9521f214573 = $(`&lt;div id=&quot;html_188c038d40559485002ab9521f214573&quot; style=&quot;width: 100.0%; height: 100.0%;&quot;&gt;Accession: 2009-0046&lt;/div&gt;`)[0];\n",
       "                popup_4dbfb4b286000cf3c8f71419325871e9.setContent(html_188c038d40559485002ab9521f214573);\n",
       "            \n",
       "        \n",
       "\n",
       "        marker_5d9a982d60987da2b6d61dbb00f80b32.bindPopup(popup_4dbfb4b286000cf3c8f71419325871e9)\n",
       "        ;\n",
       "\n",
       "        \n",
       "    \n",
       "    \n",
       "            var marker_0a8240069947ab44d42552ee645c2781 = L.marker(\n",
       "                [45.418636, -75.69919],\n",
       "                {}\n",
       "            ).addTo(map_7f9015f00f8a17af3072ba61aa863b8a);\n",
       "        \n",
       "    \n",
       "        var popup_8f09a9c52f10b42a266a3465af8cfed7 = L.popup({&quot;maxWidth&quot;: &quot;100%&quot;});\n",
       "\n",
       "        \n",
       "            \n",
       "                var html_711c2ee439255c23c50fa91c307f3608 = $(`&lt;div id=&quot;html_711c2ee439255c23c50fa91c307f3608&quot; style=&quot;width: 100.0%; height: 100.0%;&quot;&gt;Accession: 2009-0047&lt;/div&gt;`)[0];\n",
       "                popup_8f09a9c52f10b42a266a3465af8cfed7.setContent(html_711c2ee439255c23c50fa91c307f3608);\n",
       "            \n",
       "        \n",
       "\n",
       "        marker_0a8240069947ab44d42552ee645c2781.bindPopup(popup_8f09a9c52f10b42a266a3465af8cfed7)\n",
       "        ;\n",
       "\n",
       "        \n",
       "    \n",
       "    \n",
       "            var marker_3b1087f76cb25afd8caa1b020e0ce44e = L.marker(\n",
       "                [45.418636, -75.69919],\n",
       "                {}\n",
       "            ).addTo(map_7f9015f00f8a17af3072ba61aa863b8a);\n",
       "        \n",
       "    \n",
       "        var popup_cb208ecb207e535f3a20f358801629ad = L.popup({&quot;maxWidth&quot;: &quot;100%&quot;});\n",
       "\n",
       "        \n",
       "            \n",
       "                var html_516be34d26c5abf79025f909dd9b2862 = $(`&lt;div id=&quot;html_516be34d26c5abf79025f909dd9b2862&quot; style=&quot;width: 100.0%; height: 100.0%;&quot;&gt;Accession: 2009-0048&lt;/div&gt;`)[0];\n",
       "                popup_cb208ecb207e535f3a20f358801629ad.setContent(html_516be34d26c5abf79025f909dd9b2862);\n",
       "            \n",
       "        \n",
       "\n",
       "        marker_3b1087f76cb25afd8caa1b020e0ce44e.bindPopup(popup_cb208ecb207e535f3a20f358801629ad)\n",
       "        ;\n",
       "\n",
       "        \n",
       "    \n",
       "    \n",
       "            var marker_0ac20609e5156c03ad3352547ec16a0b = L.marker(\n",
       "                [45.418636, -75.69919],\n",
       "                {}\n",
       "            ).addTo(map_7f9015f00f8a17af3072ba61aa863b8a);\n",
       "        \n",
       "    \n",
       "        var popup_858154dc6ecc8649de2874b4e8d52625 = L.popup({&quot;maxWidth&quot;: &quot;100%&quot;});\n",
       "\n",
       "        \n",
       "            \n",
       "                var html_72065a4d1722f45a97a17b6579ce988e = $(`&lt;div id=&quot;html_72065a4d1722f45a97a17b6579ce988e&quot; style=&quot;width: 100.0%; height: 100.0%;&quot;&gt;Accession: 2009-0049&lt;/div&gt;`)[0];\n",
       "                popup_858154dc6ecc8649de2874b4e8d52625.setContent(html_72065a4d1722f45a97a17b6579ce988e);\n",
       "            \n",
       "        \n",
       "\n",
       "        marker_0ac20609e5156c03ad3352547ec16a0b.bindPopup(popup_858154dc6ecc8649de2874b4e8d52625)\n",
       "        ;\n",
       "\n",
       "        \n",
       "    \n",
       "    \n",
       "            var marker_c99120c4606f9d1c4dfd18b8005fd7f4 = L.marker(\n",
       "                [45.418636, -75.69919],\n",
       "                {}\n",
       "            ).addTo(map_7f9015f00f8a17af3072ba61aa863b8a);\n",
       "        \n",
       "    \n",
       "        var popup_4ad113a6f23a9609f24a23c11f06d194 = L.popup({&quot;maxWidth&quot;: &quot;100%&quot;});\n",
       "\n",
       "        \n",
       "            \n",
       "                var html_3556d83790dd384b1ddaad3f5944ba4b = $(`&lt;div id=&quot;html_3556d83790dd384b1ddaad3f5944ba4b&quot; style=&quot;width: 100.0%; height: 100.0%;&quot;&gt;Accession: 2009-0050&lt;/div&gt;`)[0];\n",
       "                popup_4ad113a6f23a9609f24a23c11f06d194.setContent(html_3556d83790dd384b1ddaad3f5944ba4b);\n",
       "            \n",
       "        \n",
       "\n",
       "        marker_c99120c4606f9d1c4dfd18b8005fd7f4.bindPopup(popup_4ad113a6f23a9609f24a23c11f06d194)\n",
       "        ;\n",
       "\n",
       "        \n",
       "    \n",
       "    \n",
       "            var marker_b36e5a0d9e0ed995a858ae173c966ed7 = L.marker(\n",
       "                [45.418636, -75.69919],\n",
       "                {}\n",
       "            ).addTo(map_7f9015f00f8a17af3072ba61aa863b8a);\n",
       "        \n",
       "    \n",
       "        var popup_2c55405e621fc1599887f4a7078b77d3 = L.popup({&quot;maxWidth&quot;: &quot;100%&quot;});\n",
       "\n",
       "        \n",
       "            \n",
       "                var html_3bbf973afbb58bbb452eab56e2a6edab = $(`&lt;div id=&quot;html_3bbf973afbb58bbb452eab56e2a6edab&quot; style=&quot;width: 100.0%; height: 100.0%;&quot;&gt;Accession: 2009-0051&lt;/div&gt;`)[0];\n",
       "                popup_2c55405e621fc1599887f4a7078b77d3.setContent(html_3bbf973afbb58bbb452eab56e2a6edab);\n",
       "            \n",
       "        \n",
       "\n",
       "        marker_b36e5a0d9e0ed995a858ae173c966ed7.bindPopup(popup_2c55405e621fc1599887f4a7078b77d3)\n",
       "        ;\n",
       "\n",
       "        \n",
       "    \n",
       "    \n",
       "            var marker_986aa8f8d0ceb250d6a9dc5628632dd6 = L.marker(\n",
       "                [45.418636, -75.69919],\n",
       "                {}\n",
       "            ).addTo(map_7f9015f00f8a17af3072ba61aa863b8a);\n",
       "        \n",
       "    \n",
       "        var popup_70e194cc98d774c77d9086e701f85873 = L.popup({&quot;maxWidth&quot;: &quot;100%&quot;});\n",
       "\n",
       "        \n",
       "            \n",
       "                var html_47a42941d40e3ec68b23b997f7202e57 = $(`&lt;div id=&quot;html_47a42941d40e3ec68b23b997f7202e57&quot; style=&quot;width: 100.0%; height: 100.0%;&quot;&gt;Accession: 2009-0052&lt;/div&gt;`)[0];\n",
       "                popup_70e194cc98d774c77d9086e701f85873.setContent(html_47a42941d40e3ec68b23b997f7202e57);\n",
       "            \n",
       "        \n",
       "\n",
       "        marker_986aa8f8d0ceb250d6a9dc5628632dd6.bindPopup(popup_70e194cc98d774c77d9086e701f85873)\n",
       "        ;\n",
       "\n",
       "        \n",
       "    \n",
       "    \n",
       "            var marker_ed308501d4e488220e9b1229ea6d0181 = L.marker(\n",
       "                [45.292429, -75.924941],\n",
       "                {}\n",
       "            ).addTo(map_7f9015f00f8a17af3072ba61aa863b8a);\n",
       "        \n",
       "    \n",
       "        var popup_ed8f4618c4a84ed7c2e5c526394d8ad0 = L.popup({&quot;maxWidth&quot;: &quot;100%&quot;});\n",
       "\n",
       "        \n",
       "            \n",
       "                var html_42829e9dfa47aac197064799372a9146 = $(`&lt;div id=&quot;html_42829e9dfa47aac197064799372a9146&quot; style=&quot;width: 100.0%; height: 100.0%;&quot;&gt;Accession: 2009-0053&lt;/div&gt;`)[0];\n",
       "                popup_ed8f4618c4a84ed7c2e5c526394d8ad0.setContent(html_42829e9dfa47aac197064799372a9146);\n",
       "            \n",
       "        \n",
       "\n",
       "        marker_ed308501d4e488220e9b1229ea6d0181.bindPopup(popup_ed8f4618c4a84ed7c2e5c526394d8ad0)\n",
       "        ;\n",
       "\n",
       "        \n",
       "    \n",
       "    \n",
       "            var marker_afbfcfd65813cee048321a937e53d503 = L.marker(\n",
       "                [45.403128, -75.711018],\n",
       "                {}\n",
       "            ).addTo(map_7f9015f00f8a17af3072ba61aa863b8a);\n",
       "        \n",
       "    \n",
       "        var popup_7e06d9629c7bffe9670bd3afeeb9ed8c = L.popup({&quot;maxWidth&quot;: &quot;100%&quot;});\n",
       "\n",
       "        \n",
       "            \n",
       "                var html_71d4ce532b06c2ac37f542159e00a1c7 = $(`&lt;div id=&quot;html_71d4ce532b06c2ac37f542159e00a1c7&quot; style=&quot;width: 100.0%; height: 100.0%;&quot;&gt;Accession: 2010-0010&lt;/div&gt;`)[0];\n",
       "                popup_7e06d9629c7bffe9670bd3afeeb9ed8c.setContent(html_71d4ce532b06c2ac37f542159e00a1c7);\n",
       "            \n",
       "        \n",
       "\n",
       "        marker_afbfcfd65813cee048321a937e53d503.bindPopup(popup_7e06d9629c7bffe9670bd3afeeb9ed8c)\n",
       "        ;\n",
       "\n",
       "        \n",
       "    \n",
       "    \n",
       "            var marker_998dd93db5d3ac8dbccb3101ee30a189 = L.marker(\n",
       "                [45.421781, -75.691182],\n",
       "                {}\n",
       "            ).addTo(map_7f9015f00f8a17af3072ba61aa863b8a);\n",
       "        \n",
       "    \n",
       "        var popup_0ca090546629132de930b4d4d2d364e5 = L.popup({&quot;maxWidth&quot;: &quot;100%&quot;});\n",
       "\n",
       "        \n",
       "            \n",
       "                var html_4d6d558aedad09df1fbb076e5c0328f3 = $(`&lt;div id=&quot;html_4d6d558aedad09df1fbb076e5c0328f3&quot; style=&quot;width: 100.0%; height: 100.0%;&quot;&gt;Accession: 2010-0011&lt;/div&gt;`)[0];\n",
       "                popup_0ca090546629132de930b4d4d2d364e5.setContent(html_4d6d558aedad09df1fbb076e5c0328f3);\n",
       "            \n",
       "        \n",
       "\n",
       "        marker_998dd93db5d3ac8dbccb3101ee30a189.bindPopup(popup_0ca090546629132de930b4d4d2d364e5)\n",
       "        ;\n",
       "\n",
       "        \n",
       "    \n",
       "    \n",
       "            var marker_e4ddfd035e63a0cfdabab28cbb3378ea = L.marker(\n",
       "                [45.372866, -75.646768],\n",
       "                {}\n",
       "            ).addTo(map_7f9015f00f8a17af3072ba61aa863b8a);\n",
       "        \n",
       "    \n",
       "        var popup_2e8b41cb96b58929939f378faac6a0b5 = L.popup({&quot;maxWidth&quot;: &quot;100%&quot;});\n",
       "\n",
       "        \n",
       "            \n",
       "                var html_5c0f2c2541e741e001f794fc708ff654 = $(`&lt;div id=&quot;html_5c0f2c2541e741e001f794fc708ff654&quot; style=&quot;width: 100.0%; height: 100.0%;&quot;&gt;Accession: 2010-0081&lt;/div&gt;`)[0];\n",
       "                popup_2e8b41cb96b58929939f378faac6a0b5.setContent(html_5c0f2c2541e741e001f794fc708ff654);\n",
       "            \n",
       "        \n",
       "\n",
       "        marker_e4ddfd035e63a0cfdabab28cbb3378ea.bindPopup(popup_2e8b41cb96b58929939f378faac6a0b5)\n",
       "        ;\n",
       "\n",
       "        \n",
       "    \n",
       "    \n",
       "            var marker_a16491fcb9f5681104fba51db4f4b96e = L.marker(\n",
       "                [45.356993, -75.732862],\n",
       "                {}\n",
       "            ).addTo(map_7f9015f00f8a17af3072ba61aa863b8a);\n",
       "        \n",
       "    \n",
       "        var popup_53eff06bf09cb1febb5043d59557848d = L.popup({&quot;maxWidth&quot;: &quot;100%&quot;});\n",
       "\n",
       "        \n",
       "            \n",
       "                var html_c62c2d6ab943f340f60122d1ae3e020a = $(`&lt;div id=&quot;html_c62c2d6ab943f340f60122d1ae3e020a&quot; style=&quot;width: 100.0%; height: 100.0%;&quot;&gt;Accession: 2010-0082&lt;/div&gt;`)[0];\n",
       "                popup_53eff06bf09cb1febb5043d59557848d.setContent(html_c62c2d6ab943f340f60122d1ae3e020a);\n",
       "            \n",
       "        \n",
       "\n",
       "        marker_a16491fcb9f5681104fba51db4f4b96e.bindPopup(popup_53eff06bf09cb1febb5043d59557848d)\n",
       "        ;\n",
       "\n",
       "        \n",
       "    \n",
       "    \n",
       "            var marker_ceab2cc5d7eb487f1c6e99a44ccf6e8c = L.marker(\n",
       "                [45.284463, -75.744491],\n",
       "                {}\n",
       "            ).addTo(map_7f9015f00f8a17af3072ba61aa863b8a);\n",
       "        \n",
       "    \n",
       "        var popup_166ddeb85e129495c9df378ae29eb915 = L.popup({&quot;maxWidth&quot;: &quot;100%&quot;});\n",
       "\n",
       "        \n",
       "            \n",
       "                var html_0ce7bae1b3b53c7576f5b6a52d97b927 = $(`&lt;div id=&quot;html_0ce7bae1b3b53c7576f5b6a52d97b927&quot; style=&quot;width: 100.0%; height: 100.0%;&quot;&gt;Accession: 2011-0001&lt;/div&gt;`)[0];\n",
       "                popup_166ddeb85e129495c9df378ae29eb915.setContent(html_0ce7bae1b3b53c7576f5b6a52d97b927);\n",
       "            \n",
       "        \n",
       "\n",
       "        marker_ceab2cc5d7eb487f1c6e99a44ccf6e8c.bindPopup(popup_166ddeb85e129495c9df378ae29eb915)\n",
       "        ;\n",
       "\n",
       "        \n",
       "    \n",
       "    \n",
       "            var marker_f71c41889fb92a322c631c3dd81419dd = L.marker(\n",
       "                [45.269854, -75.742951],\n",
       "                {}\n",
       "            ).addTo(map_7f9015f00f8a17af3072ba61aa863b8a);\n",
       "        \n",
       "    \n",
       "        var popup_78f183473892a12e3b76e77c40f7bbe8 = L.popup({&quot;maxWidth&quot;: &quot;100%&quot;});\n",
       "\n",
       "        \n",
       "            \n",
       "                var html_cd87af0cfd5a6971c32e38dd3261b377 = $(`&lt;div id=&quot;html_cd87af0cfd5a6971c32e38dd3261b377&quot; style=&quot;width: 100.0%; height: 100.0%;&quot;&gt;Accession: 2011-0002&lt;/div&gt;`)[0];\n",
       "                popup_78f183473892a12e3b76e77c40f7bbe8.setContent(html_cd87af0cfd5a6971c32e38dd3261b377);\n",
       "            \n",
       "        \n",
       "\n",
       "        marker_f71c41889fb92a322c631c3dd81419dd.bindPopup(popup_78f183473892a12e3b76e77c40f7bbe8)\n",
       "        ;\n",
       "\n",
       "        \n",
       "    \n",
       "    \n",
       "            var marker_43d68577e1f3ca60e0a22d10cb84caa6 = L.marker(\n",
       "                [45.42012, -75.678529],\n",
       "                {}\n",
       "            ).addTo(map_7f9015f00f8a17af3072ba61aa863b8a);\n",
       "        \n",
       "    \n",
       "        var popup_e6d3a71777df1a354fcacec4db68e22b = L.popup({&quot;maxWidth&quot;: &quot;100%&quot;});\n",
       "\n",
       "        \n",
       "            \n",
       "                var html_91d2b24cc3bf81c7e445a6dbcbbdb7ec = $(`&lt;div id=&quot;html_91d2b24cc3bf81c7e445a6dbcbbdb7ec&quot; style=&quot;width: 100.0%; height: 100.0%;&quot;&gt;Accession: 2011-0003&lt;/div&gt;`)[0];\n",
       "                popup_e6d3a71777df1a354fcacec4db68e22b.setContent(html_91d2b24cc3bf81c7e445a6dbcbbdb7ec);\n",
       "            \n",
       "        \n",
       "\n",
       "        marker_43d68577e1f3ca60e0a22d10cb84caa6.bindPopup(popup_e6d3a71777df1a354fcacec4db68e22b)\n",
       "        ;\n",
       "\n",
       "        \n",
       "    \n",
       "    \n",
       "            var marker_c4cdf8326f6a49c1ea7f09be8926847c = L.marker(\n",
       "                [45.34459, -75.76448],\n",
       "                {}\n",
       "            ).addTo(map_7f9015f00f8a17af3072ba61aa863b8a);\n",
       "        \n",
       "    \n",
       "        var popup_6f60ce1d720f104e0c30b840f0b18d0d = L.popup({&quot;maxWidth&quot;: &quot;100%&quot;});\n",
       "\n",
       "        \n",
       "            \n",
       "                var html_1990fe2f2d296e3b6bc91e19bcd67e1a = $(`&lt;div id=&quot;html_1990fe2f2d296e3b6bc91e19bcd67e1a&quot; style=&quot;width: 100.0%; height: 100.0%;&quot;&gt;Accession: 2011-0004&lt;/div&gt;`)[0];\n",
       "                popup_6f60ce1d720f104e0c30b840f0b18d0d.setContent(html_1990fe2f2d296e3b6bc91e19bcd67e1a);\n",
       "            \n",
       "        \n",
       "\n",
       "        marker_c4cdf8326f6a49c1ea7f09be8926847c.bindPopup(popup_6f60ce1d720f104e0c30b840f0b18d0d)\n",
       "        ;\n",
       "\n",
       "        \n",
       "    \n",
       "    \n",
       "            var marker_09f1194b324230f6b5443fd798d41a74 = L.marker(\n",
       "                [45.340672, -75.761316],\n",
       "                {}\n",
       "            ).addTo(map_7f9015f00f8a17af3072ba61aa863b8a);\n",
       "        \n",
       "    \n",
       "        var popup_07f75b2fcd108d0d6c911ef2bad16e4e = L.popup({&quot;maxWidth&quot;: &quot;100%&quot;});\n",
       "\n",
       "        \n",
       "            \n",
       "                var html_6cc7d6c37d85c90a0c34fa55c0fdf481 = $(`&lt;div id=&quot;html_6cc7d6c37d85c90a0c34fa55c0fdf481&quot; style=&quot;width: 100.0%; height: 100.0%;&quot;&gt;Accession: 2011-0005&lt;/div&gt;`)[0];\n",
       "                popup_07f75b2fcd108d0d6c911ef2bad16e4e.setContent(html_6cc7d6c37d85c90a0c34fa55c0fdf481);\n",
       "            \n",
       "        \n",
       "\n",
       "        marker_09f1194b324230f6b5443fd798d41a74.bindPopup(popup_07f75b2fcd108d0d6c911ef2bad16e4e)\n",
       "        ;\n",
       "\n",
       "        \n",
       "    \n",
       "    \n",
       "            var marker_59fbdb634e3c172cc36daa1e6c9e0c8e = L.marker(\n",
       "                [45.425571, -75.657529],\n",
       "                {}\n",
       "            ).addTo(map_7f9015f00f8a17af3072ba61aa863b8a);\n",
       "        \n",
       "    \n",
       "        var popup_79183d4ec210020460b21791c76d8af1 = L.popup({&quot;maxWidth&quot;: &quot;100%&quot;});\n",
       "\n",
       "        \n",
       "            \n",
       "                var html_a521a37dc362aee2e6075b988f972e7f = $(`&lt;div id=&quot;html_a521a37dc362aee2e6075b988f972e7f&quot; style=&quot;width: 100.0%; height: 100.0%;&quot;&gt;Accession: 2011-0006&lt;/div&gt;`)[0];\n",
       "                popup_79183d4ec210020460b21791c76d8af1.setContent(html_a521a37dc362aee2e6075b988f972e7f);\n",
       "            \n",
       "        \n",
       "\n",
       "        marker_59fbdb634e3c172cc36daa1e6c9e0c8e.bindPopup(popup_79183d4ec210020460b21791c76d8af1)\n",
       "        ;\n",
       "\n",
       "        \n",
       "    \n",
       "    \n",
       "            var marker_4bcdcd0c349bc1d60a079e2da5ee1c8a = L.marker(\n",
       "                [45.425571, -75.657529],\n",
       "                {}\n",
       "            ).addTo(map_7f9015f00f8a17af3072ba61aa863b8a);\n",
       "        \n",
       "    \n",
       "        var popup_7c2715824e1fb8fe61c9d919208efa12 = L.popup({&quot;maxWidth&quot;: &quot;100%&quot;});\n",
       "\n",
       "        \n",
       "            \n",
       "                var html_fceb7432ea7856f6294b19a41c85110a = $(`&lt;div id=&quot;html_fceb7432ea7856f6294b19a41c85110a&quot; style=&quot;width: 100.0%; height: 100.0%;&quot;&gt;Accession: 2011-0007&lt;/div&gt;`)[0];\n",
       "                popup_7c2715824e1fb8fe61c9d919208efa12.setContent(html_fceb7432ea7856f6294b19a41c85110a);\n",
       "            \n",
       "        \n",
       "\n",
       "        marker_4bcdcd0c349bc1d60a079e2da5ee1c8a.bindPopup(popup_7c2715824e1fb8fe61c9d919208efa12)\n",
       "        ;\n",
       "\n",
       "        \n",
       "    \n",
       "    \n",
       "            var marker_06172ab223909c3b1962119add8acf4e = L.marker(\n",
       "                [45.363903, -75.634656],\n",
       "                {}\n",
       "            ).addTo(map_7f9015f00f8a17af3072ba61aa863b8a);\n",
       "        \n",
       "    \n",
       "        var popup_d65d39fca28475621e5da43cc156a1ae = L.popup({&quot;maxWidth&quot;: &quot;100%&quot;});\n",
       "\n",
       "        \n",
       "            \n",
       "                var html_a01a0e51b2865f907bba8634131f4c64 = $(`&lt;div id=&quot;html_a01a0e51b2865f907bba8634131f4c64&quot; style=&quot;width: 100.0%; height: 100.0%;&quot;&gt;Accession: 2011-0008&lt;/div&gt;`)[0];\n",
       "                popup_d65d39fca28475621e5da43cc156a1ae.setContent(html_a01a0e51b2865f907bba8634131f4c64);\n",
       "            \n",
       "        \n",
       "\n",
       "        marker_06172ab223909c3b1962119add8acf4e.bindPopup(popup_d65d39fca28475621e5da43cc156a1ae)\n",
       "        ;\n",
       "\n",
       "        \n",
       "    \n",
       "    \n",
       "            var marker_14882ef8849fd9817e5996fe70c3bd8d = L.marker(\n",
       "                [45.293396, -75.89571],\n",
       "                {}\n",
       "            ).addTo(map_7f9015f00f8a17af3072ba61aa863b8a);\n",
       "        \n",
       "    \n",
       "        var popup_ec4745c6fe13cacff2059d24f2c14f4f = L.popup({&quot;maxWidth&quot;: &quot;100%&quot;});\n",
       "\n",
       "        \n",
       "            \n",
       "                var html_298b61df45bf6025afbdbf5818336704 = $(`&lt;div id=&quot;html_298b61df45bf6025afbdbf5818336704&quot; style=&quot;width: 100.0%; height: 100.0%;&quot;&gt;Accession: 2011-0099&lt;/div&gt;`)[0];\n",
       "                popup_ec4745c6fe13cacff2059d24f2c14f4f.setContent(html_298b61df45bf6025afbdbf5818336704);\n",
       "            \n",
       "        \n",
       "\n",
       "        marker_14882ef8849fd9817e5996fe70c3bd8d.bindPopup(popup_ec4745c6fe13cacff2059d24f2c14f4f)\n",
       "        ;\n",
       "\n",
       "        \n",
       "    \n",
       "    \n",
       "            var marker_ade2ec5b4791204e612c9081dc9e9355 = L.marker(\n",
       "                [45.293396, -75.89571],\n",
       "                {}\n",
       "            ).addTo(map_7f9015f00f8a17af3072ba61aa863b8a);\n",
       "        \n",
       "    \n",
       "        var popup_178d1376e986f487c15823f270b99487 = L.popup({&quot;maxWidth&quot;: &quot;100%&quot;});\n",
       "\n",
       "        \n",
       "            \n",
       "                var html_fdbf0909f09b740ff1828f8eda077789 = $(`&lt;div id=&quot;html_fdbf0909f09b740ff1828f8eda077789&quot; style=&quot;width: 100.0%; height: 100.0%;&quot;&gt;Accession: 2011-0100&lt;/div&gt;`)[0];\n",
       "                popup_178d1376e986f487c15823f270b99487.setContent(html_fdbf0909f09b740ff1828f8eda077789);\n",
       "            \n",
       "        \n",
       "\n",
       "        marker_ade2ec5b4791204e612c9081dc9e9355.bindPopup(popup_178d1376e986f487c15823f270b99487)\n",
       "        ;\n",
       "\n",
       "        \n",
       "    \n",
       "    \n",
       "            var marker_bdf0399caff6fd141511a1c42698ac44 = L.marker(\n",
       "                [45.293396, -75.89571],\n",
       "                {}\n",
       "            ).addTo(map_7f9015f00f8a17af3072ba61aa863b8a);\n",
       "        \n",
       "    \n",
       "        var popup_585d93bfa9a8de4e1645470f34dd1684 = L.popup({&quot;maxWidth&quot;: &quot;100%&quot;});\n",
       "\n",
       "        \n",
       "            \n",
       "                var html_1313c91021ad67eb495b4e3fee1192f9 = $(`&lt;div id=&quot;html_1313c91021ad67eb495b4e3fee1192f9&quot; style=&quot;width: 100.0%; height: 100.0%;&quot;&gt;Accession: 2011-0101&lt;/div&gt;`)[0];\n",
       "                popup_585d93bfa9a8de4e1645470f34dd1684.setContent(html_1313c91021ad67eb495b4e3fee1192f9);\n",
       "            \n",
       "        \n",
       "\n",
       "        marker_bdf0399caff6fd141511a1c42698ac44.bindPopup(popup_585d93bfa9a8de4e1645470f34dd1684)\n",
       "        ;\n",
       "\n",
       "        \n",
       "    \n",
       "    \n",
       "            var marker_f9b921f5ec1171604d5b889f99054640 = L.marker(\n",
       "                [45.394707, -75.682307],\n",
       "                {}\n",
       "            ).addTo(map_7f9015f00f8a17af3072ba61aa863b8a);\n",
       "        \n",
       "    \n",
       "        var popup_de484384062e75b5809c19ebd06ee665 = L.popup({&quot;maxWidth&quot;: &quot;100%&quot;});\n",
       "\n",
       "        \n",
       "            \n",
       "                var html_7286dc3960cc90a2f4599fc2ac6e7117 = $(`&lt;div id=&quot;html_7286dc3960cc90a2f4599fc2ac6e7117&quot; style=&quot;width: 100.0%; height: 100.0%;&quot;&gt;Accession: 2011-0102&lt;/div&gt;`)[0];\n",
       "                popup_de484384062e75b5809c19ebd06ee665.setContent(html_7286dc3960cc90a2f4599fc2ac6e7117);\n",
       "            \n",
       "        \n",
       "\n",
       "        marker_f9b921f5ec1171604d5b889f99054640.bindPopup(popup_de484384062e75b5809c19ebd06ee665)\n",
       "        ;\n",
       "\n",
       "        \n",
       "    \n",
       "    \n",
       "            var marker_f7529cf9d4222b91fc3ca057a99668c0 = L.marker(\n",
       "                [45.399841, -75.686537],\n",
       "                {}\n",
       "            ).addTo(map_7f9015f00f8a17af3072ba61aa863b8a);\n",
       "        \n",
       "    \n",
       "        var popup_c0b1a840735609239486744efaf781d1 = L.popup({&quot;maxWidth&quot;: &quot;100%&quot;});\n",
       "\n",
       "        \n",
       "            \n",
       "                var html_fcf72e4d392096c9eac291310831eb72 = $(`&lt;div id=&quot;html_fcf72e4d392096c9eac291310831eb72&quot; style=&quot;width: 100.0%; height: 100.0%;&quot;&gt;Accession: 2012-0001&lt;/div&gt;`)[0];\n",
       "                popup_c0b1a840735609239486744efaf781d1.setContent(html_fcf72e4d392096c9eac291310831eb72);\n",
       "            \n",
       "        \n",
       "\n",
       "        marker_f7529cf9d4222b91fc3ca057a99668c0.bindPopup(popup_c0b1a840735609239486744efaf781d1)\n",
       "        ;\n",
       "\n",
       "        \n",
       "    \n",
       "    \n",
       "            var marker_1014e41a37a37d3429f7a16d4fae7a52 = L.marker(\n",
       "                [45.409883, -75.706312],\n",
       "                {}\n",
       "            ).addTo(map_7f9015f00f8a17af3072ba61aa863b8a);\n",
       "        \n",
       "    \n",
       "        var popup_4c2a1c0371f216b8e9594536f33494b2 = L.popup({&quot;maxWidth&quot;: &quot;100%&quot;});\n",
       "\n",
       "        \n",
       "            \n",
       "                var html_afbe624e1f3156e8eb75c2cbaf36e98f = $(`&lt;div id=&quot;html_afbe624e1f3156e8eb75c2cbaf36e98f&quot; style=&quot;width: 100.0%; height: 100.0%;&quot;&gt;Accession: 2012-0199&lt;/div&gt;`)[0];\n",
       "                popup_4c2a1c0371f216b8e9594536f33494b2.setContent(html_afbe624e1f3156e8eb75c2cbaf36e98f);\n",
       "            \n",
       "        \n",
       "\n",
       "        marker_1014e41a37a37d3429f7a16d4fae7a52.bindPopup(popup_4c2a1c0371f216b8e9594536f33494b2)\n",
       "        ;\n",
       "\n",
       "        \n",
       "    \n",
       "    \n",
       "            var marker_4f9b8b9d658bfc496caa0b4f4fa35b09 = L.marker(\n",
       "                [45.40586, -75.72258],\n",
       "                {}\n",
       "            ).addTo(map_7f9015f00f8a17af3072ba61aa863b8a);\n",
       "        \n",
       "    \n",
       "        var popup_700273e51e67e79d1dd6689a2bc19fe9 = L.popup({&quot;maxWidth&quot;: &quot;100%&quot;});\n",
       "\n",
       "        \n",
       "            \n",
       "                var html_35038cd515c7d10f22bf36674ae73ddd = $(`&lt;div id=&quot;html_35038cd515c7d10f22bf36674ae73ddd&quot; style=&quot;width: 100.0%; height: 100.0%;&quot;&gt;Accession: 2012-0200&lt;/div&gt;`)[0];\n",
       "                popup_700273e51e67e79d1dd6689a2bc19fe9.setContent(html_35038cd515c7d10f22bf36674ae73ddd);\n",
       "            \n",
       "        \n",
       "\n",
       "        marker_4f9b8b9d658bfc496caa0b4f4fa35b09.bindPopup(popup_700273e51e67e79d1dd6689a2bc19fe9)\n",
       "        ;\n",
       "\n",
       "        \n",
       "    \n",
       "    \n",
       "            var marker_04d7ef393470fd6c2f667fd04a4cb22a = L.marker(\n",
       "                [45.408927, -75.634927],\n",
       "                {}\n",
       "            ).addTo(map_7f9015f00f8a17af3072ba61aa863b8a);\n",
       "        \n",
       "    \n",
       "        var popup_3dc939b406abba8080299b9be1535855 = L.popup({&quot;maxWidth&quot;: &quot;100%&quot;});\n",
       "\n",
       "        \n",
       "            \n",
       "                var html_b1961271a5cbea7f1ca415c40cbff28e = $(`&lt;div id=&quot;html_b1961271a5cbea7f1ca415c40cbff28e&quot; style=&quot;width: 100.0%; height: 100.0%;&quot;&gt;Accession: 2012-0201&lt;/div&gt;`)[0];\n",
       "                popup_3dc939b406abba8080299b9be1535855.setContent(html_b1961271a5cbea7f1ca415c40cbff28e);\n",
       "            \n",
       "        \n",
       "\n",
       "        marker_04d7ef393470fd6c2f667fd04a4cb22a.bindPopup(popup_3dc939b406abba8080299b9be1535855)\n",
       "        ;\n",
       "\n",
       "        \n",
       "    \n",
       "    \n",
       "            var marker_e014c85a31d6a34f6219d055e6e0e382 = L.marker(\n",
       "                [45.457771, -75.466009],\n",
       "                {}\n",
       "            ).addTo(map_7f9015f00f8a17af3072ba61aa863b8a);\n",
       "        \n",
       "    \n",
       "        var popup_b1ac6b6070eb45ee8e170e54d1962267 = L.popup({&quot;maxWidth&quot;: &quot;100%&quot;});\n",
       "\n",
       "        \n",
       "            \n",
       "                var html_ef080ef4b2d0a1d584c5a1f587da21b4 = $(`&lt;div id=&quot;html_ef080ef4b2d0a1d584c5a1f587da21b4&quot; style=&quot;width: 100.0%; height: 100.0%;&quot;&gt;Accession: 2013-0001&lt;/div&gt;`)[0];\n",
       "                popup_b1ac6b6070eb45ee8e170e54d1962267.setContent(html_ef080ef4b2d0a1d584c5a1f587da21b4);\n",
       "            \n",
       "        \n",
       "\n",
       "        marker_e014c85a31d6a34f6219d055e6e0e382.bindPopup(popup_b1ac6b6070eb45ee8e170e54d1962267)\n",
       "        ;\n",
       "\n",
       "        \n",
       "    \n",
       "    \n",
       "            var marker_a99188be9f8fbc3374baedca39122947 = L.marker(\n",
       "                [45.252462, -75.737779],\n",
       "                {}\n",
       "            ).addTo(map_7f9015f00f8a17af3072ba61aa863b8a);\n",
       "        \n",
       "    \n",
       "        var popup_782f5db75a4e3cfeb4a4f8128d3c0011 = L.popup({&quot;maxWidth&quot;: &quot;100%&quot;});\n",
       "\n",
       "        \n",
       "            \n",
       "                var html_730192ad1a2a368155369abb19959a79 = $(`&lt;div id=&quot;html_730192ad1a2a368155369abb19959a79&quot; style=&quot;width: 100.0%; height: 100.0%;&quot;&gt;Accession: 2013-0066&lt;/div&gt;`)[0];\n",
       "                popup_782f5db75a4e3cfeb4a4f8128d3c0011.setContent(html_730192ad1a2a368155369abb19959a79);\n",
       "            \n",
       "        \n",
       "\n",
       "        marker_a99188be9f8fbc3374baedca39122947.bindPopup(popup_782f5db75a4e3cfeb4a4f8128d3c0011)\n",
       "        ;\n",
       "\n",
       "        \n",
       "    \n",
       "    \n",
       "            var marker_6e2d5d1c1f1adc3ba1ed72a7864ac37b = L.marker(\n",
       "                [45.281583, -75.909978],\n",
       "                {}\n",
       "            ).addTo(map_7f9015f00f8a17af3072ba61aa863b8a);\n",
       "        \n",
       "    \n",
       "        var popup_7c2b2d1ce08f7aaed4f248b827267007 = L.popup({&quot;maxWidth&quot;: &quot;100%&quot;});\n",
       "\n",
       "        \n",
       "            \n",
       "                var html_e91c1ca397b6a2638bc5a40827281f19 = $(`&lt;div id=&quot;html_e91c1ca397b6a2638bc5a40827281f19&quot; style=&quot;width: 100.0%; height: 100.0%;&quot;&gt;Accession: 2013-0067&lt;/div&gt;`)[0];\n",
       "                popup_7c2b2d1ce08f7aaed4f248b827267007.setContent(html_e91c1ca397b6a2638bc5a40827281f19);\n",
       "            \n",
       "        \n",
       "\n",
       "        marker_6e2d5d1c1f1adc3ba1ed72a7864ac37b.bindPopup(popup_7c2b2d1ce08f7aaed4f248b827267007)\n",
       "        ;\n",
       "\n",
       "        \n",
       "    \n",
       "    \n",
       "            var marker_3f9e326c8235d4aa8153e14c759dde4b = L.marker(\n",
       "                [45.253397, -75.736022],\n",
       "                {}\n",
       "            ).addTo(map_7f9015f00f8a17af3072ba61aa863b8a);\n",
       "        \n",
       "    \n",
       "        var popup_d8f7ba8e98a3cbbf7c394246f77b25d3 = L.popup({&quot;maxWidth&quot;: &quot;100%&quot;});\n",
       "\n",
       "        \n",
       "            \n",
       "                var html_7d2c15d8bde0508d0b7342f37ae4388d = $(`&lt;div id=&quot;html_7d2c15d8bde0508d0b7342f37ae4388d&quot; style=&quot;width: 100.0%; height: 100.0%;&quot;&gt;Accession: 2013-0068&lt;/div&gt;`)[0];\n",
       "                popup_d8f7ba8e98a3cbbf7c394246f77b25d3.setContent(html_7d2c15d8bde0508d0b7342f37ae4388d);\n",
       "            \n",
       "        \n",
       "\n",
       "        marker_3f9e326c8235d4aa8153e14c759dde4b.bindPopup(popup_d8f7ba8e98a3cbbf7c394246f77b25d3)\n",
       "        ;\n",
       "\n",
       "        \n",
       "    \n",
       "    \n",
       "            var marker_c7b2c63630c4b9688161947a0204d4f6 = L.marker(\n",
       "                [45.340496, -75.930498],\n",
       "                {}\n",
       "            ).addTo(map_7f9015f00f8a17af3072ba61aa863b8a);\n",
       "        \n",
       "    \n",
       "        var popup_e0a8b9016c2a48beb1f7f0a768cff98c = L.popup({&quot;maxWidth&quot;: &quot;100%&quot;});\n",
       "\n",
       "        \n",
       "            \n",
       "                var html_53414cde7a357bd3e7044d65bffbc903 = $(`&lt;div id=&quot;html_53414cde7a357bd3e7044d65bffbc903&quot; style=&quot;width: 100.0%; height: 100.0%;&quot;&gt;Accession: 2013-0069&lt;/div&gt;`)[0];\n",
       "                popup_e0a8b9016c2a48beb1f7f0a768cff98c.setContent(html_53414cde7a357bd3e7044d65bffbc903);\n",
       "            \n",
       "        \n",
       "\n",
       "        marker_c7b2c63630c4b9688161947a0204d4f6.bindPopup(popup_e0a8b9016c2a48beb1f7f0a768cff98c)\n",
       "        ;\n",
       "\n",
       "        \n",
       "    \n",
       "    \n",
       "            var marker_ec8e84591d9a3de79ca226e4c0dba2b8 = L.marker(\n",
       "                [45.340496, -75.930498],\n",
       "                {}\n",
       "            ).addTo(map_7f9015f00f8a17af3072ba61aa863b8a);\n",
       "        \n",
       "    \n",
       "        var popup_7edb0b820c83f654428c52ead422df9f = L.popup({&quot;maxWidth&quot;: &quot;100%&quot;});\n",
       "\n",
       "        \n",
       "            \n",
       "                var html_21713738f969f64d2bbb32f8b3ce4c63 = $(`&lt;div id=&quot;html_21713738f969f64d2bbb32f8b3ce4c63&quot; style=&quot;width: 100.0%; height: 100.0%;&quot;&gt;Accession: 2013-0073&lt;/div&gt;`)[0];\n",
       "                popup_7edb0b820c83f654428c52ead422df9f.setContent(html_21713738f969f64d2bbb32f8b3ce4c63);\n",
       "            \n",
       "        \n",
       "\n",
       "        marker_ec8e84591d9a3de79ca226e4c0dba2b8.bindPopup(popup_7edb0b820c83f654428c52ead422df9f)\n",
       "        ;\n",
       "\n",
       "        \n",
       "    \n",
       "    \n",
       "            var marker_49ac2678abde0a1fb040fff4ce8eb481 = L.marker(\n",
       "                [45.340496, -75.930498],\n",
       "                {}\n",
       "            ).addTo(map_7f9015f00f8a17af3072ba61aa863b8a);\n",
       "        \n",
       "    \n",
       "        var popup_7bb879cfd9627847e4e5c2a5e6a1e793 = L.popup({&quot;maxWidth&quot;: &quot;100%&quot;});\n",
       "\n",
       "        \n",
       "            \n",
       "                var html_ef4aef5880b106099b53b03b2c6e83cf = $(`&lt;div id=&quot;html_ef4aef5880b106099b53b03b2c6e83cf&quot; style=&quot;width: 100.0%; height: 100.0%;&quot;&gt;Accession: 2013-0081&lt;/div&gt;`)[0];\n",
       "                popup_7bb879cfd9627847e4e5c2a5e6a1e793.setContent(html_ef4aef5880b106099b53b03b2c6e83cf);\n",
       "            \n",
       "        \n",
       "\n",
       "        marker_49ac2678abde0a1fb040fff4ce8eb481.bindPopup(popup_7bb879cfd9627847e4e5c2a5e6a1e793)\n",
       "        ;\n",
       "\n",
       "        \n",
       "    \n",
       "    \n",
       "            var marker_264d7c473c5d9ded86e7ecfa09cd1afe = L.marker(\n",
       "                [45.340496, -75.930498],\n",
       "                {}\n",
       "            ).addTo(map_7f9015f00f8a17af3072ba61aa863b8a);\n",
       "        \n",
       "    \n",
       "        var popup_a219df8225f764be2a8c4ccce4b8b063 = L.popup({&quot;maxWidth&quot;: &quot;100%&quot;});\n",
       "\n",
       "        \n",
       "            \n",
       "                var html_37d8e69a63daef36b4a6db3bad5c40ef = $(`&lt;div id=&quot;html_37d8e69a63daef36b4a6db3bad5c40ef&quot; style=&quot;width: 100.0%; height: 100.0%;&quot;&gt;Accession: 2013-0082&lt;/div&gt;`)[0];\n",
       "                popup_a219df8225f764be2a8c4ccce4b8b063.setContent(html_37d8e69a63daef36b4a6db3bad5c40ef);\n",
       "            \n",
       "        \n",
       "\n",
       "        marker_264d7c473c5d9ded86e7ecfa09cd1afe.bindPopup(popup_a219df8225f764be2a8c4ccce4b8b063)\n",
       "        ;\n",
       "\n",
       "        \n",
       "    \n",
       "    \n",
       "            var marker_6d91d8af70d191decc149c33030bb846 = L.marker(\n",
       "                [45.321918, -75.895582],\n",
       "                {}\n",
       "            ).addTo(map_7f9015f00f8a17af3072ba61aa863b8a);\n",
       "        \n",
       "    \n",
       "        var popup_312c9cd4ba198a22d8f759f5b15dfbfc = L.popup({&quot;maxWidth&quot;: &quot;100%&quot;});\n",
       "\n",
       "        \n",
       "            \n",
       "                var html_bb7776991e8b2164d5de0d9d436398de = $(`&lt;div id=&quot;html_bb7776991e8b2164d5de0d9d436398de&quot; style=&quot;width: 100.0%; height: 100.0%;&quot;&gt;Accession: 2014-0103&lt;/div&gt;`)[0];\n",
       "                popup_312c9cd4ba198a22d8f759f5b15dfbfc.setContent(html_bb7776991e8b2164d5de0d9d436398de);\n",
       "            \n",
       "        \n",
       "\n",
       "        marker_6d91d8af70d191decc149c33030bb846.bindPopup(popup_312c9cd4ba198a22d8f759f5b15dfbfc)\n",
       "        ;\n",
       "\n",
       "        \n",
       "    \n",
       "    \n",
       "            var marker_84c13f8dc62d3b7a19929f2fb39a08c0 = L.marker(\n",
       "                [45.413561, -75.706344],\n",
       "                {}\n",
       "            ).addTo(map_7f9015f00f8a17af3072ba61aa863b8a);\n",
       "        \n",
       "    \n",
       "        var popup_1d4cbb86ac330b83e445a222fd7cdfd8 = L.popup({&quot;maxWidth&quot;: &quot;100%&quot;});\n",
       "\n",
       "        \n",
       "            \n",
       "                var html_2389d601b06f7f51e337e53fcf09a01a = $(`&lt;div id=&quot;html_2389d601b06f7f51e337e53fcf09a01a&quot; style=&quot;width: 100.0%; height: 100.0%;&quot;&gt;Accession: 2014-0105&lt;/div&gt;`)[0];\n",
       "                popup_1d4cbb86ac330b83e445a222fd7cdfd8.setContent(html_2389d601b06f7f51e337e53fcf09a01a);\n",
       "            \n",
       "        \n",
       "\n",
       "        marker_84c13f8dc62d3b7a19929f2fb39a08c0.bindPopup(popup_1d4cbb86ac330b83e445a222fd7cdfd8)\n",
       "        ;\n",
       "\n",
       "        \n",
       "    \n",
       "    \n",
       "            var marker_e9ec9010b384464786b5922770e0cb2a = L.marker(\n",
       "                [45.407821, -75.703351],\n",
       "                {}\n",
       "            ).addTo(map_7f9015f00f8a17af3072ba61aa863b8a);\n",
       "        \n",
       "    \n",
       "        var popup_789f7bee1ae5ae822259a6be09c4b472 = L.popup({&quot;maxWidth&quot;: &quot;100%&quot;});\n",
       "\n",
       "        \n",
       "            \n",
       "                var html_c0377efe589bf3bd45a86692936a0201 = $(`&lt;div id=&quot;html_c0377efe589bf3bd45a86692936a0201&quot; style=&quot;width: 100.0%; height: 100.0%;&quot;&gt;Accession: 2014-0122&lt;/div&gt;`)[0];\n",
       "                popup_789f7bee1ae5ae822259a6be09c4b472.setContent(html_c0377efe589bf3bd45a86692936a0201);\n",
       "            \n",
       "        \n",
       "\n",
       "        marker_e9ec9010b384464786b5922770e0cb2a.bindPopup(popup_789f7bee1ae5ae822259a6be09c4b472)\n",
       "        ;\n",
       "\n",
       "        \n",
       "    \n",
       "    \n",
       "            var marker_d8f53606d064e6f9f6d6babe78f4ff0e = L.marker(\n",
       "                [45.412696, -75.631342],\n",
       "                {}\n",
       "            ).addTo(map_7f9015f00f8a17af3072ba61aa863b8a);\n",
       "        \n",
       "    \n",
       "        var popup_2375c2733713d99c15ec0f0aeda1fc4e = L.popup({&quot;maxWidth&quot;: &quot;100%&quot;});\n",
       "\n",
       "        \n",
       "            \n",
       "                var html_beac14c9261e1b0fe32c445ef6dd94e9 = $(`&lt;div id=&quot;html_beac14c9261e1b0fe32c445ef6dd94e9&quot; style=&quot;width: 100.0%; height: 100.0%;&quot;&gt;Accession: 2015-0001&lt;/div&gt;`)[0];\n",
       "                popup_2375c2733713d99c15ec0f0aeda1fc4e.setContent(html_beac14c9261e1b0fe32c445ef6dd94e9);\n",
       "            \n",
       "        \n",
       "\n",
       "        marker_d8f53606d064e6f9f6d6babe78f4ff0e.bindPopup(popup_2375c2733713d99c15ec0f0aeda1fc4e)\n",
       "        ;\n",
       "\n",
       "        \n",
       "    \n",
       "    \n",
       "            var marker_143dfe7ae9a3fa2b727dc39319bdb4a9 = L.marker(\n",
       "                [45.252821, -75.73489],\n",
       "                {}\n",
       "            ).addTo(map_7f9015f00f8a17af3072ba61aa863b8a);\n",
       "        \n",
       "    \n",
       "        var popup_981b2aaa7ce0213a2bae2b71797f155c = L.popup({&quot;maxWidth&quot;: &quot;100%&quot;});\n",
       "\n",
       "        \n",
       "            \n",
       "                var html_abf111dba07f97604cc7a1faabaf6629 = $(`&lt;div id=&quot;html_abf111dba07f97604cc7a1faabaf6629&quot; style=&quot;width: 100.0%; height: 100.0%;&quot;&gt;Accession: 2015-0002&lt;/div&gt;`)[0];\n",
       "                popup_981b2aaa7ce0213a2bae2b71797f155c.setContent(html_abf111dba07f97604cc7a1faabaf6629);\n",
       "            \n",
       "        \n",
       "\n",
       "        marker_143dfe7ae9a3fa2b727dc39319bdb4a9.bindPopup(popup_981b2aaa7ce0213a2bae2b71797f155c)\n",
       "        ;\n",
       "\n",
       "        \n",
       "    \n",
       "    \n",
       "            var marker_90b9e90d4f23605345894f4fb42f9914 = L.marker(\n",
       "                [45.486549, -75.476211],\n",
       "                {}\n",
       "            ).addTo(map_7f9015f00f8a17af3072ba61aa863b8a);\n",
       "        \n",
       "    \n",
       "        var popup_eabc8bf9baa8b44423c43961f1ee188d = L.popup({&quot;maxWidth&quot;: &quot;100%&quot;});\n",
       "\n",
       "        \n",
       "            \n",
       "                var html_e668b88e2b9c61f41b0c3d6749fec694 = $(`&lt;div id=&quot;html_e668b88e2b9c61f41b0c3d6749fec694&quot; style=&quot;width: 100.0%; height: 100.0%;&quot;&gt;Accession: 2015-0003&lt;/div&gt;`)[0];\n",
       "                popup_eabc8bf9baa8b44423c43961f1ee188d.setContent(html_e668b88e2b9c61f41b0c3d6749fec694);\n",
       "            \n",
       "        \n",
       "\n",
       "        marker_90b9e90d4f23605345894f4fb42f9914.bindPopup(popup_eabc8bf9baa8b44423c43961f1ee188d)\n",
       "        ;\n",
       "\n",
       "        \n",
       "    \n",
       "    \n",
       "            var marker_f0ee362425cbfadd35847e45f05074ae = L.marker(\n",
       "                [45.391082, -75.752962],\n",
       "                {}\n",
       "            ).addTo(map_7f9015f00f8a17af3072ba61aa863b8a);\n",
       "        \n",
       "    \n",
       "        var popup_e2e6b7aa23512df9e312937e69a44462 = L.popup({&quot;maxWidth&quot;: &quot;100%&quot;});\n",
       "\n",
       "        \n",
       "            \n",
       "                var html_e1a0bde83a7aa3afd299ac699e28bc4c = $(`&lt;div id=&quot;html_e1a0bde83a7aa3afd299ac699e28bc4c&quot; style=&quot;width: 100.0%; height: 100.0%;&quot;&gt;Accession: 2015-0183&lt;/div&gt;`)[0];\n",
       "                popup_e2e6b7aa23512df9e312937e69a44462.setContent(html_e1a0bde83a7aa3afd299ac699e28bc4c);\n",
       "            \n",
       "        \n",
       "\n",
       "        marker_f0ee362425cbfadd35847e45f05074ae.bindPopup(popup_e2e6b7aa23512df9e312937e69a44462)\n",
       "        ;\n",
       "\n",
       "        \n",
       "    \n",
       "    \n",
       "            var marker_34dc2ad03018f3eb87354b3c0d174ff0 = L.marker(\n",
       "                [45.385361, -75.695994],\n",
       "                {}\n",
       "            ).addTo(map_7f9015f00f8a17af3072ba61aa863b8a);\n",
       "        \n",
       "    \n",
       "        var popup_4be5bbd6be7c42db877df2d443e680c0 = L.popup({&quot;maxWidth&quot;: &quot;100%&quot;});\n",
       "\n",
       "        \n",
       "            \n",
       "                var html_7086f9c0b99974897850cefc2c89f51f = $(`&lt;div id=&quot;html_7086f9c0b99974897850cefc2c89f51f&quot; style=&quot;width: 100.0%; height: 100.0%;&quot;&gt;Accession: 2015-0184&lt;/div&gt;`)[0];\n",
       "                popup_4be5bbd6be7c42db877df2d443e680c0.setContent(html_7086f9c0b99974897850cefc2c89f51f);\n",
       "            \n",
       "        \n",
       "\n",
       "        marker_34dc2ad03018f3eb87354b3c0d174ff0.bindPopup(popup_4be5bbd6be7c42db877df2d443e680c0)\n",
       "        ;\n",
       "\n",
       "        \n",
       "    \n",
       "    \n",
       "            var marker_ba3c57f5fe53715ede7d0ff9c3491a9e = L.marker(\n",
       "                [45.427588, -75.688763],\n",
       "                {}\n",
       "            ).addTo(map_7f9015f00f8a17af3072ba61aa863b8a);\n",
       "        \n",
       "    \n",
       "        var popup_3b37cc220c4d458c7361445ed3ca70ae = L.popup({&quot;maxWidth&quot;: &quot;100%&quot;});\n",
       "\n",
       "        \n",
       "            \n",
       "                var html_718a1b81edc6cb1a1c9084a6745b1a20 = $(`&lt;div id=&quot;html_718a1b81edc6cb1a1c9084a6745b1a20&quot; style=&quot;width: 100.0%; height: 100.0%;&quot;&gt;Accession: 2015-0185&lt;/div&gt;`)[0];\n",
       "                popup_3b37cc220c4d458c7361445ed3ca70ae.setContent(html_718a1b81edc6cb1a1c9084a6745b1a20);\n",
       "            \n",
       "        \n",
       "\n",
       "        marker_ba3c57f5fe53715ede7d0ff9c3491a9e.bindPopup(popup_3b37cc220c4d458c7361445ed3ca70ae)\n",
       "        ;\n",
       "\n",
       "        \n",
       "    \n",
       "    \n",
       "            var marker_a829852b11c29813b3af75eb0eb8cf69 = L.marker(\n",
       "                [45.412211, -75.633545],\n",
       "                {}\n",
       "            ).addTo(map_7f9015f00f8a17af3072ba61aa863b8a);\n",
       "        \n",
       "    \n",
       "        var popup_0261466cf8bc892ed0517e168fb5ce9d = L.popup({&quot;maxWidth&quot;: &quot;100%&quot;});\n",
       "\n",
       "        \n",
       "            \n",
       "                var html_5b65daf349f6c24dd12c9c631e1e61b0 = $(`&lt;div id=&quot;html_5b65daf349f6c24dd12c9c631e1e61b0&quot; style=&quot;width: 100.0%; height: 100.0%;&quot;&gt;Accession: 2016-0001&lt;/div&gt;`)[0];\n",
       "                popup_0261466cf8bc892ed0517e168fb5ce9d.setContent(html_5b65daf349f6c24dd12c9c631e1e61b0);\n",
       "            \n",
       "        \n",
       "\n",
       "        marker_a829852b11c29813b3af75eb0eb8cf69.bindPopup(popup_0261466cf8bc892ed0517e168fb5ce9d)\n",
       "        ;\n",
       "\n",
       "        \n",
       "    \n",
       "    \n",
       "            var marker_3164de320426898b6f129d8b609af7f0 = L.marker(\n",
       "                [45.403541, -75.688979],\n",
       "                {}\n",
       "            ).addTo(map_7f9015f00f8a17af3072ba61aa863b8a);\n",
       "        \n",
       "    \n",
       "        var popup_49b2b37ed1d682aeadcfeaf959f21dff = L.popup({&quot;maxWidth&quot;: &quot;100%&quot;});\n",
       "\n",
       "        \n",
       "            \n",
       "                var html_cd6dee615b186a32674d6cd0528e57e9 = $(`&lt;div id=&quot;html_cd6dee615b186a32674d6cd0528e57e9&quot; style=&quot;width: 100.0%; height: 100.0%;&quot;&gt;Accession: 2016-0002&lt;/div&gt;`)[0];\n",
       "                popup_49b2b37ed1d682aeadcfeaf959f21dff.setContent(html_cd6dee615b186a32674d6cd0528e57e9);\n",
       "            \n",
       "        \n",
       "\n",
       "        marker_3164de320426898b6f129d8b609af7f0.bindPopup(popup_49b2b37ed1d682aeadcfeaf959f21dff)\n",
       "        ;\n",
       "\n",
       "        \n",
       "    \n",
       "    \n",
       "            var marker_4d4438ecb2c9342bea9dab28c6adcd21 = L.marker(\n",
       "                [45.426399, -75.670037],\n",
       "                {}\n",
       "            ).addTo(map_7f9015f00f8a17af3072ba61aa863b8a);\n",
       "        \n",
       "    \n",
       "        var popup_d05ed449b93f72463c7f82f8af99a4fd = L.popup({&quot;maxWidth&quot;: &quot;100%&quot;});\n",
       "\n",
       "        \n",
       "            \n",
       "                var html_ea7b66ebf0463bf768a81b2157919886 = $(`&lt;div id=&quot;html_ea7b66ebf0463bf768a81b2157919886&quot; style=&quot;width: 100.0%; height: 100.0%;&quot;&gt;Accession: 2016-0003&lt;/div&gt;`)[0];\n",
       "                popup_d05ed449b93f72463c7f82f8af99a4fd.setContent(html_ea7b66ebf0463bf768a81b2157919886);\n",
       "            \n",
       "        \n",
       "\n",
       "        marker_4d4438ecb2c9342bea9dab28c6adcd21.bindPopup(popup_d05ed449b93f72463c7f82f8af99a4fd)\n",
       "        ;\n",
       "\n",
       "        \n",
       "    \n",
       "    \n",
       "            var marker_dc4034cf00416e9377e2d1c5b08d48df = L.marker(\n",
       "                [45.433652, -75.695625],\n",
       "                {}\n",
       "            ).addTo(map_7f9015f00f8a17af3072ba61aa863b8a);\n",
       "        \n",
       "    \n",
       "        var popup_51c624fc13285d7e59c8786da9a7bc37 = L.popup({&quot;maxWidth&quot;: &quot;100%&quot;});\n",
       "\n",
       "        \n",
       "            \n",
       "                var html_a003ee276c6404a1cdf86e0033721e7c = $(`&lt;div id=&quot;html_a003ee276c6404a1cdf86e0033721e7c&quot; style=&quot;width: 100.0%; height: 100.0%;&quot;&gt;Accession: 2016-0004&lt;/div&gt;`)[0];\n",
       "                popup_51c624fc13285d7e59c8786da9a7bc37.setContent(html_a003ee276c6404a1cdf86e0033721e7c);\n",
       "            \n",
       "        \n",
       "\n",
       "        marker_dc4034cf00416e9377e2d1c5b08d48df.bindPopup(popup_51c624fc13285d7e59c8786da9a7bc37)\n",
       "        ;\n",
       "\n",
       "        \n",
       "    \n",
       "    \n",
       "            var marker_8ecf3b319fd654f7a9729c88d617de58 = L.marker(\n",
       "                [45.415331, -75.686551],\n",
       "                {}\n",
       "            ).addTo(map_7f9015f00f8a17af3072ba61aa863b8a);\n",
       "        \n",
       "    \n",
       "        var popup_733a54d616d6f3ace2081713376e3c94 = L.popup({&quot;maxWidth&quot;: &quot;100%&quot;});\n",
       "\n",
       "        \n",
       "            \n",
       "                var html_b0a612d8ac6ac0ff9dcfa0a276d29187 = $(`&lt;div id=&quot;html_b0a612d8ac6ac0ff9dcfa0a276d29187&quot; style=&quot;width: 100.0%; height: 100.0%;&quot;&gt;Accession: 2016-0033&lt;/div&gt;`)[0];\n",
       "                popup_733a54d616d6f3ace2081713376e3c94.setContent(html_b0a612d8ac6ac0ff9dcfa0a276d29187);\n",
       "            \n",
       "        \n",
       "\n",
       "        marker_8ecf3b319fd654f7a9729c88d617de58.bindPopup(popup_733a54d616d6f3ace2081713376e3c94)\n",
       "        ;\n",
       "\n",
       "        \n",
       "    \n",
       "    \n",
       "            var marker_692677b9089158330f04de404d68f1df = L.marker(\n",
       "                [45.265274, -75.551898],\n",
       "                {}\n",
       "            ).addTo(map_7f9015f00f8a17af3072ba61aa863b8a);\n",
       "        \n",
       "    \n",
       "        var popup_7b146ad411c74c3ea8758eadb3c5f0d0 = L.popup({&quot;maxWidth&quot;: &quot;100%&quot;});\n",
       "\n",
       "        \n",
       "            \n",
       "                var html_3a7858e721a193b648830fd4be074ce9 = $(`&lt;div id=&quot;html_3a7858e721a193b648830fd4be074ce9&quot; style=&quot;width: 100.0%; height: 100.0%;&quot;&gt;Accession: 2016-0034&lt;/div&gt;`)[0];\n",
       "                popup_7b146ad411c74c3ea8758eadb3c5f0d0.setContent(html_3a7858e721a193b648830fd4be074ce9);\n",
       "            \n",
       "        \n",
       "\n",
       "        marker_692677b9089158330f04de404d68f1df.bindPopup(popup_7b146ad411c74c3ea8758eadb3c5f0d0)\n",
       "        ;\n",
       "\n",
       "        \n",
       "    \n",
       "    \n",
       "            var marker_2ef196b40954037f47f0ade54ffef41f = L.marker(\n",
       "                [45.45435, -75.463712],\n",
       "                {}\n",
       "            ).addTo(map_7f9015f00f8a17af3072ba61aa863b8a);\n",
       "        \n",
       "    \n",
       "        var popup_5c1f4b05949e35e578be08d44be3e4ee = L.popup({&quot;maxWidth&quot;: &quot;100%&quot;});\n",
       "\n",
       "        \n",
       "            \n",
       "                var html_95d941fc96c510db681c50ea37568cb7 = $(`&lt;div id=&quot;html_95d941fc96c510db681c50ea37568cb7&quot; style=&quot;width: 100.0%; height: 100.0%;&quot;&gt;Accession: 2017-0065&lt;/div&gt;`)[0];\n",
       "                popup_5c1f4b05949e35e578be08d44be3e4ee.setContent(html_95d941fc96c510db681c50ea37568cb7);\n",
       "            \n",
       "        \n",
       "\n",
       "        marker_2ef196b40954037f47f0ade54ffef41f.bindPopup(popup_5c1f4b05949e35e578be08d44be3e4ee)\n",
       "        ;\n",
       "\n",
       "        \n",
       "    \n",
       "    \n",
       "            var marker_0e0e8de6e6443e7bc592d8358486ebb6 = L.marker(\n",
       "                [45.34442, -75.738052],\n",
       "                {}\n",
       "            ).addTo(map_7f9015f00f8a17af3072ba61aa863b8a);\n",
       "        \n",
       "    \n",
       "        var popup_ab3efca9f7f11de9038f7c1c23a1e7f0 = L.popup({&quot;maxWidth&quot;: &quot;100%&quot;});\n",
       "\n",
       "        \n",
       "            \n",
       "                var html_d489692fc7df6b52b2369825a1e4bdd7 = $(`&lt;div id=&quot;html_d489692fc7df6b52b2369825a1e4bdd7&quot; style=&quot;width: 100.0%; height: 100.0%;&quot;&gt;Accession: 2017-0066&lt;/div&gt;`)[0];\n",
       "                popup_ab3efca9f7f11de9038f7c1c23a1e7f0.setContent(html_d489692fc7df6b52b2369825a1e4bdd7);\n",
       "            \n",
       "        \n",
       "\n",
       "        marker_0e0e8de6e6443e7bc592d8358486ebb6.bindPopup(popup_ab3efca9f7f11de9038f7c1c23a1e7f0)\n",
       "        ;\n",
       "\n",
       "        \n",
       "    \n",
       "    \n",
       "            var marker_7887728cccc3de6d008e2977ccb6df40 = L.marker(\n",
       "                [45.391378, -75.756293],\n",
       "                {}\n",
       "            ).addTo(map_7f9015f00f8a17af3072ba61aa863b8a);\n",
       "        \n",
       "    \n",
       "        var popup_f8cacc59d8e6d953d1ab54cdb6b28df9 = L.popup({&quot;maxWidth&quot;: &quot;100%&quot;});\n",
       "\n",
       "        \n",
       "            \n",
       "                var html_b61fcb5d4dc498da5bc3f460f87c74fb = $(`&lt;div id=&quot;html_b61fcb5d4dc498da5bc3f460f87c74fb&quot; style=&quot;width: 100.0%; height: 100.0%;&quot;&gt;Accession: 2017-0067&lt;/div&gt;`)[0];\n",
       "                popup_f8cacc59d8e6d953d1ab54cdb6b28df9.setContent(html_b61fcb5d4dc498da5bc3f460f87c74fb);\n",
       "            \n",
       "        \n",
       "\n",
       "        marker_7887728cccc3de6d008e2977ccb6df40.bindPopup(popup_f8cacc59d8e6d953d1ab54cdb6b28df9)\n",
       "        ;\n",
       "\n",
       "        \n",
       "    \n",
       "    \n",
       "            var marker_9c777ed547f2e29608f90630c788fbd9 = L.marker(\n",
       "                [45.406972, -75.67608],\n",
       "                {}\n",
       "            ).addTo(map_7f9015f00f8a17af3072ba61aa863b8a);\n",
       "        \n",
       "    \n",
       "        var popup_22e881812bf3d3c61c5cc4bc0a1abe28 = L.popup({&quot;maxWidth&quot;: &quot;100%&quot;});\n",
       "\n",
       "        \n",
       "            \n",
       "                var html_510c442ec5876c156d5688a1803d1863 = $(`&lt;div id=&quot;html_510c442ec5876c156d5688a1803d1863&quot; style=&quot;width: 100.0%; height: 100.0%;&quot;&gt;Accession: 2017-0068&lt;/div&gt;`)[0];\n",
       "                popup_22e881812bf3d3c61c5cc4bc0a1abe28.setContent(html_510c442ec5876c156d5688a1803d1863);\n",
       "            \n",
       "        \n",
       "\n",
       "        marker_9c777ed547f2e29608f90630c788fbd9.bindPopup(popup_22e881812bf3d3c61c5cc4bc0a1abe28)\n",
       "        ;\n",
       "\n",
       "        \n",
       "    \n",
       "    \n",
       "            var marker_8a354483f495dd91e45ea39d79a88a0d = L.marker(\n",
       "                [45.339986, -75.927333],\n",
       "                {}\n",
       "            ).addTo(map_7f9015f00f8a17af3072ba61aa863b8a);\n",
       "        \n",
       "    \n",
       "        var popup_e7f910c86bbdb70ba09c781783fdc070 = L.popup({&quot;maxWidth&quot;: &quot;100%&quot;});\n",
       "\n",
       "        \n",
       "            \n",
       "                var html_99c083e61e66bb685b4278ca8b8af54b = $(`&lt;div id=&quot;html_99c083e61e66bb685b4278ca8b8af54b&quot; style=&quot;width: 100.0%; height: 100.0%;&quot;&gt;Accession: 2017-0069&lt;/div&gt;`)[0];\n",
       "                popup_e7f910c86bbdb70ba09c781783fdc070.setContent(html_99c083e61e66bb685b4278ca8b8af54b);\n",
       "            \n",
       "        \n",
       "\n",
       "        marker_8a354483f495dd91e45ea39d79a88a0d.bindPopup(popup_e7f910c86bbdb70ba09c781783fdc070)\n",
       "        ;\n",
       "\n",
       "        \n",
       "    \n",
       "    \n",
       "            var marker_ce4e5e6375b35d4111a0a194e6fe1bb5 = L.marker(\n",
       "                [45.390901, -75.630215],\n",
       "                {}\n",
       "            ).addTo(map_7f9015f00f8a17af3072ba61aa863b8a);\n",
       "        \n",
       "    \n",
       "        var popup_9d9fb48d6f05cba1fbddd1ce6f21c4e9 = L.popup({&quot;maxWidth&quot;: &quot;100%&quot;});\n",
       "\n",
       "        \n",
       "            \n",
       "                var html_d6b626e005f1af3b1f3c5a9b8bee57a3 = $(`&lt;div id=&quot;html_d6b626e005f1af3b1f3c5a9b8bee57a3&quot; style=&quot;width: 100.0%; height: 100.0%;&quot;&gt;Accession: 2018-0001&lt;/div&gt;`)[0];\n",
       "                popup_9d9fb48d6f05cba1fbddd1ce6f21c4e9.setContent(html_d6b626e005f1af3b1f3c5a9b8bee57a3);\n",
       "            \n",
       "        \n",
       "\n",
       "        marker_ce4e5e6375b35d4111a0a194e6fe1bb5.bindPopup(popup_9d9fb48d6f05cba1fbddd1ce6f21c4e9)\n",
       "        ;\n",
       "\n",
       "        \n",
       "    \n",
       "    \n",
       "            var marker_afcbf3890f0bdbae4bc3ce652a930804 = L.marker(\n",
       "                [45.432048, -75.691648],\n",
       "                {}\n",
       "            ).addTo(map_7f9015f00f8a17af3072ba61aa863b8a);\n",
       "        \n",
       "    \n",
       "        var popup_900fadef1cb3afd4ce3e4f1a25c36a27 = L.popup({&quot;maxWidth&quot;: &quot;100%&quot;});\n",
       "\n",
       "        \n",
       "            \n",
       "                var html_7acd07f5ad5bdde1f51cbf8ae1827505 = $(`&lt;div id=&quot;html_7acd07f5ad5bdde1f51cbf8ae1827505&quot; style=&quot;width: 100.0%; height: 100.0%;&quot;&gt;Accession: s2010-0008&lt;/div&gt;`)[0];\n",
       "                popup_900fadef1cb3afd4ce3e4f1a25c36a27.setContent(html_7acd07f5ad5bdde1f51cbf8ae1827505);\n",
       "            \n",
       "        \n",
       "\n",
       "        marker_afcbf3890f0bdbae4bc3ce652a930804.bindPopup(popup_900fadef1cb3afd4ce3e4f1a25c36a27)\n",
       "        ;\n",
       "\n",
       "        \n",
       "    \n",
       "    \n",
       "            var marker_5933991edbcaa63fafe00996d06ef818 = L.marker(\n",
       "                [45.516177, -75.405868],\n",
       "                {}\n",
       "            ).addTo(map_7f9015f00f8a17af3072ba61aa863b8a);\n",
       "        \n",
       "    \n",
       "        var popup_1170af6d4a4ed1ac8e4bac0395a47d41 = L.popup({&quot;maxWidth&quot;: &quot;100%&quot;});\n",
       "\n",
       "        \n",
       "            \n",
       "                var html_834e9bfa455c567e779c7c0a485908e4 = $(`&lt;div id=&quot;html_834e9bfa455c567e779c7c0a485908e4&quot; style=&quot;width: 100.0%; height: 100.0%;&quot;&gt;Accession: s2016-0006&lt;/div&gt;`)[0];\n",
       "                popup_1170af6d4a4ed1ac8e4bac0395a47d41.setContent(html_834e9bfa455c567e779c7c0a485908e4);\n",
       "            \n",
       "        \n",
       "\n",
       "        marker_5933991edbcaa63fafe00996d06ef818.bindPopup(popup_1170af6d4a4ed1ac8e4bac0395a47d41)\n",
       "        ;\n",
       "\n",
       "        \n",
       "    \n",
       "    \n",
       "            var marker_7c6b670f7e84dd09252042daeb9e63a3 = L.marker(\n",
       "                [45.432048, -75.691648],\n",
       "                {}\n",
       "            ).addTo(map_7f9015f00f8a17af3072ba61aa863b8a);\n",
       "        \n",
       "    \n",
       "        var popup_bae777805c90650afdb3740dff424eee = L.popup({&quot;maxWidth&quot;: &quot;100%&quot;});\n",
       "\n",
       "        \n",
       "            \n",
       "                var html_8eb3e59d584ea2de679d23c4ea31ac2e = $(`&lt;div id=&quot;html_8eb3e59d584ea2de679d23c4ea31ac2e&quot; style=&quot;width: 100.0%; height: 100.0%;&quot;&gt;Accession: T1999-0024&lt;/div&gt;`)[0];\n",
       "                popup_bae777805c90650afdb3740dff424eee.setContent(html_8eb3e59d584ea2de679d23c4ea31ac2e);\n",
       "            \n",
       "        \n",
       "\n",
       "        marker_7c6b670f7e84dd09252042daeb9e63a3.bindPopup(popup_bae777805c90650afdb3740dff424eee)\n",
       "        ;\n",
       "\n",
       "        \n",
       "    \n",
       "&lt;/script&gt;\n",
       "&lt;/html&gt;\" style=\"position:absolute;width:100%;height:100%;left:0;top:0;border:none !important;\" allowfullscreen webkitallowfullscreen mozallowfullscreen></iframe></div></div>"
      ],
      "text/plain": [
       "<folium.folium.Map at 0x1646ea340>"
      ]
     },
     "execution_count": 627,
     "metadata": {},
     "output_type": "execute_result"
    }
   ],
   "source": [
    "# You may copy this code to another cell below for your own use. \n",
    "# It is suggested that you do not alter this code block otherwise.\n",
    "\n",
    "public_art_map = folium.Map(location=[45.4,-75.7], tiles=\"OpenStreetMap\", zoom_start=12)\n",
    "public_art_coords = [[point.xy[1][0], point.xy[0][0]] for point in pa_df.geometry]\n",
    "\n",
    "i = 0\n",
    "for coordinates in public_art_coords:\n",
    "    public_art_map.add_child(folium.Marker(location=coordinates, popup=\"Accession: \" + str(pa_df.ACCESSION[i])))\n",
    "    i = i + 1\n",
    "\n",
    "public_art_map\n"
   ]
  },
  {
   "cell_type": "markdown",
   "id": "e3f5fe00",
   "metadata": {},
   "source": [
    "**Question 1:** Given this code, answer the following questions.\n",
    "\n",
    "a) (1 point)  How do we create the geopandas dataframe for this map?\n",
    "\n",
    "b) (1 point) What method call do we use to mark locations on this map?\n",
    "\n",
    "c) (1 point) What parameters in this method customize each marker?"
   ]
  },
  {
   "cell_type": "markdown",
   "id": "390f8760",
   "metadata": {},
   "source": [
    "**Answer***\n",
    "\n",
    " a) In order to create the geopanads dataframe for this map, the code uses folium.Map with the coridniates of ottawa location=[45.4,-75.7] and the base layer being the tile OpenStreetMap which is a mapping  platform . \n",
    " b) In order to mark the locations on this map, we have to use the public_art_coords in which it will take the location cordinates and mark it.\n",
    " c) To costimize the markers, the code uses folium.Marker using the cordinates.\n"
   ]
  },
  {
   "cell_type": "markdown",
   "id": "fe92c00a",
   "metadata": {},
   "source": [
    "**Question 2 (12 points)** \n",
    "\n",
    "Consider the dataset which this assignment has used. How would you enhance this visualization to provide information for an additional guiding question? To do this:\n",
    "\n",
    "a) Provide a well-motivated guiding question\n",
    "\n",
    "b) Perform any required data wrangling if necessary\n",
    "\n",
    "c) Copy the code in the cell plotting the map using Folium and modify it to create an appropriate plot.\n",
    "\n",
    "Note, this might not be a large task. You may consider: \n",
    "- altering the markers that are used in some way\n",
    "- using a different tileset (See the [Folium docuemntation](https://python-visualization.github.io/folium/latest/user_guide/raster_layers/tiles.html#Built-in-tilesets) for more detail)\n",
    "\n",
    "If you are feeling more adventurous you could also use other Open Data provided by Ottawa such as Ward or Community boundaries to create a choropleth map.\n",
    "\n"
   ]
  },
  {
   "cell_type": "markdown",
   "id": "9669da21",
   "metadata": {},
   "source": [
    "a) My guiding question is what locations purhcase the most number of with stainless steel paintings. I am looking into this questions because i would like cater my marketing to to this demographic and always let them know of new stainless steel pieces. "
   ]
  },
  {
   "cell_type": "code",
   "execution_count": 628,
   "id": "ddab5449",
   "metadata": {},
   "outputs": [
    {
     "data": {
      "text/html": [
       "<div style=\"width:100%;\"><div style=\"position:relative;width:100%;height:0;padding-bottom:60%;\"><span style=\"color:#565656\">Make this Notebook Trusted to load map: File -> Trust Notebook</span><iframe srcdoc=\"&lt;!DOCTYPE html&gt;\n",
       "&lt;html&gt;\n",
       "&lt;head&gt;\n",
       "    \n",
       "    &lt;meta http-equiv=&quot;content-type&quot; content=&quot;text/html; charset=UTF-8&quot; /&gt;\n",
       "    \n",
       "        &lt;script&gt;\n",
       "            L_NO_TOUCH = false;\n",
       "            L_DISABLE_3D = false;\n",
       "        &lt;/script&gt;\n",
       "    \n",
       "    &lt;style&gt;html, body {width: 100%;height: 100%;margin: 0;padding: 0;}&lt;/style&gt;\n",
       "    &lt;style&gt;#map {position:absolute;top:0;bottom:0;right:0;left:0;}&lt;/style&gt;\n",
       "    &lt;script src=&quot;https://cdn.jsdelivr.net/npm/leaflet@1.9.3/dist/leaflet.js&quot;&gt;&lt;/script&gt;\n",
       "    &lt;script src=&quot;https://code.jquery.com/jquery-3.7.1.min.js&quot;&gt;&lt;/script&gt;\n",
       "    &lt;script src=&quot;https://cdn.jsdelivr.net/npm/bootstrap@5.2.2/dist/js/bootstrap.bundle.min.js&quot;&gt;&lt;/script&gt;\n",
       "    &lt;script src=&quot;https://cdnjs.cloudflare.com/ajax/libs/Leaflet.awesome-markers/2.0.2/leaflet.awesome-markers.js&quot;&gt;&lt;/script&gt;\n",
       "    &lt;link rel=&quot;stylesheet&quot; href=&quot;https://cdn.jsdelivr.net/npm/leaflet@1.9.3/dist/leaflet.css&quot;/&gt;\n",
       "    &lt;link rel=&quot;stylesheet&quot; href=&quot;https://cdn.jsdelivr.net/npm/bootstrap@5.2.2/dist/css/bootstrap.min.css&quot;/&gt;\n",
       "    &lt;link rel=&quot;stylesheet&quot; href=&quot;https://netdna.bootstrapcdn.com/bootstrap/3.0.0/css/bootstrap-glyphicons.css&quot;/&gt;\n",
       "    &lt;link rel=&quot;stylesheet&quot; href=&quot;https://cdn.jsdelivr.net/npm/@fortawesome/fontawesome-free@6.2.0/css/all.min.css&quot;/&gt;\n",
       "    &lt;link rel=&quot;stylesheet&quot; href=&quot;https://cdnjs.cloudflare.com/ajax/libs/Leaflet.awesome-markers/2.0.2/leaflet.awesome-markers.css&quot;/&gt;\n",
       "    &lt;link rel=&quot;stylesheet&quot; href=&quot;https://cdn.jsdelivr.net/gh/python-visualization/folium/folium/templates/leaflet.awesome.rotate.min.css&quot;/&gt;\n",
       "    \n",
       "            &lt;meta name=&quot;viewport&quot; content=&quot;width=device-width,\n",
       "                initial-scale=1.0, maximum-scale=1.0, user-scalable=no&quot; /&gt;\n",
       "            &lt;style&gt;\n",
       "                #map_6dd22a8f8e17a667a2ea1e0aafe3efc4 {\n",
       "                    position: relative;\n",
       "                    width: 100.0%;\n",
       "                    height: 100.0%;\n",
       "                    left: 0.0%;\n",
       "                    top: 0.0%;\n",
       "                }\n",
       "                .leaflet-container { font-size: 1rem; }\n",
       "            &lt;/style&gt;\n",
       "        \n",
       "&lt;/head&gt;\n",
       "&lt;body&gt;\n",
       "    \n",
       "    \n",
       "            &lt;div class=&quot;folium-map&quot; id=&quot;map_6dd22a8f8e17a667a2ea1e0aafe3efc4&quot; &gt;&lt;/div&gt;\n",
       "        \n",
       "&lt;/body&gt;\n",
       "&lt;script&gt;\n",
       "    \n",
       "    \n",
       "            var map_6dd22a8f8e17a667a2ea1e0aafe3efc4 = L.map(\n",
       "                &quot;map_6dd22a8f8e17a667a2ea1e0aafe3efc4&quot;,\n",
       "                {\n",
       "                    center: [45.4, -75.7],\n",
       "                    crs: L.CRS.EPSG3857,\n",
       "                    zoom: 12,\n",
       "                    zoomControl: true,\n",
       "                    preferCanvas: false,\n",
       "                }\n",
       "            );\n",
       "\n",
       "            \n",
       "\n",
       "        \n",
       "    \n",
       "            var tile_layer_1dbf94332ca2035224dff4d2653f62f9 = L.tileLayer(\n",
       "                &quot;https://tile.openstreetmap.org/{z}/{x}/{y}.png&quot;,\n",
       "                {&quot;attribution&quot;: &quot;\\u0026copy; \\u003ca href=\\&quot;https://www.openstreetmap.org/copyright\\&quot;\\u003eOpenStreetMap\\u003c/a\\u003e contributors&quot;, &quot;detectRetina&quot;: false, &quot;maxNativeZoom&quot;: 19, &quot;maxZoom&quot;: 19, &quot;minZoom&quot;: 0, &quot;noWrap&quot;: false, &quot;opacity&quot;: 1, &quot;subdomains&quot;: &quot;abc&quot;, &quot;tms&quot;: false}\n",
       "            );\n",
       "        \n",
       "    \n",
       "            tile_layer_1dbf94332ca2035224dff4d2653f62f9.addTo(map_6dd22a8f8e17a667a2ea1e0aafe3efc4);\n",
       "        \n",
       "    \n",
       "            var polygon_9632bd9f63c81f69e22be5710cd1cb77 = L.polygon(\n",
       "                [[45.415331, -75.693755], [45.415331, 100.0], [100.0, 100.0], [100.0, -75.693755]],\n",
       "                {&quot;bubblingMouseEvents&quot;: true, &quot;color&quot;: &quot;green&quot;, &quot;dashArray&quot;: null, &quot;dashOffset&quot;: null, &quot;fill&quot;: true, &quot;fillColor&quot;: &quot;green&quot;, &quot;fillOpacity&quot;: 0.4, &quot;fillRule&quot;: &quot;evenodd&quot;, &quot;lineCap&quot;: &quot;round&quot;, &quot;lineJoin&quot;: &quot;round&quot;, &quot;noClip&quot;: false, &quot;opacity&quot;: 1.0, &quot;smoothFactor&quot;: 1.0, &quot;stroke&quot;: true, &quot;weight&quot;: 0}\n",
       "            ).addTo(map_6dd22a8f8e17a667a2ea1e0aafe3efc4);\n",
       "        \n",
       "    \n",
       "            var polygon_f94c90b8a03542ee240a68693762da79 = L.polygon(\n",
       "                [[45.415331, -75.693755], [45.415331, -100.0], [100.0, -100.0], [100.0, -75.693755]],\n",
       "                {&quot;bubblingMouseEvents&quot;: true, &quot;color&quot;: &quot;orange&quot;, &quot;dashArray&quot;: null, &quot;dashOffset&quot;: null, &quot;fill&quot;: true, &quot;fillColor&quot;: &quot;orange&quot;, &quot;fillOpacity&quot;: 0.4, &quot;fillRule&quot;: &quot;evenodd&quot;, &quot;lineCap&quot;: &quot;round&quot;, &quot;lineJoin&quot;: &quot;round&quot;, &quot;noClip&quot;: false, &quot;opacity&quot;: 1.0, &quot;smoothFactor&quot;: 1.0, &quot;stroke&quot;: true, &quot;weight&quot;: 0}\n",
       "            ).addTo(map_6dd22a8f8e17a667a2ea1e0aafe3efc4);\n",
       "        \n",
       "    \n",
       "            var polygon_d7efc0078b720aba6374afc1909993ad = L.polygon(\n",
       "                [[-100.0, -100.0], [-100.0, -75.693755], [45.415331, -75.693755], [45.415331, -100.0]],\n",
       "                {&quot;bubblingMouseEvents&quot;: true, &quot;color&quot;: &quot;red&quot;, &quot;dashArray&quot;: null, &quot;dashOffset&quot;: null, &quot;fill&quot;: true, &quot;fillColor&quot;: &quot;red&quot;, &quot;fillOpacity&quot;: 0.4, &quot;fillRule&quot;: &quot;evenodd&quot;, &quot;lineCap&quot;: &quot;round&quot;, &quot;lineJoin&quot;: &quot;round&quot;, &quot;noClip&quot;: false, &quot;opacity&quot;: 1.0, &quot;smoothFactor&quot;: 1.0, &quot;stroke&quot;: true, &quot;weight&quot;: 0}\n",
       "            ).addTo(map_6dd22a8f8e17a667a2ea1e0aafe3efc4);\n",
       "        \n",
       "    \n",
       "            var polygon_296cb50f783251cbdac02e82d5f6846f = L.polygon(\n",
       "                [[-100.0, 100.0], [-100.0, -75.693755], [45.415331, -75.693755], [45.415331, 100.0]],\n",
       "                {&quot;bubblingMouseEvents&quot;: true, &quot;color&quot;: &quot;blue&quot;, &quot;dashArray&quot;: null, &quot;dashOffset&quot;: null, &quot;fill&quot;: true, &quot;fillColor&quot;: &quot;blue&quot;, &quot;fillOpacity&quot;: 0.4, &quot;fillRule&quot;: &quot;evenodd&quot;, &quot;lineCap&quot;: &quot;round&quot;, &quot;lineJoin&quot;: &quot;round&quot;, &quot;noClip&quot;: false, &quot;opacity&quot;: 1.0, &quot;smoothFactor&quot;: 1.0, &quot;stroke&quot;: true, &quot;weight&quot;: 0}\n",
       "            ).addTo(map_6dd22a8f8e17a667a2ea1e0aafe3efc4);\n",
       "        \n",
       "    \n",
       "            var marker_cb08e21cf0f82291b5c02cae2fb318e8 = L.marker(\n",
       "                [45.379006, -75.667727],\n",
       "                {}\n",
       "            ).addTo(map_6dd22a8f8e17a667a2ea1e0aafe3efc4);\n",
       "        \n",
       "    \n",
       "            var icon_80fa11ed7db3c600c2d21ba01974dba7 = L.AwesomeMarkers.icon(\n",
       "                {&quot;extraClasses&quot;: &quot;fa-rotate-0&quot;, &quot;icon&quot;: &quot;info-sign&quot;, &quot;iconColor&quot;: &quot;white&quot;, &quot;markerColor&quot;: &quot;red&quot;, &quot;prefix&quot;: &quot;glyphicon&quot;}\n",
       "            );\n",
       "            marker_cb08e21cf0f82291b5c02cae2fb318e8.setIcon(icon_80fa11ed7db3c600c2d21ba01974dba7);\n",
       "        \n",
       "    \n",
       "        var popup_5b3818d756c3ced8b112cfb38ea25811 = L.popup({&quot;maxWidth&quot;: &quot;100%&quot;});\n",
       "\n",
       "        \n",
       "            \n",
       "                var html_debfb2a34cc0e25cda8dee56e549d6da = $(`&lt;div id=&quot;html_debfb2a34cc0e25cda8dee56e549d6da&quot; style=&quot;width: 100.0%; height: 100.0%;&quot;&gt;Accession: 2001-0552&lt;/div&gt;`)[0];\n",
       "                popup_5b3818d756c3ced8b112cfb38ea25811.setContent(html_debfb2a34cc0e25cda8dee56e549d6da);\n",
       "            \n",
       "        \n",
       "\n",
       "        marker_cb08e21cf0f82291b5c02cae2fb318e8.bindPopup(popup_5b3818d756c3ced8b112cfb38ea25811)\n",
       "        ;\n",
       "\n",
       "        \n",
       "    \n",
       "    \n",
       "            var marker_ddff43c8038bff21ce65090a3f546297 = L.marker(\n",
       "                [45.480367, -75.510982],\n",
       "                {}\n",
       "            ).addTo(map_6dd22a8f8e17a667a2ea1e0aafe3efc4);\n",
       "        \n",
       "    \n",
       "            var icon_c5963727194afa26ace534dd27fc8e3b = L.AwesomeMarkers.icon(\n",
       "                {&quot;extraClasses&quot;: &quot;fa-rotate-0&quot;, &quot;icon&quot;: &quot;info-sign&quot;, &quot;iconColor&quot;: &quot;white&quot;, &quot;markerColor&quot;: &quot;red&quot;, &quot;prefix&quot;: &quot;glyphicon&quot;}\n",
       "            );\n",
       "            marker_ddff43c8038bff21ce65090a3f546297.setIcon(icon_c5963727194afa26ace534dd27fc8e3b);\n",
       "        \n",
       "    \n",
       "        var popup_8c75ce25169846d875030c3afb5bfa05 = L.popup({&quot;maxWidth&quot;: &quot;100%&quot;});\n",
       "\n",
       "        \n",
       "            \n",
       "                var html_9aeb0eb6599990dfc84a0807eae01687 = $(`&lt;div id=&quot;html_9aeb0eb6599990dfc84a0807eae01687&quot; style=&quot;width: 100.0%; height: 100.0%;&quot;&gt;Accession: 2009-0016&lt;/div&gt;`)[0];\n",
       "                popup_8c75ce25169846d875030c3afb5bfa05.setContent(html_9aeb0eb6599990dfc84a0807eae01687);\n",
       "            \n",
       "        \n",
       "\n",
       "        marker_ddff43c8038bff21ce65090a3f546297.bindPopup(popup_8c75ce25169846d875030c3afb5bfa05)\n",
       "        ;\n",
       "\n",
       "        \n",
       "    \n",
       "    \n",
       "            var marker_665f4ebad2ef075e0116d6cabbe0a01f = L.marker(\n",
       "                [45.418636, -75.69919],\n",
       "                {}\n",
       "            ).addTo(map_6dd22a8f8e17a667a2ea1e0aafe3efc4);\n",
       "        \n",
       "    \n",
       "            var icon_c825ec606a7ca3f818a5a5f2cf5145ab = L.AwesomeMarkers.icon(\n",
       "                {&quot;extraClasses&quot;: &quot;fa-rotate-0&quot;, &quot;icon&quot;: &quot;info-sign&quot;, &quot;iconColor&quot;: &quot;white&quot;, &quot;markerColor&quot;: &quot;red&quot;, &quot;prefix&quot;: &quot;glyphicon&quot;}\n",
       "            );\n",
       "            marker_665f4ebad2ef075e0116d6cabbe0a01f.setIcon(icon_c825ec606a7ca3f818a5a5f2cf5145ab);\n",
       "        \n",
       "    \n",
       "        var popup_1b506767db155f3685c381221a33383f = L.popup({&quot;maxWidth&quot;: &quot;100%&quot;});\n",
       "\n",
       "        \n",
       "            \n",
       "                var html_6427f75b6fd79a89bbfdc541b19351c0 = $(`&lt;div id=&quot;html_6427f75b6fd79a89bbfdc541b19351c0&quot; style=&quot;width: 100.0%; height: 100.0%;&quot;&gt;Accession: 2009-0023&lt;/div&gt;`)[0];\n",
       "                popup_1b506767db155f3685c381221a33383f.setContent(html_6427f75b6fd79a89bbfdc541b19351c0);\n",
       "            \n",
       "        \n",
       "\n",
       "        marker_665f4ebad2ef075e0116d6cabbe0a01f.bindPopup(popup_1b506767db155f3685c381221a33383f)\n",
       "        ;\n",
       "\n",
       "        \n",
       "    \n",
       "    \n",
       "            var marker_3c52660c59c5ad07472be80e9ffa9a72 = L.marker(\n",
       "                [45.418636, -75.69919],\n",
       "                {}\n",
       "            ).addTo(map_6dd22a8f8e17a667a2ea1e0aafe3efc4);\n",
       "        \n",
       "    \n",
       "            var icon_f1ad0ed981cf71c3a2397d0c61a7276f = L.AwesomeMarkers.icon(\n",
       "                {&quot;extraClasses&quot;: &quot;fa-rotate-0&quot;, &quot;icon&quot;: &quot;info-sign&quot;, &quot;iconColor&quot;: &quot;white&quot;, &quot;markerColor&quot;: &quot;red&quot;, &quot;prefix&quot;: &quot;glyphicon&quot;}\n",
       "            );\n",
       "            marker_3c52660c59c5ad07472be80e9ffa9a72.setIcon(icon_f1ad0ed981cf71c3a2397d0c61a7276f);\n",
       "        \n",
       "    \n",
       "        var popup_edd20035fbc996a79e6fdaac52de7595 = L.popup({&quot;maxWidth&quot;: &quot;100%&quot;});\n",
       "\n",
       "        \n",
       "            \n",
       "                var html_e6b25638c10fb4cb502ed9ffda4d998b = $(`&lt;div id=&quot;html_e6b25638c10fb4cb502ed9ffda4d998b&quot; style=&quot;width: 100.0%; height: 100.0%;&quot;&gt;Accession: 2009-0024&lt;/div&gt;`)[0];\n",
       "                popup_edd20035fbc996a79e6fdaac52de7595.setContent(html_e6b25638c10fb4cb502ed9ffda4d998b);\n",
       "            \n",
       "        \n",
       "\n",
       "        marker_3c52660c59c5ad07472be80e9ffa9a72.bindPopup(popup_edd20035fbc996a79e6fdaac52de7595)\n",
       "        ;\n",
       "\n",
       "        \n",
       "    \n",
       "    \n",
       "            var marker_531aac3425096ef12b45e3b896c7ebec = L.marker(\n",
       "                [45.418636, -75.69919],\n",
       "                {}\n",
       "            ).addTo(map_6dd22a8f8e17a667a2ea1e0aafe3efc4);\n",
       "        \n",
       "    \n",
       "            var icon_5bd61be917fa5fa5225b39d2aaa4fdb4 = L.AwesomeMarkers.icon(\n",
       "                {&quot;extraClasses&quot;: &quot;fa-rotate-0&quot;, &quot;icon&quot;: &quot;info-sign&quot;, &quot;iconColor&quot;: &quot;white&quot;, &quot;markerColor&quot;: &quot;red&quot;, &quot;prefix&quot;: &quot;glyphicon&quot;}\n",
       "            );\n",
       "            marker_531aac3425096ef12b45e3b896c7ebec.setIcon(icon_5bd61be917fa5fa5225b39d2aaa4fdb4);\n",
       "        \n",
       "    \n",
       "        var popup_a2461877cdf8027d85c30a38b2b57459 = L.popup({&quot;maxWidth&quot;: &quot;100%&quot;});\n",
       "\n",
       "        \n",
       "            \n",
       "                var html_c96673373a530a57cd832cdaddae1e65 = $(`&lt;div id=&quot;html_c96673373a530a57cd832cdaddae1e65&quot; style=&quot;width: 100.0%; height: 100.0%;&quot;&gt;Accession: 2009-0025&lt;/div&gt;`)[0];\n",
       "                popup_a2461877cdf8027d85c30a38b2b57459.setContent(html_c96673373a530a57cd832cdaddae1e65);\n",
       "            \n",
       "        \n",
       "\n",
       "        marker_531aac3425096ef12b45e3b896c7ebec.bindPopup(popup_a2461877cdf8027d85c30a38b2b57459)\n",
       "        ;\n",
       "\n",
       "        \n",
       "    \n",
       "    \n",
       "            var marker_ff0d5cacae8009427e3f49ec3d02984d = L.marker(\n",
       "                [45.418636, -75.69919],\n",
       "                {}\n",
       "            ).addTo(map_6dd22a8f8e17a667a2ea1e0aafe3efc4);\n",
       "        \n",
       "    \n",
       "            var icon_2b6b8fd53fa69490e641f141d5435b9f = L.AwesomeMarkers.icon(\n",
       "                {&quot;extraClasses&quot;: &quot;fa-rotate-0&quot;, &quot;icon&quot;: &quot;info-sign&quot;, &quot;iconColor&quot;: &quot;white&quot;, &quot;markerColor&quot;: &quot;red&quot;, &quot;prefix&quot;: &quot;glyphicon&quot;}\n",
       "            );\n",
       "            marker_ff0d5cacae8009427e3f49ec3d02984d.setIcon(icon_2b6b8fd53fa69490e641f141d5435b9f);\n",
       "        \n",
       "    \n",
       "        var popup_d7963f1cc5a296552f0f3678c408a92b = L.popup({&quot;maxWidth&quot;: &quot;100%&quot;});\n",
       "\n",
       "        \n",
       "            \n",
       "                var html_5f26a133be3b5d65fb2241624d29d085 = $(`&lt;div id=&quot;html_5f26a133be3b5d65fb2241624d29d085&quot; style=&quot;width: 100.0%; height: 100.0%;&quot;&gt;Accession: 2009-0026&lt;/div&gt;`)[0];\n",
       "                popup_d7963f1cc5a296552f0f3678c408a92b.setContent(html_5f26a133be3b5d65fb2241624d29d085);\n",
       "            \n",
       "        \n",
       "\n",
       "        marker_ff0d5cacae8009427e3f49ec3d02984d.bindPopup(popup_d7963f1cc5a296552f0f3678c408a92b)\n",
       "        ;\n",
       "\n",
       "        \n",
       "    \n",
       "    \n",
       "            var marker_6d8c4ef4aa6093431708d306f27509e7 = L.marker(\n",
       "                [45.418636, -75.69919],\n",
       "                {}\n",
       "            ).addTo(map_6dd22a8f8e17a667a2ea1e0aafe3efc4);\n",
       "        \n",
       "    \n",
       "            var icon_e7fbbff985937f75b807eb2242a1d6e5 = L.AwesomeMarkers.icon(\n",
       "                {&quot;extraClasses&quot;: &quot;fa-rotate-0&quot;, &quot;icon&quot;: &quot;info-sign&quot;, &quot;iconColor&quot;: &quot;white&quot;, &quot;markerColor&quot;: &quot;red&quot;, &quot;prefix&quot;: &quot;glyphicon&quot;}\n",
       "            );\n",
       "            marker_6d8c4ef4aa6093431708d306f27509e7.setIcon(icon_e7fbbff985937f75b807eb2242a1d6e5);\n",
       "        \n",
       "    \n",
       "        var popup_615be1d6c9034e5d14b1f29dfea39fc9 = L.popup({&quot;maxWidth&quot;: &quot;100%&quot;});\n",
       "\n",
       "        \n",
       "            \n",
       "                var html_cf95819b44d45572e328e7219493a503 = $(`&lt;div id=&quot;html_cf95819b44d45572e328e7219493a503&quot; style=&quot;width: 100.0%; height: 100.0%;&quot;&gt;Accession: 2009-0027&lt;/div&gt;`)[0];\n",
       "                popup_615be1d6c9034e5d14b1f29dfea39fc9.setContent(html_cf95819b44d45572e328e7219493a503);\n",
       "            \n",
       "        \n",
       "\n",
       "        marker_6d8c4ef4aa6093431708d306f27509e7.bindPopup(popup_615be1d6c9034e5d14b1f29dfea39fc9)\n",
       "        ;\n",
       "\n",
       "        \n",
       "    \n",
       "    \n",
       "            var marker_5915b39ac42d3ad9d74f5cdf840e0cbb = L.marker(\n",
       "                [45.418636, -75.69919],\n",
       "                {}\n",
       "            ).addTo(map_6dd22a8f8e17a667a2ea1e0aafe3efc4);\n",
       "        \n",
       "    \n",
       "            var icon_a6b10c0a5d1af30045e4aded610e7ffc = L.AwesomeMarkers.icon(\n",
       "                {&quot;extraClasses&quot;: &quot;fa-rotate-0&quot;, &quot;icon&quot;: &quot;info-sign&quot;, &quot;iconColor&quot;: &quot;white&quot;, &quot;markerColor&quot;: &quot;red&quot;, &quot;prefix&quot;: &quot;glyphicon&quot;}\n",
       "            );\n",
       "            marker_5915b39ac42d3ad9d74f5cdf840e0cbb.setIcon(icon_a6b10c0a5d1af30045e4aded610e7ffc);\n",
       "        \n",
       "    \n",
       "        var popup_26f3c1663e846e9d7cf3bdfbb74dad8e = L.popup({&quot;maxWidth&quot;: &quot;100%&quot;});\n",
       "\n",
       "        \n",
       "            \n",
       "                var html_84de91335fae42f4dcea951fbbca7097 = $(`&lt;div id=&quot;html_84de91335fae42f4dcea951fbbca7097&quot; style=&quot;width: 100.0%; height: 100.0%;&quot;&gt;Accession: 2009-0028&lt;/div&gt;`)[0];\n",
       "                popup_26f3c1663e846e9d7cf3bdfbb74dad8e.setContent(html_84de91335fae42f4dcea951fbbca7097);\n",
       "            \n",
       "        \n",
       "\n",
       "        marker_5915b39ac42d3ad9d74f5cdf840e0cbb.bindPopup(popup_26f3c1663e846e9d7cf3bdfbb74dad8e)\n",
       "        ;\n",
       "\n",
       "        \n",
       "    \n",
       "    \n",
       "            var marker_73ed85fa8b88b24ee656a82de31137db = L.marker(\n",
       "                [45.418636, -75.69919],\n",
       "                {}\n",
       "            ).addTo(map_6dd22a8f8e17a667a2ea1e0aafe3efc4);\n",
       "        \n",
       "    \n",
       "            var icon_53b0bf5b5116ca815d406cb694d05d46 = L.AwesomeMarkers.icon(\n",
       "                {&quot;extraClasses&quot;: &quot;fa-rotate-0&quot;, &quot;icon&quot;: &quot;info-sign&quot;, &quot;iconColor&quot;: &quot;white&quot;, &quot;markerColor&quot;: &quot;red&quot;, &quot;prefix&quot;: &quot;glyphicon&quot;}\n",
       "            );\n",
       "            marker_73ed85fa8b88b24ee656a82de31137db.setIcon(icon_53b0bf5b5116ca815d406cb694d05d46);\n",
       "        \n",
       "    \n",
       "        var popup_17e23842101c499865d46979143dd75e = L.popup({&quot;maxWidth&quot;: &quot;100%&quot;});\n",
       "\n",
       "        \n",
       "            \n",
       "                var html_0c57bee35924923942ae2c9801f84697 = $(`&lt;div id=&quot;html_0c57bee35924923942ae2c9801f84697&quot; style=&quot;width: 100.0%; height: 100.0%;&quot;&gt;Accession: 2009-0029&lt;/div&gt;`)[0];\n",
       "                popup_17e23842101c499865d46979143dd75e.setContent(html_0c57bee35924923942ae2c9801f84697);\n",
       "            \n",
       "        \n",
       "\n",
       "        marker_73ed85fa8b88b24ee656a82de31137db.bindPopup(popup_17e23842101c499865d46979143dd75e)\n",
       "        ;\n",
       "\n",
       "        \n",
       "    \n",
       "    \n",
       "            var marker_651c4582f1f636f95895496794bd505f = L.marker(\n",
       "                [45.418636, -75.69919],\n",
       "                {}\n",
       "            ).addTo(map_6dd22a8f8e17a667a2ea1e0aafe3efc4);\n",
       "        \n",
       "    \n",
       "            var icon_fde031b19bb5def10f39eb586adc1072 = L.AwesomeMarkers.icon(\n",
       "                {&quot;extraClasses&quot;: &quot;fa-rotate-0&quot;, &quot;icon&quot;: &quot;info-sign&quot;, &quot;iconColor&quot;: &quot;white&quot;, &quot;markerColor&quot;: &quot;red&quot;, &quot;prefix&quot;: &quot;glyphicon&quot;}\n",
       "            );\n",
       "            marker_651c4582f1f636f95895496794bd505f.setIcon(icon_fde031b19bb5def10f39eb586adc1072);\n",
       "        \n",
       "    \n",
       "        var popup_b2c1b53a6c6d63bde4e1cbf2e1ad7144 = L.popup({&quot;maxWidth&quot;: &quot;100%&quot;});\n",
       "\n",
       "        \n",
       "            \n",
       "                var html_a80e7c74fd6b7cd272ab21e2ecd76881 = $(`&lt;div id=&quot;html_a80e7c74fd6b7cd272ab21e2ecd76881&quot; style=&quot;width: 100.0%; height: 100.0%;&quot;&gt;Accession: 2009-0030&lt;/div&gt;`)[0];\n",
       "                popup_b2c1b53a6c6d63bde4e1cbf2e1ad7144.setContent(html_a80e7c74fd6b7cd272ab21e2ecd76881);\n",
       "            \n",
       "        \n",
       "\n",
       "        marker_651c4582f1f636f95895496794bd505f.bindPopup(popup_b2c1b53a6c6d63bde4e1cbf2e1ad7144)\n",
       "        ;\n",
       "\n",
       "        \n",
       "    \n",
       "    \n",
       "            var marker_8c194da5d524ef8723cddf4ec2f564b0 = L.marker(\n",
       "                [45.418636, -75.69919],\n",
       "                {}\n",
       "            ).addTo(map_6dd22a8f8e17a667a2ea1e0aafe3efc4);\n",
       "        \n",
       "    \n",
       "            var icon_fc61039db98abbbedd6c228f8d34c055 = L.AwesomeMarkers.icon(\n",
       "                {&quot;extraClasses&quot;: &quot;fa-rotate-0&quot;, &quot;icon&quot;: &quot;info-sign&quot;, &quot;iconColor&quot;: &quot;white&quot;, &quot;markerColor&quot;: &quot;red&quot;, &quot;prefix&quot;: &quot;glyphicon&quot;}\n",
       "            );\n",
       "            marker_8c194da5d524ef8723cddf4ec2f564b0.setIcon(icon_fc61039db98abbbedd6c228f8d34c055);\n",
       "        \n",
       "    \n",
       "        var popup_8ed1f7f4d5000f344bf137738379b165 = L.popup({&quot;maxWidth&quot;: &quot;100%&quot;});\n",
       "\n",
       "        \n",
       "            \n",
       "                var html_ed981f3ca22b48f3e4a1380ad7035bb5 = $(`&lt;div id=&quot;html_ed981f3ca22b48f3e4a1380ad7035bb5&quot; style=&quot;width: 100.0%; height: 100.0%;&quot;&gt;Accession: 2009-0031&lt;/div&gt;`)[0];\n",
       "                popup_8ed1f7f4d5000f344bf137738379b165.setContent(html_ed981f3ca22b48f3e4a1380ad7035bb5);\n",
       "            \n",
       "        \n",
       "\n",
       "        marker_8c194da5d524ef8723cddf4ec2f564b0.bindPopup(popup_8ed1f7f4d5000f344bf137738379b165)\n",
       "        ;\n",
       "\n",
       "        \n",
       "    \n",
       "    \n",
       "            var marker_bbff1b2f04d7c0d92cbd2b7152e0ec33 = L.marker(\n",
       "                [45.418636, -75.69919],\n",
       "                {}\n",
       "            ).addTo(map_6dd22a8f8e17a667a2ea1e0aafe3efc4);\n",
       "        \n",
       "    \n",
       "            var icon_176d0b5df1b6e6ed1c49fef5e3ab4750 = L.AwesomeMarkers.icon(\n",
       "                {&quot;extraClasses&quot;: &quot;fa-rotate-0&quot;, &quot;icon&quot;: &quot;info-sign&quot;, &quot;iconColor&quot;: &quot;white&quot;, &quot;markerColor&quot;: &quot;red&quot;, &quot;prefix&quot;: &quot;glyphicon&quot;}\n",
       "            );\n",
       "            marker_bbff1b2f04d7c0d92cbd2b7152e0ec33.setIcon(icon_176d0b5df1b6e6ed1c49fef5e3ab4750);\n",
       "        \n",
       "    \n",
       "        var popup_35db5a37f97c953c1f6a26cbf7740ef9 = L.popup({&quot;maxWidth&quot;: &quot;100%&quot;});\n",
       "\n",
       "        \n",
       "            \n",
       "                var html_6d94951e044ae2014bf403167a51011f = $(`&lt;div id=&quot;html_6d94951e044ae2014bf403167a51011f&quot; style=&quot;width: 100.0%; height: 100.0%;&quot;&gt;Accession: 2009-0032&lt;/div&gt;`)[0];\n",
       "                popup_35db5a37f97c953c1f6a26cbf7740ef9.setContent(html_6d94951e044ae2014bf403167a51011f);\n",
       "            \n",
       "        \n",
       "\n",
       "        marker_bbff1b2f04d7c0d92cbd2b7152e0ec33.bindPopup(popup_35db5a37f97c953c1f6a26cbf7740ef9)\n",
       "        ;\n",
       "\n",
       "        \n",
       "    \n",
       "    \n",
       "            var marker_13374128fdc5690c04aff7907766fc6c = L.marker(\n",
       "                [45.418636, -75.69919],\n",
       "                {}\n",
       "            ).addTo(map_6dd22a8f8e17a667a2ea1e0aafe3efc4);\n",
       "        \n",
       "    \n",
       "            var icon_dcdce87c6f933dbdbcd75aa90453962f = L.AwesomeMarkers.icon(\n",
       "                {&quot;extraClasses&quot;: &quot;fa-rotate-0&quot;, &quot;icon&quot;: &quot;info-sign&quot;, &quot;iconColor&quot;: &quot;white&quot;, &quot;markerColor&quot;: &quot;red&quot;, &quot;prefix&quot;: &quot;glyphicon&quot;}\n",
       "            );\n",
       "            marker_13374128fdc5690c04aff7907766fc6c.setIcon(icon_dcdce87c6f933dbdbcd75aa90453962f);\n",
       "        \n",
       "    \n",
       "        var popup_afb6c2d692b3133ed89359db7ef7dabf = L.popup({&quot;maxWidth&quot;: &quot;100%&quot;});\n",
       "\n",
       "        \n",
       "            \n",
       "                var html_909a2ecb5321ad24248b34bd8bc6e88b = $(`&lt;div id=&quot;html_909a2ecb5321ad24248b34bd8bc6e88b&quot; style=&quot;width: 100.0%; height: 100.0%;&quot;&gt;Accession: 2009-0033&lt;/div&gt;`)[0];\n",
       "                popup_afb6c2d692b3133ed89359db7ef7dabf.setContent(html_909a2ecb5321ad24248b34bd8bc6e88b);\n",
       "            \n",
       "        \n",
       "\n",
       "        marker_13374128fdc5690c04aff7907766fc6c.bindPopup(popup_afb6c2d692b3133ed89359db7ef7dabf)\n",
       "        ;\n",
       "\n",
       "        \n",
       "    \n",
       "    \n",
       "            var marker_1939bd5e86456f3317fc993a7d093d9d = L.marker(\n",
       "                [45.418636, -75.69919],\n",
       "                {}\n",
       "            ).addTo(map_6dd22a8f8e17a667a2ea1e0aafe3efc4);\n",
       "        \n",
       "    \n",
       "            var icon_80133b4845f8a9ae9ccafa5b0cce6b0b = L.AwesomeMarkers.icon(\n",
       "                {&quot;extraClasses&quot;: &quot;fa-rotate-0&quot;, &quot;icon&quot;: &quot;info-sign&quot;, &quot;iconColor&quot;: &quot;white&quot;, &quot;markerColor&quot;: &quot;red&quot;, &quot;prefix&quot;: &quot;glyphicon&quot;}\n",
       "            );\n",
       "            marker_1939bd5e86456f3317fc993a7d093d9d.setIcon(icon_80133b4845f8a9ae9ccafa5b0cce6b0b);\n",
       "        \n",
       "    \n",
       "        var popup_dc7fb96237ec6b176e0403849592c9eb = L.popup({&quot;maxWidth&quot;: &quot;100%&quot;});\n",
       "\n",
       "        \n",
       "            \n",
       "                var html_acb9fbfe96184077768936df5a79f72a = $(`&lt;div id=&quot;html_acb9fbfe96184077768936df5a79f72a&quot; style=&quot;width: 100.0%; height: 100.0%;&quot;&gt;Accession: 2009-0034&lt;/div&gt;`)[0];\n",
       "                popup_dc7fb96237ec6b176e0403849592c9eb.setContent(html_acb9fbfe96184077768936df5a79f72a);\n",
       "            \n",
       "        \n",
       "\n",
       "        marker_1939bd5e86456f3317fc993a7d093d9d.bindPopup(popup_dc7fb96237ec6b176e0403849592c9eb)\n",
       "        ;\n",
       "\n",
       "        \n",
       "    \n",
       "    \n",
       "            var marker_bd1809cd1068c30a06522e740bb4d0e0 = L.marker(\n",
       "                [45.418636, -75.69919],\n",
       "                {}\n",
       "            ).addTo(map_6dd22a8f8e17a667a2ea1e0aafe3efc4);\n",
       "        \n",
       "    \n",
       "            var icon_061e617251a44e89e6668b2a27d035f1 = L.AwesomeMarkers.icon(\n",
       "                {&quot;extraClasses&quot;: &quot;fa-rotate-0&quot;, &quot;icon&quot;: &quot;info-sign&quot;, &quot;iconColor&quot;: &quot;white&quot;, &quot;markerColor&quot;: &quot;red&quot;, &quot;prefix&quot;: &quot;glyphicon&quot;}\n",
       "            );\n",
       "            marker_bd1809cd1068c30a06522e740bb4d0e0.setIcon(icon_061e617251a44e89e6668b2a27d035f1);\n",
       "        \n",
       "    \n",
       "        var popup_cfa40cfc269960f1c89de4478133575d = L.popup({&quot;maxWidth&quot;: &quot;100%&quot;});\n",
       "\n",
       "        \n",
       "            \n",
       "                var html_db007f9701236fa1549eae64ce287bf9 = $(`&lt;div id=&quot;html_db007f9701236fa1549eae64ce287bf9&quot; style=&quot;width: 100.0%; height: 100.0%;&quot;&gt;Accession: 2009-0035&lt;/div&gt;`)[0];\n",
       "                popup_cfa40cfc269960f1c89de4478133575d.setContent(html_db007f9701236fa1549eae64ce287bf9);\n",
       "            \n",
       "        \n",
       "\n",
       "        marker_bd1809cd1068c30a06522e740bb4d0e0.bindPopup(popup_cfa40cfc269960f1c89de4478133575d)\n",
       "        ;\n",
       "\n",
       "        \n",
       "    \n",
       "    \n",
       "            var marker_86c79ec18c65faec1e4b54ea5b36e078 = L.marker(\n",
       "                [45.418636, -75.69919],\n",
       "                {}\n",
       "            ).addTo(map_6dd22a8f8e17a667a2ea1e0aafe3efc4);\n",
       "        \n",
       "    \n",
       "            var icon_f60b0a34e804e7744c8f010a0b75bb86 = L.AwesomeMarkers.icon(\n",
       "                {&quot;extraClasses&quot;: &quot;fa-rotate-0&quot;, &quot;icon&quot;: &quot;info-sign&quot;, &quot;iconColor&quot;: &quot;white&quot;, &quot;markerColor&quot;: &quot;red&quot;, &quot;prefix&quot;: &quot;glyphicon&quot;}\n",
       "            );\n",
       "            marker_86c79ec18c65faec1e4b54ea5b36e078.setIcon(icon_f60b0a34e804e7744c8f010a0b75bb86);\n",
       "        \n",
       "    \n",
       "        var popup_a8123d80e005cd9bf2ea2343614ec5c8 = L.popup({&quot;maxWidth&quot;: &quot;100%&quot;});\n",
       "\n",
       "        \n",
       "            \n",
       "                var html_e1145db08cb4781ef4785a0e9cbef05e = $(`&lt;div id=&quot;html_e1145db08cb4781ef4785a0e9cbef05e&quot; style=&quot;width: 100.0%; height: 100.0%;&quot;&gt;Accession: 2009-0036&lt;/div&gt;`)[0];\n",
       "                popup_a8123d80e005cd9bf2ea2343614ec5c8.setContent(html_e1145db08cb4781ef4785a0e9cbef05e);\n",
       "            \n",
       "        \n",
       "\n",
       "        marker_86c79ec18c65faec1e4b54ea5b36e078.bindPopup(popup_a8123d80e005cd9bf2ea2343614ec5c8)\n",
       "        ;\n",
       "\n",
       "        \n",
       "    \n",
       "    \n",
       "            var marker_dbcceaec4fab15f9b35a23932a96f508 = L.marker(\n",
       "                [45.418636, -75.69919],\n",
       "                {}\n",
       "            ).addTo(map_6dd22a8f8e17a667a2ea1e0aafe3efc4);\n",
       "        \n",
       "    \n",
       "            var icon_256c827bcffebcb5aa5af1c80ea65437 = L.AwesomeMarkers.icon(\n",
       "                {&quot;extraClasses&quot;: &quot;fa-rotate-0&quot;, &quot;icon&quot;: &quot;info-sign&quot;, &quot;iconColor&quot;: &quot;white&quot;, &quot;markerColor&quot;: &quot;red&quot;, &quot;prefix&quot;: &quot;glyphicon&quot;}\n",
       "            );\n",
       "            marker_dbcceaec4fab15f9b35a23932a96f508.setIcon(icon_256c827bcffebcb5aa5af1c80ea65437);\n",
       "        \n",
       "    \n",
       "        var popup_3e8dcb19461eb7982e606464765ece59 = L.popup({&quot;maxWidth&quot;: &quot;100%&quot;});\n",
       "\n",
       "        \n",
       "            \n",
       "                var html_70b46808d0782ee15a8c9dbe40a64d72 = $(`&lt;div id=&quot;html_70b46808d0782ee15a8c9dbe40a64d72&quot; style=&quot;width: 100.0%; height: 100.0%;&quot;&gt;Accession: 2009-0037&lt;/div&gt;`)[0];\n",
       "                popup_3e8dcb19461eb7982e606464765ece59.setContent(html_70b46808d0782ee15a8c9dbe40a64d72);\n",
       "            \n",
       "        \n",
       "\n",
       "        marker_dbcceaec4fab15f9b35a23932a96f508.bindPopup(popup_3e8dcb19461eb7982e606464765ece59)\n",
       "        ;\n",
       "\n",
       "        \n",
       "    \n",
       "    \n",
       "            var marker_16228b97c74bf9ba0bd000ed0a2d492b = L.marker(\n",
       "                [45.418636, -75.69919],\n",
       "                {}\n",
       "            ).addTo(map_6dd22a8f8e17a667a2ea1e0aafe3efc4);\n",
       "        \n",
       "    \n",
       "            var icon_ebe0e6aaff75f7a5cc964aa392566629 = L.AwesomeMarkers.icon(\n",
       "                {&quot;extraClasses&quot;: &quot;fa-rotate-0&quot;, &quot;icon&quot;: &quot;info-sign&quot;, &quot;iconColor&quot;: &quot;white&quot;, &quot;markerColor&quot;: &quot;red&quot;, &quot;prefix&quot;: &quot;glyphicon&quot;}\n",
       "            );\n",
       "            marker_16228b97c74bf9ba0bd000ed0a2d492b.setIcon(icon_ebe0e6aaff75f7a5cc964aa392566629);\n",
       "        \n",
       "    \n",
       "        var popup_cee8bff8c758291bc0fe7c4185fedf03 = L.popup({&quot;maxWidth&quot;: &quot;100%&quot;});\n",
       "\n",
       "        \n",
       "            \n",
       "                var html_7338c2de710a76abaa25efff99a2a44b = $(`&lt;div id=&quot;html_7338c2de710a76abaa25efff99a2a44b&quot; style=&quot;width: 100.0%; height: 100.0%;&quot;&gt;Accession: 2009-0038&lt;/div&gt;`)[0];\n",
       "                popup_cee8bff8c758291bc0fe7c4185fedf03.setContent(html_7338c2de710a76abaa25efff99a2a44b);\n",
       "            \n",
       "        \n",
       "\n",
       "        marker_16228b97c74bf9ba0bd000ed0a2d492b.bindPopup(popup_cee8bff8c758291bc0fe7c4185fedf03)\n",
       "        ;\n",
       "\n",
       "        \n",
       "    \n",
       "    \n",
       "            var marker_a46967a17e5fc3bc91fc556f6755e749 = L.marker(\n",
       "                [45.418636, -75.69919],\n",
       "                {}\n",
       "            ).addTo(map_6dd22a8f8e17a667a2ea1e0aafe3efc4);\n",
       "        \n",
       "    \n",
       "            var icon_2869837bba42ee9256c50aae74254de3 = L.AwesomeMarkers.icon(\n",
       "                {&quot;extraClasses&quot;: &quot;fa-rotate-0&quot;, &quot;icon&quot;: &quot;info-sign&quot;, &quot;iconColor&quot;: &quot;white&quot;, &quot;markerColor&quot;: &quot;red&quot;, &quot;prefix&quot;: &quot;glyphicon&quot;}\n",
       "            );\n",
       "            marker_a46967a17e5fc3bc91fc556f6755e749.setIcon(icon_2869837bba42ee9256c50aae74254de3);\n",
       "        \n",
       "    \n",
       "        var popup_e66d368112eb38a1e96b0508e375f644 = L.popup({&quot;maxWidth&quot;: &quot;100%&quot;});\n",
       "\n",
       "        \n",
       "            \n",
       "                var html_c7f39bb609389e5d3f2f567b09ff7dc8 = $(`&lt;div id=&quot;html_c7f39bb609389e5d3f2f567b09ff7dc8&quot; style=&quot;width: 100.0%; height: 100.0%;&quot;&gt;Accession: 2009-0039&lt;/div&gt;`)[0];\n",
       "                popup_e66d368112eb38a1e96b0508e375f644.setContent(html_c7f39bb609389e5d3f2f567b09ff7dc8);\n",
       "            \n",
       "        \n",
       "\n",
       "        marker_a46967a17e5fc3bc91fc556f6755e749.bindPopup(popup_e66d368112eb38a1e96b0508e375f644)\n",
       "        ;\n",
       "\n",
       "        \n",
       "    \n",
       "    \n",
       "            var marker_61dee3e6d5091e1fce7dee3eddbb5e32 = L.marker(\n",
       "                [45.418636, -75.69919],\n",
       "                {}\n",
       "            ).addTo(map_6dd22a8f8e17a667a2ea1e0aafe3efc4);\n",
       "        \n",
       "    \n",
       "            var icon_15a82ff596e1639792977bcb57b43587 = L.AwesomeMarkers.icon(\n",
       "                {&quot;extraClasses&quot;: &quot;fa-rotate-0&quot;, &quot;icon&quot;: &quot;info-sign&quot;, &quot;iconColor&quot;: &quot;white&quot;, &quot;markerColor&quot;: &quot;red&quot;, &quot;prefix&quot;: &quot;glyphicon&quot;}\n",
       "            );\n",
       "            marker_61dee3e6d5091e1fce7dee3eddbb5e32.setIcon(icon_15a82ff596e1639792977bcb57b43587);\n",
       "        \n",
       "    \n",
       "        var popup_000be210a250e4553024c2f4063ef1b3 = L.popup({&quot;maxWidth&quot;: &quot;100%&quot;});\n",
       "\n",
       "        \n",
       "            \n",
       "                var html_bbaecd6ad7b25ced8ecda72dd9b61ff2 = $(`&lt;div id=&quot;html_bbaecd6ad7b25ced8ecda72dd9b61ff2&quot; style=&quot;width: 100.0%; height: 100.0%;&quot;&gt;Accession: 2009-0040&lt;/div&gt;`)[0];\n",
       "                popup_000be210a250e4553024c2f4063ef1b3.setContent(html_bbaecd6ad7b25ced8ecda72dd9b61ff2);\n",
       "            \n",
       "        \n",
       "\n",
       "        marker_61dee3e6d5091e1fce7dee3eddbb5e32.bindPopup(popup_000be210a250e4553024c2f4063ef1b3)\n",
       "        ;\n",
       "\n",
       "        \n",
       "    \n",
       "    \n",
       "            var marker_c9a07bdd9ffca57a9f50e637a6efafcf = L.marker(\n",
       "                [45.418636, -75.69919],\n",
       "                {}\n",
       "            ).addTo(map_6dd22a8f8e17a667a2ea1e0aafe3efc4);\n",
       "        \n",
       "    \n",
       "            var icon_dbbfe22f0e4477f4c880804cba3af8a3 = L.AwesomeMarkers.icon(\n",
       "                {&quot;extraClasses&quot;: &quot;fa-rotate-0&quot;, &quot;icon&quot;: &quot;info-sign&quot;, &quot;iconColor&quot;: &quot;white&quot;, &quot;markerColor&quot;: &quot;red&quot;, &quot;prefix&quot;: &quot;glyphicon&quot;}\n",
       "            );\n",
       "            marker_c9a07bdd9ffca57a9f50e637a6efafcf.setIcon(icon_dbbfe22f0e4477f4c880804cba3af8a3);\n",
       "        \n",
       "    \n",
       "        var popup_98fcef192f1be3b43199a46879139bc0 = L.popup({&quot;maxWidth&quot;: &quot;100%&quot;});\n",
       "\n",
       "        \n",
       "            \n",
       "                var html_4a3fe1617d69aaa333d15fb5adc3448a = $(`&lt;div id=&quot;html_4a3fe1617d69aaa333d15fb5adc3448a&quot; style=&quot;width: 100.0%; height: 100.0%;&quot;&gt;Accession: 2009-0041&lt;/div&gt;`)[0];\n",
       "                popup_98fcef192f1be3b43199a46879139bc0.setContent(html_4a3fe1617d69aaa333d15fb5adc3448a);\n",
       "            \n",
       "        \n",
       "\n",
       "        marker_c9a07bdd9ffca57a9f50e637a6efafcf.bindPopup(popup_98fcef192f1be3b43199a46879139bc0)\n",
       "        ;\n",
       "\n",
       "        \n",
       "    \n",
       "    \n",
       "            var marker_697ed6551e0f4c213eba1681324a0c17 = L.marker(\n",
       "                [45.418636, -75.69919],\n",
       "                {}\n",
       "            ).addTo(map_6dd22a8f8e17a667a2ea1e0aafe3efc4);\n",
       "        \n",
       "    \n",
       "            var icon_c2ef540e9c5695216af4fd980c45ad36 = L.AwesomeMarkers.icon(\n",
       "                {&quot;extraClasses&quot;: &quot;fa-rotate-0&quot;, &quot;icon&quot;: &quot;info-sign&quot;, &quot;iconColor&quot;: &quot;white&quot;, &quot;markerColor&quot;: &quot;red&quot;, &quot;prefix&quot;: &quot;glyphicon&quot;}\n",
       "            );\n",
       "            marker_697ed6551e0f4c213eba1681324a0c17.setIcon(icon_c2ef540e9c5695216af4fd980c45ad36);\n",
       "        \n",
       "    \n",
       "        var popup_be2385c4071313557315116481eda73a = L.popup({&quot;maxWidth&quot;: &quot;100%&quot;});\n",
       "\n",
       "        \n",
       "            \n",
       "                var html_af36f3dea8a8b9f0fabd66d7012ff240 = $(`&lt;div id=&quot;html_af36f3dea8a8b9f0fabd66d7012ff240&quot; style=&quot;width: 100.0%; height: 100.0%;&quot;&gt;Accession: 2009-0042&lt;/div&gt;`)[0];\n",
       "                popup_be2385c4071313557315116481eda73a.setContent(html_af36f3dea8a8b9f0fabd66d7012ff240);\n",
       "            \n",
       "        \n",
       "\n",
       "        marker_697ed6551e0f4c213eba1681324a0c17.bindPopup(popup_be2385c4071313557315116481eda73a)\n",
       "        ;\n",
       "\n",
       "        \n",
       "    \n",
       "    \n",
       "            var marker_f812e70605ab05471738448e8c885ff1 = L.marker(\n",
       "                [45.418636, -75.69919],\n",
       "                {}\n",
       "            ).addTo(map_6dd22a8f8e17a667a2ea1e0aafe3efc4);\n",
       "        \n",
       "    \n",
       "            var icon_10a224344ae434a375bf8a34aefc66e2 = L.AwesomeMarkers.icon(\n",
       "                {&quot;extraClasses&quot;: &quot;fa-rotate-0&quot;, &quot;icon&quot;: &quot;info-sign&quot;, &quot;iconColor&quot;: &quot;white&quot;, &quot;markerColor&quot;: &quot;red&quot;, &quot;prefix&quot;: &quot;glyphicon&quot;}\n",
       "            );\n",
       "            marker_f812e70605ab05471738448e8c885ff1.setIcon(icon_10a224344ae434a375bf8a34aefc66e2);\n",
       "        \n",
       "    \n",
       "        var popup_ba8230dece442c02523e95ce89576a15 = L.popup({&quot;maxWidth&quot;: &quot;100%&quot;});\n",
       "\n",
       "        \n",
       "            \n",
       "                var html_a94504df4567aabdbabd21db7e9d8474 = $(`&lt;div id=&quot;html_a94504df4567aabdbabd21db7e9d8474&quot; style=&quot;width: 100.0%; height: 100.0%;&quot;&gt;Accession: 2009-0043&lt;/div&gt;`)[0];\n",
       "                popup_ba8230dece442c02523e95ce89576a15.setContent(html_a94504df4567aabdbabd21db7e9d8474);\n",
       "            \n",
       "        \n",
       "\n",
       "        marker_f812e70605ab05471738448e8c885ff1.bindPopup(popup_ba8230dece442c02523e95ce89576a15)\n",
       "        ;\n",
       "\n",
       "        \n",
       "    \n",
       "    \n",
       "            var marker_4666efd2f645e66147e65b9c172affb1 = L.marker(\n",
       "                [45.418636, -75.69919],\n",
       "                {}\n",
       "            ).addTo(map_6dd22a8f8e17a667a2ea1e0aafe3efc4);\n",
       "        \n",
       "    \n",
       "            var icon_6d726abf64b646b015eab37facc5b9d3 = L.AwesomeMarkers.icon(\n",
       "                {&quot;extraClasses&quot;: &quot;fa-rotate-0&quot;, &quot;icon&quot;: &quot;info-sign&quot;, &quot;iconColor&quot;: &quot;white&quot;, &quot;markerColor&quot;: &quot;red&quot;, &quot;prefix&quot;: &quot;glyphicon&quot;}\n",
       "            );\n",
       "            marker_4666efd2f645e66147e65b9c172affb1.setIcon(icon_6d726abf64b646b015eab37facc5b9d3);\n",
       "        \n",
       "    \n",
       "        var popup_f505580cd6dfbedf16643945d04caa5a = L.popup({&quot;maxWidth&quot;: &quot;100%&quot;});\n",
       "\n",
       "        \n",
       "            \n",
       "                var html_a8542eed3046260b256b9c00eae07192 = $(`&lt;div id=&quot;html_a8542eed3046260b256b9c00eae07192&quot; style=&quot;width: 100.0%; height: 100.0%;&quot;&gt;Accession: 2009-0044&lt;/div&gt;`)[0];\n",
       "                popup_f505580cd6dfbedf16643945d04caa5a.setContent(html_a8542eed3046260b256b9c00eae07192);\n",
       "            \n",
       "        \n",
       "\n",
       "        marker_4666efd2f645e66147e65b9c172affb1.bindPopup(popup_f505580cd6dfbedf16643945d04caa5a)\n",
       "        ;\n",
       "\n",
       "        \n",
       "    \n",
       "    \n",
       "            var marker_218006f673a7c9e08fda44928026e762 = L.marker(\n",
       "                [45.418636, -75.69919],\n",
       "                {}\n",
       "            ).addTo(map_6dd22a8f8e17a667a2ea1e0aafe3efc4);\n",
       "        \n",
       "    \n",
       "            var icon_e93842c3012be9b74a4a4836b41bdf67 = L.AwesomeMarkers.icon(\n",
       "                {&quot;extraClasses&quot;: &quot;fa-rotate-0&quot;, &quot;icon&quot;: &quot;info-sign&quot;, &quot;iconColor&quot;: &quot;white&quot;, &quot;markerColor&quot;: &quot;red&quot;, &quot;prefix&quot;: &quot;glyphicon&quot;}\n",
       "            );\n",
       "            marker_218006f673a7c9e08fda44928026e762.setIcon(icon_e93842c3012be9b74a4a4836b41bdf67);\n",
       "        \n",
       "    \n",
       "        var popup_58c05319ce2cd329c2891da4475f654a = L.popup({&quot;maxWidth&quot;: &quot;100%&quot;});\n",
       "\n",
       "        \n",
       "            \n",
       "                var html_1dffea24ba8dc779e477f9994c536e31 = $(`&lt;div id=&quot;html_1dffea24ba8dc779e477f9994c536e31&quot; style=&quot;width: 100.0%; height: 100.0%;&quot;&gt;Accession: 2009-0045&lt;/div&gt;`)[0];\n",
       "                popup_58c05319ce2cd329c2891da4475f654a.setContent(html_1dffea24ba8dc779e477f9994c536e31);\n",
       "            \n",
       "        \n",
       "\n",
       "        marker_218006f673a7c9e08fda44928026e762.bindPopup(popup_58c05319ce2cd329c2891da4475f654a)\n",
       "        ;\n",
       "\n",
       "        \n",
       "    \n",
       "    \n",
       "            var marker_2b8b467f1659475fc553eadf124c07bf = L.marker(\n",
       "                [45.418636, -75.69919],\n",
       "                {}\n",
       "            ).addTo(map_6dd22a8f8e17a667a2ea1e0aafe3efc4);\n",
       "        \n",
       "    \n",
       "            var icon_5ee5ef7cdc0f51d9b4207e047e9265f0 = L.AwesomeMarkers.icon(\n",
       "                {&quot;extraClasses&quot;: &quot;fa-rotate-0&quot;, &quot;icon&quot;: &quot;info-sign&quot;, &quot;iconColor&quot;: &quot;white&quot;, &quot;markerColor&quot;: &quot;red&quot;, &quot;prefix&quot;: &quot;glyphicon&quot;}\n",
       "            );\n",
       "            marker_2b8b467f1659475fc553eadf124c07bf.setIcon(icon_5ee5ef7cdc0f51d9b4207e047e9265f0);\n",
       "        \n",
       "    \n",
       "        var popup_6ad9d8337084617759f11d6166a05de7 = L.popup({&quot;maxWidth&quot;: &quot;100%&quot;});\n",
       "\n",
       "        \n",
       "            \n",
       "                var html_c7362fd8215e2decf39322c49bc2d4f8 = $(`&lt;div id=&quot;html_c7362fd8215e2decf39322c49bc2d4f8&quot; style=&quot;width: 100.0%; height: 100.0%;&quot;&gt;Accession: 2009-0046&lt;/div&gt;`)[0];\n",
       "                popup_6ad9d8337084617759f11d6166a05de7.setContent(html_c7362fd8215e2decf39322c49bc2d4f8);\n",
       "            \n",
       "        \n",
       "\n",
       "        marker_2b8b467f1659475fc553eadf124c07bf.bindPopup(popup_6ad9d8337084617759f11d6166a05de7)\n",
       "        ;\n",
       "\n",
       "        \n",
       "    \n",
       "    \n",
       "            var marker_22b2da4f3a487aa090dfae838a844aeb = L.marker(\n",
       "                [45.418636, -75.69919],\n",
       "                {}\n",
       "            ).addTo(map_6dd22a8f8e17a667a2ea1e0aafe3efc4);\n",
       "        \n",
       "    \n",
       "            var icon_31fa0f8946d41f7c9ea3d883368a8390 = L.AwesomeMarkers.icon(\n",
       "                {&quot;extraClasses&quot;: &quot;fa-rotate-0&quot;, &quot;icon&quot;: &quot;info-sign&quot;, &quot;iconColor&quot;: &quot;white&quot;, &quot;markerColor&quot;: &quot;red&quot;, &quot;prefix&quot;: &quot;glyphicon&quot;}\n",
       "            );\n",
       "            marker_22b2da4f3a487aa090dfae838a844aeb.setIcon(icon_31fa0f8946d41f7c9ea3d883368a8390);\n",
       "        \n",
       "    \n",
       "        var popup_7128e1e76d28f27f4fc44e17b99ad4ae = L.popup({&quot;maxWidth&quot;: &quot;100%&quot;});\n",
       "\n",
       "        \n",
       "            \n",
       "                var html_eddc99adce08ee785247cbcb112550fc = $(`&lt;div id=&quot;html_eddc99adce08ee785247cbcb112550fc&quot; style=&quot;width: 100.0%; height: 100.0%;&quot;&gt;Accession: 2009-0047&lt;/div&gt;`)[0];\n",
       "                popup_7128e1e76d28f27f4fc44e17b99ad4ae.setContent(html_eddc99adce08ee785247cbcb112550fc);\n",
       "            \n",
       "        \n",
       "\n",
       "        marker_22b2da4f3a487aa090dfae838a844aeb.bindPopup(popup_7128e1e76d28f27f4fc44e17b99ad4ae)\n",
       "        ;\n",
       "\n",
       "        \n",
       "    \n",
       "    \n",
       "            var marker_ae0571865de5f4c2ea03f2e5bba847f9 = L.marker(\n",
       "                [45.418636, -75.69919],\n",
       "                {}\n",
       "            ).addTo(map_6dd22a8f8e17a667a2ea1e0aafe3efc4);\n",
       "        \n",
       "    \n",
       "            var icon_90b65b5417edb1ef601d208c096bbc93 = L.AwesomeMarkers.icon(\n",
       "                {&quot;extraClasses&quot;: &quot;fa-rotate-0&quot;, &quot;icon&quot;: &quot;info-sign&quot;, &quot;iconColor&quot;: &quot;white&quot;, &quot;markerColor&quot;: &quot;red&quot;, &quot;prefix&quot;: &quot;glyphicon&quot;}\n",
       "            );\n",
       "            marker_ae0571865de5f4c2ea03f2e5bba847f9.setIcon(icon_90b65b5417edb1ef601d208c096bbc93);\n",
       "        \n",
       "    \n",
       "        var popup_bb58564d797f630c74460613c716b2ac = L.popup({&quot;maxWidth&quot;: &quot;100%&quot;});\n",
       "\n",
       "        \n",
       "            \n",
       "                var html_a92437625825b27c14553ef3458499d0 = $(`&lt;div id=&quot;html_a92437625825b27c14553ef3458499d0&quot; style=&quot;width: 100.0%; height: 100.0%;&quot;&gt;Accession: 2009-0048&lt;/div&gt;`)[0];\n",
       "                popup_bb58564d797f630c74460613c716b2ac.setContent(html_a92437625825b27c14553ef3458499d0);\n",
       "            \n",
       "        \n",
       "\n",
       "        marker_ae0571865de5f4c2ea03f2e5bba847f9.bindPopup(popup_bb58564d797f630c74460613c716b2ac)\n",
       "        ;\n",
       "\n",
       "        \n",
       "    \n",
       "    \n",
       "            var marker_823181a7881cbc893a04cc0b75463783 = L.marker(\n",
       "                [45.418636, -75.69919],\n",
       "                {}\n",
       "            ).addTo(map_6dd22a8f8e17a667a2ea1e0aafe3efc4);\n",
       "        \n",
       "    \n",
       "            var icon_0a51887d7adec3d3c245fcd9910985c7 = L.AwesomeMarkers.icon(\n",
       "                {&quot;extraClasses&quot;: &quot;fa-rotate-0&quot;, &quot;icon&quot;: &quot;info-sign&quot;, &quot;iconColor&quot;: &quot;white&quot;, &quot;markerColor&quot;: &quot;red&quot;, &quot;prefix&quot;: &quot;glyphicon&quot;}\n",
       "            );\n",
       "            marker_823181a7881cbc893a04cc0b75463783.setIcon(icon_0a51887d7adec3d3c245fcd9910985c7);\n",
       "        \n",
       "    \n",
       "        var popup_bbb43ad23e53372a8fba493700692d26 = L.popup({&quot;maxWidth&quot;: &quot;100%&quot;});\n",
       "\n",
       "        \n",
       "            \n",
       "                var html_8c87a7bc84055cbf54335839ccb91e33 = $(`&lt;div id=&quot;html_8c87a7bc84055cbf54335839ccb91e33&quot; style=&quot;width: 100.0%; height: 100.0%;&quot;&gt;Accession: 2009-0049&lt;/div&gt;`)[0];\n",
       "                popup_bbb43ad23e53372a8fba493700692d26.setContent(html_8c87a7bc84055cbf54335839ccb91e33);\n",
       "            \n",
       "        \n",
       "\n",
       "        marker_823181a7881cbc893a04cc0b75463783.bindPopup(popup_bbb43ad23e53372a8fba493700692d26)\n",
       "        ;\n",
       "\n",
       "        \n",
       "    \n",
       "    \n",
       "            var marker_6cf44cfde2d94e2b180274274a4b40a7 = L.marker(\n",
       "                [45.418636, -75.69919],\n",
       "                {}\n",
       "            ).addTo(map_6dd22a8f8e17a667a2ea1e0aafe3efc4);\n",
       "        \n",
       "    \n",
       "            var icon_16b08f030000d94818ad88ff0cec1b5d = L.AwesomeMarkers.icon(\n",
       "                {&quot;extraClasses&quot;: &quot;fa-rotate-0&quot;, &quot;icon&quot;: &quot;info-sign&quot;, &quot;iconColor&quot;: &quot;white&quot;, &quot;markerColor&quot;: &quot;red&quot;, &quot;prefix&quot;: &quot;glyphicon&quot;}\n",
       "            );\n",
       "            marker_6cf44cfde2d94e2b180274274a4b40a7.setIcon(icon_16b08f030000d94818ad88ff0cec1b5d);\n",
       "        \n",
       "    \n",
       "        var popup_845a5a14db020400a5cd7d0ba4b1d00e = L.popup({&quot;maxWidth&quot;: &quot;100%&quot;});\n",
       "\n",
       "        \n",
       "            \n",
       "                var html_a9a12ed1613547e4b87a31df6fad1862 = $(`&lt;div id=&quot;html_a9a12ed1613547e4b87a31df6fad1862&quot; style=&quot;width: 100.0%; height: 100.0%;&quot;&gt;Accession: 2009-0050&lt;/div&gt;`)[0];\n",
       "                popup_845a5a14db020400a5cd7d0ba4b1d00e.setContent(html_a9a12ed1613547e4b87a31df6fad1862);\n",
       "            \n",
       "        \n",
       "\n",
       "        marker_6cf44cfde2d94e2b180274274a4b40a7.bindPopup(popup_845a5a14db020400a5cd7d0ba4b1d00e)\n",
       "        ;\n",
       "\n",
       "        \n",
       "    \n",
       "    \n",
       "            var marker_3a63d3a65c53d946e3610762a377c30e = L.marker(\n",
       "                [45.418636, -75.69919],\n",
       "                {}\n",
       "            ).addTo(map_6dd22a8f8e17a667a2ea1e0aafe3efc4);\n",
       "        \n",
       "    \n",
       "            var icon_a12a51b21c127d6a8cba8cb30369c6b4 = L.AwesomeMarkers.icon(\n",
       "                {&quot;extraClasses&quot;: &quot;fa-rotate-0&quot;, &quot;icon&quot;: &quot;info-sign&quot;, &quot;iconColor&quot;: &quot;white&quot;, &quot;markerColor&quot;: &quot;red&quot;, &quot;prefix&quot;: &quot;glyphicon&quot;}\n",
       "            );\n",
       "            marker_3a63d3a65c53d946e3610762a377c30e.setIcon(icon_a12a51b21c127d6a8cba8cb30369c6b4);\n",
       "        \n",
       "    \n",
       "        var popup_744852b0e6f10f502a7c879621a3125a = L.popup({&quot;maxWidth&quot;: &quot;100%&quot;});\n",
       "\n",
       "        \n",
       "            \n",
       "                var html_f80deb4e4abd9a9094f9552a7fa3ca20 = $(`&lt;div id=&quot;html_f80deb4e4abd9a9094f9552a7fa3ca20&quot; style=&quot;width: 100.0%; height: 100.0%;&quot;&gt;Accession: 2009-0051&lt;/div&gt;`)[0];\n",
       "                popup_744852b0e6f10f502a7c879621a3125a.setContent(html_f80deb4e4abd9a9094f9552a7fa3ca20);\n",
       "            \n",
       "        \n",
       "\n",
       "        marker_3a63d3a65c53d946e3610762a377c30e.bindPopup(popup_744852b0e6f10f502a7c879621a3125a)\n",
       "        ;\n",
       "\n",
       "        \n",
       "    \n",
       "    \n",
       "            var marker_3509818935b915083adad08624c067b7 = L.marker(\n",
       "                [45.418636, -75.69919],\n",
       "                {}\n",
       "            ).addTo(map_6dd22a8f8e17a667a2ea1e0aafe3efc4);\n",
       "        \n",
       "    \n",
       "            var icon_a8db7e454f1143e5f70eda2335679740 = L.AwesomeMarkers.icon(\n",
       "                {&quot;extraClasses&quot;: &quot;fa-rotate-0&quot;, &quot;icon&quot;: &quot;info-sign&quot;, &quot;iconColor&quot;: &quot;white&quot;, &quot;markerColor&quot;: &quot;red&quot;, &quot;prefix&quot;: &quot;glyphicon&quot;}\n",
       "            );\n",
       "            marker_3509818935b915083adad08624c067b7.setIcon(icon_a8db7e454f1143e5f70eda2335679740);\n",
       "        \n",
       "    \n",
       "        var popup_d17750b9bf5d81b55f17c346cdcb07a2 = L.popup({&quot;maxWidth&quot;: &quot;100%&quot;});\n",
       "\n",
       "        \n",
       "            \n",
       "                var html_75d36398db47ff249826f8f30fbebe17 = $(`&lt;div id=&quot;html_75d36398db47ff249826f8f30fbebe17&quot; style=&quot;width: 100.0%; height: 100.0%;&quot;&gt;Accession: 2009-0052&lt;/div&gt;`)[0];\n",
       "                popup_d17750b9bf5d81b55f17c346cdcb07a2.setContent(html_75d36398db47ff249826f8f30fbebe17);\n",
       "            \n",
       "        \n",
       "\n",
       "        marker_3509818935b915083adad08624c067b7.bindPopup(popup_d17750b9bf5d81b55f17c346cdcb07a2)\n",
       "        ;\n",
       "\n",
       "        \n",
       "    \n",
       "    \n",
       "            var marker_675663e5db2d9c6f30ff0d7518e5cb31 = L.marker(\n",
       "                [45.403128, -75.711018],\n",
       "                {}\n",
       "            ).addTo(map_6dd22a8f8e17a667a2ea1e0aafe3efc4);\n",
       "        \n",
       "    \n",
       "            var icon_0561554efc2d37669203a6a1654cf6e7 = L.AwesomeMarkers.icon(\n",
       "                {&quot;extraClasses&quot;: &quot;fa-rotate-0&quot;, &quot;icon&quot;: &quot;info-sign&quot;, &quot;iconColor&quot;: &quot;white&quot;, &quot;markerColor&quot;: &quot;red&quot;, &quot;prefix&quot;: &quot;glyphicon&quot;}\n",
       "            );\n",
       "            marker_675663e5db2d9c6f30ff0d7518e5cb31.setIcon(icon_0561554efc2d37669203a6a1654cf6e7);\n",
       "        \n",
       "    \n",
       "        var popup_7bc0c65adb1751741887b8c6989291c2 = L.popup({&quot;maxWidth&quot;: &quot;100%&quot;});\n",
       "\n",
       "        \n",
       "            \n",
       "                var html_60bcebebc7828d89c7294ec2ee63e916 = $(`&lt;div id=&quot;html_60bcebebc7828d89c7294ec2ee63e916&quot; style=&quot;width: 100.0%; height: 100.0%;&quot;&gt;Accession: 2010-0010&lt;/div&gt;`)[0];\n",
       "                popup_7bc0c65adb1751741887b8c6989291c2.setContent(html_60bcebebc7828d89c7294ec2ee63e916);\n",
       "            \n",
       "        \n",
       "\n",
       "        marker_675663e5db2d9c6f30ff0d7518e5cb31.bindPopup(popup_7bc0c65adb1751741887b8c6989291c2)\n",
       "        ;\n",
       "\n",
       "        \n",
       "    \n",
       "    \n",
       "            var marker_7038dda8d7f63e627e5a96877e264f12 = L.marker(\n",
       "                [45.42012, -75.678529],\n",
       "                {}\n",
       "            ).addTo(map_6dd22a8f8e17a667a2ea1e0aafe3efc4);\n",
       "        \n",
       "    \n",
       "            var icon_4eb6735bd283becfd8fc9c7994067aea = L.AwesomeMarkers.icon(\n",
       "                {&quot;extraClasses&quot;: &quot;fa-rotate-0&quot;, &quot;icon&quot;: &quot;info-sign&quot;, &quot;iconColor&quot;: &quot;white&quot;, &quot;markerColor&quot;: &quot;red&quot;, &quot;prefix&quot;: &quot;glyphicon&quot;}\n",
       "            );\n",
       "            marker_7038dda8d7f63e627e5a96877e264f12.setIcon(icon_4eb6735bd283becfd8fc9c7994067aea);\n",
       "        \n",
       "    \n",
       "        var popup_29b1985a442e0aa68fe0b308208cea3d = L.popup({&quot;maxWidth&quot;: &quot;100%&quot;});\n",
       "\n",
       "        \n",
       "            \n",
       "                var html_dcc316ce39959792b588fee9d4cb0cb5 = $(`&lt;div id=&quot;html_dcc316ce39959792b588fee9d4cb0cb5&quot; style=&quot;width: 100.0%; height: 100.0%;&quot;&gt;Accession: 2011-0003&lt;/div&gt;`)[0];\n",
       "                popup_29b1985a442e0aa68fe0b308208cea3d.setContent(html_dcc316ce39959792b588fee9d4cb0cb5);\n",
       "            \n",
       "        \n",
       "\n",
       "        marker_7038dda8d7f63e627e5a96877e264f12.bindPopup(popup_29b1985a442e0aa68fe0b308208cea3d)\n",
       "        ;\n",
       "\n",
       "        \n",
       "    \n",
       "    \n",
       "            var marker_911b9ce7354e3298be05f73dd309d484 = L.marker(\n",
       "                [45.340672, -75.761316],\n",
       "                {}\n",
       "            ).addTo(map_6dd22a8f8e17a667a2ea1e0aafe3efc4);\n",
       "        \n",
       "    \n",
       "            var icon_26ed2c8e19029c3921500af551e7e31d = L.AwesomeMarkers.icon(\n",
       "                {&quot;extraClasses&quot;: &quot;fa-rotate-0&quot;, &quot;icon&quot;: &quot;info-sign&quot;, &quot;iconColor&quot;: &quot;white&quot;, &quot;markerColor&quot;: &quot;red&quot;, &quot;prefix&quot;: &quot;glyphicon&quot;}\n",
       "            );\n",
       "            marker_911b9ce7354e3298be05f73dd309d484.setIcon(icon_26ed2c8e19029c3921500af551e7e31d);\n",
       "        \n",
       "    \n",
       "        var popup_8812ed2a5b72e203ec37f2024b42f1b1 = L.popup({&quot;maxWidth&quot;: &quot;100%&quot;});\n",
       "\n",
       "        \n",
       "            \n",
       "                var html_150704a35d5b2137c36727fce00cda6c = $(`&lt;div id=&quot;html_150704a35d5b2137c36727fce00cda6c&quot; style=&quot;width: 100.0%; height: 100.0%;&quot;&gt;Accession: 2011-0005&lt;/div&gt;`)[0];\n",
       "                popup_8812ed2a5b72e203ec37f2024b42f1b1.setContent(html_150704a35d5b2137c36727fce00cda6c);\n",
       "            \n",
       "        \n",
       "\n",
       "        marker_911b9ce7354e3298be05f73dd309d484.bindPopup(popup_8812ed2a5b72e203ec37f2024b42f1b1)\n",
       "        ;\n",
       "\n",
       "        \n",
       "    \n",
       "    \n",
       "            var marker_376a46e8eb9341ec47c23b947ff0f752 = L.marker(\n",
       "                [45.253397, -75.736022],\n",
       "                {}\n",
       "            ).addTo(map_6dd22a8f8e17a667a2ea1e0aafe3efc4);\n",
       "        \n",
       "    \n",
       "            var icon_f187cbf0c6ea12f1d9421b8534620054 = L.AwesomeMarkers.icon(\n",
       "                {&quot;extraClasses&quot;: &quot;fa-rotate-0&quot;, &quot;icon&quot;: &quot;info-sign&quot;, &quot;iconColor&quot;: &quot;white&quot;, &quot;markerColor&quot;: &quot;red&quot;, &quot;prefix&quot;: &quot;glyphicon&quot;}\n",
       "            );\n",
       "            marker_376a46e8eb9341ec47c23b947ff0f752.setIcon(icon_f187cbf0c6ea12f1d9421b8534620054);\n",
       "        \n",
       "    \n",
       "        var popup_d327435e761839e193e4fb747b5dd1cc = L.popup({&quot;maxWidth&quot;: &quot;100%&quot;});\n",
       "\n",
       "        \n",
       "            \n",
       "                var html_9e4b515e751fcee7ecae71b5baa63560 = $(`&lt;div id=&quot;html_9e4b515e751fcee7ecae71b5baa63560&quot; style=&quot;width: 100.0%; height: 100.0%;&quot;&gt;Accession: 2013-0068&lt;/div&gt;`)[0];\n",
       "                popup_d327435e761839e193e4fb747b5dd1cc.setContent(html_9e4b515e751fcee7ecae71b5baa63560);\n",
       "            \n",
       "        \n",
       "\n",
       "        marker_376a46e8eb9341ec47c23b947ff0f752.bindPopup(popup_d327435e761839e193e4fb747b5dd1cc)\n",
       "        ;\n",
       "\n",
       "        \n",
       "    \n",
       "    \n",
       "            var marker_c25a37244bdd3d10d892f8fa247cbd26 = L.marker(\n",
       "                [45.340496, -75.930498],\n",
       "                {}\n",
       "            ).addTo(map_6dd22a8f8e17a667a2ea1e0aafe3efc4);\n",
       "        \n",
       "    \n",
       "            var icon_0430d778c0f73e982cd3f74ece9d5e64 = L.AwesomeMarkers.icon(\n",
       "                {&quot;extraClasses&quot;: &quot;fa-rotate-0&quot;, &quot;icon&quot;: &quot;info-sign&quot;, &quot;iconColor&quot;: &quot;white&quot;, &quot;markerColor&quot;: &quot;red&quot;, &quot;prefix&quot;: &quot;glyphicon&quot;}\n",
       "            );\n",
       "            marker_c25a37244bdd3d10d892f8fa247cbd26.setIcon(icon_0430d778c0f73e982cd3f74ece9d5e64);\n",
       "        \n",
       "    \n",
       "        var popup_e9ada858c96231c3ce663a4e45f2fdc0 = L.popup({&quot;maxWidth&quot;: &quot;100%&quot;});\n",
       "\n",
       "        \n",
       "            \n",
       "                var html_8948585a381708c1f1f9944b1d5f3ec6 = $(`&lt;div id=&quot;html_8948585a381708c1f1f9944b1d5f3ec6&quot; style=&quot;width: 100.0%; height: 100.0%;&quot;&gt;Accession: 2013-0069&lt;/div&gt;`)[0];\n",
       "                popup_e9ada858c96231c3ce663a4e45f2fdc0.setContent(html_8948585a381708c1f1f9944b1d5f3ec6);\n",
       "            \n",
       "        \n",
       "\n",
       "        marker_c25a37244bdd3d10d892f8fa247cbd26.bindPopup(popup_e9ada858c96231c3ce663a4e45f2fdc0)\n",
       "        ;\n",
       "\n",
       "        \n",
       "    \n",
       "    \n",
       "            var marker_c604543d35785cde72cbb0ea6cd46c14 = L.marker(\n",
       "                [45.340496, -75.930498],\n",
       "                {}\n",
       "            ).addTo(map_6dd22a8f8e17a667a2ea1e0aafe3efc4);\n",
       "        \n",
       "    \n",
       "            var icon_00a28b8cf9ef4a227713312e0552c6ea = L.AwesomeMarkers.icon(\n",
       "                {&quot;extraClasses&quot;: &quot;fa-rotate-0&quot;, &quot;icon&quot;: &quot;info-sign&quot;, &quot;iconColor&quot;: &quot;white&quot;, &quot;markerColor&quot;: &quot;red&quot;, &quot;prefix&quot;: &quot;glyphicon&quot;}\n",
       "            );\n",
       "            marker_c604543d35785cde72cbb0ea6cd46c14.setIcon(icon_00a28b8cf9ef4a227713312e0552c6ea);\n",
       "        \n",
       "    \n",
       "        var popup_0ea5c0e0e8e9673f52bcb012c41b0686 = L.popup({&quot;maxWidth&quot;: &quot;100%&quot;});\n",
       "\n",
       "        \n",
       "            \n",
       "                var html_53c91e8467602cf8453bd09ba2e6d9fa = $(`&lt;div id=&quot;html_53c91e8467602cf8453bd09ba2e6d9fa&quot; style=&quot;width: 100.0%; height: 100.0%;&quot;&gt;Accession: 2013-0073&lt;/div&gt;`)[0];\n",
       "                popup_0ea5c0e0e8e9673f52bcb012c41b0686.setContent(html_53c91e8467602cf8453bd09ba2e6d9fa);\n",
       "            \n",
       "        \n",
       "\n",
       "        marker_c604543d35785cde72cbb0ea6cd46c14.bindPopup(popup_0ea5c0e0e8e9673f52bcb012c41b0686)\n",
       "        ;\n",
       "\n",
       "        \n",
       "    \n",
       "    \n",
       "            var marker_0242e7f8be1e76bcc32bf0c411d4e3d7 = L.marker(\n",
       "                [45.385361, -75.695994],\n",
       "                {}\n",
       "            ).addTo(map_6dd22a8f8e17a667a2ea1e0aafe3efc4);\n",
       "        \n",
       "    \n",
       "            var icon_e58d9734e82636e41ce12e3fb351b3b7 = L.AwesomeMarkers.icon(\n",
       "                {&quot;extraClasses&quot;: &quot;fa-rotate-0&quot;, &quot;icon&quot;: &quot;info-sign&quot;, &quot;iconColor&quot;: &quot;white&quot;, &quot;markerColor&quot;: &quot;red&quot;, &quot;prefix&quot;: &quot;glyphicon&quot;}\n",
       "            );\n",
       "            marker_0242e7f8be1e76bcc32bf0c411d4e3d7.setIcon(icon_e58d9734e82636e41ce12e3fb351b3b7);\n",
       "        \n",
       "    \n",
       "        var popup_825206be5ffcd41e34a0230d2462d2c4 = L.popup({&quot;maxWidth&quot;: &quot;100%&quot;});\n",
       "\n",
       "        \n",
       "            \n",
       "                var html_96ff9dfea58532d4cf5bafed14653f00 = $(`&lt;div id=&quot;html_96ff9dfea58532d4cf5bafed14653f00&quot; style=&quot;width: 100.0%; height: 100.0%;&quot;&gt;Accession: 2015-0184&lt;/div&gt;`)[0];\n",
       "                popup_825206be5ffcd41e34a0230d2462d2c4.setContent(html_96ff9dfea58532d4cf5bafed14653f00);\n",
       "            \n",
       "        \n",
       "\n",
       "        marker_0242e7f8be1e76bcc32bf0c411d4e3d7.bindPopup(popup_825206be5ffcd41e34a0230d2462d2c4)\n",
       "        ;\n",
       "\n",
       "        \n",
       "    \n",
       "    \n",
       "            var marker_8cc1865b1f5bf56e99c62f6d1883a82d = L.marker(\n",
       "                [45.426399, -75.670037],\n",
       "                {}\n",
       "            ).addTo(map_6dd22a8f8e17a667a2ea1e0aafe3efc4);\n",
       "        \n",
       "    \n",
       "            var icon_237ebb16861b7f93f5ed13bbe01724a2 = L.AwesomeMarkers.icon(\n",
       "                {&quot;extraClasses&quot;: &quot;fa-rotate-0&quot;, &quot;icon&quot;: &quot;info-sign&quot;, &quot;iconColor&quot;: &quot;white&quot;, &quot;markerColor&quot;: &quot;red&quot;, &quot;prefix&quot;: &quot;glyphicon&quot;}\n",
       "            );\n",
       "            marker_8cc1865b1f5bf56e99c62f6d1883a82d.setIcon(icon_237ebb16861b7f93f5ed13bbe01724a2);\n",
       "        \n",
       "    \n",
       "        var popup_c9dde5e6bc70ce857dcbbc6c029dc045 = L.popup({&quot;maxWidth&quot;: &quot;100%&quot;});\n",
       "\n",
       "        \n",
       "            \n",
       "                var html_bdc0269517c2da17b8fef8ed89822251 = $(`&lt;div id=&quot;html_bdc0269517c2da17b8fef8ed89822251&quot; style=&quot;width: 100.0%; height: 100.0%;&quot;&gt;Accession: 2016-0003&lt;/div&gt;`)[0];\n",
       "                popup_c9dde5e6bc70ce857dcbbc6c029dc045.setContent(html_bdc0269517c2da17b8fef8ed89822251);\n",
       "            \n",
       "        \n",
       "\n",
       "        marker_8cc1865b1f5bf56e99c62f6d1883a82d.bindPopup(popup_c9dde5e6bc70ce857dcbbc6c029dc045)\n",
       "        ;\n",
       "\n",
       "        \n",
       "    \n",
       "    \n",
       "            var marker_8e85cd01f1dfc8e0d2d9590d4c88f8c9 = L.marker(\n",
       "                [45.433652, -75.695625],\n",
       "                {}\n",
       "            ).addTo(map_6dd22a8f8e17a667a2ea1e0aafe3efc4);\n",
       "        \n",
       "    \n",
       "            var icon_02e11099467a5c8368106b48e7398ec5 = L.AwesomeMarkers.icon(\n",
       "                {&quot;extraClasses&quot;: &quot;fa-rotate-0&quot;, &quot;icon&quot;: &quot;info-sign&quot;, &quot;iconColor&quot;: &quot;white&quot;, &quot;markerColor&quot;: &quot;red&quot;, &quot;prefix&quot;: &quot;glyphicon&quot;}\n",
       "            );\n",
       "            marker_8e85cd01f1dfc8e0d2d9590d4c88f8c9.setIcon(icon_02e11099467a5c8368106b48e7398ec5);\n",
       "        \n",
       "    \n",
       "        var popup_d69d751c373da48c7e0b7a99a8dbba61 = L.popup({&quot;maxWidth&quot;: &quot;100%&quot;});\n",
       "\n",
       "        \n",
       "            \n",
       "                var html_34b0cae049e636e0d71bf3e6d7ff0246 = $(`&lt;div id=&quot;html_34b0cae049e636e0d71bf3e6d7ff0246&quot; style=&quot;width: 100.0%; height: 100.0%;&quot;&gt;Accession: 2016-0004&lt;/div&gt;`)[0];\n",
       "                popup_d69d751c373da48c7e0b7a99a8dbba61.setContent(html_34b0cae049e636e0d71bf3e6d7ff0246);\n",
       "            \n",
       "        \n",
       "\n",
       "        marker_8e85cd01f1dfc8e0d2d9590d4c88f8c9.bindPopup(popup_d69d751c373da48c7e0b7a99a8dbba61)\n",
       "        ;\n",
       "\n",
       "        \n",
       "    \n",
       "    \n",
       "            var marker_c9136721430ac1634982b6c47e28bf30 = L.marker(\n",
       "                [45.415331, -75.686551],\n",
       "                {}\n",
       "            ).addTo(map_6dd22a8f8e17a667a2ea1e0aafe3efc4);\n",
       "        \n",
       "    \n",
       "            var icon_3ccb12e38efb6fb58205e6dd9814c7b1 = L.AwesomeMarkers.icon(\n",
       "                {&quot;extraClasses&quot;: &quot;fa-rotate-0&quot;, &quot;icon&quot;: &quot;info-sign&quot;, &quot;iconColor&quot;: &quot;white&quot;, &quot;markerColor&quot;: &quot;red&quot;, &quot;prefix&quot;: &quot;glyphicon&quot;}\n",
       "            );\n",
       "            marker_c9136721430ac1634982b6c47e28bf30.setIcon(icon_3ccb12e38efb6fb58205e6dd9814c7b1);\n",
       "        \n",
       "    \n",
       "        var popup_3c582bd3cee5df93798eb97b60209bd8 = L.popup({&quot;maxWidth&quot;: &quot;100%&quot;});\n",
       "\n",
       "        \n",
       "            \n",
       "                var html_422c349dc1b228a67e299e0997a7355c = $(`&lt;div id=&quot;html_422c349dc1b228a67e299e0997a7355c&quot; style=&quot;width: 100.0%; height: 100.0%;&quot;&gt;Accession: 2016-0033&lt;/div&gt;`)[0];\n",
       "                popup_3c582bd3cee5df93798eb97b60209bd8.setContent(html_422c349dc1b228a67e299e0997a7355c);\n",
       "            \n",
       "        \n",
       "\n",
       "        marker_c9136721430ac1634982b6c47e28bf30.bindPopup(popup_3c582bd3cee5df93798eb97b60209bd8)\n",
       "        ;\n",
       "\n",
       "        \n",
       "    \n",
       "    \n",
       "            var marker_772bb6eb9d578ebcde065262a1c14e00 = L.marker(\n",
       "                [45.265274, -75.551898],\n",
       "                {}\n",
       "            ).addTo(map_6dd22a8f8e17a667a2ea1e0aafe3efc4);\n",
       "        \n",
       "    \n",
       "            var icon_1e5fee828a7f22a1d9560593d8e066df = L.AwesomeMarkers.icon(\n",
       "                {&quot;extraClasses&quot;: &quot;fa-rotate-0&quot;, &quot;icon&quot;: &quot;info-sign&quot;, &quot;iconColor&quot;: &quot;white&quot;, &quot;markerColor&quot;: &quot;red&quot;, &quot;prefix&quot;: &quot;glyphicon&quot;}\n",
       "            );\n",
       "            marker_772bb6eb9d578ebcde065262a1c14e00.setIcon(icon_1e5fee828a7f22a1d9560593d8e066df);\n",
       "        \n",
       "    \n",
       "        var popup_9ae49fb8b0c504e472e1ffe1a6139c1d = L.popup({&quot;maxWidth&quot;: &quot;100%&quot;});\n",
       "\n",
       "        \n",
       "            \n",
       "                var html_23d42807ed5bc545a74d8df68efe85ac = $(`&lt;div id=&quot;html_23d42807ed5bc545a74d8df68efe85ac&quot; style=&quot;width: 100.0%; height: 100.0%;&quot;&gt;Accession: 2016-0034&lt;/div&gt;`)[0];\n",
       "                popup_9ae49fb8b0c504e472e1ffe1a6139c1d.setContent(html_23d42807ed5bc545a74d8df68efe85ac);\n",
       "            \n",
       "        \n",
       "\n",
       "        marker_772bb6eb9d578ebcde065262a1c14e00.bindPopup(popup_9ae49fb8b0c504e472e1ffe1a6139c1d)\n",
       "        ;\n",
       "\n",
       "        \n",
       "    \n",
       "    \n",
       "            var marker_ec805762d463548301c3ebaaf5120bc5 = L.marker(\n",
       "                [45.45435, -75.463712],\n",
       "                {}\n",
       "            ).addTo(map_6dd22a8f8e17a667a2ea1e0aafe3efc4);\n",
       "        \n",
       "    \n",
       "            var icon_539ac625f1fb3125852123381783339b = L.AwesomeMarkers.icon(\n",
       "                {&quot;extraClasses&quot;: &quot;fa-rotate-0&quot;, &quot;icon&quot;: &quot;info-sign&quot;, &quot;iconColor&quot;: &quot;white&quot;, &quot;markerColor&quot;: &quot;red&quot;, &quot;prefix&quot;: &quot;glyphicon&quot;}\n",
       "            );\n",
       "            marker_ec805762d463548301c3ebaaf5120bc5.setIcon(icon_539ac625f1fb3125852123381783339b);\n",
       "        \n",
       "    \n",
       "        var popup_b4c1c4fe44b3c5f219182b447ebf18fd = L.popup({&quot;maxWidth&quot;: &quot;100%&quot;});\n",
       "\n",
       "        \n",
       "            \n",
       "                var html_871d483808248cca0a1a02d9aa47c866 = $(`&lt;div id=&quot;html_871d483808248cca0a1a02d9aa47c866&quot; style=&quot;width: 100.0%; height: 100.0%;&quot;&gt;Accession: 2017-0065&lt;/div&gt;`)[0];\n",
       "                popup_b4c1c4fe44b3c5f219182b447ebf18fd.setContent(html_871d483808248cca0a1a02d9aa47c866);\n",
       "            \n",
       "        \n",
       "\n",
       "        marker_ec805762d463548301c3ebaaf5120bc5.bindPopup(popup_b4c1c4fe44b3c5f219182b447ebf18fd)\n",
       "        ;\n",
       "\n",
       "        \n",
       "    \n",
       "    \n",
       "            var marker_eeb0ed96ed5e052dc2891b51047e1b0e = L.marker(\n",
       "                [45.390901, -75.630215],\n",
       "                {}\n",
       "            ).addTo(map_6dd22a8f8e17a667a2ea1e0aafe3efc4);\n",
       "        \n",
       "    \n",
       "            var icon_3fa10b6a2e7be4671992a769a261978b = L.AwesomeMarkers.icon(\n",
       "                {&quot;extraClasses&quot;: &quot;fa-rotate-0&quot;, &quot;icon&quot;: &quot;info-sign&quot;, &quot;iconColor&quot;: &quot;white&quot;, &quot;markerColor&quot;: &quot;red&quot;, &quot;prefix&quot;: &quot;glyphicon&quot;}\n",
       "            );\n",
       "            marker_eeb0ed96ed5e052dc2891b51047e1b0e.setIcon(icon_3fa10b6a2e7be4671992a769a261978b);\n",
       "        \n",
       "    \n",
       "        var popup_09f12e933116261d11408016fefc426e = L.popup({&quot;maxWidth&quot;: &quot;100%&quot;});\n",
       "\n",
       "        \n",
       "            \n",
       "                var html_e986d11510f36583f93cd2d3f754450e = $(`&lt;div id=&quot;html_e986d11510f36583f93cd2d3f754450e&quot; style=&quot;width: 100.0%; height: 100.0%;&quot;&gt;Accession: 2018-0001&lt;/div&gt;`)[0];\n",
       "                popup_09f12e933116261d11408016fefc426e.setContent(html_e986d11510f36583f93cd2d3f754450e);\n",
       "            \n",
       "        \n",
       "\n",
       "        marker_eeb0ed96ed5e052dc2891b51047e1b0e.bindPopup(popup_09f12e933116261d11408016fefc426e)\n",
       "        ;\n",
       "\n",
       "        \n",
       "    \n",
       "&lt;/script&gt;\n",
       "&lt;/html&gt;\" style=\"position:absolute;width:100%;height:100%;left:0;top:0;border:none !important;\" allowfullscreen webkitallowfullscreen mozallowfullscreen></iframe></div></div>"
      ],
      "text/plain": [
       "<folium.folium.Map at 0x164974700>"
      ]
     },
     "execution_count": 628,
     "metadata": {},
     "output_type": "execute_result"
    }
   ],
   "source": [
    "\n",
    "\n",
    "public_art_map = folium.Map(location=[45.4,-75.7], tiles=\"OpenStreetMap\", zoom_start=12)\n",
    "public_art_coords = [[point.xy[1][0], point.xy[0][0]] for point in pa_df.geometry]\n",
    "\n",
    "# calculate the median lat and long \n",
    "medianlat = pa_df['LAT'].median()\n",
    "medianlong = pa_df['LONG'].median()\n",
    "\n",
    "# Function to add a colored quadrant area\n",
    "def add_colored_quadrant(map_object, medianlat, medianlon):\n",
    "    \n",
    "    quadrants = {\n",
    "        'NE': [[medianlat, medianlong], [medianlat, 100], [100, 100], [100, medianlong]],\n",
    "        'NW': [[medianlat, medianlong], [medianlat, -100], [100, -100], [100, medianlong]],\n",
    "        'SW': [[-100, -100], [-100, medianlong], [medianlat, medianlong], [medianlat, -100]],\n",
    "        'SE': [[-100, 100], [-100, medianlong], [medianlat, medianlong], [medianlat, 100]],\n",
    "    }\n",
    "    \n",
    "    # Colors for each quadrant\n",
    "    colors = {\n",
    "        'NE': 'green',\n",
    "        'NW': 'orange',\n",
    "        'SW': 'red',\n",
    "        'SE': 'blue'\n",
    "    }\n",
    "\n",
    "    # Add each quadrant as a polygon\n",
    "    for quadrant, coordinates in quadrants.items():\n",
    "        folium.Polygon(\n",
    "            locations=coordinates,\n",
    "            color=colors[quadrant],\n",
    "            fill=True,\n",
    "            fill_opacity=0.4,\n",
    "            weight=0\n",
    "        ).add_to(map_object)\n",
    "\n",
    "# Add colored quadrants to the map\n",
    "add_colored_quadrant(public_art_map, medianlat, medianlong)\n",
    "\n",
    "# help with coloring quadrants: https://chatgpt.com/share/670de44a-72e4-8002-924f-0d6505fb5d7e\n",
    "\n",
    "\n",
    "# Loop through coordinates to add markers\n",
    "for i, coordinates in enumerate(public_art_coords):\n",
    "    material = pa_df['MATERIAL'][i]\n",
    "    # given that the value of materials contains stainless and steel\n",
    "    if \"stainless\" in material.lower() and \"steel\" in material.lower():\n",
    "        # Add the marker with the specified color\n",
    "        marker = folium.Marker(\n",
    "            location=coordinates,\n",
    "            popup=f\"Accession: {pa_df.ACCESSION[i]}\",\n",
    "            icon=folium.Icon(color=\"red\")  # Color for stainless steel\n",
    "        )\n",
    "        public_art_map.add_child(marker)\n",
    "\n",
    "# Display the map\n",
    "public_art_map\n",
    "\n",
    "\n"
   ]
  },
  {
   "cell_type": "markdown",
   "id": "d3becd51",
   "metadata": {},
   "source": [
    "## Part D (4 points)\n",
    "\n",
    "In the Markdown cell below, answer the following questions: \n",
    "\n",
    "- Talk about one task you completed in this assignment which you had never done before. (If no task exists, focus on what you were least sure about).\n",
    "- Was it comfortable or uncomfortable to figure out how to complete this task? Talk about why it was or wasn't comfortable. \n",
    "- What can you do to make similar kinds of tasks more comfortable in the future? \n",
    "- Provide a specific, measurable way to work towards improving your comfort level with unknown tasks in the future.\n",
    " "
   ]
  },
  {
   "cell_type": "markdown",
   "id": "c065e89d",
   "metadata": {},
   "source": [
    "**Answer**\n",
    "One tasks i have not done before is playing with the maps more. I havent seen what other things it can do, and although i had to play around with it using various sites and chat gpt, it was interesting to see what functions it had. It was uncofortable at first, because in all honestly playing with long and lat values have always been daunting to me, and using the folium function. In order to get more confirtable, i need to play around with it way more. One thing that ive struggles iwth this class about is that theres never enoughtime, i feel like everhthing moves so quickly that i dont have time to just practise, but i will make that a prioirty after i complete this course. Maybe take 1 hour a day to play around with concepts and functions that are scary to me so that i can master them down the line."
   ]
  }
 ],
 "metadata": {
  "kernelspec": {
   "display_name": "Python 3 (ipykernel)",
   "language": "python",
   "name": "python3"
  },
  "language_info": {
   "codemirror_mode": {
    "name": "ipython",
    "version": 3
   },
   "file_extension": ".py",
   "mimetype": "text/x-python",
   "name": "python",
   "nbconvert_exporter": "python",
   "pygments_lexer": "ipython3",
   "version": "3.9.6"
  }
 },
 "nbformat": 4,
 "nbformat_minor": 5
}
