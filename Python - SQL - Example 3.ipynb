{
 "cells": [
  {
   "cell_type": "markdown",
   "metadata": {},
   "source": [
    "# Assignment 1 (due Friday November 8, 10 PM MT)\n",
    "\n",
    "## Instructions - Read this first!\n",
    "\n",
    "This is an individual homework assignment. This means that:\n",
    "* You may discuss the problems in this assignment with other students in this course and your instructor/TA, but YOUR WORK MUST BE YOUR OWN.\n",
    "* Do not show other students code or your own work on this assignment.\n",
    "* You may consult external references, but not actively receive help from individuals not involved in this course. \n",
    "* Cite all references outside of the course you used, including conversations with other students which were helpful. (This helps us give credit where it is due!). All references must use a commonly accepted reference format, for example, APA or IEEE (or another citation style of your choice).\n",
    "\n",
    "## Submission instructions\n",
    "\n",
    "Your submission will be graded manually. To ensure that everything goes smoothly, please follow these instructions to prepare your notebook for submission to the D2L Dropbox for Assignment 1:\n",
    "\n",
    "* Please remove any print statments used to test your work (you can comment them out)\n",
    "* Please provide your solutions where asked; please do not alter any other parts of this notebook.\n",
    "* If you need to add cells to test your code please move them to the end of the notebook before submission- or you may included your commented out answers and tests in the cells provided.\n",
    "\n",
    "### Specific instructions for Use of Generative AI (Co-Pilot, ChatGPT, and others)\n",
    "\n",
    "* You may not copy output from any of these tools directly into your assignment. You may use these tools to help you brainstorm or understand what steps you need to solve a provided problem \n",
    "* If you used generative AI  (for example ChatGPT or GitHub Co-Pilot) in this assignment, you must mark where it was used, and which product you used. **You must include a Markdown cell with a full listing of all prompts you used.**\n",
    "\n",
    "If any of these rules seem ambiguous, please check your instructor or with Leanne Wu (lewu@ucalgary.ca) for help interpreting them.\n",
    "\n",
    "## Introduction\n",
    "\n",
    "\n",
    "In this assignment, we will focus on familiarizing you with using Python to work with files and JSON objects. You have been provided with a JSON file, `calgary_healthcare.json`, which features data extracted from the [Open Database of Healthcare Facilities](https://www.statcan.gc.ca/en/lode/databases/odhf), made available by Statistics Canada under the [Open Government License - Canada](https://open.canada.ca/en/open-government-licence-canada). \n"
   ]
  },
  {
   "cell_type": "code",
   "execution_count": 226,
   "metadata": {},
   "outputs": [],
   "source": [
    "# you may not import other libraries besides what is provided below.\n",
    "import csv, json\n",
    "import pandas as pd\n"
   ]
  },
  {
   "cell_type": "markdown",
   "metadata": {},
   "source": [
    "## Part A: Warm-up questions (10 marks)\n",
    "\n",
    "**Question 1 (2 marks)**\n",
    "\n",
    "In the cell below, open the json file that has been provided to you (`calgary_healthcare.json`). Using only Python built-ins, count how many lines this file contains."
   ]
  },
  {
   "cell_type": "code",
   "execution_count": 228,
   "metadata": {},
   "outputs": [
    {
     "name": "stdout",
     "output_type": "stream",
     "text": [
      "38\n"
     ]
    }
   ],
   "source": [
    "with open(\"calgary_healthcare.json\") as my_json:\n",
    "    healthcare = my_json.readlines()\n",
    "    print(len(healthcare))\n",
    "\n",
    "# Answer = There are 38 lines in the code including spaces lines."
   ]
  },
  {
   "cell_type": "markdown",
   "metadata": {},
   "source": [
    "**Question 2 (1 mark)**\n",
    "\n",
    "Use a for loop and the `readlines()` method to read each line of the file and print it out."
   ]
  },
  {
   "cell_type": "code",
   "execution_count": 16,
   "metadata": {},
   "outputs": [
    {
     "name": "stdout",
     "output_type": "stream",
     "text": [
      "{\"Facilities\":[\n",
      "\n",
      "\t{\n",
      "\n",
      "\t\t\"Hospitals\":[\n",
      "\n",
      "\t\t{\n",
      "\n",
      "\t\t\t\"Name\": \"Alberta Children's Hospital\",\n",
      "\n",
      "\t\t\t\"Specialty\":\"Pediatric\",\n",
      "\n",
      "\t\t\t\"Address\":\"28 Oki Dr. NW\"\n",
      "\n",
      "\t\t}, \n",
      "\n",
      "\t\t{\n",
      "\n",
      "\t\t\t\"Name\": \"Peter Lougheed Centre\", \n",
      "\n",
      "\t\t\t\"Address\": \"3500 - 26th ave. n.e. calgary ab t1y 6j4\",\n",
      "\n",
      "\t\t\t\"Nearby\":[{\"Name\": \"Sunridge Medical Gallery - Mental Health\"}, {\"Name\": \"Sunridge Medical Gallery - General Ambulatory\"}]\n",
      "\n",
      "\t\t}, \n",
      "\n",
      "\t\t{\n",
      "\n",
      "\t\t\t\"Name\": \"Foothills Medical Centre\", \n",
      "\n",
      "\t\t\t\"Nearby\":\"Tom Baker Cancer Centre\", \n",
      "\n",
      "\t\t\t\"Address\":\"1403 - 29th st. n.w. calgary ab t2n 2t9\"\n",
      "\n",
      "\t\t},\n",
      "\n",
      "\t\t{\n",
      "\n",
      "\t\t\t\"Name\": \"Rockyview General Hospital\", \n",
      "\n",
      "\t\t\t\"Address\":\"7007 - 14th st. s.w. calgary ab t2v 1p9\"\n",
      "\n",
      "\t\t},\n",
      "\n",
      "\t\t\n",
      "\n",
      "\t\t{\"Name\": \"South Health Campus\"}\n",
      "\n",
      "\t]}, \n",
      "\n",
      "\n",
      "\n",
      "\t{\"Nursing and residential care facilities\": \n",
      "\n",
      "\t{\n",
      "\n",
      "\t\t\"Company\": \"Intercare Corporate Group\", \n",
      "\n",
      "\t\t\"Locations\": [\n",
      "\n",
      "\t\t{\"Name\": \"Chinook Care Centre\"},\n",
      "\n",
      "\t\t{\"Name\": \"Southwood Care Centre\"}, \n",
      "\n",
      "\t\t{\"Name\": \"Brentwood Care Centre\"}\n",
      "\n",
      "\t\t]\n",
      "\n",
      "\t}\n",
      "\n",
      "\t}\n",
      "\n",
      " ]\n",
      "\n",
      "}\n"
     ]
    }
   ],
   "source": [
    "with open(\"calgary_healthcare.json\") as my_json:\n",
    "    healthcare = my_json.readlines()\n",
    "    for i in range(len(healthcare)):\n",
    "        print(healthcare[i])\n",
    "    "
   ]
  },
  {
   "cell_type": "markdown",
   "metadata": {},
   "source": [
    "**Question 3 (2 marks)**\n",
    "\n",
    "Use the json library to read the contents of the file into a JSON object. Output the contents of this object."
   ]
  },
  {
   "cell_type": "code",
   "execution_count": 23,
   "metadata": {},
   "outputs": [
    {
     "data": {
      "text/plain": [
       "{'Facilities': [{'Hospitals': [{'Name': \"Alberta Children's Hospital\",\n",
       "     'Specialty': 'Pediatric',\n",
       "     'Address': '28 Oki Dr. NW'},\n",
       "    {'Name': 'Peter Lougheed Centre',\n",
       "     'Address': '3500 - 26th ave. n.e. calgary ab t1y 6j4',\n",
       "     'Nearby': [{'Name': 'Sunridge Medical Gallery - Mental Health'},\n",
       "      {'Name': 'Sunridge Medical Gallery - General Ambulatory'}]},\n",
       "    {'Name': 'Foothills Medical Centre',\n",
       "     'Nearby': 'Tom Baker Cancer Centre',\n",
       "     'Address': '1403 - 29th st. n.w. calgary ab t2n 2t9'},\n",
       "    {'Name': 'Rockyview General Hospital',\n",
       "     'Address': '7007 - 14th st. s.w. calgary ab t2v 1p9'},\n",
       "    {'Name': 'South Health Campus'}]},\n",
       "  {'Nursing and residential care facilities': {'Company': 'Intercare Corporate Group',\n",
       "    'Locations': [{'Name': 'Chinook Care Centre'},\n",
       "     {'Name': 'Southwood Care Centre'},\n",
       "     {'Name': 'Brentwood Care Centre'}]}}]}"
      ]
     },
     "execution_count": 23,
     "metadata": {},
     "output_type": "execute_result"
    }
   ],
   "source": [
    "with open(\"calgary_healthcare.json\") as my_json:\n",
    "    healthcare = json.load(my_json)\n",
    "healthcare"
   ]
  },
  {
   "cell_type": "markdown",
   "metadata": {},
   "source": [
    "**Question 4 (5 marks)**\n",
    "\n",
    "Using the json library again, read the contents of the file into a JSON object, and then access the data inside this object however most makes sense, using Python built-ins, or by processing your JSON object by running the results through json library methods a second time. List all names of nearby facilitiesb in the provided file."
   ]
  },
  {
   "cell_type": "code",
   "execution_count": 44,
   "metadata": {},
   "outputs": [
    {
     "data": {
      "text/plain": [
       "[[{'Name': 'Sunridge Medical Gallery - Mental Health'},\n",
       "  {'Name': 'Sunridge Medical Gallery - General Ambulatory'}],\n",
       " 'Tom Baker Cancer Centre']"
      ]
     },
     "execution_count": 44,
     "metadata": {},
     "output_type": "execute_result"
    }
   ],
   "source": [
    "# Extract the names of all nearby facilities given any file\n",
    "[hospital['Nearby'] \n",
    "    for facility in healthcare['Facilities'] \n",
    "    if 'Hospitals' in facility\n",
    "    for hospital in facility['Hospitals'] \n",
    "    if 'Nearby' in hospital\n",
    "]"
   ]
  },
  {
   "cell_type": "code",
   "execution_count": 45,
   "metadata": {},
   "outputs": [
    {
     "name": "stdout",
     "output_type": "stream",
     "text": [
      "Sunridge Medical Gallery - General Ambulatory\n",
      "Sunridge Medical Gallery - Mental Health\n",
      "Tom Baker Cancer Centre\n"
     ]
    }
   ],
   "source": [
    "# or can be done via indexing \n",
    "print(healthcare['Facilities'][0]['Hospitals'][1]['Nearby'][1][\"Name\"])\n",
    "print(healthcare['Facilities'][0]['Hospitals'][1]['Nearby'][0][\"Name\"])\n",
    "print(healthcare['Facilities'][0]['Hospitals'][2]['Nearby'])"
   ]
  },
  {
   "cell_type": "markdown",
   "metadata": {},
   "source": [
    "## Part B: Understanding our data (12 marks)"
   ]
  },
  {
   "cell_type": "markdown",
   "metadata": {},
   "source": [
    "**Question 1 (8 marks)**\n",
    "\n",
    "First, let's take a look at the contents of the JSON file you have been provided. Imagine that we will need a CSV for each element of the file which contains data. In the Markdown cell below, identify what attributes each element should have."
   ]
  },
  {
   "cell_type": "markdown",
   "metadata": {},
   "source": [
    "**Facilities**\n",
    "\n",
    "* The Type of Facilities: Which would be either \"Hospital\" or \"Nursing and Residential Care\"\n",
    "* Name: Facility Name.\n",
    "* Address: The location of the facility.\n",
    "* Specialty: The specialty area (If Applicable)\n",
    "\n",
    "**Hospital**\n",
    "* Name: The Name of the Hospital \n",
    "* Specialty: The specialty area (If Applicable)\n",
    "* Address: The location of the facility. \n",
    "* Nearby: A list of nearby facilities (If applicable)\n",
    "\n",
    "**NursingAndResidentialCare**\n",
    "* Location Name = The name of the location of the Nursing And Residential Care\n",
    "* Company Name = The name of the company managing the facility\n",
    "* Address = The location of the facility.\n",
    "\n",
    "**Company**\n",
    "* Location = The location of the facility.\n",
    "* Type of Facilities = What kind of facility it is "
   ]
  },
  {
   "cell_type": "markdown",
   "metadata": {},
   "source": [
    "**Question 2 (1 mark)**\n",
    "\n",
    "Are there any elements that are missing from the list above?"
   ]
  },
  {
   "cell_type": "markdown",
   "metadata": {},
   "source": [
    "**Answer** Yes, Nearby Hospitals should probably be in the list of all the locations and their nearby facilities."
   ]
  },
  {
   "cell_type": "markdown",
   "metadata": {},
   "source": [
    "**Question 3 (3 marks)**\n",
    "\n",
    "Of the four elements identified at the start of Part B, which is the most difficult to read from our file, and why?"
   ]
  },
  {
   "cell_type": "markdown",
   "metadata": {},
   "source": [
    "**Answer**\n",
    "Probably \"Neaby\" hospitals, and the \"location\" of the companys. This is because \"Nearby\" is nested within each \"Hospital\" entry, which itself is nested inside \"Facilities.\" This requires me looking into each level of access, making it diffult to flatten consistently with a single operation. \"Nearby\" also has varying formats across entries—it may contain a list of dictionaries (e.g., names of nearby facilities) or just a single string. This inconsistency complicates data extraction, as handling each format requires different approaches. So it may take a little bit to figure out how to pull it correctly from the file. This is also similar to \"Location\" for the companies."
   ]
  },
  {
   "cell_type": "markdown",
   "metadata": {},
   "source": [
    "## Part C: Converting from JSON to CSV (12 marks)"
   ]
  },
  {
   "cell_type": "markdown",
   "metadata": {},
   "source": [
    "Write your own code, using Python built-ins, the `csv` and `json` modules, to convert the data in the provided file into appropriate well-formed CSVs for each of your identified elements from Part B, Question 1. You may use as many CSVs as you like.\n",
    "\n",
    "Remember that well-formed CSVs contain one row of data for each item which is part of the CSV, in which each field is separated by commas, ends with a newline (`\\n`) and **contains only a single primitive value (such as a number, a string, or a boolean value)**\n",
    "\n",
    "You MAY add additional fields where necessary.\n",
    "\n",
    "Each row of each of your CSVs should contain sufficient information so that they could be used in another program independently of each other. For example, you may be able to write another program which could read your CSV file about hospitals to extract addresses to map to a visualization.\n",
    "\n",
    "_Hint: Consider some tasks which somebody might use the provided data for, and consider what groupings of information might be the most useful, including relationships between difference pieces of data (they may include what you did in Part B above, or there may be other ways to organize your information usefully). Then, ensure that the CSVs you design include as much of the data from the provided JSON as possible._"
   ]
  },
  {
   "cell_type": "markdown",
   "metadata": {},
   "source": [
    "**Facilities  Table**"
   ]
  },
  {
   "cell_type": "code",
   "execution_count": 39,
   "metadata": {},
   "outputs": [
    {
     "data": {
      "text/html": [
       "<div>\n",
       "<style scoped>\n",
       "    .dataframe tbody tr th:only-of-type {\n",
       "        vertical-align: middle;\n",
       "    }\n",
       "\n",
       "    .dataframe tbody tr th {\n",
       "        vertical-align: top;\n",
       "    }\n",
       "\n",
       "    .dataframe thead th {\n",
       "        text-align: right;\n",
       "    }\n",
       "</style>\n",
       "<table border=\"1\" class=\"dataframe\">\n",
       "  <thead>\n",
       "    <tr style=\"text-align: right;\">\n",
       "      <th></th>\n",
       "      <th>Facility Type</th>\n",
       "      <th>Hospital Name</th>\n",
       "      <th>Address</th>\n",
       "      <th>Specialty</th>\n",
       "    </tr>\n",
       "  </thead>\n",
       "  <tbody>\n",
       "    <tr>\n",
       "      <th>0</th>\n",
       "      <td>Hospital</td>\n",
       "      <td>Alberta Children's Hospital</td>\n",
       "      <td>28 Oki Dr. NW</td>\n",
       "      <td>Pediatric</td>\n",
       "    </tr>\n",
       "    <tr>\n",
       "      <th>1</th>\n",
       "      <td>Hospital</td>\n",
       "      <td>Foothills Medical Centre</td>\n",
       "      <td>1403 - 29th st. n.w. calgary ab t2n 2t9</td>\n",
       "      <td>NaN</td>\n",
       "    </tr>\n",
       "    <tr>\n",
       "      <th>2</th>\n",
       "      <td>Hospital</td>\n",
       "      <td>Peter Lougheed Centre</td>\n",
       "      <td>3500 - 26th ave. n.e. calgary ab t1y 6j4</td>\n",
       "      <td>NaN</td>\n",
       "    </tr>\n",
       "    <tr>\n",
       "      <th>3</th>\n",
       "      <td>Hospital</td>\n",
       "      <td>Rockyview General Hospital</td>\n",
       "      <td>7007 - 14th st. s.w. calgary ab t2v 1p9</td>\n",
       "      <td>NaN</td>\n",
       "    </tr>\n",
       "    <tr>\n",
       "      <th>4</th>\n",
       "      <td>Hospital</td>\n",
       "      <td>South Health Campus</td>\n",
       "      <td>NaN</td>\n",
       "      <td>NaN</td>\n",
       "    </tr>\n",
       "    <tr>\n",
       "      <th>5</th>\n",
       "      <td>Nursing and residential care facilities</td>\n",
       "      <td>Brentwood Care Centre</td>\n",
       "      <td>NaN</td>\n",
       "      <td>NaN</td>\n",
       "    </tr>\n",
       "    <tr>\n",
       "      <th>6</th>\n",
       "      <td>Nursing and residential care facilities</td>\n",
       "      <td>Chinook Care Centre</td>\n",
       "      <td>NaN</td>\n",
       "      <td>NaN</td>\n",
       "    </tr>\n",
       "    <tr>\n",
       "      <th>7</th>\n",
       "      <td>Nursing and residential care facilities</td>\n",
       "      <td>Southwood Care Centre</td>\n",
       "      <td>NaN</td>\n",
       "      <td>NaN</td>\n",
       "    </tr>\n",
       "  </tbody>\n",
       "</table>\n",
       "</div>"
      ],
      "text/plain": [
       "                             Facility Type                Hospital Name  \\\n",
       "0                                 Hospital  Alberta Children's Hospital   \n",
       "1                                 Hospital     Foothills Medical Centre   \n",
       "2                                 Hospital        Peter Lougheed Centre   \n",
       "3                                 Hospital   Rockyview General Hospital   \n",
       "4                                 Hospital          South Health Campus   \n",
       "5  Nursing and residential care facilities        Brentwood Care Centre   \n",
       "6  Nursing and residential care facilities          Chinook Care Centre   \n",
       "7  Nursing and residential care facilities        Southwood Care Centre   \n",
       "\n",
       "                                    Address  Specialty  \n",
       "0                             28 Oki Dr. NW  Pediatric  \n",
       "1   1403 - 29th st. n.w. calgary ab t2n 2t9        NaN  \n",
       "2  3500 - 26th ave. n.e. calgary ab t1y 6j4        NaN  \n",
       "3   7007 - 14th st. s.w. calgary ab t2v 1p9        NaN  \n",
       "4                                       NaN        NaN  \n",
       "5                                       NaN        NaN  \n",
       "6                                       NaN        NaN  \n",
       "7                                       NaN        NaN  "
      ]
     },
     "execution_count": 39,
     "metadata": {},
     "output_type": "execute_result"
    }
   ],
   "source": [
    "\n",
    "HospitalData = [\n",
    "    { \n",
    "        # Creating a dictonary to input values into \n",
    "        'Facility Type': 'Hospital',\n",
    "        # it will get ie. names of the hospital and address and input here \n",
    "        'Hospital Name': hospital.get('Name'),\n",
    "        'Address': hospital.get('Address', \"NaN\"),\n",
    "        'Specialty': hospital.get('Specialty', \"NaN\")\n",
    "        # Join the nearby facilties with a \",\" only if it has a list of \n",
    "    }\n",
    "    \n",
    "    for facility in healthcare['Facilities'] if 'Hospitals' in facility\n",
    "    for hospital in facility['Hospitals']\n",
    "]\n",
    "\n",
    "# List to hold nursing facility data\n",
    "NursingData = [\n",
    "    {\n",
    "        'Facility Type': 'Nursing and residential care facilities',\n",
    "        'Hospital Name': location['Name'],\n",
    "    }\n",
    "    for facility in healthcare['Facilities']\n",
    "    if 'Nursing and residential care facilities' in facility\n",
    "    for location in facility['Nursing and residential care facilities'].get('Locations')\n",
    "]\n",
    "\n",
    "# Display the resulting DataFrame by merging the two data sets.\n",
    "FacilitiesData = pd.merge(pd.DataFrame(NursingData),pd.DataFrame(HospitalData), on = [\"Facility Type\", \"Hospital Name\"] , how = \"outer\")\n",
    "FacilitiesData\n",
    "\n",
    "# Cite = https://stackoverflow.com/questions/33311258/python-check-if-variable-isinstance-of-any-type-in-list"
   ]
  },
  {
   "cell_type": "markdown",
   "metadata": {},
   "source": [
    "**Hospital Table**"
   ]
  },
  {
   "cell_type": "code",
   "execution_count": 47,
   "metadata": {},
   "outputs": [
    {
     "data": {
      "text/html": [
       "<div>\n",
       "<style scoped>\n",
       "    .dataframe tbody tr th:only-of-type {\n",
       "        vertical-align: middle;\n",
       "    }\n",
       "\n",
       "    .dataframe tbody tr th {\n",
       "        vertical-align: top;\n",
       "    }\n",
       "\n",
       "    .dataframe thead th {\n",
       "        text-align: right;\n",
       "    }\n",
       "</style>\n",
       "<table border=\"1\" class=\"dataframe\">\n",
       "  <thead>\n",
       "    <tr style=\"text-align: right;\">\n",
       "      <th></th>\n",
       "      <th>Facility Type</th>\n",
       "      <th>Hospital Name</th>\n",
       "      <th>Address</th>\n",
       "      <th>Nearby Facilities</th>\n",
       "      <th>Specialty</th>\n",
       "    </tr>\n",
       "  </thead>\n",
       "  <tbody>\n",
       "    <tr>\n",
       "      <th>0</th>\n",
       "      <td>Hospital</td>\n",
       "      <td>Alberta Children's Hospital</td>\n",
       "      <td>28 Oki Dr. NW</td>\n",
       "      <td>None</td>\n",
       "      <td>Pediatric</td>\n",
       "    </tr>\n",
       "    <tr>\n",
       "      <th>1</th>\n",
       "      <td>Hospital</td>\n",
       "      <td>Peter Lougheed Centre</td>\n",
       "      <td>3500 - 26th ave. n.e. calgary ab t1y 6j4</td>\n",
       "      <td>Sunridge Medical Gallery - Mental Health; Sunr...</td>\n",
       "      <td>None</td>\n",
       "    </tr>\n",
       "    <tr>\n",
       "      <th>2</th>\n",
       "      <td>Hospital</td>\n",
       "      <td>Foothills Medical Centre</td>\n",
       "      <td>1403 - 29th st. n.w. calgary ab t2n 2t9</td>\n",
       "      <td>Tom Baker Cancer Centre</td>\n",
       "      <td>None</td>\n",
       "    </tr>\n",
       "    <tr>\n",
       "      <th>3</th>\n",
       "      <td>Hospital</td>\n",
       "      <td>Rockyview General Hospital</td>\n",
       "      <td>7007 - 14th st. s.w. calgary ab t2v 1p9</td>\n",
       "      <td>None</td>\n",
       "      <td>None</td>\n",
       "    </tr>\n",
       "    <tr>\n",
       "      <th>4</th>\n",
       "      <td>Hospital</td>\n",
       "      <td>South Health Campus</td>\n",
       "      <td>None</td>\n",
       "      <td>None</td>\n",
       "      <td>None</td>\n",
       "    </tr>\n",
       "  </tbody>\n",
       "</table>\n",
       "</div>"
      ],
      "text/plain": [
       "  Facility Type                Hospital Name  \\\n",
       "0      Hospital  Alberta Children's Hospital   \n",
       "1      Hospital        Peter Lougheed Centre   \n",
       "2      Hospital     Foothills Medical Centre   \n",
       "3      Hospital   Rockyview General Hospital   \n",
       "4      Hospital          South Health Campus   \n",
       "\n",
       "                                    Address  \\\n",
       "0                             28 Oki Dr. NW   \n",
       "1  3500 - 26th ave. n.e. calgary ab t1y 6j4   \n",
       "2   1403 - 29th st. n.w. calgary ab t2n 2t9   \n",
       "3   7007 - 14th st. s.w. calgary ab t2v 1p9   \n",
       "4                                      None   \n",
       "\n",
       "                                   Nearby Facilities  Specialty  \n",
       "0                                               None  Pediatric  \n",
       "1  Sunridge Medical Gallery - Mental Health; Sunr...       None  \n",
       "2                            Tom Baker Cancer Centre       None  \n",
       "3                                               None       None  \n",
       "4                                               None       None  "
      ]
     },
     "execution_count": 47,
     "metadata": {},
     "output_type": "execute_result"
    }
   ],
   "source": [
    "\n",
    "HospitalData = [\n",
    "    { \n",
    "        # Creating a dictonary to input values into \n",
    "        'Facility Type': 'Hospital',\n",
    "        # it will get ie. names of the hospital and address and input here \n",
    "        'Hospital Name': hospital.get('Name'),\n",
    "        'Address': hospital.get('Address'),\n",
    "        # Join the nearby facilties with a \",\" only if it has a list of \n",
    "        'Nearby Facilities': '; '.join([nearby['Name'] for nearby in hospital['Nearby']]) \n",
    "                             if isinstance(hospital.get('Nearby'), list) \n",
    "                             else hospital.get('Nearby', None),\n",
    "\n",
    "        'Specialty': hospital.get('Specialty')\n",
    "    }\n",
    "    for facility in healthcare['Facilities'] if 'Hospitals' in facility\n",
    "    for hospital in facility['Hospitals']\n",
    "]\n",
    "\n",
    "# Create a DataFrame from the list of dictionaries\n",
    "HospitalData_df = pd.DataFrame(HospitalData)\n",
    "\n",
    "# Display the resulting DataFrame\n",
    "HospitalData_df\n",
    "\n",
    "# Cite = https://stackoverflow.com/questions/33311258/python-check-if-variable-isinstance-of-any-type-in-list"
   ]
  },
  {
   "cell_type": "markdown",
   "metadata": {},
   "source": [
    "**Nursing And ResidentialCare and Company Table**"
   ]
  },
  {
   "cell_type": "code",
   "execution_count": 46,
   "metadata": {},
   "outputs": [
    {
     "data": {
      "text/html": [
       "<div>\n",
       "<style scoped>\n",
       "    .dataframe tbody tr th:only-of-type {\n",
       "        vertical-align: middle;\n",
       "    }\n",
       "\n",
       "    .dataframe tbody tr th {\n",
       "        vertical-align: top;\n",
       "    }\n",
       "\n",
       "    .dataframe thead th {\n",
       "        text-align: right;\n",
       "    }\n",
       "</style>\n",
       "<table border=\"1\" class=\"dataframe\">\n",
       "  <thead>\n",
       "    <tr style=\"text-align: right;\">\n",
       "      <th></th>\n",
       "      <th>Facility Type</th>\n",
       "      <th>Hospital Name</th>\n",
       "      <th>Company</th>\n",
       "    </tr>\n",
       "  </thead>\n",
       "  <tbody>\n",
       "    <tr>\n",
       "      <th>0</th>\n",
       "      <td>Nursing and residential care facilities</td>\n",
       "      <td>Chinook Care Centre</td>\n",
       "      <td>Intercare Corporate Group</td>\n",
       "    </tr>\n",
       "    <tr>\n",
       "      <th>1</th>\n",
       "      <td>Nursing and residential care facilities</td>\n",
       "      <td>Southwood Care Centre</td>\n",
       "      <td>Intercare Corporate Group</td>\n",
       "    </tr>\n",
       "    <tr>\n",
       "      <th>2</th>\n",
       "      <td>Nursing and residential care facilities</td>\n",
       "      <td>Brentwood Care Centre</td>\n",
       "      <td>Intercare Corporate Group</td>\n",
       "    </tr>\n",
       "  </tbody>\n",
       "</table>\n",
       "</div>"
      ],
      "text/plain": [
       "                             Facility Type          Hospital Name  \\\n",
       "0  Nursing and residential care facilities    Chinook Care Centre   \n",
       "1  Nursing and residential care facilities  Southwood Care Centre   \n",
       "2  Nursing and residential care facilities  Brentwood Care Centre   \n",
       "\n",
       "                     Company  \n",
       "0  Intercare Corporate Group  \n",
       "1  Intercare Corporate Group  \n",
       "2  Intercare Corporate Group  "
      ]
     },
     "execution_count": 46,
     "metadata": {},
     "output_type": "execute_result"
    }
   ],
   "source": [
    "\n",
    "\n",
    "# List to hold nursing facility data\n",
    "FacilityData = [\n",
    "    {\n",
    "        'Facility Type': 'Nursing and residential care facilities',\n",
    "        'Hospital Name': location['Name'],\n",
    "        'Company': facility['Nursing and residential care facilities'].get('Company', None)\n",
    "    }\n",
    "    for facility in healthcare['Facilities']\n",
    "    if 'Nursing and residential care facilities' in facility\n",
    "    for location in facility['Nursing and residential care facilities'].get('Locations')\n",
    "]\n",
    "\n",
    "# Convert to a DataFrame\n",
    "FacilityData_df = pd.DataFrame(FacilityData)\n",
    "FacilityData_df"
   ]
  },
  {
   "cell_type": "markdown",
   "metadata": {},
   "source": [
    "### Part D: Reflection (6 marks)\n",
    "\n",
    "Consider the following questions, and answer them in the cell below. \n",
    "\n",
    "- Consider your work in this assignment, and especially in Parts B and C. Consider the work you did to understand the structure of the JSON, as well as in converting the JSON file into a set of one or more CSVs. Describe a task you completed which you feel was the most uncomfortable part of the assignment.\n",
    "\n",
    "- Why was this part the most uncomfortable? Describe any gaps you can identify in your current skills, knowledge or practice which this task exposed.\n",
    "\n",
    "- Consider what steps you might have needed to complete this assignment using pandas, and the few methods you have seen in pandas for working with JSON, either in class, or in the quiz. Do you think this would have helped you understand the format of JSON files better? Why or why not?\n",
    "\n",
    "\n",
    "\n"
   ]
  },
  {
   "cell_type": "markdown",
   "metadata": {},
   "source": [
    " **Answer**\n",
    " \n",
    " I felt like the most uncomfortable part of the assignment was opening up nested JSON files in a consistent way. I could have indexed given that each value in the table had the same structure, but, for example, since some entries like \"nearby hospitals\" had their own dictionaries, it was hard to stay consistent and I had to find alternative methods. I think it was uncomfortable for me as I have never really worked with JSON files before, and most of the time data I work with is saved in CSV files. This assignment really exposed me to JSON and its complexities.\n",
    "\n",
    " The reason this part was challenging is that I had gaps in my understaning on how to  navigating and manipulating nested structures, especially in JSON format. I realized that I need to build more skills in handling non-tabular data, particularly when it comes to extracting and transforming nested elements into more familiar formats.\n",
    "\n",
    " Using pandas for this assignment was helpful but had its limitations for understanding JSON structures deeply. Pandas provides some useful methods to handle JSON data, like json_normalize, which can simplify the process of flattening out nested data. However, these methods only go so far when the JSON structure is complex or deeply nested. While pandas made certain parts of the process smoother, i really took long ways to do a lot of the work and still feel like i can simplify this, which i will take on and continue to learn about."
   ]
  }
 ],
 "metadata": {
  "kernelspec": {
   "display_name": "Python 3 (ipykernel)",
   "language": "python",
   "name": "python3"
  },
  "language_info": {
   "codemirror_mode": {
    "name": "ipython",
    "version": 3
   },
   "file_extension": ".py",
   "mimetype": "text/x-python",
   "name": "python",
   "nbconvert_exporter": "python",
   "pygments_lexer": "ipython3",
   "version": "3.9.6"
  }
 },
 "nbformat": 4,
 "nbformat_minor": 4
}
