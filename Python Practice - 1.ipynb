{
    "## Part A : Warm-up exercises (12 marks)\n",
    "\n",
    "These exercises will have you working with Python's built-in string and datetime functionality.\n",
    "\n",
    "### Question 1\n",
    "\n"
   ]
  },
  {
   "cell_type": "code",
   "execution_count": 110,
   "id": "c80e65b8",
   "metadata": {},
   "outputs": [],
   "source": [
    "my_hello_str = \"Hello World\"\n",
    "my_other_hello_str = \"hello world\""
   ]
  },
  {
   "cell_type": "markdown",
   "id": "55d74372",
   "metadata": {},
   "source": [
    "a) Count the number of capital letters in both strings. Use the built-in `string.ascii_uppercase` in your solution."
   ]
  },
  {
   "cell_type": "code",
   "execution_count": 111,
   "id": "b843e27c",
   "metadata": {},
   "outputs": [],
   "source": [
    "# Your solution for Question 1 a) here\n",
    "# Your function must use string.ascii_uppercase and return an integer \n",
    "\n",
    "def count_capitals(input):\n",
    "    letters = input.split(\",\")\n",
    "    count = 0 \n",
    "    for i in input:\n",
    "        if i in string.ascii_uppercase:\n",
    "            count +=1\n",
    "    return count\n"
   ]
  },
  {
   "cell_type": "code",
   "execution_count": 112,
   "id": "9843ce22",
   "metadata": {},
   "outputs": [
    {
     "name": "stdout",
     "output_type": "stream",
     "text": [
      "2\n",
      "0\n"
     ]
    }
   ],
   "source": [
    "\n",
    "# Let's test your method (do not modify):\n",
    "print (count_capitals(my_hello_str));\n",
    "print (count_capitals(my_other_hello_str));"
   ]
  },
  {
   "cell_type": "markdown",
   "id": "10cf112e",
   "metadata": {},
   "source": [
    "b) Write a method to compare two strings (we assume them to be of the same length). Your method should:\n",
    "- take in each string as your first and second arguments\n",
    "- return a list of booleans. At index i, your list should contain True if both strings contain the same character in position i, and False otherwise."
   ]
  },
  {
   "cell_type": "code",
   "execution_count": 113,
   "id": "f63ecc97",
   "metadata": {},
   "outputs": [],
   "source": [
    "# Your solution for Question 1 b) here\n",
    "# Your function must return a list of booleans\n",
    "\n",
    "def compare_strings(first_str, second_str):\n",
    "    count = 0 \n",
    "    boolean = []\n",
    "    for i in range(len(my_hello_str)):\n",
    "        if first_str.lower()[i] == second_str.lower()[i]:\n",
    "            count+=1 \n",
    "            boolean.append(True)\n",
    "        else:\n",
    "            count+=1 \n",
    "            boolean.append(False)\n",
    "    return(boolean)"
   ]
  },
  {
   "cell_type": "code",
   "execution_count": 114,
   "id": "2efd322f",
   "metadata": {},
   "outputs": [
    {
     "name": "stdout",
     "output_type": "stream",
     "text": [
      "[True, True, True, True, True, True, True, True, True, True, True]\n"
     ]
    }
   ],
   "source": [
    "# Let's test your method (do not modify):\n",
    "print (compare_strings(my_hello_str, my_other_hello_str))\n"
   ]
  },
  {
   "cell_type": "markdown",
   "id": "10fe54eb",
   "metadata": {},
   "source": [
    "c) Now write a method to take an arbitrary string, and count the frequency of each alphabetic character (All letters from a-z inclusive). \n",
    "\n",
    "Your method should:\n",
    "- take in a single string as your only argument\n",
    "- return a dictionary. Each key-value pair should include a letter as a key, and the number of times it appears in the string as the value. Letters which do not appear in the string do not have to be included.\n",
    "- letters that are the same case should be treated as the same letter. That means an 'a' and an 'A' which appear in the same string should mean that the frequency of this letter should be 2."
   ]
  },
  {
   "cell_type": "code",
   "execution_count": 115,
   "id": "31274dab",
   "metadata": {},
   "outputs": [],
   "source": [
    "# Your solution for 1 c) here\n",
    "\n",
    "def count_letters(input):\n",
    "    dict ={}\n",
    "    input = input.lower() # Making all the values lower \n",
    "    for x in input:\n",
    "        if x in dict:\n",
    "            dict[x] = dict[x]+1\n",
    "        else:\n",
    "            dict[x] = 1 \n",
    "    dict.pop(\" \")\n",
    "    return dict\n",
    "\n",
    "#https://stackoverflow.com/questions/5844672/delete-an-element-from-a-dictionary"
   ]
  },
  {
   "cell_type": "code",
   "execution_count": 116,
   "id": "b8036dab",
   "metadata": {},
   "outputs": [
    {
     "name": "stdout",
     "output_type": "stream",
     "text": [
      "{'h': 1, 'e': 1, 'l': 3, 'o': 2, 'w': 1, 'r': 1, 'd': 1}\n"
     ]
    }
   ],
   "source": [
    "# Let's test your method (do not modify):\n",
    "print(count_letters(my_hello_str))"
   ]
  },
  {
   "cell_type": "markdown",
   "id": "64995578",
   "metadata": {},
   "source": [
    "d) A common approach to ensure that letter-frequency calculations for strings and text is to change everything to the same case. Would you recommend using `str.casefold()` or `str.lower()`? What is one benefit of each, and what is one drawback of each? \n",
    "\n",
    "Put your answer in the cell below. \n",
    "Remember to cite and reference any webpage, reference or tool you consult for this answer."
   ]
  },
  {
   "cell_type": "markdown",
   "id": "260d11e5",
   "metadata": {},
   "source": [
    "It depends on what you a doing with the string. If it is to just convert the string to lowercase or check if its lowercase, then lower() works. However, casefold is said to be better at comparing two strings. It primarilty removes the upper or lower case distinction so that you are able to compare values. \n",
    "\n",
    "A benenift to lower is that its much faster than casefold, which is benefical when using large and high time complexity alorithms. However, it only looks at lowering ASCII characters. If you where to plug in a non ASCII character, it would NOT return a lowered character. \n",
    "\n",
    "A benefit to casefold is that it comapairs all things and converts it to lower. Including non ASCII characters. However, it is slower in terms of speed than the function lower().\n",
    "\n",
    "https://www.geeksforgeeks.org/difference-between-casefold-and-lower-in-python/"
   ]
  },
  {
   "cell_type": "markdown",
   "id": "d8ccd26e",
   "metadata": {},
   "source": [
    "### ANSWER"
   ]
  },
  {
   "cell_type": "markdown",
   "id": "cb8b9fe8",
   "metadata": {},
   "source": [
    "### Question 2"
   ]
  },
  {
   "cell_type": "code",
   "execution_count": 117,
   "id": "e5d0a914",
   "metadata": {},
   "outputs": [],
   "source": [
    "my_date_str = \"November 13, 2024\"\n",
    "my_other_date_str = \"17 09 2024\""
   ]
  },
  {
   "cell_type": "markdown",
   "id": "007d6fe8",
   "metadata": {},
   "source": [
    "a) Use Python's built-in `datetime.strptime()` method to read in both of the strings above into something of type `datetime`"
   ]
  },
  {
   "cell_type": "code",
   "execution_count": 118,
   "id": "5f7031a5",
   "metadata": {},
   "outputs": [
    {
     "name": "stdout",
     "output_type": "stream",
     "text": [
      "2024-11-13 00:00:00\n",
      "2024-09-17 00:00:00\n"
     ]
    }
   ],
   "source": [
    "my_datetime =datetime.strptime(my_date_str, \"%B %d, %Y\")\n",
    "my_other_date_time = datetime.strptime(my_other_date_str,\"%d %m %Y\")\n",
    "print(my_datetime)  \n",
    "print(my_other_date_time)            \n",
    "#https://www.programiz.com/python-programming/datetime/strptime"
   ]
  },
  {
   "cell_type": "markdown",
   "id": "81438a11",
   "metadata": {},
   "source": [
    "b) Use the datetime data type to calculate which month is 314 days prior to each date. "
   ]
  },
  {
   "cell_type": "code",
   "execution_count": 119,
   "id": "93cf489f",
   "metadata": {},
   "outputs": [
    {
     "data": {
      "text/plain": [
       "'January '"
      ]
     },
     "execution_count": 119,
     "metadata": {},
     "output_type": "execute_result"
    }
   ],
   "source": [
    "from datetime import timedelta\n",
    "\n",
    "(my_datetime - timedelta(days=314)).strftime(\"%B \")\n",
    "\n",
    "#https://www.geeksforgeeks.org/how-to-add-and-subtract-days-using-datetime-in-python/"
   ]
  },
  {
   "cell_type": "markdown",
   "id": "b3c7ccb0",
   "metadata": {},
   "source": [
    "c) Did your solution for 1 b) take into account any time changes? How would you verify that it did, or did not? Put your answer into the cell below, remembering to reference and cite any webpage or other resource you use to answer."
   ]
  },
  {
   "cell_type": "code",
   "execution_count": 122,
   "id": "2c794f93",
   "metadata": {},
   "outputs": [
    {
     "name": "stdout",
     "output_type": "stream",
     "text": [
      "November 13, 2024 12:00 AM\n",
      "January 04, 2024 12:00 AM\n"
     ]
    }
   ],
   "source": [
    "#NOT SURE!!\n",
    "\n",
    "# No it didnt it did account for the time zone as we can see from the beginning when we looked at the time it 12:00 AM\n",
    "\n",
    "print(my_datetime.strftime(\"%B %d, %Y %I:%M %p\")) \n",
    "\n",
    "# however after we caculated the month for question 1b like below we get 12:00 Am in january.\n",
    "\n",
    "print((my_datetime - timedelta(days=314)).strftime(\"%B %d, %Y %I:%M %p\"))\n",
    "\n",
    "#Source: https://www.geeksforgeeks.org/how-to-add-and-subtract-days-using-datetime-in-python/"
   ]
  },
  {
   "cell_type": "markdown",
   "id": "c354ef71",
   "metadata": {},
   "source": [
    "## Part B\n",
    "\n",
    "### Question 1\n",
    "\n",
    "Build a letter frequency histogram.\n",
    "Take in a string of arbitrary length, and print out a histogram showing how many times each letter appears.\n",
    " \n",
    " You should:\n",
    " - skip non-alpabetic characters\n",
    " - for all alphabetic characters, convert them to the same case\n",
    " - print out each letter, regardless of whether it appears in the string or not\n",
    " - print one asterisk for each time the letter appears, to a maximum of 10. Once you hit this limit of 10, print MAX at the end of the line\n",
    " - You may use code you have written earlier in this notebook.\n",
    " \n",
    " For example, `HELLO, World 123` would yield the following:\n",
    " \n",
    " ```\n",
    " a\n",
    " b\n",
    " c\n",
    " d *\n",
    " e *\n",
    " f\n",
    " g\n",
    " h *\n",
    " i\n",
    " j\n",
    " k\n",
    " l ***\n",
    " m\n",
    " n\n",
    " o **\n",
    " p\n",
    " q\n",
    " r *\n",
    " s\n",
    " t\n",
    " u\n",
    " v\n",
    " w *\n",
    " x\n",
    " y\n",
    " z\n",
    " \n",
    " ```"
   ]
  },
  {
   "cell_type": "code",
   "execution_count": 123,
   "id": "1a38b046",
   "metadata": {},
   "outputs": [],
   "source": [
    "test_str = \"The Quick black dog definitely did not jump over an lazy cAt\""
   ]
  },
  {
   "cell_type": "code",
   "execution_count": 124,
   "id": "a0b8bff1",
   "metadata": {},
   "outputs": [],
   "source": [
    "# Your code here\n",
    "\n",
    "def draw_letter_freq_histogram(input):\n",
    "    dict ={}\n",
    "    list = [x for x in string.ascii_lowercase]\n",
    "    input = input.lower()\n",
    "    for x in input:\n",
    "        if x in dict:\n",
    "            dict[x] = dict[x]+ \"*\"\n",
    "        else:\n",
    "            dict[x] = \"*\"\n",
    "        \n",
    "    for x in list:\n",
    "        if x in dict:\n",
    "            print(x + \" \" + dict[x])\n",
    "        print(x)\n",
    "    return None\n"
   ]
  },
  {
   "cell_type": "code",
   "execution_count": 125,
   "id": "cbcc13c9",
   "metadata": {},
   "outputs": [
    {
     "name": "stdout",
     "output_type": "stream",
     "text": [
      "a\n",
      "b\n",
      "c\n",
      "d\n",
      "e *\n",
      "e\n",
      "f\n",
      "g\n",
      "h\n",
      "i\n",
      "j\n",
      "k\n",
      "l\n",
      "m\n",
      "n\n",
      "o\n",
      "p\n",
      "q\n",
      "r *\n",
      "r\n",
      "s **\n",
      "s\n",
      "t ***\n",
      "t\n",
      "u\n",
      "v\n",
      "w\n",
      "x\n",
      "y\n",
      "z\n"
     ]
    }
   ],
   "source": [
    "draw_letter_freq_histogram(\"teststr\")"
   ]
  },
  {
   "cell_type": "markdown",
   "id": "f97ed545",
   "metadata": {},
   "source": [
    "### Question 2\n",
    "\n",
    "In this question, we are going to investigate date-time objects in more depth. \n",
    "\n",
    "First, let's create some naive and Python datetime objects."
   ]
  },
  {
   "cell_type": "code",
   "execution_count": 193,
   "id": "f0e718cb",
   "metadata": {},
   "outputs": [],
   "source": [
    "naive_dt = datetime.now()\n",
    "utc_dt = datetime.utcnow()\n",
    "aware_dt = datetime.now(timezone.utc)"
   ]
  },
  {
   "cell_type": "markdown",
   "id": "5704dee7",
   "metadata": {},
   "source": [
    "a) Is utc_dt a naive or an aware Python datetime object? Write a function below to test this. "
   ]
  },
  {
   "cell_type": "code",
   "execution_count": 194,
   "id": "5038ad77",
   "metadata": {},
   "outputs": [
    {
     "name": "stdout",
     "output_type": "stream",
     "text": [
      "True\n",
      "False\n"
     ]
    }
   ],
   "source": [
    "# your answer here\n",
    "\n",
    "def is_dt_naive(dt):\n",
    "    if dt.tzinfo == None:\n",
    "        return True\n",
    "    else:\n",
    "        return False\n",
    "\n",
    "print(is_dt_naive(naive_dt))\n",
    "print(is_dt_naive(aware_dt))\n",
    "\n",
    "Reading: #https://www.educative.io/answers/what-is-the-difference-between-naive-and-aware"
   ]
  },
  {
   "cell_type": "markdown",
   "id": "4f985cb8",
   "metadata": {},
   "source": [
    "b) Can you convert utc_dt to the opposite of aware or naive? That is, if it is an naive object, convert it to an aware object. Otherwise (if it is aware), convert it to an naive object."
   ]
  },
  {
   "cell_type": "code",
   "execution_count": 191,
   "id": "3a71162a",
   "metadata": {},
   "outputs": [
    {
     "name": "stdout",
     "output_type": "stream",
     "text": [
      "2024-09-20 04:20:04.403804+00:00\n",
      "2024-09-19 22:20:04.403847\n"
     ]
    }
   ],
   "source": [
    "# your answer here\n",
    "\n",
    "def flip_dt_naive_aware(dt_to_flip):\n",
    "    if dt_to_flip.tzinfo == None: # if naive\n",
    "        return(dt_to_flip.now(timezone.utc))\n",
    "    else:\n",
    "        return dt_to_flip.now()\n",
    "\n",
    "print(flip_dt_naive_aware(naive_dt))\n",
    "print(flip_dt_naive_aware(aware_dt))"
   ]
  },
  {
   "cell_type": "markdown",
   "id": "b783511a",
   "metadata": {},
   "source": [
    "c) Describe a circumstance for which it would be preferable to use a naive datetime object. Remember to reference and cite any external sources you may use.\n",
    "\n"
   ]
  },
  {
   "cell_type": "code",
   "execution_count": null,
   "id": "72c07635",
   "metadata": {},
   "outputs": [],
   "source": [
    "# ======================================================================== ANSWER ========================================================================================="
   ]
  },
  {
   "cell_type": "markdown",
   "id": "ba25952e",
   "metadata": {},
   "source": [
    "You would use the naive datetime object when you are dealing with datasets that dont have the time zone indicated because you dont want to assume a timezone of the data. However \n",
    "I would use this in cases where timezone difference doesnt matter. Perhaps looking at just the date. \n",
    "\n",
    "Reading: https://stackoverflow.com/questions/24281525/what-is-the-point-of-a-naive-datetime"
   ]
  },
  {
   "cell_type": "code",
   "execution_count": null,
   "id": "97cc64a8",
   "metadata": {},
   "outputs": [],
   "source": [
    "# ========================================================================= DONE ========================================================================================="
   ]
  },
  {
   "cell_type": "markdown",
   "id": "8b3a4e81",
   "metadata": {},
   "source": [
    "d) Describe a circumstance for which it would be preferable to use an aware datetime object. Remember to reference and cite any external sources you may use."
   ]
  },
  {
   "cell_type": "code",
   "execution_count": null,
   "id": "e4457e29",
   "metadata": {},
   "outputs": [],
   "source": [
    "# ======================================================================== ANSWER ========================================================================================="
   ]
  },
  {
   "cell_type": "markdown",
   "id": "a93a4032",
   "metadata": {},
   "source": [
    "It would be preferable to use aware datetime object majority of the time because there is no ambuiguity around the dataset. Especailly if you are looking at accurretly disiphering between times in datasets. I would use this in the case where timezone matters in the dataset such as comparing dates in diffrent timezones. ie mst to est!\n",
    "\n",
    "Reading: https://stackoverflow.com/questions/24281525/what-is-the-point-of-a-naive-datetime"
   ]
  },
  {
   "cell_type": "code",
   "execution_count": null,
   "id": "422402e8",
   "metadata": {},
   "outputs": [],
   "source": [
    "# ========================================================================= DONE ========================================================================================="
   ]
  },
  {
   "cell_type": "markdown",
   "id": "6f26a3a5",
   "metadata": {},
   "source": [
    "\n",
    "\n",
    "## Part C\n",
    "\n",
    "Pick **two** of the following categories, and select one method or command from each. \n",
    "\n",
    "String manipulation in Python\n",
    "* `str.find()`\n",
    "* `str.isalnum()`\n",
    "* `str.partition()`\n",
    "* `str.split()`\n",
    "* `str.translate()`\n",
    "\n",
    "\n",
    "Datetime manipulation in Python\n",
    "\n",
    "* `date.fromordinal()`\n",
    "* `date.fromisoformat()`\n",
    "* `date.replace()`\n",
    "* `date.timetuple()`\n",
    "* `time.isoformat()`\n",
    "* `tzinfo.dst()`\n",
    "* `timezone.utcoffset()`\n",
    "\n",
    "Terminal commands\n",
    "* `sort`\n",
    "* `uniq`\n",
    "* `wc`\n",
    "* `grep`\n",
    "* `head`\n",
    "* `split`\n",
    "\n",
    "\n",
    "Build two working examples (one for each) which you could use in the future, which demonstrates the use of this method or command. \n",
    "\n",
    "Your working examples should include a clear, useful task, for example, something you might use to manage or wrangle/clean/analyze your chosen dataset for your team project.\n",
    "\n",
    "Include for each: \n",
    "- a clear indication about which method/command from which category you have chosen\n",
    "- instructions in Markdown using *at least two different kinds of formatting* \n",
    "- a well-developed code or script example which shows at least one relevant and useful way to use your chosen method or command. (If you are not yet confident enough with scripting in a command-line environment, you may use a code cell with `!` commands. If you are producing a script, indicate which scripting language you are using)\n",
    "\n",
    "Hint: As you write this, consider:\n",
    "\n",
    "* Why do people use this?\n",
    "* How do people use this?\n",
    "* How can you write this in a way that somebody else would understand?\n",
    "* How does this example help you to understand the methods or commands you have chosen?\n",
    "\n",
    "Recall that if you used references (for example, readings from https://learning.oreilly.com), you must cite and make reference to them in an acceptable way."
   ]
  },
  {
   "cell_type": "code",
   "execution_count": 169,
   "id": "17452017",
   "metadata": {},
   "outputs": [],
   "source": [
    "#==================================================================== EXAMPLE 1 ================================================================================================"
   ]
  },
  {
   "cell_type": "markdown",
   "id": "ed51b38f",
   "metadata": {},
   "source": [
    "STRING MANIPULATION Str.Split() Example:\n",
    "===========================================================================================================\n",
    "\n",
    "What is the .spit() fucntion. This function helps you split up strings by a delimneter or space. An example to why you can use the function string.split() is when you are cleaning up data, or splitting up strings to idenify each letter or word. If you take a text file that has many words all merged into one, you can split on things like space, a delimiter or characters.\n",
    "\n",
    "How would you do this? An example is that you have a list of items in your data set thats all complied in a string. ie data below:\n"
   ]
  },
  {
   "cell_type": "code",
   "execution_count": 151,
   "id": "d6ac4c15",
   "metadata": {},
   "outputs": [],
   "source": [
    "data = \"1% Milk, 2% Milk, 5 gallon of water, bread\""
   ]
  },
  {
   "cell_type": "markdown",
   "id": "b5dd33ab",
   "metadata": {},
   "source": [
    "If you can then parse them into seperate values and store them in a list to then look over or compare you would first indicate the stringname.split(\"Delimiter to split by\"). In my example my string is stored in data and i would like to plit the values of each milk type by the delimenter comma. Therefore using the formula it would look like this:"
   ]
  },
  {
   "cell_type": "code",
   "execution_count": 152,
   "id": "323df077",
   "metadata": {},
   "outputs": [
    {
     "data": {
      "text/plain": [
       "['1% Milk', ' 2% Milk', ' 5 gallon of water', ' bread']"
      ]
     },
     "execution_count": 152,
     "metadata": {},
     "output_type": "execute_result"
    }
   ],
   "source": [
    "data.split(\",\") "
   ]
  },
  {
   "cell_type": "code",
   "execution_count": 170,
   "id": "4a16e61c",
   "metadata": {},
   "outputs": [],
   "source": [
    "# ===================================================================== EXAMPLE 2 ============================================================================================"
   ]
  },
  {
   "cell_type": "markdown",
   "id": "784b3fc4",
   "metadata": {},
   "source": [
    "DATETIME MANIPULATION Date.replace() Example:\n",
    "===========================================================================================================\n",
    "What is the .replace() function in datetime? The function allows you to replace the values of the date time object given your set or parameters.So what are some parameters you can use: \n",
    "    a) year\n",
    "    b) month \n",
    "    c) day \n",
    "    d) hour \n",
    "    e) minute \n",
    "    f) second \n",
    "    g) microsecond \n",
    "    h) tzinfo\n",
    "\n",
    "Now how does it all work together. You would first have your date. Lets set it to today:"
   ]
  },
  {
   "cell_type": "code",
   "execution_count": 166,
   "id": "cf6c4288",
   "metadata": {},
   "outputs": [
    {
     "name": "stdout",
     "output_type": "stream",
     "text": [
      "2024-09-19 19:25:13.756161\n"
     ]
    }
   ],
   "source": [
    "date = datetime.today()\n",
    "print(date)"
   ]
  },
  {
   "cell_type": "markdown",
   "id": "75dad739",
   "metadata": {},
   "source": [
    "Now what if i would like to change the date or time Then i would use the function Date.replace(). Date will be the data that you date is stored in. While after replace will have what you would like to change it by. For example in this case i would like the month to be january and keep the rest the same."
   ]
  },
  {
   "cell_type": "code",
   "execution_count": 168,
   "id": "dce117e2",
   "metadata": {},
   "outputs": [
    {
     "name": "stdout",
     "output_type": "stream",
     "text": [
      "2024-01-19 19:25:13.756161\n"
     ]
    }
   ],
   "source": [
    "print(date.replace(month = 1))"
   ]
  },
  {
   "cell_type": "markdown",
   "id": "7d03f30e",
   "metadata": {},
   "source": [
    "As you can see it has kept everything the same but has changed the month from this month which is september to january.\n",
    "\n",
    "readings from: https://www.geeksforgeeks.org/datetime-replace-function-in-python/"
   ]
  },
  {
   "cell_type": "code",
   "execution_count": null,
   "id": "278db98f",
   "metadata": {},
   "outputs": [],
   "source": [
    "# ========================================================================= DONE ========================================================================================="
   ]
  },
  {
   "cell_type": "markdown",
   "id": "2e93a453",
   "metadata": {},
   "source": [
    "## Part D\n",
    "\n",
    "Provide your answers to the following questions using Markdown in the cell below:\n",
    "\n",
    "1. Identify a task in this assignment you found difficult or confusing (it should not be an entire question or part of the assignment, but a subtask you had to complete for one of these. Briefly describe what this was.\n",
    "2. What made it hard to do? Was it lack of prior knowledge, overlooking an error, or something else?\n",
    "3. How will you work around a similar type of challenge in the future?\n",
    "\n",
    "**If you didn't find this assignment difficult or confusing**, talk about an idea that came to you about how to extend the limits of your current skillset using the provided questions. \n",
    "1. Is there something you could have done using some aspect of Python or the command-line environment which wasn't covered in class or in this assignment? \n",
    "2. Which part of the instructions for this assignment related to academic integrity was the most difficult to follow? Why was that?\n",
    "3. What kinds of tasks do you think it would be helpful to know how to do with your team's dataset for the project?\n",
    " \n"
   ]
  },
  {
   "cell_type": "code",
   "execution_count": null,
   "id": "636663eb",
   "metadata": {},
   "outputs": [],
   "source": [
    "# ======================================================================== ANSWER ========================================================================================="
   ]
  },
  {
   "cell_type": "markdown",
   "id": "dfadbc05",
   "metadata": {},
   "source": [
    "\n",
    "I found the date.time functions pretty hard to understand. Primarily due to the fact that i have never used its functions before, so it was a little but of a learning curve. However overall, i did not find the assignment extremely difficult, but did take some time to wrap my head around the asks of the quetsions. \n",
    "\n",
    "In compariuson to our data, there will definitly be cases where we would be using the string manipulators, especially when cleanining the data or refining the data further. For example when looking at the milk data set, we would probably verify if all the milks in the dataset are set in Liter. If not, we will have to extract liter amount and convert it. \n",
    "i.e gallon. "
   ]
  },
  {
   "cell_type": "code",
   "execution_count": null,
   "id": "b1c57e1f",
   "metadata": {},
   "outputs": [],
   "source": [
    "# ======================================================================== Done ========================================================================================="
   ]
  }
 ],
 "metadata": {
  "kernelspec": {
   "display_name": "Python 3 (ipykernel)",
   "language": "python",
   "name": "python3"
  },
  "language_info": {
   "codemirror_mode": {
    "name": "ipython",
    "version": 3
   },
   "file_extension": ".py",
   "mimetype": "text/x-python",
   "name": "python",
   "nbconvert_exporter": "python",
   "pygments_lexer": "ipython3",
   "version": "3.9.6"
  }
 },
 "nbformat": 4,
 "nbformat_minor": 5
}
